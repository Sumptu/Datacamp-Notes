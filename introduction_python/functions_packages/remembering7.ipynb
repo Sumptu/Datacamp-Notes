{
 "cells": [
  {
   "cell_type": "markdown",
   "id": "b15ceb28",
   "metadata": {},
   "source": [
    "### **Soal 1: Mendefinisikan dan Memanggil Fungsi Sederhana**\n",
    "\n",
    "**Konteks:**\n",
    "Anda perlu membuat fungsi yang dapat digunakan kembali untuk menghitung luas persegi panjang.\n",
    "\n",
    "**Tugas:**\n",
    "\n",
    "1.  Definisikan sebuah fungsi bernama `hitung_luas_persegi_panjang_1`.\n",
    "2.  Fungsi ini harus menerima dua argumen: `panjang` dan `lebar`.\n",
    "3.  Di dalam fungsi, hitung luas dengan mengalikan `panjang` dan `lebar`.\n",
    "4.  Fungsi harus mengembalikan (`return`) hasil perhitungan luas tersebut.\n",
    "5.  Panggil fungsi Anda dengan nilai `panjang` sebesar `10` dan `lebar` sebesar `5`, lalu simpan hasilnya dalam variabel `luas_1`.\n",
    "6.  Cetak `luas_1`."
   ]
  },
  {
   "cell_type": "code",
   "execution_count": 2,
   "id": "0c671efa",
   "metadata": {},
   "outputs": [
    {
     "name": "stdout",
     "output_type": "stream",
     "text": [
      "50\n"
     ]
    }
   ],
   "source": [
    "def hitung_luas_persegi_panjang_1(panjang, lebar):\n",
    "    luas = panjang * lebar\n",
    "    return luas\n",
    "\n",
    "luas_1 = hitung_luas_persegi_panjang_1(10, 5)\n",
    "print(luas_1)"
   ]
  },
  {
   "cell_type": "markdown",
   "id": "5bb690d8",
   "metadata": {},
   "source": [
    "### **Soal 2: Fungsi dengan Beberapa Nilai Kembali (Multiple Returns)**\n",
    "\n",
    "**Konteks:**\n",
    "Anda ingin membuat satu fungsi yang dapat menghitung luas dan keliling persegi panjang secara bersamaan untuk efisiensi.\n",
    "\n",
    "**Tugas:**\n",
    "\n",
    "1.  Definisikan sebuah fungsi bernama `hitung_luas_dan_keliling_2`.\n",
    "2.  Fungsi ini harus menerima dua argumen: `panjang` dan `lebar`.\n",
    "3.  Di dalam fungsi, hitung **luas** (`panjang * lebar`) dan **keliling** (`2 * (panjang + lebar)`).\n",
    "4.  Fungsi harus mengembalikan kedua nilai tersebut, luas dan keliling, dalam satu pernyataan `return`.\n",
    "5.  Panggil fungsi Anda dengan `panjang` sebesar `8` dan `lebar` sebesar `6`.\n",
    "6.  Tampung kedua hasil yang dikembalikan oleh fungsi ke dalam dua variabel terpisah: `luas_2` dan `keliling_2`.\n",
    "7.  Cetak kedua variabel hasil tersebut."
   ]
  },
  {
   "cell_type": "code",
   "execution_count": 5,
   "id": "51c30e17",
   "metadata": {},
   "outputs": [
    {
     "name": "stdout",
     "output_type": "stream",
     "text": [
      "48\n",
      "28\n"
     ]
    }
   ],
   "source": [
    "def hitung_luas_dan_keliling_2(panjang, lebar):\n",
    "    luas = panjang * lebar\n",
    "    keliling = 2 * (panjang + lebar)\n",
    "    return luas, keliling\n",
    "\n",
    "luas_2, keliling_2 = hitung_luas_dan_keliling_2(8, 6)\n",
    "\n",
    "print(luas_2)\n",
    "print(keliling_2)"
   ]
  },
  {
   "cell_type": "markdown",
   "id": "f0f155d5",
   "metadata": {},
   "source": [
    "### **Soal 3: Menggunakan Method Bawaan (String Methods)**\n",
    "\n",
    "**Konteks:**\n",
    "Anda menerima input nama lengkap dari pengguna, tetapi formatnya tidak konsisten. Anda perlu membuat fungsi untuk membersihkan dan menstandarkan nama tersebut.\n",
    "\n",
    "**Tugas:**\n",
    "\n",
    "1.  Buat sebuah string bernama `nama_kotor_3` dengan nilai `\"  budi   setiawan  \"`.\n",
    "2.  Di dalam satu baris kode, gunakan **dua string method secara berantai**:\n",
    "    * Pertama, hapus semua spasi ekstra di awal dan akhir.\n",
    "    * Kedua, ubah format nama menjadi *Title Case* (setiap kata diawali huruf kapital).\n",
    "3.  Simpan hasilnya dalam variabel `nama_standar_3`.\n",
    "4.  Cetak `nama_standar_3` untuk memverifikasi hasilnya."
   ]
  },
  {
   "cell_type": "code",
   "execution_count": 7,
   "id": "9265dc80",
   "metadata": {},
   "outputs": [
    {
     "name": "stdout",
     "output_type": "stream",
     "text": [
      "Budi Setiawan\n"
     ]
    }
   ],
   "source": [
    "nama_kotor_3 = \" budi setiawan \"\n",
    "\n",
    "nama_standar_3 = nama_kotor_3.strip().title()\n",
    "print(nama_standar_3)"
   ]
  },
  {
   "cell_type": "markdown",
   "id": "7650f44f",
   "metadata": {},
   "source": [
    "### **Soal 4: Fungsi yang Memanfaatkan List Methods**\n",
    "\n",
    "**Konteks:**\n",
    "Anda sedang mengelola daftar peserta sebuah acara. Anda perlu membuat fungsi yang bisa menambahkan peserta baru dan langsung mengurutkan daftar tersebut berdasarkan abjad.\n",
    "\n",
    "**Tugas:**\n",
    "\n",
    "1.  Buat sebuah list bernama `daftar_peserta_4` yang berisi nama-nama berikut:\n",
    "    ```python\n",
    "    [\"Citra\", \"Andi\", \"Eka\", \"Budi\"]\n",
    "    ```\n",
    "2.  Definisikan sebuah fungsi bernama `tambah_dan_urutkan_4` yang menerima dua argumen: `list_peserta` dan `nama_baru`.\n",
    "3.  Di dalam fungsi:\n",
    "    * Gunakan list method untuk **menambahkan** `nama_baru` ke `list_peserta`.\n",
    "    * Setelah itu, gunakan list method untuk **mengurutkan** `list_peserta` tersebut.\n",
    "4.  Panggil fungsi `tambah_dan_urutkan_4` dengan `daftar_peserta_4` dan nama baru `\"Doni\"`.\n",
    "5.  Cetak `daftar_peserta_4` setelah fungsi dipanggil untuk melihat hasilnya. Perhatikan bahwa list aslinya langsung termodifikasi."
   ]
  },
  {
   "cell_type": "code",
   "execution_count": 18,
   "id": "4f656790",
   "metadata": {},
   "outputs": [
    {
     "name": "stdout",
     "output_type": "stream",
     "text": [
      "['Andi', 'Budi', 'Citra', 'Doni', 'Eka']\n"
     ]
    }
   ],
   "source": [
    "daftar_peserta_4 = [\n",
    "    \"Citra\",\n",
    "    \"Andi\",\n",
    "    \"Eka\",\n",
    "    \"Budi\",\n",
    "]\n",
    "\n",
    "def tambah_dan_urutkan_4(list_peserta, nama_baru):\n",
    "    list_peserta.append(nama_baru)\n",
    "    list_peserta.sort()\n",
    "\n",
    "tambah_dan_urutkan_4(daftar_peserta_4, \"Doni\")\n",
    "print(daftar_peserta_4)"
   ]
  },
  {
   "cell_type": "markdown",
   "id": "46e83ee8",
   "metadata": {},
   "source": [
    "### **Soal 5: Mengimpor dan Menggunakan Package Standar**\n",
    "\n",
    "**Konteks:**\n",
    "Anda perlu menghitung keliling sebuah lingkaran, yang rumusnya adalah `2 * pi * jari-jari`. Nilai `pi` (`π`) yang akurat tersedia dalam package `math` bawaan Python.\n",
    "\n",
    "**Tugas:**\n",
    "\n",
    "1.  **Impor** keseluruhan package `math`.\n",
    "2.  Buat sebuah variabel bernama `jari_jari_5` dengan nilai `10`.\n",
    "3.  Akses nilai `pi` dari package `math` dan hitung keliling lingkaran. Simpan hasilnya di `keliling_lingkaran_5`.\n",
    "4.  Gunakan juga fungsi `ceil()` dari package `math` untuk membulatkan hasil keliling tersebut **ke atas** ke bilangan bulat terdekat. Simpan di `keliling_dibulatkan_5`.\n",
    "5.  Cetak `keliling_lingkaran_5` dan `keliling_dibulatkan_5`."
   ]
  },
  {
   "cell_type": "code",
   "execution_count": 19,
   "id": "0485cd79",
   "metadata": {},
   "outputs": [
    {
     "name": "stdout",
     "output_type": "stream",
     "text": [
      "62.83185307179586\n",
      "63\n"
     ]
    }
   ],
   "source": [
    "import math\n",
    "\n",
    "jari_jari_5 = 10\n",
    "keliling_lingkaran_5 = 2 * math.pi * jari_jari_5\n",
    "keliling_dibulatkan_5 = math.ceil(keliling_lingkaran_5)\n",
    "\n",
    "print(keliling_lingkaran_5)\n",
    "print(keliling_dibulatkan_5)"
   ]
  },
  {
   "cell_type": "markdown",
   "id": "5a6ec58f",
   "metadata": {},
   "source": [
    "### **Soal 6: Impor Selektif dengan `from ... import ...`**\n",
    "\n",
    "**Konteks:**\n",
    "Anda tahu bahwa untuk perhitungan berikutnya, Anda hanya akan membutuhkan fungsi `sqrt` (akar kuadrat) dan `pow` (pangkat) dari package `math`. Untuk membuat kode lebih ringkas, Anda akan mengimpor kedua fungsi tersebut secara langsung.\n",
    "\n",
    "**Tugas:**\n",
    "\n",
    "1.  Gunakan sintaks `from math import ...` untuk mengimpor **hanya** fungsi `sqrt` dan `pow` secara spesifik.\n",
    "2.  Hitung akar kuadrat dari `81`. Karena Anda sudah mengimpor `sqrt` secara langsung, Anda bisa memanggilnya tanpa awalan `math.`. Simpan hasilnya di `akar_kuadrat_6`.\n",
    "3.  Hitung `3` pangkat `4`. Panggil fungsi `pow` secara langsung. Simpan hasilnya di `hasil_pangkat_6`.\n",
    "4.  Cetak `akar_kuadrat_6` dan `hasil_pangkat_6`."
   ]
  },
  {
   "cell_type": "code",
   "execution_count": 20,
   "id": "20af7678",
   "metadata": {},
   "outputs": [
    {
     "name": "stdout",
     "output_type": "stream",
     "text": [
      "9.0\n",
      "81.0\n"
     ]
    }
   ],
   "source": [
    "from math import (\n",
    "    sqrt, \n",
    "    pow,\n",
    ")\n",
    "\n",
    "akar_kuadrat_6 = sqrt(81)\n",
    "hasil_pangkat_6 = pow(3, 4)\n",
    "\n",
    "print(akar_kuadrat_6)\n",
    "print(hasil_pangkat_6)"
   ]
  },
  {
   "cell_type": "markdown",
   "id": "967c5788",
   "metadata": {},
   "source": [
    "### **Soal 7: Mengimpor Package dengan Alias**\n",
    "\n",
    "**Konteks:**\n",
    "Anda akan sering menggunakan package `numpy`, yang secara konvensi komunitas Python diimpor dengan alias `np`. Anda perlu melakukan operasi sederhana pada array NumPy menggunakan alias ini.\n",
    "\n",
    "**Tugas:**\n",
    "\n",
    "1.  Impor package `numpy` **dengan alias `np`**.\n",
    "2.  Buat sebuah list Python bernama `data_list_7`: `[10, 20, 30, 40, 50]`.\n",
    "3.  Gunakan `np.array()` untuk mengubah list tersebut menjadi sebuah NumPy array. Simpan di `data_array_7`.\n",
    "4.  Gunakan fungsi `np.mean()` untuk menghitung nilai rata-rata dari `data_array_7`. Simpan hasilnya di `rata_rata_7`.\n",
    "5.  Cetak `data_array_7` dan `rata_rata_7`."
   ]
  },
  {
   "cell_type": "code",
   "execution_count": 21,
   "id": "af8ab28e",
   "metadata": {},
   "outputs": [
    {
     "name": "stdout",
     "output_type": "stream",
     "text": [
      "[10 20 30 40 50]\n",
      "30.0\n"
     ]
    }
   ],
   "source": [
    "import numpy as np\n",
    "\n",
    "data_list_7 = [\n",
    "    10,\n",
    "    20,\n",
    "    30,\n",
    "    40,\n",
    "    50,\n",
    "]\n",
    "\n",
    "data_array_7 = np.array(data_list_7)\n",
    "rata_rata_7 = np.mean(data_array_7)\n",
    "\n",
    "print(data_array_7)\n",
    "print(rata_rata_7)"
   ]
  },
  {
   "cell_type": "markdown",
   "id": "0d96d212",
   "metadata": {},
   "source": [
    "### **Soal 8: Fungsi dengan Argumen Default**\n",
    "\n",
    "**Konteks:**\n",
    "Anda ingin membuat sebuah fungsi `sapa()` yang bisa menyapa pengguna. Secara default, sapaan tersebut harus \"Halo, Pengguna!\", tetapi jika nama pengguna diberikan, sapaan harus disesuaikan (misalnya, \"Halo, Budi!\").\n",
    "\n",
    "**Tugas:**\n",
    "\n",
    "1.  Definisikan sebuah fungsi bernama `sapa_pengguna_8`.\n",
    "2.  Fungsi ini harus menerima satu argumen bernama `nama`.\n",
    "3.  Atur agar argumen `nama` memiliki **nilai default** `\"Pengguna\"`.\n",
    "4.  Fungsi harus mengembalikan sebuah string sapaan dengan format `\"Halo, [nama]!\"`.\n",
    "5.  Panggil fungsi `sapa_pengguna_8` **tanpa memberikan argumen apa pun**. Simpan hasilnya di `sapaan_default_8`.\n",
    "6.  Panggil fungsi `sapa_pengguna_8` dengan memberikan argumen nama `\"Budi\"`. Simpan hasilnya di `sapaan_custom_8`.\n",
    "7.  Cetak `sapaan_default_8` dan `sapaan_custom_8`."
   ]
  },
  {
   "cell_type": "code",
   "execution_count": 22,
   "id": "cf15c0d0",
   "metadata": {},
   "outputs": [
    {
     "name": "stdout",
     "output_type": "stream",
     "text": [
      "Halo, Pengguna!\n",
      "Halo, Budi!\n"
     ]
    }
   ],
   "source": [
    "def sapa_pengguna_8(nama=\"Pengguna\"):\n",
    "    return f\"Halo, {nama}!\"\n",
    "\n",
    "sapaan_default_8 = sapa_pengguna_8()\n",
    "sapaan_custom_8 = sapa_pengguna_8(\"Budi\")\n",
    "\n",
    "print(sapaan_default_8)\n",
    "print(sapaan_custom_8)"
   ]
  },
  {
   "cell_type": "markdown",
   "id": "3a2284e5",
   "metadata": {},
   "source": [
    "### **Soal 9: Fungsi Kompleks dengan Selective Import**\n",
    "\n",
    "**Konteks:**\n",
    "Anda perlu membuat fungsi yang sangat spesifik untuk menemukan nilai tengah (median) dan faktor persekutuan terbesar (FPB atau GCD) dari dua angka pertama dalam sebuah list. Karena fungsi ini sangat spesifik, Anda memutuskan untuk mengimpor package yang dibutuhkan **di dalam fungsi** itu sendiri.\n",
    "\n",
    "**Tugas:**\n",
    "\n",
    "1.  Definisikan sebuah fungsi bernama `hitung_statistik_list_9` yang menerima satu argumen, `data_list`.\n",
    "2.  **Di dalam fungsi**:\n",
    "    * Impor **hanya** fungsi `median` dari package `statistics`.\n",
    "    * Impor **hanya** fungsi `gcd` dari package `math`.\n",
    "    * Hitung `median` dari keseluruhan `data_list`.\n",
    "    * Ambil dua elemen pertama dari `data_list`.\n",
    "    * Hitung `gcd` dari kedua elemen tersebut.\n",
    "    * Fungsi harus mengembalikan `median` dan `gcd`.\n",
    "3.  Buat sebuah list bernama `angka_data_9`: `[12, 18, 25, 30, 40]`.\n",
    "4.  Panggil fungsi `hitung_statistik_list_9` dengan list tersebut dan tampung hasilnya ke `median_9` dan `fpb_9`.\n",
    "5.  Cetak kedua hasil tersebut."
   ]
  },
  {
   "cell_type": "code",
   "execution_count": 29,
   "id": "5f4bd50a",
   "metadata": {},
   "outputs": [
    {
     "name": "stdout",
     "output_type": "stream",
     "text": [
      "25\n",
      "6\n"
     ]
    }
   ],
   "source": [
    "def hitung_statistik_list_9(data_list):\n",
    "    from statistics import median\n",
    "    from math import gcd\n",
    "\n",
    "    hitung_median = median(data_list)\n",
    "    hitung_gcd = gcd(*data_list[:2])\n",
    "    return hitung_median, hitung_gcd\n",
    "\n",
    "angka_data_9 = [\n",
    "    12, \n",
    "    18,\n",
    "    25,\n",
    "    30,\n",
    "    40,\n",
    "]\n",
    "\n",
    "median_9, fpb_9 = hitung_statistik_list_9(angka_data_9)\n",
    "print(median_9)\n",
    "print(fpb_9)\n",
    "\n",
    "    "
   ]
  },
  {
   "cell_type": "markdown",
   "id": "f658a279",
   "metadata": {},
   "source": [
    "### **Soal 10: Fungsi Utilitas Fleksibel**\n",
    "\n",
    "**Konteks:**\n",
    "Anda akan membuat sebuah fungsi \"utilitas\" yang serbaguna. Fungsi ini akan menerima sebuah list, membersihkan setiap elemen string di dalamnya, dan menggabungkannya menjadi satu kalimat. Fungsi ini juga harus fleksibel, memungkinkan pengguna untuk menentukan pemisah dan apakah hasilnya harus dalam huruf kapital.\n",
    "\n",
    "**Tugas:**\n",
    "\n",
    "1.  Definisikan sebuah fungsi bernama `format_list_ke_string_10`.\n",
    "2.  Fungsi ini harus menerima tiga argumen:\n",
    "    * `data_list`: List yang akan diproses.\n",
    "    * `pemisah`: String pemisah, dengan nilai default `\", \"`.\n",
    "    * `kapitalkan`: Boolean, dengan nilai default `False`.\n",
    "3.  **Di dalam fungsi**:\n",
    "    * Gunakan *list comprehension* untuk membuat list baru di mana setiap elemen dari `data_list` diubah menjadi string dan di-`.strip()` (untuk membersihkan spasi).\n",
    "    * Gabungkan list yang sudah bersih tersebut menjadi satu string menggunakan `pemisah`.\n",
    "    * **Jika** argumen `kapitalkan` adalah `True`, ubah keseluruhan string hasil gabungan menjadi huruf kapital.\n",
    "    * Fungsi harus mengembalikan string final.\n",
    "4.  Buat sebuah list `data_kotor_10`: `[\" apel \", \" PISANG \", \"   jeruk\"]`.\n",
    "5.  Panggil fungsi Anda tiga kali dengan cara berbeda:\n",
    "    * **Panggilan 1**: Hanya dengan `data_kotor_10` (menggunakan default).\n",
    "    * **Panggilan 2**: Dengan `data_kotor_10` dan `pemisah=\" | \"`.\n",
    "    * **Panggilan 3**: Dengan `data_kotor_10`, `pemisah=\" - \"`, dan `kapitalkan=True`.\n",
    "6.  Cetak hasil dari ketiga panggilan tersebut."
   ]
  },
  {
   "cell_type": "code",
   "execution_count": 33,
   "id": "2218196f",
   "metadata": {},
   "outputs": [
    {
     "name": "stdout",
     "output_type": "stream",
     "text": [
      "apel, PISANG, jeruk\n",
      "apel | PISANG | jeruk\n",
      "APEL - PISANG - JERUK\n"
     ]
    }
   ],
   "source": [
    "def format_list_ke_string_10(data_list, pemisah=\", \", kapitalkan=False):\n",
    "    bersih = [str(elemen).strip() for elemen in data_list]\n",
    "    final = pemisah.join(bersih)\n",
    "    if kapitalkan == True:\n",
    "        return final.upper()\n",
    "    else:\n",
    "        return final\n",
    "\n",
    "data_kotor_10 = [\n",
    "    \" apel \",\n",
    "    \" PISANG \",\n",
    "    \" jeruk\",\n",
    "]\n",
    "\n",
    "print(format_list_ke_string_10(data_kotor_10))\n",
    "print(format_list_ke_string_10(data_kotor_10, \" | \"))\n",
    "print(format_list_ke_string_10(data_kotor_10, \" - \", True))"
   ]
  },
  {
   "cell_type": "code",
   "execution_count": null,
   "id": "446c3994",
   "metadata": {},
   "outputs": [],
   "source": []
  }
 ],
 "metadata": {
  "kernelspec": {
   "display_name": "Python 3",
   "language": "python",
   "name": "python3"
  },
  "language_info": {
   "codemirror_mode": {
    "name": "ipython",
    "version": 3
   },
   "file_extension": ".py",
   "mimetype": "text/x-python",
   "name": "python",
   "nbconvert_exporter": "python",
   "pygments_lexer": "ipython3",
   "version": "3.12.10"
  }
 },
 "nbformat": 4,
 "nbformat_minor": 5
}
