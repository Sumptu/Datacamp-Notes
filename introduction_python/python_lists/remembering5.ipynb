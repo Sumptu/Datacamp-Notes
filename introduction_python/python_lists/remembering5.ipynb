{
 "cells": [
  {
   "cell_type": "markdown",
   "id": "0c83f2ff",
   "metadata": {},
   "source": [
    "### Soal 1: Membuat List Sederhana\n",
    "\n",
    "1.  Buatlah sebuah list Python bernama **`kota_di_bali_pl_h5`** yang berisi nama-nama kota atau kabupaten di Bali berikut ini: `\"Denpasar\"`, `\"Badung\"`, `\"Tabanan\"`, `\"Gianyar\"`, dan `\"Klungkung\"`.\n",
    "2.  Tampilkan list `kota_di_bali_pl_h5` tersebut.\n",
    "3.  Tampilkan juga tipe data dari variabel `kota_di_bali_pl_h5` untuk memastikan itu adalah sebuah list."
   ]
  },
  {
   "cell_type": "code",
   "execution_count": 1,
   "id": "4ebc74da",
   "metadata": {},
   "outputs": [
    {
     "name": "stdout",
     "output_type": "stream",
     "text": [
      "['Denpasar', 'Badung', 'Tabanan', 'Gianyar', 'Klungkung']\n",
      "<class 'list'>\n"
     ]
    }
   ],
   "source": [
    "kota_di_bali_pl_h5 = [\n",
    "    \"Denpasar\", \n",
    "    \"Badung\", \n",
    "    \"Tabanan\",\n",
    "    \"Gianyar\",\n",
    "    \"Klungkung\",\n",
    "]\n",
    "\n",
    "print(kota_di_bali_pl_h5)\n",
    "print(type(kota_di_bali_pl_h5))"
   ]
  },
  {
   "cell_type": "markdown",
   "id": "cd47cb52",
   "metadata": {},
   "source": [
    "### Soal 2: List dengan Berbagai Tipe Data\n",
    "\n",
    "1.  Buatlah sebuah list bernama **`profil_mahasiswa_pl_h5`** yang merepresentasikan data seorang mahasiswa. List ini harus berisi elemen-elemen dengan tipe data yang berbeda, dengan urutan sebagai berikut:\n",
    "    * Nama lengkap (string), contoh: `\"Made Wijaya\"`\n",
    "    * NIM (string), contoh: `\"2301010123\"`\n",
    "    * Usia (integer), contoh: `19`\n",
    "    * IPK (float), contoh: `3.85`\n",
    "    * Status Aktif (boolean), contoh: `True`\n",
    "2.  Tampilkan list `profil_mahasiswa_pl_h5` tersebut.\n",
    "3.  Tampilkan juga tipe data dari elemen kedua (NIM) dan elemen keempat (IPK) dari list tersebut."
   ]
  },
  {
   "cell_type": "code",
   "execution_count": 2,
   "id": "f27ca9d0",
   "metadata": {},
   "outputs": [
    {
     "name": "stdout",
     "output_type": "stream",
     "text": [
      "['I Gede Putu Narendra Wicaksana', '220030555', 20, 3.75, True]\n",
      "<class 'str'>\n",
      "<class 'float'>\n"
     ]
    }
   ],
   "source": [
    "profil_mahasiswa_pl_h5 = [\n",
    "    \"I Gede Putu Narendra Wicaksana\",\n",
    "    \"220030555\",\n",
    "    20,\n",
    "    3.75,\n",
    "    True,\n",
    "]\n",
    "\n",
    "print(profil_mahasiswa_pl_h5)\n",
    "print(type(profil_mahasiswa_pl_h5[1]))\n",
    "print(type(profil_mahasiswa_pl_h5[3]))"
   ]
  },
  {
   "cell_type": "markdown",
   "id": "7e41b609",
   "metadata": {},
   "source": [
    "### Soal 3: Mengakses Elemen List (Indexing)\n",
    "\n",
    "1.  Buat kembali atau gunakan list `kota_di_bali_pl_h5` dari Soal 1: `[\"Denpasar\", \"Badung\", \"Tabanan\", \"Gianyar\", \"Klungkung\"]`.\n",
    "2.  Akses elemen **ketiga** (yaitu `\"Tabanan\"`) dari list tersebut dan simpan nilainya ke dalam variabel **`kota_tengah_pl_h5`**.\n",
    "3.  Akses elemen **terakhir** dari list tersebut menggunakan **indeks negatif** dan simpan nilainya ke dalam variabel **`kota_terakhir_pl_h5`**.\n",
    "4.  Tampilkan nilai dari `kota_tengah_pl_h5` dan `kota_terakhir_pl_h5` dengan pesan yang jelas."
   ]
  },
  {
   "cell_type": "code",
   "execution_count": 3,
   "id": "d1a06af3",
   "metadata": {},
   "outputs": [
    {
     "name": "stdout",
     "output_type": "stream",
     "text": [
      "Kota tengah dari kota di Bali adalah Tabanan dan kota terakhir adalah Klungkung\n"
     ]
    }
   ],
   "source": [
    "kota_tengah_pl_h5 = kota_di_bali_pl_h5[2]\n",
    "kota_terakhir_pl_h5 = kota_di_bali_pl_h5[-1]\n",
    "\n",
    "print(f\"Kota tengah dari kota di Bali adalah {kota_tengah_pl_h5} dan kota terakhir adalah {kota_terakhir_pl_h5}\")"
   ]
  },
  {
   "cell_type": "markdown",
   "id": "7449a304",
   "metadata": {},
   "source": [
    "### Soal 4: Mengiris List (Slicing)\n",
    "\n",
    "1.  Buatlah sebuah list bernama **`hari_seminggu_pl_h5`** yang berisi nama-nama hari: `[\"Senin\", \"Selasa\", \"Rabu\", \"Kamis\", \"Jumat\", \"Sabtu\", \"Minggu\"]`.\n",
    "2.  Buat sebuah list baru bernama **`hari_kerja_pl_h5`** dengan mengambil irisan (slice) dari `hari_seminggu_pl_h5` yang hanya berisi hari kerja (indeks 0 hingga 4 inklusif).\n",
    "3.  Buat sebuah list baru bernama **`akhir_pekan_pl_h5`** dengan mengambil irisan dari `hari_seminggu_pl_h5` yang berisi dua hari terakhir. Gunakan indeks negatif untuk slicing ini.\n",
    "4.  Tampilkan list `hari_kerja_pl_h5` dan `akhir_pekan_pl_h5` dengan pesan yang jelas."
   ]
  },
  {
   "cell_type": "code",
   "execution_count": 11,
   "id": "fa2052e5",
   "metadata": {},
   "outputs": [
    {
     "name": "stdout",
     "output_type": "stream",
     "text": [
      "hari kerja : ['Senin', 'Selasa', 'Rabu', 'Kamis', 'Jumat']\n",
      "akhir pekan : ['Sabtu', 'Minggu']\n"
     ]
    }
   ],
   "source": [
    "hari_seminggu_pl_h5 = [\n",
    "    \"Senin\",\n",
    "    \"Selasa\",\n",
    "    \"Rabu\",\n",
    "    \"Kamis\",\n",
    "    \"Jumat\",\n",
    "    \"Sabtu\",\n",
    "    \"Minggu\",\n",
    "]\n",
    "hari_kerja_pl_h5 = hari_seminggu_pl_h5[0:5]\n",
    "akhir_pekan_pl_h5 = hari_seminggu_pl_h5[-2:]\n",
    "print(f\"hari kerja : {hari_kerja_pl_h5}\")\n",
    "print(f\"akhir pekan : {akhir_pekan_pl_h5}\")"
   ]
  },
  {
   "cell_type": "markdown",
   "id": "17cb06d5",
   "metadata": {},
   "source": [
    "### Soal 5: List Bersarang (List of Lists)\n",
    "\n",
    "1.  Buatlah sebuah list bersarang bernama **`papan_catur_pl_h5`** untuk merepresentasikan 3 baris pertama dari papan catur. Setiap elemennya adalah list yang merepresentasikan satu baris. Gunakan string untuk nama bidak dan `None` untuk kotak kosong.\n",
    "    ```python\n",
    "    [\n",
    "        [\"Benteng\", \"Kuda\", \"Gajah\", \"Ratu\"], # Baris 1\n",
    "        [\"Pion\", \"Pion\", \"Pion\", \"Pion\"],     # Baris 2\n",
    "        [None, None, None, None]             # Baris 3\n",
    "    ]\n",
    "    ```\n",
    "2.  Tampilkan keseluruhan list `papan_catur_pl_h5`.\n",
    "3.  Akses bidak yang berada di **baris pertama, kolom ketiga** (yaitu `\"Gajah\"`) dan simpan nilainya ke dalam variabel **`bidak_gajah_pl_h5`**.\n",
    "4.  Akses bidak yang berada di **baris kedua, kolom pertama** (yaitu `\"Pion\"`) dan simpan nilainya ke dalam variabel **`bidak_pion_pl_h5`**.\n",
    "5.  Tampilkan nilai dari `bidak_gajah_pl_h5` dan `bidak_pion_pl_h5`."
   ]
  },
  {
   "cell_type": "code",
   "execution_count": 12,
   "id": "5fc296c6",
   "metadata": {},
   "outputs": [
    {
     "name": "stdout",
     "output_type": "stream",
     "text": [
      "[['Benteng', 'Kuda', 'Gajah', 'Ratu'], ['Pion', 'Pion', 'Pion', 'Pion'], [None, None, None, None]]\n",
      "Gajah\n",
      "Pion\n"
     ]
    }
   ],
   "source": [
    "papan_catur_pl_h5 = [\n",
    "    [\"Benteng\", \"Kuda\", \"Gajah\", \"Ratu\"],\n",
    "    [\"Pion\", \"Pion\", \"Pion\", \"Pion\"],\n",
    "    [None, None, None, None],\n",
    "]\n",
    "\n",
    "print(papan_catur_pl_h5)\n",
    "\n",
    "bidak_gajah_pl_h5 = papan_catur_pl_h5[0][2]\n",
    "bidak_pion_pl_h5 = papan_catur_pl_h5[1][0]\n",
    "\n",
    "print(bidak_gajah_pl_h5)\n",
    "print(bidak_pion_pl_h5)"
   ]
  },
  {
   "cell_type": "markdown",
   "id": "50926463",
   "metadata": {},
   "source": [
    "### Soal 6: Mengiris List Bersarang (Slicing)\n",
    "\n",
    "Masih menggunakan list `papan_catur_pl_h5` dari Soal 5.\n",
    "1.  Buat sebuah list baru bernama **`baris_pion_pl_h5`** yang berisi seluruh baris kedua (baris pion) dari `papan_catur_pl_h5`.\n",
    "2.  Buat sebuah list baru bernama **`pasangan_kuda_gajah_pl_h5`** yang berisi irisan dari baris pertama, yaitu hanya elemen \"Kuda\" dan \"Gajah\".\n",
    "3.  Tampilkan `baris_pion_pl_h5` dan `pasangan_kuda_gajah_pl_h5` dengan pesan yang jelas."
   ]
  },
  {
   "cell_type": "code",
   "execution_count": 13,
   "id": "2064afdc",
   "metadata": {},
   "outputs": [
    {
     "name": "stdout",
     "output_type": "stream",
     "text": [
      "baris pion : ['Pion', 'Pion', 'Pion', 'Pion']\n",
      "pasangan kuda & gajah : ['Kuda', 'Gajah']\n"
     ]
    }
   ],
   "source": [
    "baris_pion_pl_h5 = papan_catur_pl_h5[1]\n",
    "pasangan_kuda_gajah_pl_h5 = papan_catur_pl_h5[0][1:3]\n",
    "print(f\"baris pion : {baris_pion_pl_h5}\")\n",
    "print(f\"pasangan kuda & gajah : {pasangan_kuda_gajah_pl_h5}\")"
   ]
  },
  {
   "cell_type": "markdown",
   "id": "aa674126",
   "metadata": {},
   "source": [
    "### Soal 7: Mengganti Elemen List\n",
    "\n",
    "1.  Buat kembali atau gunakan list **`hari_seminggu_pl_h5`** dari soal sebelumnya: `[\"Senin\", \"Selasa\", \"Rabu\", \"Kamis\", \"Jumat\", \"Sabtu\", \"Minggu\"]`.\n",
    "2.  Karena ada rapat mendadak, ubahlah elemen `\"Rabu\"` menjadi `\"Hari Rapat\"`. Lakukan ini dengan mengakses indeksnya secara langsung.\n",
    "3.  Tampilkan list `hari_seminggu_pl_h5` setelah perubahan pertama.\n",
    "4.  Setelah itu, Anda memutuskan untuk mengganti hari `\"Kamis\"` dan `\"Jumat\"` menjadi hari libur bersama. Ganti kedua elemen tersebut secara bersamaan menggunakan *slicing* dengan list baru: `[\"Libur Bersama 1\", \"Libur Bersama 2\"]`.\n",
    "5.  Tampilkan kembali list `hari_seminggu_pl_h5` setelah perubahan kedua."
   ]
  },
  {
   "cell_type": "code",
   "execution_count": 14,
   "id": "8fca100a",
   "metadata": {},
   "outputs": [
    {
     "name": "stdout",
     "output_type": "stream",
     "text": [
      "['Senin', 'Selasa', 'Hari Rapat', 'Kamis', 'Jumat', 'Sabtu', 'Minggu']\n",
      "['Senin', 'Selasa', 'Hari Rapat', 'Libur Bersama 1', 'Libur Bersama 2', 'Sabtu', 'Minggu']\n"
     ]
    }
   ],
   "source": [
    "hari_seminggu_pl_h5[2] = \"Hari Rapat\"\n",
    "print(hari_seminggu_pl_h5)\n",
    "\n",
    "hari_seminggu_pl_h5[3:5] = [\"Libur Bersama 1\", \"Libur Bersama 2\"]\n",
    "print(hari_seminggu_pl_h5)\n"
   ]
  },
  {
   "cell_type": "markdown",
   "id": "217d38cd",
   "metadata": {},
   "source": [
    "### Soal 8: Memperpanjang List\n",
    "\n",
    "1.  Buatlah sebuah list bernama **`belanjaan_dapur_pl_h5`** yang berisi: `[\"beras\", \"minyak\", \"gula\"]`.\n",
    "2.  Buatlah list kedua bernama **`tambahan_belanjaan_pl_h5`** yang berisi: `[\"garam\", \"kopi\"]`.\n",
    "3.  **Buat list baru** bernama **`belanjaan_lengkap_pl_h5`** dengan menggabungkan `belanjaan_dapur_pl_h5` dan `tambahan_belanjaan_pl_h5` menggunakan operator `+`. Tampilkan `belanjaan_lengkap_pl_h5` dan `belanjaan_dapur_pl_h5` (untuk menunjukkan list asli tidak berubah).\n",
    "4.  Setelah itu, gunakan metode **`.extend()`** untuk menambahkan semua elemen dari `tambahan_belanjaan_pl_h5` ke dalam list `belanjaan_dapur_pl_h5` secara *in-place* (memodifikasi list aslinya).\n",
    "5.  Tampilkan `belanjaan_dapur_pl_h5` setelah menggunakan `.extend()` untuk menunjukkan bahwa list aslinya sekarang telah berubah."
   ]
  },
  {
   "cell_type": "code",
   "execution_count": 18,
   "id": "f3e1b5fa",
   "metadata": {},
   "outputs": [
    {
     "name": "stdout",
     "output_type": "stream",
     "text": [
      "['beras', 'minyak', 'gula', 'garam', 'kopi']\n",
      "['beras', 'minyak', 'gula']\n",
      "['beras', 'minyak', 'gula', 'garam', 'kopi']\n"
     ]
    }
   ],
   "source": [
    "belanjaan_dapur_pl_h5 = [\n",
    "    \"beras\",\n",
    "    \"minyak\",\n",
    "    \"gula\",\n",
    "]\n",
    "tambahan_belanjaan_pl_h5 = [\n",
    "    \"garam\",\n",
    "    \"kopi\",\n",
    "]\n",
    "belanjaan_lengkap_pl_h5 = belanjaan_dapur_pl_h5 + tambahan_belanjaan_pl_h5\n",
    "print(belanjaan_lengkap_pl_h5)\n",
    "print(belanjaan_dapur_pl_h5)\n",
    "\n",
    "belanjaan_dapur_pl_h5.extend(tambahan_belanjaan_pl_h5)\n",
    "print(belanjaan_dapur_pl_h5)"
   ]
  },
  {
   "cell_type": "markdown",
   "id": "f588cc75",
   "metadata": {},
   "source": [
    "### Soal 9: Menghapus Elemen List\n",
    "\n",
    "1.  Buatlah sebuah list bernama **`tumpukan_surat_pl_h5`** yang berisi: `[\"Undangan\", \"Tagihan\", \"Iklan\", \"Majalah\", \"Pemberitahuan\"]`.\n",
    "2.  Surat pertama (\"Undangan\") sudah dibaca dan akan disimpan. Hapus elemen **pertama** dari list `tumpukan_surat_pl_h5` menggunakan `del`.\n",
    "3.  Tampilkan list `tumpukan_surat_pl_h5` setelah penghapusan pertama.\n",
    "4.  Anda tidak tertarik dengan \"Iklan\" dan \"Majalah\". Hapus kedua elemen tersebut secara bersamaan dari list yang sudah termodifikasi menggunakan `del` dan *slicing*.\n",
    "5.  Tampilkan list `tumpukan_surat_pl_h5` setelah penghapusan kedua."
   ]
  },
  {
   "cell_type": "code",
   "execution_count": 20,
   "id": "f11e7ed0",
   "metadata": {},
   "outputs": [
    {
     "name": "stdout",
     "output_type": "stream",
     "text": [
      "['Tagihan', 'Iklan', 'Majalah', 'Pemberitahuan']\n",
      "['Tagihan', 'Pemberitahuan']\n"
     ]
    }
   ],
   "source": [
    "tummpukan_surat_pl_h5 = [\n",
    "    \"Undangan\",\n",
    "    \"Tagihan\",\n",
    "    \"Iklan\",\n",
    "    \"Majalah\",\n",
    "    \"Pemberitahuan\",\n",
    "]\n",
    "\n",
    "del tummpukan_surat_pl_h5[0]\n",
    "print(tummpukan_surat_pl_h5)\n",
    "del tummpukan_surat_pl_h5[1:3]\n",
    "print(tummpukan_surat_pl_h5)"
   ]
  },
  {
   "cell_type": "markdown",
   "id": "f58019fc",
   "metadata": {},
   "source": [
    "### Soal 10: Referensi vs. Salinan List\n",
    "\n",
    "Soal ini bertujuan untuk memahami perbedaan antara membuat referensi ke list yang sama dan membuat salinan (copy) dari sebuah list.\n",
    "\n",
    "1.  Buatlah sebuah list bernama **`skor_asli_pl_h5`** dengan nilai `[100, 200, 300]`.\n",
    "2.  Buat variabel baru bernama **`skor_referensi_pl_h5`** dan berikan nilai dari `skor_asli_pl_h5` secara langsung (misalnya, `skor_referensi_pl_h5 = skor_asli_pl_h5`). Ini akan membuat sebuah **referensi**, bukan salinan.\n",
    "3.  Buat variabel baru lainnya bernama **`skor_salinan_pl_h5`** dan berikan nilai berupa **salinan/copy** dari `skor_asli_pl_h5`. Anda bisa menggunakan metode `.copy()` atau slicing `[:]`.\n",
    "4.  Sekarang, modifikasi `skor_referensi_pl_h5` dengan menambahkan angka `400` di akhirnya menggunakan metode `.append()`.\n",
    "5.  Tampilkan ketiga list tersebut: `skor_asli_pl_h5`, `skor_referensi_pl_h5`, dan `skor_salinan_pl_h5`.\n",
    "6.  Di bawah output list, berikan komentar singkat (dalam kode Python Anda menggunakan `#`) yang menjelaskan mengapa `skor_asli_pl_h5` ikut berubah, sementara `skor_salinan_pl_h5` tidak."
   ]
  },
  {
   "cell_type": "code",
   "execution_count": null,
   "id": "2b5b1bb5",
   "metadata": {},
   "outputs": [
    {
     "name": "stdout",
     "output_type": "stream",
     "text": [
      "[100, 200, 300, 400]\n",
      "[100, 200, 300, 400]\n",
      "[100, 200, 300]\n"
     ]
    }
   ],
   "source": [
    "skor_asli_pl_h5 = [\n",
    "    100,\n",
    "    200,\n",
    "    300,\n",
    "]\n",
    "skor_referensi_pl_h5 = skor_asli_pl_h5\n",
    "skor_salinan_pl_h5 = skor_asli_pl_h5.copy()\n",
    "\n",
    "skor_referensi_pl_h5.append(400)\n",
    "print(skor_asli_pl_h5)\n",
    "print(skor_referensi_pl_h5)\n",
    "print(skor_salinan_pl_h5)\n",
    "\n",
    "# skor asli ikut berubah karena skor_asli_pl_h5 dan skor_referensi_pl_h5 merujuk pada objek yang sama sedangkan skor_salinan_pl_h5 tidak ikut berubah karena skor_salinan_pl_h5 merujuk pada objek yang berbeda."
   ]
  }
 ],
 "metadata": {
  "kernelspec": {
   "display_name": "Python 3",
   "language": "python",
   "name": "python3"
  },
  "language_info": {
   "codemirror_mode": {
    "name": "ipython",
    "version": 3
   },
   "file_extension": ".py",
   "mimetype": "text/x-python",
   "name": "python",
   "nbconvert_exporter": "python",
   "pygments_lexer": "ipython3",
   "version": "3.12.10"
  }
 },
 "nbformat": 4,
 "nbformat_minor": 5
}
