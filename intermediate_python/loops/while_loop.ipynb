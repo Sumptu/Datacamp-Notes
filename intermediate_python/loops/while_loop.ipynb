{
 "cells": [
  {
   "cell_type": "markdown",
   "id": "baad27e5",
   "metadata": {},
   "source": [
    "# if-elif-else\n",
    "- goes through construct only once!\n",
    "\n",
    "```python\n",
    "z = 6\n",
    "if z % 2 == 0:\n",
    "    print(\"z is divisible by 2\")\n",
    "elif z % 3 == 0:\n",
    "    print(\"z is divisible by 3\")\n",
    "else:\n",
    "    print(\"z is neither divisible by 2 nor 3\")\n",
    "```\n",
    "\n",
    "# while loop\n",
    "The while loop is like a repeated if statement. The code is executed over and over again, as long as the condition is True\n",
    "- while loop = repeated if statement\n",
    "```python\n",
    "while conndition:\n",
    "    expression\n",
    "```\n",
    "\n",
    "- Numerically calculating model\n",
    "- \"repeating action until condition is met\"\n",
    "- example\n",
    "   - Error starts at 50\n",
    "   - Divide error by 4 on every run\n",
    "   - Continue until error no longer > 1"
   ]
  },
  {
   "cell_type": "code",
   "execution_count": 1,
   "id": "f5e10ca8",
   "metadata": {},
   "outputs": [
    {
     "name": "stdout",
     "output_type": "stream",
     "text": [
      "12.5\n",
      "3.125\n",
      "0.78125\n"
     ]
    }
   ],
   "source": [
    "error = 50\n",
    "\n",
    "while error > 1 :\n",
    "    error /= 4\n",
    "    print(error)"
   ]
  }
 ],
 "metadata": {
  "kernelspec": {
   "display_name": "Python 3",
   "language": "python",
   "name": "python3"
  },
  "language_info": {
   "codemirror_mode": {
    "name": "ipython",
    "version": 3
   },
   "file_extension": ".py",
   "mimetype": "text/x-python",
   "name": "python",
   "nbconvert_exporter": "python",
   "pygments_lexer": "ipython3",
   "version": "3.12.10"
  }
 },
 "nbformat": 4,
 "nbformat_minor": 5
}
