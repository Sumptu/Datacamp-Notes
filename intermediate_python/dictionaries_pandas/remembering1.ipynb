{
 "cells": [
  {
   "cell_type": "markdown",
   "id": "ced5f8be",
   "metadata": {},
   "source": [
    "### **Soal 1: Membuat dan Mengakses Dictionary Sederhana**\n",
    "\n",
    "**Konteks:** Anda adalah seorang pustakawan yang ingin mendata sebuah buku. Anda perlu menyimpan informasi dasar seperti judul, penulis, dan tahun terbit buku tersebut dalam satu struktur data.\n",
    "\n",
    "**Tugas:**\n",
    "\n",
    "1.  Buatlah sebuah **dictionary** Python bernama `buku_favorit_1` untuk merepresentasikan sebuah buku.\n",
    "2.  Masukkan *key-value pairs* berikut ke dalam dictionary tersebut:\n",
    "    * *Key* `\"judul\"` dengan *value* `\"Laskar Pelangi\"`.\n",
    "    * *Key* `\"penulis\"` dengan *value* `\"Andrea Hirata\"`.\n",
    "    * *Key* `\"tahun_terbit\"` dengan *value* `2005`.\n",
    "3.  Akses dan cetak (*print*) nilai yang berasosiasi dengan *key* `\"penulis\"` dari dictionary `buku_favorit_1`."
   ]
  },
  {
   "cell_type": "code",
   "execution_count": 2,
   "id": "68bfa01b",
   "metadata": {},
   "outputs": [
    {
     "name": "stdout",
     "output_type": "stream",
     "text": [
      "Andrea Hirata\n"
     ]
    }
   ],
   "source": [
    "buku_favorit_1 = {\n",
    "    \"judul\": \"Laskar Pelangi\",\n",
    "    \"penulis\": \"Andrea Hirata\",\n",
    "    \"tahun_terbit\": 2005,\n",
    "}\n",
    "\n",
    "print(buku_favorit_1[\"penulis\"])"
   ]
  },
  {
   "cell_type": "markdown",
   "id": "5eb0f754",
   "metadata": {},
   "source": [
    "### **Soal 2: Memanipulasi Dictionary (Menambah dan Memperbarui Data)**\n",
    "\n",
    "**Konteks:** Setelah mendata buku, Anda menyadari ada informasi yang kurang dan ada yang perlu diperbarui. Anda perlu menambahkan genre buku dan mengubah tahun terbit karena ada edisi revisi.\n",
    "\n",
    "**Tugas:**\n",
    "\n",
    "1.  Gunakan kembali dictionary `buku_favorit_1` dari soal sebelumnya.\n",
    "2.  **Tambahkan** *key-value pair* baru ke dalam dictionary tersebut:\n",
    "    * *Key* `\"genre\"` dengan *value* `\"Fiksi Inspiratif\"`.\n",
    "3.  **Perbarui (update)** nilai yang sudah ada untuk *key* `\"tahun_terbit\"` menjadi `2007`.\n",
    "4.  Cetak (*print*) keseluruhan dictionary `buku_favorit_1` yang telah dimodifikasi untuk melihat hasilnya."
   ]
  },
  {
   "cell_type": "code",
   "execution_count": 3,
   "id": "a601dd82",
   "metadata": {},
   "outputs": [
    {
     "name": "stdout",
     "output_type": "stream",
     "text": [
      "{'judul': 'Laskar Pelangi', 'penulis': 'Andrea Hirata', 'tahun_terbit': 2007, 'genre': 'Fiksi Inspiratif'}\n"
     ]
    }
   ],
   "source": [
    "buku_favorit_1[\"genre\"] = \"Fiksi Inspiratif\"\n",
    "buku_favorit_1[\"tahun_terbit\"] = 2007\n",
    "\n",
    "print(buku_favorit_1)"
   ]
  },
  {
   "cell_type": "markdown",
   "id": "b769020a",
   "metadata": {},
   "source": [
    "### **Soal 3: Dictionary di dalam Dictionary**\n",
    "\n",
    "**Konteks:** Anda sekarang perlu mendata beberapa buku sekaligus. Menggunakan satu dictionary besar akan tidak terstruktur. Solusi yang lebih baik adalah menggunakan dictionary yang berisi dictionary lain, di mana setiap dictionary di dalamnya merepresentasikan satu buku.\n",
    "\n",
    "**Tugas:**\n",
    "\n",
    "1.  Buatlah sebuah dictionary kosong bernama `koleksi_buku_3`.\n",
    "2.  Buat dua dictionary terpisah untuk dua buku:\n",
    "    * `buku_1_3 = {\"judul\": \"Bumi Manusia\", \"penulis\": \"Pramoedya Ananta Toer\"}`\n",
    "    * `buku_2_3 = {\"judul\": \"Negeri 5 Menara\", \"penulis\": \"Ahmad Fuadi\"}`\n",
    "3.  Masukkan kedua dictionary buku tersebut ke dalam `koleksi_buku_3`. Gunakan *key* unik untuk setiap buku, misalnya `\"B001\"` untuk `buku_1_3` dan `\"B002\"` untuk `buku_2_3`.\n",
    "4.  Akses dan cetak **judul** dari buku yang memiliki kode `\"B002\"`."
   ]
  },
  {
   "cell_type": "code",
   "execution_count": 4,
   "id": "e8c008f2",
   "metadata": {},
   "outputs": [
    {
     "name": "stdout",
     "output_type": "stream",
     "text": [
      "Negeri 5 Menara\n"
     ]
    }
   ],
   "source": [
    "koleksi_buku_3 = {}\n",
    "\n",
    "buku_1_3 = {\n",
    "    \"judul\": \"Bumi Manusia\",\n",
    "    \"penulis\": \"Pramoedya Ananta Toer\",\n",
    "}\n",
    "buku_2_3 = {\n",
    "    \"judul\": \"Negeri 5 Menara\",\n",
    "    \"penulis\": \"Ahmad Fuadi\",\n",
    "}\n",
    "\n",
    "koleksi_buku_3[\"B001\"] = buku_1_3\n",
    "koleksi_buku_3[\"B002\"] = buku_2_3\n",
    "\n",
    "print(koleksi_buku_3[\"B002\"][\"judul\"])"
   ]
  },
  {
   "cell_type": "markdown",
   "id": "0e270435",
   "metadata": {},
   "source": [
    "### **Soal 4: Konversi Dictionary ke Pandas DataFrame**\n",
    "\n",
    "**Konteks:** Koleksi buku Anda berkembang. Mengelolanya dalam dictionary menjadi kurang efisien untuk analisis. Saatnya untuk memindahkan data ini ke dalam Pandas DataFrame, yang merupakan standar industri untuk analisis data di Python.\n",
    "\n",
    "**Tugas:**\n",
    "\n",
    "1.  Impor library **pandas** dengan alias `pd`.\n",
    "2.  Buatlah sebuah dictionary bernama `data_buku_4`. Strukturnya harus cocok untuk konversi ke DataFrame:\n",
    "    * *Key* akan menjadi nama kolom.\n",
    "    * *Value* akan menjadi **list** dari data di kolom tersebut.\n",
    "    ```python\n",
    "    data_buku_4 = {\n",
    "        \"judul\": [\"Laskar Pelangi\", \"Bumi Manusia\", \"Negeri 5 Menara\"],\n",
    "        \"penulis\": [\"Andrea Hirata\", \"Pramoedya Ananta Toer\", \"Ahmad Fuadi\"],\n",
    "        \"tahun\": [2005, 1980, 2009]\n",
    "    }\n",
    "    ```\n",
    "3.  Konversikan dictionary `data_buku_4` menjadi sebuah Pandas DataFrame bernama `df_buku_4`.\n",
    "4.  Cetak (*print*) DataFrame `df_buku_4` tersebut."
   ]
  },
  {
   "cell_type": "code",
   "execution_count": 5,
   "id": "3dd5ef3e",
   "metadata": {},
   "outputs": [
    {
     "name": "stdout",
     "output_type": "stream",
     "text": [
      "             judul                penulis  tahun\n",
      "0   Laskar Pelangi          Andrea Hirata   2005\n",
      "1     Bumi Manusia  Pramoedya Ananta Toer   1980\n",
      "2  Negeri 5 Menara            Ahmad Fuadi   2009\n"
     ]
    }
   ],
   "source": [
    "import pandas as pd\n",
    "\n",
    "data_buku_4 = {\n",
    "    \"judul\": [\"Laskar Pelangi\", \"Bumi Manusia\", \"Negeri 5 Menara\"],\n",
    "    \"penulis\": [\"Andrea Hirata\", \"Pramoedya Ananta Toer\", \"Ahmad Fuadi\"],\n",
    "    \"tahun\": [2005, 1980, 2009]\n",
    "}\n",
    "\n",
    "df_buku_4 = pd.DataFrame(data_buku_4)\n",
    "print(df_buku_4)"
   ]
  },
  {
   "cell_type": "markdown",
   "id": "124511d3",
   "metadata": {},
   "source": [
    "### **Soal 5: Membaca File CSV ke DataFrame (Versi Lengkap)**\n",
    "\n",
    "**Konteks:** Di dunia nyata, data jarang diketik manual. Biasanya data disimpan dalam file seperti CSV (Comma-Separated Values). Anda memiliki file data penjualan buku yang perlu dianalisis.\n",
    "\n",
    "**Tugas:**\n",
    "\n",
    "1.  Jalankan blok kode di bawah ini terlebih dahulu. Kode ini menggunakan modul `io` untuk membuat \"file CSV virtual\" dari sebuah string, sehingga Anda tidak perlu membuat file fisik.\n",
    "    ```python\n",
    "    import pandas as pd\n",
    "    import io\n",
    "\n",
    "    # Teks ini akan kita perlakukan seolah-olah sebuah file CSV\n",
    "    data_csv_5 = \"\"\"ID,Judul,Genre,Terjual\n",
    "    B001,Laskar Pelangi,Fiksi,150\n",
    "    B002,Bumi Manusia,Sejarah,120\n",
    "    B003,Negeri 5 Menara,Fiksi,135\n",
    "    B004,Perahu Kertas,Romantis,110\n",
    "    \"\"\"\n",
    "\n",
    "    # Menggunakan io.StringIO untuk membaca string seolah-olah file\n",
    "    file_virtual_5 = io.StringIO(data_csv_5)\n",
    "    ```\n",
    "\n",
    "2.  Sekarang, dengan `file_virtual_5` yang sudah ada, gunakan fungsi `pd.read_csv()` untuk membaca \"file\" tersebut ke dalam sebuah DataFrame baru bernama `df_penjualan_5`.\n",
    "3.  Gunakan method `.head()` pada DataFrame untuk menampilkan 3 baris pertama dan memeriksa apakah data berhasil dimuat dengan benar.\n",
    "4.  Cetak (*print*) hasilnya."
   ]
  },
  {
   "cell_type": "code",
   "execution_count": 6,
   "id": "91395d13",
   "metadata": {},
   "outputs": [],
   "source": [
    "import pandas as pd\n",
    "import io\n",
    "\n",
    "# Teks ini akan kita perlakukan seolah-olah sebuah file CSV\n",
    "data_csv_5 = \"\"\"ID,Judul,Genre,Terjual\n",
    "B001,Laskar Pelangi,Fiksi,150\n",
    "B002,Bumi Manusia,Sejarah,120\n",
    "B003,Negeri 5 Menara,Fiksi,135\n",
    "B004,Perahu Kertas,Romantis,110\n",
    "\"\"\"\n",
    "\n",
    "# Menggunakan io.StringIO untuk membaca string seolah-olah file\n",
    "file_virtual_5 = io.StringIO(data_csv_5)"
   ]
  },
  {
   "cell_type": "code",
   "execution_count": 7,
   "id": "9c1b37eb",
   "metadata": {},
   "outputs": [
    {
     "name": "stdout",
     "output_type": "stream",
     "text": [
      "     ID            Judul    Genre  Terjual\n",
      "0  B001   Laskar Pelangi    Fiksi      150\n",
      "1  B002     Bumi Manusia  Sejarah      120\n",
      "2  B003  Negeri 5 Menara    Fiksi      135\n"
     ]
    }
   ],
   "source": [
    "df_penjualan_5 = pd.read_csv(file_virtual_5)\n",
    "print(df_penjualan_5.head(3))"
   ]
  },
  {
   "cell_type": "markdown",
   "id": "e487d783",
   "metadata": {},
   "source": [
    "### **Soal 6: Memilih Kolom dengan Square Brackets `[]`**\n",
    "\n",
    "**Konteks:**\n",
    "Anda sekarang memiliki DataFrame `df_penjualan_5` yang berisi data penjualan. Anda tidak selalu butuh semua kolom. Untuk analisis awal, Anda hanya ingin melihat data genre, lalu data judul dan jumlah terjual saja.\n",
    "\n",
    "**Tugas:**\n",
    "\n",
    "1.  Gunakan DataFrame `df_penjualan_5` yang berhasil Anda buat di soal sebelumnya.\n",
    "2.  Pilih **satu kolom** saja, yaitu kolom `\"Genre\"`. Simpan hasilnya (yang akan menjadi sebuah Pandas Series) dalam variabel `genre_series_6`.\n",
    "3.  Cetak `genre_series_6`.\n",
    "4.  Sekarang, pilih **beberapa kolom** sekaligus: `\"Judul\"` dan `\"Terjual\"`. Simpan hasilnya (yang akan menjadi sebuah DataFrame baru) dalam variabel `judul_terjual_df_6`.\n",
    "    * *Hint: Untuk memilih beberapa kolom, Anda perlu memberikan sebuah list dari nama-nama kolom di dalam kurung siku, contoh: `df[['kolom1', 'kolom2']]`.*\n",
    "5.  Cetak `judul_terjual_df_6`."
   ]
  },
  {
   "cell_type": "code",
   "execution_count": 8,
   "id": "4b177169",
   "metadata": {},
   "outputs": [
    {
     "name": "stdout",
     "output_type": "stream",
     "text": [
      "0       Fiksi\n",
      "1     Sejarah\n",
      "2       Fiksi\n",
      "3    Romantis\n",
      "Name: Genre, dtype: object\n",
      "             Judul  Terjual\n",
      "0   Laskar Pelangi      150\n",
      "1     Bumi Manusia      120\n",
      "2  Negeri 5 Menara      135\n",
      "3    Perahu Kertas      110\n"
     ]
    }
   ],
   "source": [
    "genre_series_6 = df_penjualan_5[\"Genre\"]\n",
    "print(genre_series_6)\n",
    "\n",
    "judul_terjual_df_6 = df_penjualan_5[[\"Judul\", \"Terjual\"]]\n",
    "print(judul_terjual_df_6)"
   ]
  },
  {
   "cell_type": "markdown",
   "id": "e8f62a6b",
   "metadata": {},
   "source": [
    "### **Soal 7: Memilih Baris dan Kolom dengan `.loc`**\n",
    "\n",
    "**Konteks:**\n",
    "Metode `[]` bagus untuk memilih kolom, tetapi kurang ideal untuk memilih baris. Untuk pemilihan berdasarkan **nama label** (baik nama baris/indeks maupun nama kolom), metode `.loc` adalah pilihan yang lebih baik dan lebih eksplisit.\n",
    "\n",
    "**Tugas:**\n",
    "\n",
    "1.  Gunakan kembali DataFrame `df_penjualan_5`. Untuk mempermudah, mari kita atur kolom `ID` sebagai indeks baru. Jalankan kode ini terlebih dahulu:\n",
    "    ```python\n",
    "    df_penjualan_7 = df_penjualan_5.set_index('ID')\n",
    "    # Sekarang, nama baris kita adalah 'B001', 'B002', dst.\n",
    "    ```\n",
    "2.  Gunakan `.loc` untuk memilih baris dengan indeks `'B002'`. Cetak hasilnya.\n",
    "3.  Gunakan `.loc` untuk memilih baris `'B001'` sampai `'B003'`. Cetak hasilnya.\n",
    "4.  Gunakan `.loc` untuk memilih data pada baris `'B004'` dan hanya pada kolom `\"Judul\"`. Cetak hasilnya.\n",
    "5.  Gunakan `.loc` untuk memilih data pada baris `'B001'` dan `'B003'` dan hanya kolom `\"Genre\"` dan `\"Terjual\"`. Cetak hasilnya."
   ]
  },
  {
   "cell_type": "code",
   "execution_count": 9,
   "id": "b6d5170c",
   "metadata": {},
   "outputs": [
    {
     "name": "stdout",
     "output_type": "stream",
     "text": [
      "Judul      Bumi Manusia\n",
      "Genre           Sejarah\n",
      "Terjual             120\n",
      "Name: B002, dtype: object\n",
      "                Judul    Genre  Terjual\n",
      "ID                                     \n",
      "B001   Laskar Pelangi    Fiksi      150\n",
      "B002     Bumi Manusia  Sejarah      120\n",
      "B003  Negeri 5 Menara    Fiksi      135\n",
      "Perahu Kertas\n",
      "      Genre  Terjual\n",
      "ID                  \n",
      "B001  Fiksi      150\n",
      "B003  Fiksi      135\n"
     ]
    }
   ],
   "source": [
    "df_penjualan_7 = df_penjualan_5.set_index('ID')\n",
    "print(df_penjualan_7.loc[\"B002\"])\n",
    "print(df_penjualan_7.loc[\"B001\":\"B003\"])\n",
    "print(df_penjualan_7.loc[\"B004\", \"Judul\"])\n",
    "print(df_penjualan_7.loc[[\"B001\", \"B003\"], [\"Genre\", \"Terjual\"]])"
   ]
  },
  {
   "cell_type": "markdown",
   "id": "0681d056",
   "metadata": {},
   "source": [
    "### **Soal 8: Memilih Baris Berdasarkan Posisi dengan `.iloc`**\n",
    "\n",
    "**Konteks:**\n",
    "Terkadang Anda tidak peduli dengan nama indeks atau kolom, tetapi Anda ingin mengambil data berdasarkan posisinya (misalnya, baris pertama, baris terakhir, kolom ke-2, dll.). Untuk ini, `.iloc` (integer location) adalah alat yang tepat.\n",
    "\n",
    "**Tugas:**\n",
    "\n",
    "1.  Gunakan DataFrame `df_penjualan_5` yang asli (dengan indeks numerik standar 0, 1, 2, 3).\n",
    "2.  Gunakan `.iloc` untuk memilih **baris pertama** (posisi 0). Cetak hasilnya.\n",
    "3.  Gunakan `.iloc` untuk memilih **tiga baris pertama** (posisi 0, 1, dan 2). Cetak hasilnya.\n",
    "4.  Gunakan `.iloc` untuk memilih data pada **baris terakhir** (posisi -1). Cetak hasilnya.\n",
    "5.  Gunakan `.iloc` untuk memilih data pada **baris pertama** (posisi 0) dan **kolom kedua** (posisi 1) saja. Cetak hasilnya (ini akan mengambil judul buku pertama)."
   ]
  },
  {
   "cell_type": "code",
   "execution_count": 10,
   "id": "a9362903",
   "metadata": {},
   "outputs": [
    {
     "name": "stdout",
     "output_type": "stream",
     "text": [
      "ID                   B001\n",
      "Judul      Laskar Pelangi\n",
      "Genre               Fiksi\n",
      "Terjual               150\n",
      "Name: 0, dtype: object\n",
      "     ID            Judul    Genre  Terjual\n",
      "0  B001   Laskar Pelangi    Fiksi      150\n",
      "1  B002     Bumi Manusia  Sejarah      120\n",
      "2  B003  Negeri 5 Menara    Fiksi      135\n",
      "ID                  B004\n",
      "Judul      Perahu Kertas\n",
      "Genre           Romantis\n",
      "Terjual              110\n",
      "Name: 3, dtype: object\n",
      "Laskar Pelangi\n"
     ]
    }
   ],
   "source": [
    "print(df_penjualan_5.iloc[0])\n",
    "print(df_penjualan_5.iloc[0:3])\n",
    "print(df_penjualan_5.iloc[-1])\n",
    "print(df_penjualan_5.iloc[0, 1])"
   ]
  },
  {
   "cell_type": "markdown",
   "id": "0b42db37",
   "metadata": {},
   "source": [
    "### **Soal 9: Filtering Data Berdasarkan Kondisi**\n",
    "\n",
    "**Konteks:**\n",
    "Sebagai seorang analis, tugas Anda yang paling umum adalah mem-filter data untuk menemukan *insight*. Anda ingin menemukan semua buku fiksi yang penjualannya di atas 130 unit dari DataFrame penjualan.\n",
    "\n",
    "**Tugas:**\n",
    "\n",
    "1.  Gunakan DataFrame `df_penjualan_5` yang asli.\n",
    "2.  Buatlah sebuah *boolean Series* (Series yang hanya berisi `True`/`False`) yang menandakan apakah nilai di kolom `\"Genre\"` adalah `\"Fiksi\"`.\n",
    "3.  Buat *boolean Series* kedua yang menandakan apakah nilai di kolom `\"Terjual\"` lebih besar dari `130`.\n",
    "4.  Gabungkan kedua kondisi tersebut menggunakan operator logika `&` (AND) untuk membuat satu *boolean mask* akhir.\n",
    "5.  Gunakan *mask* tersebut untuk mem-filter `df_penjualan_5` dan menampilkan hanya baris-baris yang memenuhi kedua kondisi tersebut. Cetak hasilnya."
   ]
  },
  {
   "cell_type": "code",
   "execution_count": 12,
   "id": "abd0588c",
   "metadata": {},
   "outputs": [
    {
     "name": "stdout",
     "output_type": "stream",
     "text": [
      "     ID            Judul  Genre  Terjual\n",
      "0  B001   Laskar Pelangi  Fiksi      150\n",
      "2  B003  Negeri 5 Menara  Fiksi      135\n"
     ]
    }
   ],
   "source": [
    "df_penjualan_5_fiksi = df_penjualan_5[\"Genre\"] == \"Fiksi\"\n",
    "df_penjualan_5_terjual_lebih_dari_30 = df_penjualan_5[\"Terjual\"] > 130\n",
    "\n",
    "df_penjualan_5_gabungan = df_penjualan_5_fiksi & df_penjualan_5_terjual_lebih_dari_30\n",
    "print(df_penjualan_5[df_penjualan_5_gabungan])"
   ]
  },
  {
   "cell_type": "markdown",
   "id": "34d30fa8",
   "metadata": {},
   "source": [
    "### **Soal 10: Mengubah Data Berdasarkan Kondisi dengan `.loc`**\n",
    "\n",
    "**Konteks:**\n",
    "Anda adalah manajer penjualan dan ingin memberikan bonus penjualan. Buku-buku dalam genre \"Fiksi\" yang terjual lebih dari 140 unit akan diberi status \"Best Seller\". Anda perlu menambahkan kolom baru di DataFrame untuk menandai status ini.\n",
    "\n",
    "**Tugas:**\n",
    "\n",
    "1.  Gunakan DataFrame `df_penjualan_5` yang asli. Pertama, tambahkan kolom baru bernama `\"Status\"` yang semua nilainya diisi dengan string `\"Normal\"`:\n",
    "    ```python\n",
    "    df_penjualan_5['Status'] = 'Normal'\n",
    "    ```\n",
    "2.  Buat *boolean mask* untuk menemukan baris di mana kolom `\"Genre\"` adalah `\"Fiksi\"` **DAN** kolom `\"Terjual\"` lebih besar dari `140`.\n",
    "3.  Gunakan `.loc` dengan *mask* yang baru Anda buat untuk memilih baris-baris yang sesuai dan **hanya kolom `\"Status\"`**.\n",
    "4.  Ubah nilai pada kolom `\"Status\"` untuk baris-baris yang telah Anda pilih menjadi `\"Best Seller\"`.\n",
    "5.  Cetak (*print*) keseluruhan DataFrame `df_penjualan_5` yang telah dimodifikasi untuk melihat hasilnya."
   ]
  },
  {
   "cell_type": "code",
   "execution_count": null,
   "id": "05d67144",
   "metadata": {},
   "outputs": [],
   "source": []
  },
  {
   "cell_type": "code",
   "execution_count": 29,
   "id": "e6e48f55",
   "metadata": {},
   "outputs": [
    {
     "name": "stdout",
     "output_type": "stream",
     "text": [
      "     ID            Judul     Genre  Terjual       Status\n",
      "0  B001   Laskar Pelangi     Fiksi      150  Best Seller\n",
      "1  B002     Bumi Manusia   Sejarah      120       Normal\n",
      "2  B003  Negeri 5 Menara     Fiksi      135       Normal\n",
      "3  B004    Perahu Kertas  Romantis      110       Normal\n"
     ]
    }
   ],
   "source": [
    "df_penjualan_5[\"Status\"] = \"Normal\"\n",
    "filtering = (df_penjualan_5[\"Genre\"] == \"Fiksi\") & (df_penjualan_5[\"Terjual\"] > 140)\n",
    "\n",
    "df_penjualan_5.loc[filtering, [\"Status\"]] = \"Best Seller\"\n",
    "print(df_penjualan_5)\n",
    "\n"
   ]
  }
 ],
 "metadata": {
  "kernelspec": {
   "display_name": "Python 3",
   "language": "python",
   "name": "python3"
  },
  "language_info": {
   "codemirror_mode": {
    "name": "ipython",
    "version": 3
   },
   "file_extension": ".py",
   "mimetype": "text/x-python",
   "name": "python",
   "nbconvert_exporter": "python",
   "pygments_lexer": "ipython3",
   "version": "3.12.10"
  }
 },
 "nbformat": 4,
 "nbformat_minor": 5
}
