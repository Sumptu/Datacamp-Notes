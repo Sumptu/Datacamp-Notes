{
 "cells": [
  {
   "cell_type": "markdown",
   "id": "7dd9be12",
   "metadata": {},
   "source": [
    "### **Soal 1: Membuat NumPy Array dari List**\n",
    "\n",
    "**Tugas:**\n",
    "\n",
    "1.  Impor library NumPy dengan alias `np`.\n",
    "2.  Buat sebuah *list* Python bernama `list_berat_badan_pasien` yang berisi 5 data berat badan (dalam kg): `[45, 55, 62, 71, 88]`.\n",
    "3.  Konversikan *list* tersebut menjadi sebuah NumPy *array* dengan nama `np_berat_badan_pasien_kg_1`.\n",
    "4.  Cetak `np_berat_badan_pasien_kg_1` ke layar."
   ]
  },
  {
   "cell_type": "code",
   "execution_count": 4,
   "id": "e9aeca03",
   "metadata": {},
   "outputs": [
    {
     "name": "stdout",
     "output_type": "stream",
     "text": [
      "[45 55 62 71 88]\n"
     ]
    }
   ],
   "source": [
    "import numpy as np\n",
    "\n",
    "list_berat_badan_pasien = [\n",
    "    45, \n",
    "    55,\n",
    "    62,\n",
    "    71,\n",
    "    88,\n",
    "]\n",
    "\n",
    "np_berat_badan_pasien_kg_1 = np.array(list_berat_badan_pasien)\n",
    "print(np_berat_badan_pasien_kg_1)"
   ]
  },
  {
   "cell_type": "markdown",
   "id": "fbfaeb77",
   "metadata": {},
   "source": [
    "### **Soal 2: Aritmetika dan Subsetting pada 1D Array**\n",
    "\n",
    "**Konteks:** Anda memiliki data berat badan pasien dalam kilogram dari soal sebelumnya. Sekarang, Anda perlu mengonversinya ke satuan pon (lbs) dan kemudian memilih pasien yang memenuhi kriteria berat tertentu.\n",
    "\n",
    "**Tugas:**\n",
    "\n",
    "1.  Gunakan *array* `np_berat_badan_pasien_kg_1` dari jawaban Anda sebelumnya.\n",
    "2.  Buatlah *array* baru bernama `np_berat_badan_pasien_lbs_2` dengan cara mengalikan setiap elemen di `np_berat_badan_pasien_kg_1` dengan `2.20462` untuk mengonversi berat dari kg ke pon.\n",
    "3.  Anda hanya tertarik pada pasien dengan berat di atas 150 pon. Buatlah *array* boolean yang bisa digunakan untuk memfilter nilai ini.\n",
    "4.  Gunakan *boolean array* tersebut untuk membuat *array* baru bernama `pasien_berat_diatas_150_lbs_2` yang hanya berisi berat badan pasien di atas 150 pon.\n",
    "5.  Cetak `pasien_berat_diatas_150_lbs_2` ke layar."
   ]
  },
  {
   "cell_type": "code",
   "execution_count": 5,
   "id": "63d5b902",
   "metadata": {},
   "outputs": [
    {
     "name": "stdout",
     "output_type": "stream",
     "text": [
      "[156.52802 194.00656]\n"
     ]
    }
   ],
   "source": [
    "np_berat_badan_pasien_lbs_2 = np_berat_badan_pasien_kg_1 * 2.20462\n",
    "pasien_berat_diatas_150_lbs_2 = np_berat_badan_pasien_lbs_2[np_berat_badan_pasien_lbs_2 > 150]\n",
    "print(pasien_berat_diatas_150_lbs_2)"
   ]
  },
  {
   "cell_type": "markdown",
   "id": "dc02d574",
   "metadata": {},
   "source": [
    "### **Soal 3: Membuat dan Subsetting Array 2D**\n",
    "\n",
    "**Konteks:** Bayangkan Anda sekarang memiliki data berat badan dari 5 pasien yang sama, tetapi diukur selama 3 hari berturut-turut. Data ini paling baik direpresentasikan dalam tabel atau array 2D.\n",
    "\n",
    "**Tugas:**\n",
    "\n",
    "1.  Diberikan sebuah *list* 2D (list di dalam list) bernama `data_pengukuran_harian_3`:\n",
    "    ```python\n",
    "    data_pengukuran_harian_3 = [\n",
    "        [70.1, 80.5, 65.8, 72.3, 90.2],  # Hari 1\n",
    "        [69.8, 80.1, 66.2, 71.9, 89.9],  # Hari 2\n",
    "        [70.3, 80.9, 66.0, 72.1, 90.5]   # Hari 3\n",
    "    ]\n",
    "    ```\n",
    "2.  Buatlah sebuah NumPy *array* 2D dari `data_pengukuran_harian_3` dan beri nama `np_pengukuran_harian_3`.\n",
    "3.  Cetak *shape* (bentuk/dimensi) dari `np_pengukuran_harian_3` untuk memverifikasi ukurannya.\n",
    "4.  Anda perlu mengambil data pengukuran **pasien ketiga** pada **hari kedua**. Ingat, indeks di Python dimulai dari 0. Simpan nilai ini dalam variabel `pasien_ketiga_hari_kedua_3`.\n",
    "5.  Cetak nilai dari variabel `pasien_ketiga_hari_kedua_3`."
   ]
  },
  {
   "cell_type": "code",
   "execution_count": 6,
   "id": "60f7d45b",
   "metadata": {},
   "outputs": [
    {
     "name": "stdout",
     "output_type": "stream",
     "text": [
      "(3, 5)\n",
      "66.2\n"
     ]
    }
   ],
   "source": [
    "data_pengukuran_harian_3 = [\n",
    "    [70.1, 80.5, 65.8, 72.3, 90.2],  # Hari 1\n",
    "    [69.8, 80.1, 66.2, 71.9, 89.9],  # Hari 2\n",
    "    [70.3, 80.9, 66.0, 72.1, 90.5]   # Hari 3\n",
    "]\n",
    "\n",
    "np_pengukuran_harian_3 = np.array(data_pengukuran_harian_3)\n",
    "print(np_pengukuran_harian_3.shape)\n",
    "\n",
    "pasien_ketiga_hari_kedua_3 = np_pengukuran_harian_3[1, 2]\n",
    "print(pasien_ketiga_hari_kedua_3)"
   ]
  },
  {
   "cell_type": "markdown",
   "id": "c89dadcd",
   "metadata": {},
   "source": [
    "### **Soal 4: Slicing 2D Array dan NumPy Side Effect**\n",
    "\n",
    "**Konteks:** Dengan menggunakan data pengukuran harian yang sama, kali ini Anda tidak hanya mengambil satu data, tetapi seluruh baris atau kolom data. Kemudian, kita akan melihat apa yang terjadi jika kita mengubah data hasil *slicing* tersebut.\n",
    "\n",
    "**Tugas:**\n",
    "\n",
    "1.  Gunakan kembali array `np_pengukuran_harian_3` dari soal sebelumnya.\n",
    "2.  Pilih **semua data** dari **hari pertama** (baris pertama) dan simpan dalam variabel `data_hari_pertama_4`.\n",
    "3.  Pilih **semua data** dari **pasien kelima** (kolom terakhir) dan simpan dalam variabel `data_pasien_kelima_4`.\n",
    "4.  Cetak `data_hari_pertama_4` dan `data_pasien_kelima_4` untuk memeriksa hasilnya.\n",
    "5.  Sekarang, untuk melihat \"side effect\":\n",
    "    * Buat sebuah *slice* baru yang berisi data dari **hari ketiga** (baris terakhir). Beri nama `slice_hari_ketiga_4`.\n",
    "    * Ubah nilai **pertama** dalam `slice_hari_ketiga_4` menjadi `999.9`.\n",
    "    * Cetak `slice_hari_ketiga_4` untuk melihat perubahannya.\n",
    "    * Cetak kembali array `np_pengukuran_harian_3` yang asli. **Amati dan perhatikan** apakah array asli ikut berubah."
   ]
  },
  {
   "cell_type": "code",
   "execution_count": 7,
   "id": "9bd214fb",
   "metadata": {},
   "outputs": [
    {
     "name": "stdout",
     "output_type": "stream",
     "text": [
      "[70.1 80.5 65.8 72.3 90.2]\n",
      "[90.2 89.9 90.5]\n",
      "[999.9  80.9  66.   72.1  90.5]\n",
      "[[ 70.1  80.5  65.8  72.3  90.2]\n",
      " [ 69.8  80.1  66.2  71.9  89.9]\n",
      " [999.9  80.9  66.   72.1  90.5]]\n"
     ]
    }
   ],
   "source": [
    "data_hari_pertama_4 = np_pengukuran_harian_3[0]\n",
    "data_pasien_kelima_4 = np_pengukuran_harian_3[:, 4]\n",
    "print(data_hari_pertama_4)\n",
    "print(data_pasien_kelima_4)\n",
    "\n",
    "slice_hari_ketiga_4 = np_pengukuran_harian_3[2]\n",
    "slice_hari_ketiga_4[0] = 999.9\n",
    "print(slice_hari_ketiga_4)\n",
    "print(np_pengukuran_harian_3)"
   ]
  },
  {
   "cell_type": "markdown",
   "id": "720c687e",
   "metadata": {},
   "source": [
    "### **Soal 5: Aritmetika 2D dan Statistik Dasar**\n",
    "\n",
    "**Konteks:** Tim medis ingin menganalisis data pengukuran harian. Mereka perlu menghitung rata-rata berat badan semua pasien per hari dan juga data spesifik per pasien. Selain itu, mereka ingin membandingkan nilai rata-rata (*mean*) dengan nilai tengah (*median*) untuk melihat apakah ada data pencilan (outlier).\n",
    "\n",
    "**Tugas:**\n",
    "\n",
    "1.  Gunakan array `np_pengukuran_harian_3` dari soal sebelumnya (yang salah satu nilainya telah Anda ubah menjadi `999.9`).\n",
    "2.  Hitung berat **rata-rata (mean)** dari **semua pasien** untuk **setiap hari**. Simpan hasilnya dalam variabel `rata_rata_harian_5`. *Hint: Pikirkan tentang axis (sumbu) yang benar untuk perhitungan ini.*\n",
    "3.  Hitung berat **median** dari **pasien pertama** (kolom pertama) di semua hari. Simpan hasilnya dalam variabel `median_pasien_pertama_5`.\n",
    "4.  Cetak `rata_rata_harian_5` dan `median_pasien_pertama_5` beserta teks deskriptif yang jelas.\n",
    "5.  Sebagai analisis singkat, jawab pertanyaan ini dalam bentuk komentar di kode Anda: \"Melihat nilai `999.9` yang menjadi outlier, manakah yang lebih representatif untuk data pasien pertama, `mean` atau `median`? Jelaskan secara singkat.\""
   ]
  },
  {
   "cell_type": "code",
   "execution_count": 8,
   "id": "e7fc4da8",
   "metadata": {},
   "outputs": [
    {
     "name": "stdout",
     "output_type": "stream",
     "text": [
      "[ 75.78  75.58 261.88]\n",
      "70.1\n"
     ]
    }
   ],
   "source": [
    "rata_rata_harian_5 = np.mean(np_pengukuran_harian_3, axis=1)\n",
    "median_pasien_pertama_5 = np.median(np_pengukuran_harian_3[:, 0], axis=0)\n",
    "print(rata_rata_harian_5)\n",
    "print(median_pasien_pertama_5)\n",
    "\n",
    "# Yang lebih bagus digunakan adalah median karena tidak terpengaruh oleh nilai ekstrim"
   ]
  },
  {
   "cell_type": "markdown",
   "id": "b69f2069",
   "metadata": {},
   "source": [
    "### **Soal 6: Kombinasi Aritmetika dan Filtering**\n",
    "\n",
    "**Konteks:** Sebuah protokol baru menyatakan bahwa setiap pengukuran berat badan di bawah 70 kg dianggap sebagai \"under-observation\" dan perlu ditandai. Selain itu, untuk keperluan laporan, semua data perlu dikonversi ke satuan ons (1 kg = 35.274 ons).\n",
    "\n",
    "**Tugas:**\n",
    "\n",
    "1.  Gunakan kembali array `np_pengukuran_harian_3` dari soal sebelumnya.\n",
    "2.  Buatlah *copy* (salinan) dari `np_pengukuran_harian_3` dan beri nama `np_pengukuran_ons_6`. Ini penting agar array asli tidak berubah. *Hint: Gunakan method `.copy()`.*\n",
    "3.  Konversi semua nilai di `np_pengukuran_ons_6` dari kilogram menjadi ons dengan mengalikannya dengan `35.274`.\n",
    "4.  Gunakan array `np_pengukuran_harian_3` (yang dalam kg), buatlah *boolean array* bernama `dibawah_70kg_6` yang bernilai `True` untuk setiap pengukuran di bawah 70 kg.\n",
    "5.  Gunakan `dibawah_70kg_6` untuk menampilkan **hanya nilai-nilai (dalam ons)** dari `np_pengukuran_ons_6` yang berat aslinya di bawah 70 kg.\n",
    "6.  Cetak hasilnya."
   ]
  },
  {
   "cell_type": "code",
   "execution_count": 9,
   "id": "f4313d4b",
   "metadata": {},
   "outputs": [
    {
     "name": "stdout",
     "output_type": "stream",
     "text": [
      "[2321.0292 2462.1252 2335.1388 2328.084 ]\n",
      "[[ 2472.7074  2839.557   2321.0292  2550.3102  3181.7148]\n",
      " [ 2462.1252  2825.4474  2335.1388  2536.2006  3171.1326]\n",
      " [35270.4726  2853.6666  2328.084   2543.2554  3192.297 ]]\n"
     ]
    }
   ],
   "source": [
    "np_pengukuran_ons_6 = np.copy(np_pengukuran_harian_3)\n",
    "np_pengukuran_ons_6 *= 35.274\n",
    "\n",
    "dibawah_70kg_6 = np_pengukuran_ons_6[np_pengukuran_harian_3 < 70]\n",
    "\n",
    "\n",
    "print(dibawah_70kg_6)\n",
    "print(np_pengukuran_ons_6)"
   ]
  },
  {
   "cell_type": "markdown",
   "id": "f44edd17",
   "metadata": {},
   "source": [
    "### **Soal 7: Agregasi Data Pasien (Sum, Min, Max)**\n",
    "\n",
    "**Konteks:** Tim riset ingin melihat rangkuman data untuk setiap pasien selama periode observasi. Mereka butuh total, nilai terendah, dan nilai tertinggi dari berat badan yang tercatat untuk masing-masing pasien.\n",
    "\n",
    "**Tugas:**\n",
    "\n",
    "1.  Gunakan kembali array `np_pengukuran_harian_3` (yang dalam satuan kg dan memiliki satu outlier).\n",
    "2.  Hitung **total berat badan (jumlah)** untuk **setiap pasien** di semua hari. Simpan hasilnya di variabel `total_berat_per_pasien_7`.\n",
    "3.  Cari berat badan **terendah** yang pernah tercatat untuk **setiap pasien**. Simpan hasilnya di `berat_terendah_per_pasien_7`.\n",
    "4.  Cari berat badan **tertinggi** yang pernah tercatat untuk **setiap pasien**. Simpan hasilnya di `berat_tertinggi_per_pasien_7`.\n",
    "5.  Cetak ketiga variabel hasil tersebut dengan label yang jelas untuk membedakannya.\n",
    "    *Hint: Anda akan melakukan agregasi secara vertikal (per kolom). Pikirkan `axis` mana yang tepat untuk ini.*"
   ]
  },
  {
   "cell_type": "code",
   "execution_count": 10,
   "id": "9b0d5fc5",
   "metadata": {},
   "outputs": [
    {
     "name": "stdout",
     "output_type": "stream",
     "text": [
      "Total berat setiap pasien di semua hari: [1139.8  241.5  198.   216.3  270.6]\n",
      "Berat terendah setiap pasien : [69.8 80.1 65.8 71.9 89.9]\n",
      "Berat tertinggi setiap pasien : [999.9  80.9  66.2  72.3  90.5]\n"
     ]
    }
   ],
   "source": [
    "total_berat_per_pasien_7 = np.sum(np_pengukuran_harian_3, axis=0)\n",
    "berat_terendah_per_pasien_7 = np.min(np_pengukuran_harian_3, axis=0)\n",
    "berat_tertinggi_per_pasien_7 = np.max(np_pengukuran_harian_3, axis=0)\n",
    "\n",
    "print(f\"Total berat setiap pasien di semua hari: {total_berat_per_pasien_7}\")\n",
    "print(f\"Berat terendah setiap pasien : {berat_terendah_per_pasien_7}\")\n",
    "print(f\"Berat tertinggi setiap pasien : {berat_tertinggi_per_pasien_7}\")\n",
    "\n",
    "\n"
   ]
  },
  {
   "cell_type": "markdown",
   "id": "f8e524d9",
   "metadata": {},
   "source": [
    "### **Soal 8: Menggabungkan Array dan Analisis Stabilitas**\n",
    "\n",
    "**Konteks:** Data untuk satu pasien baru telah tiba. Anda perlu menambahkan data ini ke dalam set data utama. Setelah itu, tim medis ingin mengetahui pasien mana yang memiliki berat badan paling stabil selama periode observasi. Stabilitas dapat diukur dengan **standar deviasi**: semakin kecil standar deviasinya, semakin stabil datanya.\n",
    "\n",
    "**Tugas:**\n",
    "\n",
    "1.  Gunakan kembali `np_pengukuran_harian_3` (dalam kg).\n",
    "2.  Data pasien baru selama 3 hari adalah `[75.0, 74.5, 75.3]`. Buatlah `array` NumPy 2D dari data ini yang bisa digabungkan dengan `np_pengukuran_harian_3`. *Hint: Agar bisa digabung secara horizontal, array baru ini harus memiliki 3 baris dan 1 kolom.*\n",
    "3.  Gunakan `np.hstack()` untuk menggabungkan `np_pengukuran_harian_3` dengan `array` pasien baru. Simpan hasilnya dalam `np_pengukuran_lengkap_8`.\n",
    "4.  Hitung **standar deviasi** (menggunakan `np.std`) dari berat badan untuk **setiap pasien** pada `np_pengukuran_lengkap_8`. Simpan hasilnya di `deviasi_per_pasien_8`.\n",
    "5.  Gunakan `np.argmin()` pada `deviasi_per_pasien_8` untuk menemukan **indeks** dari pasien yang paling stabil (yang memiliki standar deviasi terendah). Simpan di `indeks_pasien_stabil_8`.\n",
    "6.  Cetak `indeks_pasien_stabil_8` dengan pesan yang jelas."
   ]
  },
  {
   "cell_type": "code",
   "execution_count": 16,
   "id": "ae19d86e",
   "metadata": {},
   "outputs": [
    {
     "name": "stdout",
     "output_type": "stream",
     "text": [
      "Pasien stabil adalah pasien ke-4\n"
     ]
    }
   ],
   "source": [
    "data_pasien_baru = np.array([\n",
    "    [75.0],\n",
    "    [74.5],\n",
    "    [75.3],\n",
    "])\n",
    "\n",
    "np_pengukuran_lengkap_8 = np.hstack((data_pengukuran_harian_3, data_pasien_baru))\n",
    "deviasi_per_pasien_8 = np.std(np_pengukuran_lengkap_8, axis=0)\n",
    "indeks_pasien_stabil_8 = np.argmin(deviasi_per_pasien_8)\n",
    "print(f\"Pasien stabil adalah pasien ke-{indeks_pasien_stabil_8 + 1}\")"
   ]
  },
  {
   "cell_type": "markdown",
   "id": "a7ef253c",
   "metadata": {},
   "source": [
    "### **Soal 9: Logika Kondisional dengan `np.where()`**\n",
    "\n",
    "**Konteks:** Tim medis ingin membuat laporan cepat tentang pasien mana yang menunjukkan \"progres positif\". Progres positif didefinisikan sebagai peningkatan berat badan antara hari pertama dan hari terakhir pengukuran. Anda perlu membuat sebuah array yang menunjukkan nilai peningkatan ini, tetapi hanya jika nilainya positif, jika tidak, tampilkan nol.\n",
    "\n",
    "**Tugas:**\n",
    "\n",
    "1.  Gunakan array `np_pengukuran_lengkap_8` (ukuran 3x6) dari soal sebelumnya.\n",
    "2.  Buat sebuah array 1D baru bernama `peningkatan_berat_9` yang berisi selisih berat badan antara hari terakhir (baris terakhir) dan hari pertama (baris pertama) untuk setiap pasien.\n",
    "3.  Gunakan `np.where()` untuk membuat array `laporan_peningkatan_9`. Logikanya adalah:\n",
    "    * **Jika** nilai dalam `peningkatan_berat_9` lebih besar dari 0,\n",
    "    * **Maka** gunakan nilai `peningkatan_berat_9` tersebut.\n",
    "    * **Jika tidak**, gunakan nilai `0`.\n",
    "4.  Cetak `laporan_peningkatan_9` untuk menampilkan hasilnya."
   ]
  },
  {
   "cell_type": "code",
   "execution_count": 21,
   "id": "a76f68c2",
   "metadata": {},
   "outputs": [
    {
     "name": "stdout",
     "output_type": "stream",
     "text": [
      "[0.2 0.4 0.2 0.  0.3 0.3]\n"
     ]
    }
   ],
   "source": [
    "peningkatan_berat_9 = np.array(np_pengukuran_lengkap_8[2] - np_pengukuran_lengkap_8[0])\n",
    "laporan_peningkatan_9 = np.where(peningkatan_berat_9 > 0, peningkatan_berat_9, 0)\n",
    "print(laporan_peningkatan_9)\n"
   ]
  },
  {
   "cell_type": "markdown",
   "id": "fb74fdc6",
   "metadata": {},
   "source": [
    "### **Soal 10: Analisis Risiko dengan Kondisi Logika Gabungan**\n",
    "\n",
    "**Konteks:** Tim medis menetapkan kriteria \"pasien berisiko tinggi\". Seorang pasien dianggap berisiko jika memenuhi **salah satu** dari dua kondisi berikut:\n",
    "1.  Berat badannya **pernah** tercatat di atas 90 kg.\n",
    "2.  Berat badan di hari terakhir **lebih rendah** dari hari pertama.\n",
    "\n",
    "Anda perlu menghitung berapa banyak pasien yang masuk dalam kategori ini.\n",
    "\n",
    "**Tugas:**\n",
    "\n",
    "1.  Gunakan kembali array `np_pengukuran_lengkap_8` (ukuran 3x6).\n",
    "2.  Buat *boolean array* 1D bernama `pernah_diatas_90kg_10`. Nilainya `True` untuk setiap pasien (kolom) yang memiliki **setidaknya satu** pengukuran > 90 kg. *Hint: Gunakan `(... > 90).any(axis=0)`*.\n",
    "3.  Buat *boolean array* 1D bernama `mengalami_penurunan_10`. Nilainya `True` untuk pasien yang beratnya di hari terakhir < hari pertama.\n",
    "4.  Gunakan operator logika `|` (OR) untuk menggabungkan dua *boolean array* di atas menjadi satu *mask* akhir bernama `pasien_berisiko_tinggi_10`.\n",
    "5.  Hitung **jumlah** pasien berisiko tinggi dengan menjumlahkan nilai `True` pada *mask* akhir. *Hint: `np.sum()` pada boolean array akan menghitung jumlah `True`.*\n",
    "6.  Cetak jumlah pasien berisiko tinggi dengan pesan yang jelas."
   ]
  },
  {
   "cell_type": "code",
   "execution_count": null,
   "id": "8b89168f",
   "metadata": {},
   "outputs": [
    {
     "name": "stdout",
     "output_type": "stream",
     "text": [
      "Jumlah pasien berisiko tinggi adalah 2\n",
      "[[False False False  True False False]]\n"
     ]
    }
   ],
   "source": [
    "pernah_diatas_90kg_10 = np.array([(np_pengukuran_lengkap_8 > 90).any(axis=0)])\n",
    "mengalami_penurunan_10 = np.array([np_pengukuran_lengkap_8[2] < np_pengukuran_lengkap_8[0]])\n",
    "pasien_berisiko_tinggi_10 = pernah_diatas_90kg_10 | mengalami_penurunan_10\n",
    "np.sum(pasien_berisiko_tinggi_10)\n",
    "print(f\"Jumlah pasien berisiko tinggi adalah {np.sum(pasien_berisiko_tinggi_10)}\")\n"
   ]
  }
 ],
 "metadata": {
  "kernelspec": {
   "display_name": "Python 3",
   "language": "python",
   "name": "python3"
  },
  "language_info": {
   "codemirror_mode": {
    "name": "ipython",
    "version": 3
   },
   "file_extension": ".py",
   "mimetype": "text/x-python",
   "name": "python",
   "nbconvert_exporter": "python",
   "pygments_lexer": "ipython3",
   "version": "3.12.10"
  }
 },
 "nbformat": 4,
 "nbformat_minor": 5
}
