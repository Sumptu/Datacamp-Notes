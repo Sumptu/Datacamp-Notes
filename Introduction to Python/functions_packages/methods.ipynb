{
 "cells": [
  {
   "cell_type": "markdown",
   "id": "f6f5f35a",
   "metadata": {},
   "source": [
    "# METHODS"
   ]
  },
  {
   "cell_type": "markdown",
   "id": "065b1e3d",
   "metadata": {},
   "source": [
    "## Built-in functions\n",
    "- Maximum of list: max()\n",
    "- Length of list or string: len()\n",
    "- Get index in list: ?\n",
    "- Reversing a list: ?"
   ]
  },
  {
   "cell_type": "code",
   "execution_count": 19,
   "id": "70e0f105",
   "metadata": {},
   "outputs": [],
   "source": [
    "sister = \"liz\"\n",
    "# this is object\n",
    "# type str\n",
    "# example methods : capitalize(), replace()"
   ]
  },
  {
   "cell_type": "code",
   "execution_count": null,
   "id": "7b161c04",
   "metadata": {},
   "outputs": [],
   "source": []
  },
  {
   "cell_type": "code",
   "execution_count": 2,
   "id": "da9d3ced",
   "metadata": {},
   "outputs": [],
   "source": [
    "height = 1.73\n",
    "# this is object\n",
    "# type float\n",
    "# example methods : bit_length(), conjugate()\n"
   ]
  },
  {
   "cell_type": "code",
   "execution_count": null,
   "id": "8cad8b36",
   "metadata": {},
   "outputs": [],
   "source": [
    "fam = [\"lziz\", 1.73, \"emma\", 1.68, \"mom\", 1.71, \"dad\", 1.89]\n",
    "# this is object \n",
    "# type list\n",
    "# example methods : index(), count()"
   ]
  },
  {
   "cell_type": "markdown",
   "id": "371ec577",
   "metadata": {},
   "source": [
    "- Methods : functions that belong to objects"
   ]
  },
  {
   "cell_type": "markdown",
   "id": "528e1155",
   "metadata": {},
   "source": [
    "## list methods"
   ]
  },
  {
   "cell_type": "code",
   "execution_count": 4,
   "id": "fe047cc1",
   "metadata": {},
   "outputs": [
    {
     "name": "stdout",
     "output_type": "stream",
     "text": [
      "['liz', 1.73, 'emma', 1.68, 'mom', 1.71, 'dad', 1.89]\n"
     ]
    }
   ],
   "source": [
    "print(fam) # see what inside fam list"
   ]
  },
  {
   "cell_type": "code",
   "execution_count": 5,
   "id": "19e895e5",
   "metadata": {},
   "outputs": [
    {
     "name": "stdout",
     "output_type": "stream",
     "text": [
      "4\n"
     ]
    }
   ],
   "source": [
    "print(fam.index(\"mom\")) # Call method index() on fam list"
   ]
  },
  {
   "cell_type": "code",
   "execution_count": 6,
   "id": "2f8d1f29",
   "metadata": {},
   "outputs": [
    {
     "name": "stdout",
     "output_type": "stream",
     "text": [
      "1\n"
     ]
    }
   ],
   "source": [
    "print(fam.count(1.73)) # count the number of 1.73 in fam"
   ]
  },
  {
   "cell_type": "markdown",
   "id": "d827760c",
   "metadata": {},
   "source": [
    "## str methods\n"
   ]
  },
  {
   "cell_type": "code",
   "execution_count": 20,
   "id": "123c360f",
   "metadata": {},
   "outputs": [
    {
     "name": "stdout",
     "output_type": "stream",
     "text": [
      "liz\n"
     ]
    }
   ],
   "source": [
    "print(sister) # call variable sister before"
   ]
  },
  {
   "cell_type": "code",
   "execution_count": 21,
   "id": "3f8f59ae",
   "metadata": {},
   "outputs": [
    {
     "name": "stdout",
     "output_type": "stream",
     "text": [
      "Liz\n"
     ]
    }
   ],
   "source": [
    "print(sister.capitalize())"
   ]
  },
  {
   "cell_type": "code",
   "execution_count": 22,
   "id": "aed4233e",
   "metadata": {},
   "outputs": [
    {
     "name": "stdout",
     "output_type": "stream",
     "text": [
      "lisa\n"
     ]
    }
   ],
   "source": [
    "print(sister.replace(\"z\", \"sa\"))"
   ]
  },
  {
   "cell_type": "markdown",
   "id": "8fafbb65",
   "metadata": {},
   "source": [
    "## Methods\n",
    "- Everything in Python is an object and every object has methods depending on type"
   ]
  },
  {
   "cell_type": "code",
   "execution_count": 24,
   "id": "4b0d9cf7",
   "metadata": {},
   "outputs": [
    {
     "name": "stdout",
     "output_type": "stream",
     "text": [
      "lisa\n"
     ]
    }
   ],
   "source": [
    "print(sister.replace(\"z\", \"sa\"))"
   ]
  },
  {
   "cell_type": "code",
   "execution_count": null,
   "id": "639c87f3",
   "metadata": {},
   "outputs": [
    {
     "ename": "AttributeError",
     "evalue": "'list' object has no attribute 'replace'",
     "output_type": "error",
     "traceback": [
      "\u001b[1;31m---------------------------------------------------------------------------\u001b[0m",
      "\u001b[1;31mAttributeError\u001b[0m                            Traceback (most recent call last)",
      "Cell \u001b[1;32mIn[25], line 1\u001b[0m\n\u001b[1;32m----> 1\u001b[0m fam\u001b[38;5;241m.\u001b[39mreplace(\u001b[38;5;124m\"\u001b[39m\u001b[38;5;124mmom\u001b[39m\u001b[38;5;124m\"\u001b[39m, \u001b[38;5;124m\"\u001b[39m\u001b[38;5;124mmommy\u001b[39m\u001b[38;5;124m\"\u001b[39m)\n",
      "\u001b[1;31mAttributeError\u001b[0m: 'list' object has no attribute 'replace'"
     ]
    }
   ],
   "source": [
    "print(fam.replace(\"mom\", \"mommy\")) # example error"
   ]
  },
  {
   "cell_type": "code",
   "execution_count": 26,
   "id": "be0b9567",
   "metadata": {},
   "outputs": [
    {
     "name": "stdout",
     "output_type": "stream",
     "text": [
      "2\n"
     ]
    }
   ],
   "source": [
    "print(sister.index(\"z\"))"
   ]
  },
  {
   "cell_type": "code",
   "execution_count": 27,
   "id": "d65eb987",
   "metadata": {},
   "outputs": [
    {
     "name": "stdout",
     "output_type": "stream",
     "text": [
      "4\n"
     ]
    }
   ],
   "source": [
    "print(fam.index(\"mom\"))"
   ]
  },
  {
   "cell_type": "markdown",
   "id": "ed512884",
   "metadata": {},
   "source": [
    "## Methods (2)"
   ]
  },
  {
   "cell_type": "code",
   "execution_count": 28,
   "id": "3374cff9",
   "metadata": {},
   "outputs": [
    {
     "name": "stdout",
     "output_type": "stream",
     "text": [
      "['liz', 1.73, 'emma', 1.68, 'mom', 1.71, 'dad', 1.89]\n"
     ]
    }
   ],
   "source": [
    "print(fam)"
   ]
  },
  {
   "cell_type": "code",
   "execution_count": 29,
   "id": "76adac17",
   "metadata": {},
   "outputs": [
    {
     "name": "stdout",
     "output_type": "stream",
     "text": [
      "['liz', 1.73, 'emma', 1.68, 'mom', 1.71, 'dad', 1.89, 'me']\n"
     ]
    }
   ],
   "source": [
    "fam.append(\"me\")\n",
    "print(fam)"
   ]
  },
  {
   "cell_type": "code",
   "execution_count": 30,
   "id": "f06e5441",
   "metadata": {},
   "outputs": [
    {
     "name": "stdout",
     "output_type": "stream",
     "text": [
      "['liz', 1.73, 'emma', 1.68, 'mom', 1.71, 'dad', 1.89, 'me', 1.79]\n"
     ]
    }
   ],
   "source": [
    "fam.append(1.79)\n",
    "print(fam)"
   ]
  },
  {
   "cell_type": "markdown",
   "id": "87af559c",
   "metadata": {},
   "source": [
    "## Summary"
   ]
  },
  {
   "cell_type": "markdown",
   "id": "4efde79e",
   "metadata": {},
   "source": [
    "### Functions"
   ]
  },
  {
   "cell_type": "code",
   "execution_count": 31,
   "id": "0fe464af",
   "metadata": {},
   "outputs": [
    {
     "name": "stdout",
     "output_type": "stream",
     "text": [
      "<class 'list'>\n"
     ]
    }
   ],
   "source": [
    "print(type(fam))"
   ]
  },
  {
   "cell_type": "markdown",
   "id": "a490f05b",
   "metadata": {},
   "source": [
    "### Methods\n",
    "Call functions on objects."
   ]
  },
  {
   "cell_type": "code",
   "execution_count": 32,
   "id": "1e35e739",
   "metadata": {},
   "outputs": [
    {
     "data": {
      "text/plain": [
       "6"
      ]
     },
     "execution_count": 32,
     "metadata": {},
     "output_type": "execute_result"
    }
   ],
   "source": [
    "fam.index(\"dad\")"
   ]
  }
 ],
 "metadata": {
  "kernelspec": {
   "display_name": "tutorial_notebook",
   "language": "python",
   "name": "python3"
  },
  "language_info": {
   "codemirror_mode": {
    "name": "ipython",
    "version": 3
   },
   "file_extension": ".py",
   "mimetype": "text/x-python",
   "name": "python",
   "nbconvert_exporter": "python",
   "pygments_lexer": "ipython3",
   "version": "3.13.2"
  }
 },
 "nbformat": 4,
 "nbformat_minor": 5
}
