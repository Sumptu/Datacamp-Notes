{
 "cells": [
  {
   "cell_type": "markdown",
   "id": "4eea61bd",
   "metadata": {},
   "source": [
    "### **Soal 1 (Revisi): Kalkulasi Multi-Langkah dengan Tipe Data Berbeda**\n",
    "\n",
    "**Konteks:**\n",
    "Anda sedang membuat skrip untuk menghitung harga akhir sebuah produk setelah diberikan diskon. Perhitungan ini melibatkan beberapa tipe data dan langkah.\n",
    "\n",
    "**Tugas:**\n",
    "\n",
    "1.  Buat variabel `nama_produk_1` (string) dengan nilai `\"Keyboard Mekanikal\"`.\n",
    "2.  Buat variabel `harga_awal_1` (integer) dengan nilai `750000`.\n",
    "3.  Buat variabel `persen_diskon_1` (integer) dengan nilai `15`.\n",
    "4.  Hitung **jumlah diskon** dalam rupiah. Caranya: `(harga_awal_1 * persen_diskon_1) / 100`. Simpan hasilnya dalam variabel `jumlah_diskon_1`. Perhatikan tipe data dari hasil ini.\n",
    "5.  Hitung `harga_akhir_1` dengan mengurangkan `harga_awal_1` dengan `jumlah_diskon_1`.\n",
    "6.  Cetak hasilnya dalam satu kalimat menggunakan f-string dengan format berikut:\n",
    "    `\"Harga untuk Keyboard Mekanikal setelah diskon 15% adalah Rp [harga_akhir]\"`"
   ]
  },
  {
   "cell_type": "code",
   "execution_count": 1,
   "id": "66d19937",
   "metadata": {},
   "outputs": [
    {
     "name": "stdout",
     "output_type": "stream",
     "text": [
      "Harga untuk Keyboard Mekanikal setelah diskon 15% adalah Rp637500.0\n"
     ]
    }
   ],
   "source": [
    "nama_produk_1 = \"Keyboard Mekanikal\"\n",
    "harga_awal_1 = 750000\n",
    "persen_diskon_1 = 15\n",
    "\n",
    "jumlah_diskon_1 = (harga_awal_1 * persen_diskon_1) / 100\n",
    "harga_akhir_1 = harga_awal_1 - jumlah_diskon_1\n",
    "print(f\"Harga untuk {nama_produk_1} setelah diskon {persen_diskon_1}% adalah Rp{harga_akhir_1}\")"
   ]
  },
  {
   "cell_type": "markdown",
   "id": "6fb793aa",
   "metadata": {},
   "source": [
    "### **Soal 2: Operasi dengan Tipe Data Berbeda dan Konversi Tipe**\n",
    "\n",
    "**Konteks:**\n",
    "Anda sedang membuat ringkasan profil untuk seorang pengguna. Anda memiliki nama, umur, dan tinggi badannya, dan Anda perlu menggabungkannya menjadi satu kalimat perkenalan.\n",
    "\n",
    "**Tugas:**\n",
    "\n",
    "1.  Buat variabel `nama_pengguna_2` (string) dengan nilai `\"Alex\"`.\n",
    "2.  Buat variabel `umur_pengguna_2` (integer) dengan nilai `28`.\n",
    "3.  Buat variabel `tinggi_meter_2` (float) dengan nilai `1.75`.\n",
    "4.  Buat sebuah string baru bernama `kalimat_perkenalan_2`.\n",
    "5.  String ini harus menggabungkan ketiga variabel di atas untuk menghasilkan output: `\"Nama saya Alex, umur saya 28 tahun, dan tinggi saya 1.75 meter.\"`\n",
    "6.  **Tantangan**: Lakukan ini dengan menggunakan operator `+` untuk menggabungkan string. Anda perlu secara eksplisit mengubah tipe data `umur_pengguna_2` dan `tinggi_meter_2` menjadi string sebelum menggabungkannya.\n",
    "7.  Cetak variabel `kalimat_perkenalan_2`."
   ]
  },
  {
   "cell_type": "code",
   "execution_count": 3,
   "id": "b59d2b02",
   "metadata": {},
   "outputs": [
    {
     "name": "stdout",
     "output_type": "stream",
     "text": [
      "Nama saya Alex, umur saya 28 tahun, dan tinggi saya 1.75 meter\n"
     ]
    }
   ],
   "source": [
    "nama_pengguna_2 = \"Alex\"\n",
    "umur_pengguna_2 = 28\n",
    "tinggi_meter_2 = 1.75\n",
    "\n",
    "kalimat_perkenalan_2 = \"Nama saya \" + nama_pengguna_2 + \", umur saya \"  + str(umur_pengguna_2) + \" tahun, dan tinggi saya \" + str(tinggi_meter_2) + \" meter\"\n",
    "print(kalimat_perkenalan_2)\n"
   ]
  },
  {
   "cell_type": "markdown",
   "id": "b50bcf02",
   "metadata": {},
   "source": [
    "### **Soal 3: Kalkulasi Kompleks dan Urutan Operasi**\n",
    "\n",
    "**Konteks:**\n",
    "Anda adalah seorang analis kebugaran dan perlu menghitung Indeks Massa Tubuh (IMT atau BMI) seseorang. Rumus BMI adalah `berat / (tinggi * tinggi)`, di mana berat dalam kilogram dan tinggi dalam meter.\n",
    "\n",
    "**Tugas:**\n",
    "\n",
    "1.  Buat variabel `berat_kg_3` (float) dengan nilai `68.5`.\n",
    "2.  Buat variabel `tinggi_meter_3` (float) dengan nilai `1.75`.\n",
    "3.  Hitung kuadrat dari tinggi badan. Simpan hasilnya dalam variabel `tinggi_kuadrat_3`. Anda bisa menggunakan operator `**` untuk pemangkatan.\n",
    "4.  Hitung `bmi_3` dengan membagi `berat_kg_3` dengan `tinggi_kuadrat_3`.\n",
    "5.  Cetak hasilnya dalam format: `\"Dengan berat 68.5 kg dan tinggi 1.75 meter, BMI Anda adalah [nilai_bmi]\"`\n",
    "6.  **Tantangan Tambahan**: Coba cetak hasil `bmi_3` yang sudah dibulatkan menjadi **satu angka di belakang koma**. *Hint: Anda bisa menggunakan fungsi `round()`.*"
   ]
  },
  {
   "cell_type": "code",
   "execution_count": 8,
   "id": "da085645",
   "metadata": {},
   "outputs": [
    {
     "name": "stdout",
     "output_type": "stream",
     "text": [
      "Dengan berat 68.5 kg dan tinggi 1.75, BMI Anda adalah 22.4\n"
     ]
    }
   ],
   "source": [
    "berat_kg_3 = 68.5\n",
    "tinggi_meter_3 = 1.75\n",
    "\n",
    "tinggi_kuadrat_3 = tinggi_meter_3 ** 2\n",
    "bmi_3 = berat_kg_3 / tinggi_kuadrat_3\n",
    "print(f\"Dengan berat {berat_kg_3} kg dan tinggi {tinggi_meter_3}, BMI Anda adalah {round(bmi_3, 1)}\")"
   ]
  },
  {
   "cell_type": "markdown",
   "id": "4bb5d278",
   "metadata": {},
   "source": [
    "### **Soal 4: Manipulasi String dengan Method Bawaan**\n",
    "\n",
    "**Konteks:**\n",
    "Anda sedang membersihkan data nama pengguna yang tidak konsisten. Ada yang menggunakan huruf besar, ada yang kecil, dan ada yang mengandung karakter yang tidak diinginkan.\n",
    "\n",
    "**Tugas:**\n",
    "\n",
    "1.  Buat sebuah variabel string bernama `nama_kotor_4` dengan nilai `\"   alexander Graham bell   \"`. Perhatikan ada spasi ekstra di awal dan akhir.\n",
    "2.  Gunakan method string `.strip()` untuk menghapus spasi ekstra di awal dan akhir. Simpan hasilnya di `nama_bersih_4`.\n",
    "3.  Ubah `nama_bersih_4` menjadi **huruf besar semua** menggunakan method `.upper()`. Simpan hasilnya di `nama_kapital_4`.\n",
    "4.  Gantilah spasi di `nama_kapital_4` dengan tanda underscore (`_`) menggunakan method `.replace()`. Simpan hasilnya di `nama_final_4`.\n",
    "5.  Cetak ketiga hasil (`nama_bersih_4`, `nama_kapital_4`, dan `nama_final_4`) untuk melihat perubahannya di setiap langkah."
   ]
  },
  {
   "cell_type": "code",
   "execution_count": 17,
   "id": "f887af38",
   "metadata": {},
   "outputs": [
    {
     "name": "stdout",
     "output_type": "stream",
     "text": [
      "alexander Graham bell\n",
      "ALEXANDER GRAHAM BELL\n",
      "ALEXANDER_GRAHAM_BELL\n"
     ]
    }
   ],
   "source": [
    "nama_kotor_4 = \" alexander Graham bell \"\n",
    "nama_bersih_4 = nama_kotor_4.strip()\n",
    "nama_kapital_4 = nama_bersih_4.upper()\n",
    "nama_final_4 = nama_kapital_4.replace(\" \", \"_\")\n",
    "\n",
    "print(nama_bersih_4)\n",
    "print(nama_kapital_4)\n",
    "print(nama_final_4)"
   ]
  },
  {
   "cell_type": "markdown",
   "id": "775b2a76",
   "metadata": {},
   "source": [
    "### **Soal 5: Bekerja dengan List (Akses Indeks dan Slicing)**\n",
    "\n",
    "**Konteks:**\n",
    "Anda memiliki sebuah list yang berisi data penjualan harian selama seminggu. Anda perlu mengakses data penjualan pada hari tertentu dan juga mengambil data untuk akhir pekan.\n",
    "\n",
    "**Tugas:**\n",
    "\n",
    "1.  Buat sebuah **list** bernama `penjualan_mingguan_5` yang berisi 7 angka berikut:\n",
    "    ```python\n",
    "    [120, 135, 110, 140, 150, 200, 180] \n",
    "    # Anggap indeks 0 adalah Senin, dan indeks 6 adalah Minggu\n",
    "    ```\n",
    "2.  **Akses Indeks**:\n",
    "    * Akses dan cetak data penjualan untuk hari **Rabu** (ingat, indeks dimulai dari 0). Simpan nilainya di `penjualan_rabu_5`.\n",
    "3.  **Akses Indeks Negatif**:\n",
    "    * Akses dan cetak data penjualan untuk hari **terakhir** (Minggu) menggunakan indeks negatif. Simpan nilainya di `penjualan_minggu_5`.\n",
    "4.  **Slicing**:\n",
    "    * Buat sebuah sub-list yang hanya berisi data penjualan untuk akhir pekan (Sabtu dan Minggu). Simpan di `penjualan_akhir_pekan_5`.\n",
    "5.  Cetak ketiga variabel hasil tersebut (`penjualan_rabu_5`, `penjualan_minggu_5`, dan `penjualan_akhir_pekan_5`)."
   ]
  },
  {
   "cell_type": "code",
   "execution_count": 19,
   "id": "f37b52bb",
   "metadata": {},
   "outputs": [
    {
     "name": "stdout",
     "output_type": "stream",
     "text": [
      "110\n",
      "180\n",
      "[200, 180]\n"
     ]
    }
   ],
   "source": [
    "penjualan_mingguan_5 = [120, 135, 110, 140, 150, 200, 180]\n",
    "\n",
    "penjualan_rabu_5 = penjualan_mingguan_5[2]\n",
    "penjualan_minggu_5 = penjualan_mingguan_5[-1]\n",
    "penjualan_akhir_pekan_5 = penjualan_mingguan_5[5:]\n",
    "\n",
    "print(penjualan_rabu_5)\n",
    "print(penjualan_minggu_5)\n",
    "print(penjualan_akhir_pekan_5)"
   ]
  },
  {
   "cell_type": "markdown",
   "id": "52d34647",
   "metadata": {},
   "source": [
    "### **Soal 6: Manipulasi List dengan Method Bawaan**\n",
    "\n",
    "**Konteks:**\n",
    "Anda mengelola daftar tugas harian. Anda perlu menambahkan tugas baru di akhir daftar, menyelesaikan tugas pertama, dan menghapus tugas yang sudah selesai dari daftar.\n",
    "\n",
    "**Tugas:**\n",
    "\n",
    "1.  Buat sebuah **list** bernama `daftar_tugas_6` dengan tugas-tugas berikut:\n",
    "    ```python\n",
    "    [\"Mengecek email\", \"Rapat tim\", \"Mengerjakan laporan\"]\n",
    "    ```\n",
    "2.  Gunakan method `.append()` untuk **menambahkan** tugas baru `\"Menelpon klien\"` di akhir list.\n",
    "3.  Tugas pertama (\"Mengecek email\") sudah selesai. Gunakan method `.pop(0)` untuk **menghapus** elemen pertama dari list. Method ini juga akan mengembalikan nilai yang dihapus, jadi simpan hasilnya dalam variabel `tugas_selesai_6`.\n",
    "4.  Cetak `tugas_selesai_6` untuk menunjukkan tugas apa yang sudah selesai.\n",
    "5.  Cetak `daftar_tugas_6` yang sudah diperbarui untuk menunjukkan sisa tugas."
   ]
  },
  {
   "cell_type": "code",
   "execution_count": 20,
   "id": "a9774d03",
   "metadata": {},
   "outputs": [
    {
     "name": "stdout",
     "output_type": "stream",
     "text": [
      "Mengecek email\n",
      "['Rapat tim', 'Mengerjakan laporan', 'Menelpon klien']\n"
     ]
    }
   ],
   "source": [
    "daftar_tugas_6 = [\n",
    "    \"Mengecek email\",\n",
    "    \"Rapat tim\",\n",
    "    \"Mengerjakan laporan\",\n",
    "]\n",
    "\n",
    "daftar_tugas_6.append(\"Menelpon klien\")\n",
    "tugas_selesai_6 = daftar_tugas_6.pop(0)\n",
    "\n",
    "print(tugas_selesai_6)\n",
    "print(daftar_tugas_6)"
   ]
  },
  {
   "cell_type": "markdown",
   "id": "b7164ba1",
   "metadata": {},
   "source": [
    "### **Soal 7: Mengakses Elemen dalam List Bersarang (2D List)**\n",
    "\n",
    "**Konteks:**\n",
    "Anda memiliki data matriks atau grid sederhana yang direpresentasikan sebagai *list of lists*. Anda perlu mengambil nilai dari sel tertentu pada grid tersebut.\n",
    "\n",
    "**Tugas:**\n",
    "\n",
    "1.  Buat sebuah *list of lists* bernama `grid_data_7`:\n",
    "    ```python\n",
    "    grid_data_7 = [\n",
    "        [1, 2, 3],\n",
    "        [4, 5, 6],\n",
    "        [7, 8, 9]\n",
    "    ]\n",
    "    ```\n",
    "2.  Tujuan Anda adalah mengakses angka **6**. Angka ini berada di **baris kedua** (indeks 1) dan **kolom ketiga** (indeks 2) dari grid.\n",
    "3.  Gunakan **akses indeks berantai** untuk mengambil nilai tersebut. Simpan hasilnya dalam variabel `nilai_sel_7`.\n",
    "    * *Hint: Sintaksnya adalah `nama_list[indeks_baris][indeks_kolom]`.*\n",
    "4.  Cetak `nilai_sel_7`."
   ]
  },
  {
   "cell_type": "code",
   "execution_count": 21,
   "id": "728f7e72",
   "metadata": {},
   "outputs": [
    {
     "name": "stdout",
     "output_type": "stream",
     "text": [
      "6\n"
     ]
    }
   ],
   "source": [
    "grid_data_7 = [\n",
    "    [1, 2, 3],\n",
    "    [4, 5, 6],\n",
    "    [7, 8, 9],\n",
    "]\n",
    "\n",
    "nilai_sel_7 = grid_data_7[1][2]\n",
    "print(nilai_sel_7)"
   ]
  },
  {
   "cell_type": "markdown",
   "id": "d3a403d3",
   "metadata": {},
   "source": [
    "### **Soal 8: Menggabungkan List of Strings menjadi Satu String**\n",
    "\n",
    "**Konteks:**\n",
    "Anda memiliki sebuah list yang berisi kata-kata terpisah. Tugas Anda adalah menggabungkan kata-kata ini menjadi satu kalimat yang utuh, dengan setiap kata dipisahkan oleh spasi.\n",
    "\n",
    "**Tugas:**\n",
    "\n",
    "1.  Buat sebuah **list** bernama `kata_kata_8` yang berisi string berikut:\n",
    "    ```python\n",
    "    [\"Python\", \"itu\", \"sangat\", \"berguna\"]\n",
    "    ```\n",
    "2.  Gunakan method string `.join()` untuk menggabungkan semua elemen dalam list `kata_kata_8`.\n",
    "3.  Anda perlu memanggil method `.join()` pada string yang akan menjadi \"lem\" atau pemisahnya (dalam kasus ini, spasi: `\" \"`).\n",
    "    * *Hint: Sintaksnya adalah `pemisah.join(nama_list)`.*\n",
    "4.  Simpan hasil kalimat yang sudah digabung ke dalam variabel `kalimat_lengkap_8`.\n",
    "5.  Cetak `kalimat_lengkap_8`."
   ]
  },
  {
   "cell_type": "code",
   "execution_count": null,
   "id": "ccf0c140",
   "metadata": {},
   "outputs": [
    {
     "name": "stdout",
     "output_type": "stream",
     "text": [
      "Python Itu Sangat Berguna\n"
     ]
    }
   ],
   "source": [
    "kata_kata_8 = [\n",
    "    \"Python\",\n",
    "    \"Itu\",\n",
    "    \"Sangat\",\n",
    "    \"Berguna\",\n",
    "]\n",
    "\n",
    "pemisah = \" \"\n",
    "kalimat_lengkap_8 = pemisah.join(kata_kata_8)\n",
    "print(kalimat_lengkap_8)"
   ]
  },
  {
   "cell_type": "markdown",
   "id": "d4811f7a",
   "metadata": {},
   "source": [
    "### **Soal 9: Konversi Tipe Data dalam List dan `join`**\n",
    "\n",
    "**Konteks:**\n",
    "Anda memiliki sebuah list yang berisi informasi pesanan: nama item, jumlah, dan harga. Semua data ini disimpan dalam berbagai tipe (string, integer, float). Anda ingin membuat satu string ringkasan dari list ini.\n",
    "\n",
    "**Tugas:**\n",
    "\n",
    "1.  Buat sebuah **list** bernama `data_pesanan_9` yang berisi tipe data campuran:\n",
    "    ```python\n",
    "    data_pesanan_9 = [\"Kopi\", 2, 25000.50]\n",
    "    ```\n",
    "2.  Karena method `.join()` hanya bisa bekerja pada list yang semua elemennya adalah string, Anda perlu mengonversi semua elemen di `data_pesanan_9` menjadi string terlebih dahulu.\n",
    "    * **Tantangan**: Lakukan ini dalam satu baris menggunakan **list comprehension**. Buat sebuah list baru bernama `data_pesanan_str_9`.\n",
    "    * *Hint: Sintaksnya adalah `[str(item) for item in nama_list]`.*\n",
    "3.  Gunakan method `.join()` untuk menggabungkan semua elemen di `data_pesanan_str_9`. Gunakan `\", \"` (koma dan spasi) sebagai pemisah.\n",
    "4.  Simpan hasilnya dalam variabel `ringkasan_pesanan_9`.\n",
    "5.  Cetak `ringkasan_pesanan_9`."
   ]
  },
  {
   "cell_type": "code",
   "execution_count": 24,
   "id": "e6ef9ead",
   "metadata": {},
   "outputs": [
    {
     "name": "stdout",
     "output_type": "stream",
     "text": [
      "Kopi, 2, 25000.5\n"
     ]
    }
   ],
   "source": [
    "data_pesanan_9 = [\"Kopi\", 2, 25000.50]\n",
    "\n",
    "data_pesanan_str_9 = [str(item) for item in data_pesanan_9]\n",
    "pemisah = \", \"\n",
    "\n",
    "ringkasan_pesanan_9 = pemisah.join(data_pesanan_str_9)\n",
    "print(ringkasan_pesanan_9)"
   ]
  },
  {
   "cell_type": "markdown",
   "id": "0939c5ab",
   "metadata": {},
   "source": [
    "### **Soal 10: Slicing, Manipulasi, dan Penggabungan List**\n",
    "\n",
    "**Konteks:**\n",
    "Anda memiliki daftar nama peserta, namun nama ketua tim (nama pertama) harus ditulis dalam huruf kapital untuk menyorotnya. Anda perlu membuat daftar final di mana nama ketua sudah diubah dan daftar tersebut digabungkan kembali.\n",
    "\n",
    "**Tugas:**\n",
    "\n",
    "1.  Buat sebuah **list** bernama `peserta_tim_10`:\n",
    "    ```python\n",
    "    peserta_tim_10 = [\"budi\", \"citra\", \"doni\", \"eka\"]\n",
    "    ```\n",
    "2.  **Slicing**:\n",
    "    * Buat sebuah list baru `ketua_tim_10` yang hanya berisi elemen pertama dari `peserta_tim_10`.\n",
    "    * Buat sebuah list baru `anggota_tim_10` yang berisi semua elemen **kecuali** yang pertama.\n",
    "3.  **Manipulasi**:\n",
    "    * Ubah nama di dalam `ketua_tim_10` menjadi huruf kapital semua. *Hint: Anda perlu mengakses elemen pertama (`[0]`) di dalam list `ketua_tim_10` lalu menggunakan `.upper()`.*\n",
    "4.  **Penggabungan**:\n",
    "    * Gabungkan kembali `ketua_tim_10` yang sudah diubah dengan `anggota_tim_10` untuk membuat `daftar_final_10`. Gunakan operator `+`.\n",
    "5.  Cetak `daftar_final_10`."
   ]
  },
  {
   "cell_type": "code",
   "execution_count": 42,
   "id": "77a1dd4e",
   "metadata": {},
   "outputs": [
    {
     "name": "stdout",
     "output_type": "stream",
     "text": [
      "['BUDI', 'citra', 'doni', 'eka']\n"
     ]
    }
   ],
   "source": [
    "peserta_tim_10 = [\n",
    "    \"budi\",\n",
    "    \"citra\",\n",
    "    \"doni\",\n",
    "    \"eka\",\n",
    "]\n",
    "\n",
    "ketua_tim_10 = peserta_tim_10[0:1]\n",
    "anggota_tim_10 = peserta_tim_10[1:]\n",
    "\n",
    "ketua_tim_10[0] = ketua_tim_10[0].upper()\n",
    "daftar_final_10 = ketua_tim_10 + anggota_tim_10\n",
    "\n",
    "print(daftar_final_10)"
   ]
  },
  {
   "cell_type": "code",
   "execution_count": null,
   "id": "6bc6cb42",
   "metadata": {},
   "outputs": [],
   "source": []
  }
 ],
 "metadata": {
  "kernelspec": {
   "display_name": "Python 3",
   "language": "python",
   "name": "python3"
  },
  "language_info": {
   "codemirror_mode": {
    "name": "ipython",
    "version": 3
   },
   "file_extension": ".py",
   "mimetype": "text/x-python",
   "name": "python",
   "nbconvert_exporter": "python",
   "pygments_lexer": "ipython3",
   "version": "3.12.10"
  }
 },
 "nbformat": 4,
 "nbformat_minor": 5
}
