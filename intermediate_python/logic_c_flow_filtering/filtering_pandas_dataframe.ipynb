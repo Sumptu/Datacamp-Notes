{
 "cells": [
  {
   "cell_type": "markdown",
   "id": "10b6b452",
   "metadata": {},
   "source": [
    "# brics dataset"
   ]
  },
  {
   "cell_type": "code",
   "execution_count": 1,
   "id": "2465d04a",
   "metadata": {},
   "outputs": [
    {
     "name": "stdout",
     "output_type": "stream",
     "text": [
      "         country    capital    area  population\n",
      "BR        Brazil   Brasilia   8.516      200.40\n",
      "RU        Russia     Moscow  17.100      143.50\n",
      "IN         India  New Delhi   3.286     1252.00\n",
      "CH         China    Beijing   9.597     1357.00\n",
      "SA  South Africa   Pretoria   1.221       52.98\n"
     ]
    }
   ],
   "source": [
    "import pandas as pd\n",
    "\n",
    "brics = pd.read_csv('https://assets.datacamp.com/production/repositories/287/datasets/b60fb5bdbeb4e4ab0545c485d351e6ff5428a155/brics.csv', index_col=0)\n",
    "print(brics)"
   ]
  },
  {
   "cell_type": "markdown",
   "id": "afa6b23c",
   "metadata": {},
   "source": [
    "# Goal\n",
    "- Select countries with area over 8 million km^2\n",
    "- 3 steps\n",
    "    - Select the area column\n",
    "    - Do comparison on area column\n",
    "    - Use result to select countries"
   ]
  },
  {
   "cell_type": "markdown",
   "id": "64fcf35f",
   "metadata": {},
   "source": [
    "# Step 1: Get column"
   ]
  },
  {
   "cell_type": "code",
   "execution_count": 4,
   "id": "1d0b6109",
   "metadata": {},
   "outputs": [
    {
     "name": "stdout",
     "output_type": "stream",
     "text": [
      "BR     8.516\n",
      "RU    17.100\n",
      "IN     3.286\n",
      "CH     9.597\n",
      "SA     1.221\n",
      "Name: area, dtype: float64\n"
     ]
    }
   ],
   "source": [
    "print(brics.loc[:, \"area\"]) # need pandas series"
   ]
  },
  {
   "cell_type": "markdown",
   "id": "7a8466cf",
   "metadata": {},
   "source": [
    "# Step 2: Compare"
   ]
  },
  {
   "cell_type": "code",
   "execution_count": 5,
   "id": "5df110d5",
   "metadata": {},
   "outputs": [
    {
     "name": "stdout",
     "output_type": "stream",
     "text": [
      "BR     True\n",
      "RU     True\n",
      "IN    False\n",
      "CH     True\n",
      "SA    False\n",
      "Name: area, dtype: bool\n"
     ]
    }
   ],
   "source": [
    "is_huge = brics.loc[:, \"area\"] > 8\n",
    "print(is_huge)"
   ]
  },
  {
   "cell_type": "markdown",
   "id": "95b71ef6",
   "metadata": {},
   "source": [
    "# Step 3: Subset DF"
   ]
  },
  {
   "cell_type": "code",
   "execution_count": 6,
   "id": "a51e5871",
   "metadata": {},
   "outputs": [
    {
     "name": "stdout",
     "output_type": "stream",
     "text": [
      "   country   capital    area  population\n",
      "BR  Brazil  Brasilia   8.516       200.4\n",
      "RU  Russia    Moscow  17.100       143.5\n",
      "CH   China   Beijing   9.597      1357.0\n"
     ]
    }
   ],
   "source": [
    "print(brics[is_huge])"
   ]
  },
  {
   "cell_type": "markdown",
   "id": "9eb2bbdc",
   "metadata": {},
   "source": [
    "# One-liner"
   ]
  },
  {
   "cell_type": "code",
   "execution_count": 7,
   "id": "e4a5e003",
   "metadata": {},
   "outputs": [
    {
     "name": "stdout",
     "output_type": "stream",
     "text": [
      "   country   capital    area  population\n",
      "BR  Brazil  Brasilia   8.516       200.4\n",
      "RU  Russia    Moscow  17.100       143.5\n",
      "CH   China   Beijing   9.597      1357.0\n"
     ]
    }
   ],
   "source": [
    "print(brics[brics[\"area\"] > 8])"
   ]
  },
  {
   "cell_type": "markdown",
   "id": "461ac99f",
   "metadata": {},
   "source": [
    "# Boolean operators"
   ]
  },
  {
   "cell_type": "code",
   "execution_count": null,
   "id": "52f25589",
   "metadata": {},
   "outputs": [
    {
     "name": "stdout",
     "output_type": "stream",
     "text": [
      "   country   capital   area  population\n",
      "BR  Brazil  Brasilia  8.516       200.4\n",
      "CH   China   Beijing  9.597      1357.0\n"
     ]
    },
    {
     "ename": "",
     "evalue": "",
     "output_type": "error",
     "traceback": [
      "\u001b[1;31mThe Kernel crashed while executing code in the current cell or a previous cell. \n",
      "\u001b[1;31mPlease review the code in the cell(s) to identify a possible cause of the failure. \n",
      "\u001b[1;31mClick <a href='https://aka.ms/vscodeJupyterKernelCrash'>here</a> for more info. \n",
      "\u001b[1;31mView Jupyter <a href='command:jupyter.viewOutput'>log</a> for further details."
     ]
    }
   ],
   "source": [
    "import numpy as np\n",
    "\n",
    "print(brics[np.logical_and(brics['area'] > 8, brics['area'] < 10)])"
   ]
  },
  {
   "cell_type": "code",
   "execution_count": null,
   "id": "0408534c",
   "metadata": {},
   "outputs": [],
   "source": []
  }
 ],
 "metadata": {
  "kernelspec": {
   "display_name": "Python 3",
   "language": "python",
   "name": "python3"
  },
  "language_info": {
   "codemirror_mode": {
    "name": "ipython",
    "version": 3
   },
   "file_extension": ".py",
   "mimetype": "text/x-python",
   "name": "python",
   "nbconvert_exporter": "python",
   "pygments_lexer": "ipython3",
   "version": "3.12.10"
  }
 },
 "nbformat": 4,
 "nbformat_minor": 5
}
