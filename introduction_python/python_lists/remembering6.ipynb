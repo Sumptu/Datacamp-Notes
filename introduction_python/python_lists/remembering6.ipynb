{
 "cells": [
  {
   "cell_type": "markdown",
   "id": "70a6f3bc",
   "metadata": {},
   "source": [
    "### Soal 1: Membuat List Sederhana\n",
    "\n",
    "1.  Buatlah sebuah list Python bernama **`teknologi_web_pl_h6`** yang berisi nama-nama teknologi berikut: `\"HTML\"`, `\"CSS\"`, `\"JavaScript\"`, `\"Python\"`, dan `\"SQL\"`.\n",
    "2.  Tampilkan list `teknologi_web_pl_h6` tersebut.\n",
    "3.  Gunakan fungsi `len()` untuk menghitung dan menampilkan jumlah total teknologi dalam list tersebut dengan pesan yang jelas."
   ]
  },
  {
   "cell_type": "code",
   "execution_count": null,
   "id": "b9cecc0d",
   "metadata": {},
   "outputs": [
    {
     "name": "stdout",
     "output_type": "stream",
     "text": [
      "['HTML', 'CSS', 'JavaScript', 'Python', 'SQL']\n",
      "Panjang list adalah 5\n"
     ]
    }
   ],
   "source": [
    "teknologi_web_pl_h6 = [\n",
    "    \"HTML\",\n",
    "    \"CSS\",\n",
    "    \"JavaScript\",\n",
    "    \"Python\",\n",
    "    \"SQL\",\n",
    "]\n",
    "\n",
    "print(teknologi_web_pl_h6)\n",
    "print(f\"Panjang list adalah {len(teknologi_web_pl_h6)}\")"
   ]
  },
  {
   "cell_type": "markdown",
   "id": "1b1be170",
   "metadata": {},
   "source": [
    "### Soal 2: List dengan Berbagai Tipe Data\n",
    "\n",
    "1.  Buatlah sebuah list bernama **`spek_laptop_pl_h6`** yang merepresentasikan spesifikasi sebuah laptop. List ini harus berisi elemen-elemen dengan tipe data yang berbeda, dengan urutan sebagai berikut:\n",
    "    * Merek (string), contoh: `\"Laptop Jaya\"`\n",
    "    * Ukuran RAM dalam GB (integer), contoh: `16`\n",
    "    * Ukuran layar dalam inci (float), contoh: `14.5`\n",
    "    * Memiliki SSD (boolean), contoh: `True`\n",
    "2.  Tampilkan list `spek_laptop_pl_h6` tersebut.\n",
    "3.  Tampilkan juga tipe data dari elemen ketiga (ukuran layar) dan elemen keempat (memiliki SSD) dari list tersebut."
   ]
  },
  {
   "cell_type": "code",
   "execution_count": 10,
   "id": "1b4746a8",
   "metadata": {},
   "outputs": [
    {
     "name": "stdout",
     "output_type": "stream",
     "text": [
      "['Laptop Jaya', 16, 14.5, True]\n",
      "<class 'float'>\n",
      "<class 'bool'>\n"
     ]
    }
   ],
   "source": [
    "spek_laptop_pl_h6 = [\n",
    "    \"Laptop Jaya\",\n",
    "    16,\n",
    "    14.5,\n",
    "    True,\n",
    "]\n",
    "\n",
    "print(spek_laptop_pl_h6)\n",
    "print(type(spek_laptop_pl_h6[2]))\n",
    "print(type(spek_laptop_pl_h6[3]))\n"
   ]
  },
  {
   "cell_type": "markdown",
   "id": "455526e3",
   "metadata": {},
   "source": [
    "### Soal 3: Mengakses Elemen List (Indexing)\n",
    "\n",
    "1.  Gunakan kembali list **`teknologi_web_pl_h6`** dari Soal 1: `[\"HTML\", \"CSS\", \"JavaScript\", \"Python\", \"SQL\"]`.\n",
    "2.  Akses elemen **kedua** dari list tersebut dan simpan nilainya ke dalam variabel **`teknologi_styling_pl_h6`**.\n",
    "3.  Akses elemen **kedua dari terakhir** dari list tersebut menggunakan **indeks negatif** dan simpan nilainya ke dalam variabel **`teknologi_backend_pl_h6`**.\n",
    "4.  Tampilkan nilai dari `teknologi_styling_pl_h6` dan `teknologi_backend_pl_h6` dengan pesan yang jelas."
   ]
  },
  {
   "cell_type": "code",
   "execution_count": 11,
   "id": "3ad51cbb",
   "metadata": {},
   "outputs": [
    {
     "name": "stdout",
     "output_type": "stream",
     "text": [
      "Teknologi styling pada HTML adalah CSS\n",
      "Teknologi backend pada HTML adalah Python\n"
     ]
    }
   ],
   "source": [
    "teknologi_styling_pl_h6 = teknologi_web_pl_h6[1]\n",
    "teknologi_backend_pl_h6 = teknologi_web_pl_h6[-2]\n",
    "\n",
    "print(f\"Teknologi styling pada HTML adalah {teknologi_styling_pl_h6}\")\n",
    "print(f\"Teknologi backend pada HTML adalah {teknologi_backend_pl_h6}\")"
   ]
  },
  {
   "cell_type": "markdown",
   "id": "47790251",
   "metadata": {},
   "source": [
    "### Soal 4: Mengiris List (Slicing)\n",
    "\n",
    "Gunakan kembali list **`teknologi_web_pl_h6`** dari soal sebelumnya: `[\"HTML\", \"CSS\", \"JavaScript\", \"Python\", \"SQL\"]`.\n",
    "\n",
    "1.  Buat sebuah list baru bernama **`frontend_tech_pl_h6`** dengan mengambil irisan (slice) dari `teknologi_web_pl_h6` yang berisi tiga elemen pertama.\n",
    "2.  Buat sebuah list baru bernama **`database_tech_pl_h6`** dengan mengambil irisan yang hanya berisi elemen terakhir (\"SQL\").\n",
    "3.  Buat sebuah list baru bernama **`tanpa_awal_akhir_pl_h6`** dengan mengambil irisan yang berisi semua elemen **kecuali** elemen pertama dan elemen terakhir.\n",
    "4.  Tampilkan ketiga list baru tersebut dengan pesan yang jelas."
   ]
  },
  {
   "cell_type": "code",
   "execution_count": 14,
   "id": "31c1a207",
   "metadata": {},
   "outputs": [
    {
     "name": "stdout",
     "output_type": "stream",
     "text": [
      "frontend_tech_pl_h6: ['HTML', 'CSS', 'JavaScript']\n",
      "database_tech_pl_h6: ['SQL']\n",
      "tanpa_awal_akhir_pl_h6: ['CSS', 'JavaScript', 'Python']\n"
     ]
    }
   ],
   "source": [
    "frontend_tech_pl_h6 = teknologi_web_pl_h6[0:3]\n",
    "database_tech_pl_h6 = teknologi_web_pl_h6[-1:]\n",
    "tanpa_awal_akhir_pl_h6 = teknologi_web_pl_h6[1:4]\n",
    "\n",
    "print(f\"frontend_tech_pl_h6: {frontend_tech_pl_h6}\")\n",
    "print(f\"database_tech_pl_h6: {database_tech_pl_h6}\")\n",
    "print(f\"tanpa_awal_akhir_pl_h6: {tanpa_awal_akhir_pl_h6}\")"
   ]
  },
  {
   "cell_type": "markdown",
   "id": "1375f181",
   "metadata": {},
   "source": [
    "### Soal 5: List Bersarang (List of Lists)\n",
    "\n",
    "1.  Buatlah sebuah list bersarang bernama **`jadwal_kuliah_pl_h6`** yang berisi jadwal untuk dua hari. Setiap elemennya adalah list yang merepresentasikan jadwal satu hari, dengan format: `[Nama Hari (string), Nama Mata Kuliah 1 (string), Nama Mata Kuliah 2 (string)]`.\n",
    "    ```python\n",
    "    [\n",
    "        [\"Senin\", \"Kalkulus\", \"Fisika Dasar\"],\n",
    "        [\"Selasa\", \"Algoritma\", \"Struktur Data\"]\n",
    "    ]\n",
    "    ```\n",
    "2.  Tampilkan keseluruhan list `jadwal_kuliah_pl_h6`.\n",
    "3.  Akses mata kuliah **kedua** pada hari **Senin** (yaitu `\"Fisika Dasar\"`) dan simpan nilainya ke dalam variabel **`matkul_senin_kedua_pl_h6`**.\n",
    "4.  Akses **nama hari** dari jadwal kedua (yaitu `\"Selasa\"`) dan simpan nilainya ke dalam variabel **`hari_kedua_pl_h6`**.\n",
    "5.  Tampilkan nilai dari `matkul_senin_kedua_pl_h6` dan `hari_kedua_pl_h6`."
   ]
  },
  {
   "cell_type": "code",
   "execution_count": 16,
   "id": "2991e866",
   "metadata": {},
   "outputs": [
    {
     "name": "stdout",
     "output_type": "stream",
     "text": [
      "[['Senin', 'Kalkulus', 'Fisika Dasar'], ['Selasa', 'Algoritma', 'Struktur Data']]\n",
      "Fisika Dasar\n",
      "Selasa\n"
     ]
    }
   ],
   "source": [
    "jadwal_kuliah_pl_h6 = [\n",
    "    [\"Senin\", \"Kalkulus\", \"Fisika Dasar\"],\n",
    "    [\"Selasa\", \"Algoritma\", \"Struktur Data\"],\n",
    "]\n",
    "\n",
    "print(jadwal_kuliah_pl_h6)\n",
    "\n",
    "matkul_senin_kedua_pl_h6 = jadwal_kuliah_pl_h6[0][2]\n",
    "hari_kedua_pl_h6 = jadwal_kuliah_pl_h6[1][0]\n",
    "\n",
    "print(matkul_senin_kedua_pl_h6)\n",
    "print(hari_kedua_pl_h6)"
   ]
  },
  {
   "cell_type": "markdown",
   "id": "356e968a",
   "metadata": {},
   "source": [
    "### Soal 6: Mengiris List Bersarang (Slicing Tingkat Lanjut)\n",
    "\n",
    "Gunakan kembali list **`jadwal_kuliah_pl_h6`** dari Soal 5.\n",
    "\n",
    "1.  Buat sebuah list baru bernama **`jadwal_hari_selasa_pl_h6`** yang berisi seluruh jadwal pada hari Selasa (yaitu `[\"Selasa\", \"Algoritma\", \"Struktur Data\"]`). Gunakan *indexing* untuk ini.\n",
    "2.  Buat sebuah list baru bernama **`semua_matkul_pertama_pl_h6`** yang berisi semua mata kuliah pertama dari setiap hari (yaitu `[\"Kalkulus\", \"Algoritma\"]`). Ini sedikit lebih sulit.\n",
    "    * *Hint*: Anda tidak bisa menggunakan slice sederhana seperti `[:, 1]`. Anda perlu menggunakan **list comprehension** untuk melakukan iterasi pada `jadwal_kuliah_pl_h6` dan mengambil elemen dengan indeks `1` dari setiap list di dalamnya.\n",
    "3.  Tampilkan `jadwal_hari_selasa_pl_h6` dan `semua_matkul_pertama_pl_h6`."
   ]
  },
  {
   "cell_type": "code",
   "execution_count": 17,
   "id": "06700961",
   "metadata": {},
   "outputs": [
    {
     "name": "stdout",
     "output_type": "stream",
     "text": [
      "['Selasa', 'Algoritma', 'Struktur Data']\n",
      "['Kalkulus', 'Algoritma']\n"
     ]
    }
   ],
   "source": [
    "jadwal_hari_selasa_pl_h6 = jadwal_kuliah_pl_h6[1]\n",
    "semua_matkul_pertama_pl_h6 = [kolom[1] for kolom in jadwal_kuliah_pl_h6]\n",
    "\n",
    "print(jadwal_hari_selasa_pl_h6)\n",
    "print(semua_matkul_pertama_pl_h6)"
   ]
  },
  {
   "cell_type": "markdown",
   "id": "6fb3c92d",
   "metadata": {},
   "source": [
    "### Soal 7: Mengganti Elemen List\n",
    "\n",
    "**Tugas Anda:**\n",
    "\n",
    "1.  Gunakan list `jadwal_kuliah_pl_h6` yang didefinisikan di bawah ini untuk memulai.\n",
    "    ```python\n",
    "    jadwal_kuliah_pl_h6 = [\n",
    "        [\"Senin\", \"Kalkulus\", \"Fisika Dasar\"],\n",
    "        [\"Selasa\", \"Algoritma\", \"Struktur Data\"]\n",
    "    ]\n",
    "    ```\n",
    "2.  Terjadi perubahan jadwal. Ubah mata kuliah kedua pada hari Senin (yang semula `\"Fisika Dasar\"`) menjadi `\"Praktikum Fisika\"`. Lakukan ini dengan mengakses indeksnya secara langsung.\n",
    "3.  Tampilkan `jadwal_kuliah_pl_h6` setelah perubahan pertama.\n",
    "4.  Kemudian, seluruh jadwal hari Selasa dibatalkan dan diganti dengan satu kegiatan saja. Ganti seluruh list jadwal hari Selasa dengan sebuah list baru: `[\"Selasa\", \"Ujian Tengah Semester\"]`. Lakukan ini dengan mengakses indeks barisnya.\n",
    "5.  Tampilkan kembali `jadwal_kuliah_pl_h6` setelah perubahan kedua."
   ]
  },
  {
   "cell_type": "code",
   "execution_count": 18,
   "id": "eb93f990",
   "metadata": {},
   "outputs": [
    {
     "name": "stdout",
     "output_type": "stream",
     "text": [
      "[['Senin', 'Kalkulus', 'Praktikum Fisika'], ['Selasa', 'Algoritma', 'Struktur Data']]\n",
      "[['Senin', 'Kalkulus', 'Praktikum Fisika'], ['Selasa', 'Ujian Tengah Semester']]\n"
     ]
    }
   ],
   "source": [
    "jadwal_kuliah_pl_h6[0][2] = \"Praktikum Fisika\"\n",
    "print(jadwal_kuliah_pl_h6)\n",
    "jadwal_kuliah_pl_h6[1] = [\"Selasa\", \"Ujian Tengah Semester\"]\n",
    "print(jadwal_kuliah_pl_h6)"
   ]
  },
  {
   "cell_type": "markdown",
   "id": "7164db05",
   "metadata": {},
   "source": [
    "### Soal 8: Memperpanjang List Bersarang\n",
    "\n",
    "**Asumsi:** Variabel `jadwal_kuliah_pl_h6` akan Anda buat menggunakan kode pada Bagian 2 di bawah.\n",
    "\n",
    "\n",
    "**Tugas Anda:**\n",
    "\n",
    "1.  Tambahkan jadwal untuk hari Rabu. Buat sebuah list baru bernama **`jadwal_rabu_pl_h6`** yang berisi `[\"Rabu\", \"Basis Data\"]`.\n",
    "2.  Gunakan metode **`.append()`** untuk menambahkan `jadwal_rabu_pl_h6` sebagai elemen baru di akhir `jadwal_kuliah_pl_h6`.\n",
    "3.  Tampilkan `jadwal_kuliah_pl_h6` setelah penambahan.\n",
    "4.  Buat jadwal untuk sisa minggu: **`jadwal_tambahan_pl_h6`** = `[[\"Kamis\", \"Jaringan Komputer\"], [\"Jumat\", \"Manajemen Proyek\"]]`.\n",
    "5.  Buat list **baru** bernama **`jadwal_seminggu_penuh_pl_h6`** dengan menggabungkan `jadwal_kuliah_pl_h6` (yang sudah berisi jadwal hari Rabu) dengan `jadwal_tambahan_pl_h6` menggunakan operator `+`.\n",
    "6.  Tampilkan `jadwal_seminggu_penuh_pl_h6`."
   ]
  },
  {
   "cell_type": "code",
   "execution_count": 19,
   "id": "054b0822",
   "metadata": {},
   "outputs": [
    {
     "name": "stdout",
     "output_type": "stream",
     "text": [
      "[['Senin', 'Kalkulus', 'Praktikum Fisika'], ['Selasa', 'Ujian Tengah Semester'], ['Rabu', 'Basis Data']]\n",
      "[['Senin', 'Kalkulus', 'Praktikum Fisika'], ['Selasa', 'Ujian Tengah Semester'], ['Rabu', 'Basis Data'], ['Kamis', 'Jaringan Komputer'], ['Jumat', 'Manajemen Proyek']]\n"
     ]
    }
   ],
   "source": [
    "jadwal_rabu_pl_h6 = [\n",
    "    \"Rabu\",\n",
    "    \"Basis Data\",\n",
    "]\n",
    "\n",
    "jadwal_kuliah_pl_h6.append(jadwal_rabu_pl_h6)\n",
    "print(jadwal_kuliah_pl_h6)\n",
    "\n",
    "jadwal_tambahan_pl_h6 = [\n",
    "    [\"Kamis\", \"Jaringan Komputer\"],\n",
    "    [\"Jumat\", \"Manajemen Proyek\"],\n",
    "]\n",
    "jadwal_seminggu_penuh_pl_h6 = jadwal_kuliah_pl_h6 + jadwal_tambahan_pl_h6\n",
    "print(jadwal_seminggu_penuh_pl_h6)"
   ]
  },
  {
   "cell_type": "markdown",
   "id": "361bccb9",
   "metadata": {},
   "source": [
    "### Soal 9: Menghapus Elemen List\n",
    "\n",
    "**Asumsi:** Anda melanjutkan dengan variabel `jadwal_seminggu_penuh_pl_h6` dari hasil akhir Soal 8.\n",
    "\n",
    "**Tugas Anda:**\n",
    "\n",
    "1.  Hari Jumat ternyata libur. Hapus jadwal hari Jumat (elemen terakhir) dari list menggunakan metode **`.pop()`**. Simpan jadwal yang dihapus tersebut ke dalam variabel **`jadwal_dihapus_pl_h6`**.\n",
    "2.  Tampilkan `jadwal_dihapus_pl_h6` dan `jadwal_seminggu_penuh_pl_h6` setelah penghapusan pertama.\n",
    "3.  Kemudian, hapus jadwal untuk hari Senin dan Selasa (dua elemen pertama) secara bersamaan menggunakan **`del`** dan *slicing*.\n",
    "4.  Tampilkan list `jadwal_seminggu_penuh_pl_h6` yang terakhir."
   ]
  },
  {
   "cell_type": "code",
   "execution_count": 20,
   "id": "b9084058",
   "metadata": {},
   "outputs": [
    {
     "name": "stdout",
     "output_type": "stream",
     "text": [
      "['Jumat', 'Manajemen Proyek']\n",
      "[['Senin', 'Kalkulus', 'Praktikum Fisika'], ['Selasa', 'Ujian Tengah Semester'], ['Rabu', 'Basis Data'], ['Kamis', 'Jaringan Komputer']]\n",
      "[['Rabu', 'Basis Data'], ['Kamis', 'Jaringan Komputer']]\n"
     ]
    }
   ],
   "source": [
    "jadwal_dihapus_pl_h6 = jadwal_seminggu_penuh_pl_h6.pop(4)\n",
    "print(jadwal_dihapus_pl_h6)\n",
    "print(jadwal_seminggu_penuh_pl_h6)\n",
    "del jadwal_seminggu_penuh_pl_h6[0:2]\n",
    "print(jadwal_seminggu_penuh_pl_h6)"
   ]
  },
  {
   "cell_type": "markdown",
   "id": "e3cf42cc",
   "metadata": {},
   "source": [
    "### Soal 10: Salinan Dangkal (Shallow Copy) pada List Bersarang\n",
    "\n",
    "Soal ini akan menguji pemahaman Anda tentang bagaimana `.copy()` bekerja pada list bersarang.\n",
    "\n",
    "**Tugas Anda:**\n",
    "\n",
    "1.  Buat sebuah list bersarang bernama **`keranjang_asli_pl_h6`** yang berisi `[[\"apel\", 5], [\"jeruk\", 3]]`.\n",
    "2.  Buat **salinan dangkal (shallow copy)** dari `keranjang_asli_pl_h6` menggunakan metode `.copy()` dan simpan ke dalam variabel **`keranjang_salinan_pl_h6`**.\n",
    "3.  Sekarang, modifikasi **jumlah apel** di dalam **`keranjang_salinan_pl_h6`**. Ubah angka `5` menjadi `10`. Anda perlu mengaksesnya dengan dua indeks (misalnya, `keranjang_salinan_pl_h6[0][1] = 10`).\n",
    "4.  Tampilkan `keranjang_asli_pl_h6` dan `keranjang_salinan_pl_h6`.\n",
    "5.  Di bawah output, berikan komentar (`#`) yang menjelaskan mengapa `keranjang_asli_pl_h6` **ikut berubah** meskipun Anda hanya memodifikasi `keranjang_salinan_pl_h6`.\n",
    "    * *Hint*: Ini berkaitan dengan apa yang sebenarnya disalin oleh `.copy()` ketika elemennya adalah list lain."
   ]
  },
  {
   "cell_type": "code",
   "execution_count": null,
   "id": "82e9cce2",
   "metadata": {},
   "outputs": [
    {
     "name": "stdout",
     "output_type": "stream",
     "text": [
      "[['apel', 5], ['jeruk', 3]]\n",
      "[['anggur', 10], ['jeruk', 3]]\n"
     ]
    }
   ],
   "source": [
    "keranjang_asli_pl_h6 = [\n",
    "    [\"apel\", 5],\n",
    "    [\"jeruk\", 3],    \n",
    "]\n",
    "\n",
    "keranjang_salinan_pl_h6 = keranjang_asli_pl_h6.copy()\n",
    "keranjang_salinan_pl_h6[0][1] = 10\n",
    "print(keranjang_asli_pl_h6)\n",
    "print(keranjang_salinan_pl_h6)\n",
    "\n",
    "# Ini terjadi karena method copy hanya melakukan copy pada level pertama saja. hal ini akan berhasil jika list yang dimiliki hanyaa 1 level saja, berbeda jika list yang dimiliki lebih dari 1 level. Makanfaatkan method deepcopy dari modul copy untuk melakukan copy pada level yang lebih dalam.\n"
   ]
  }
 ],
 "metadata": {
  "kernelspec": {
   "display_name": "Python 3",
   "language": "python",
   "name": "python3"
  },
  "language_info": {
   "codemirror_mode": {
    "name": "ipython",
    "version": 3
   },
   "file_extension": ".py",
   "mimetype": "text/x-python",
   "name": "python",
   "nbconvert_exporter": "python",
   "pygments_lexer": "ipython3",
   "version": "3.12.10"
  }
 },
 "nbformat": 4,
 "nbformat_minor": 5
}
