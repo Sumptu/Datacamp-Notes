{
 "cells": [
  {
   "cell_type": "markdown",
   "id": "9c0faf25",
   "metadata": {},
   "source": [
    "# Overview\n",
    "- Comparison Operators\n",
    "    - <, >, <=, >=, ==, !=\n",
    "- Boolean Operators\n",
    "    - and, or, not\n",
    "- Conditional Statements\n",
    "    - if, elif, else"
   ]
  },
  {
   "cell_type": "markdown",
   "id": "762529ec",
   "metadata": {},
   "source": [
    "# if"
   ]
  },
  {
   "cell_type": "markdown",
   "id": "0c1036e7",
   "metadata": {},
   "source": [
    "``` python\n",
    "if condition:\n",
    "    expression\n",
    "```"
   ]
  },
  {
   "cell_type": "code",
   "execution_count": 1,
   "id": "7e011d7f",
   "metadata": {},
   "outputs": [
    {
     "name": "stdout",
     "output_type": "stream",
     "text": [
      "z is even\n"
     ]
    }
   ],
   "source": [
    "z = 4\n",
    "if z % 2 == 0:\n",
    "    print(\"z is even\")"
   ]
  },
  {
   "cell_type": "markdown",
   "id": "279ccdcb",
   "metadata": {},
   "source": [
    "- expression not part of if"
   ]
  },
  {
   "cell_type": "code",
   "execution_count": 2,
   "id": "0c837b60",
   "metadata": {},
   "outputs": [
    {
     "name": "stdout",
     "output_type": "stream",
     "text": [
      "This line will always be printed.\n"
     ]
    }
   ],
   "source": [
    "x = 5\n",
    "\n",
    "# Ini adalah 'if' statement\n",
    "if x > 10:\n",
    "    # this 'expression' IS part of the if (because of the indentation)\n",
    "    print(\"x is greater than 10\")\n",
    "\n",
    "# This 'expression' is NOT part of the if (because there is no indentation)\n",
    "print(\"This line will always be printed.\")"
   ]
  },
  {
   "cell_type": "code",
   "execution_count": 3,
   "id": "93b1c57e",
   "metadata": {},
   "outputs": [
    {
     "name": "stdout",
     "output_type": "stream",
     "text": [
      "checking 4\n",
      "z is even\n"
     ]
    }
   ],
   "source": [
    "z = 4\n",
    "if z % 2 == 0:\n",
    "    print(f\"checking {z}\") # more expression\n",
    "    print(\"z is even\")"
   ]
  },
  {
   "cell_type": "code",
   "execution_count": 4,
   "id": "b62955cc",
   "metadata": {},
   "outputs": [],
   "source": [
    "z = 5 # change this to 5\n",
    "if z % 2 == 0:\n",
    "    print(f\"checking {z}\") \n",
    "    print(\"z is even\")\n",
    "\n",
    "# theres no output because the condition is false and we dont have an else statement"
   ]
  },
  {
   "cell_type": "markdown",
   "id": "103e83e8",
   "metadata": {},
   "source": [
    "# else\n",
    "```python\n",
    "if condition:\n",
    "    expression\n",
    "else:\n",
    "    expression"
   ]
  },
  {
   "cell_type": "code",
   "execution_count": 6,
   "id": "1cc97fb7",
   "metadata": {},
   "outputs": [
    {
     "name": "stdout",
     "output_type": "stream",
     "text": [
      "z is odd\n"
     ]
    }
   ],
   "source": [
    "z = 5\n",
    "if z % 2 == 0:\n",
    "    print(\"z is even\")\n",
    "else:\n",
    "    print(\"z is odd\")"
   ]
  },
  {
   "cell_type": "markdown",
   "id": "42a4b425",
   "metadata": {},
   "source": [
    "# elif\n",
    "```python\n",
    "if condition:\n",
    "    expression\n",
    "elif condition:\n",
    "    expression\n",
    "else:\n",
    "    eexpression"
   ]
  },
  {
   "cell_type": "code",
   "execution_count": 7,
   "id": "15beb2bd",
   "metadata": {},
   "outputs": [
    {
     "name": "stdout",
     "output_type": "stream",
     "text": [
      "z is divisible by 3\n"
     ]
    }
   ],
   "source": [
    "z = 3\n",
    "if z % 2 == 0:\n",
    "    print(\"z is divisible by 2\") # False\n",
    "elif z % 3 == 0:\n",
    "    print(\"z is divisible by 3\") # True\n",
    "else:\n",
    "    print(\"z is neither divisible by 2 nor 3\")"
   ]
  },
  {
   "cell_type": "code",
   "execution_count": 8,
   "id": "14c789c0",
   "metadata": {},
   "outputs": [
    {
     "name": "stdout",
     "output_type": "stream",
     "text": [
      "z is divisible by 2\n"
     ]
    }
   ],
   "source": [
    "z = 6 # change this value for a different result\n",
    "if z % 2 == 0:\n",
    "    print(\"z is divisible by 2\") # True\n",
    "elif z % 3 == 0:\n",
    "    print(\"z is divisible by 3\") # Never reached\n",
    "else:\n",
    "    print(\"z is neither divisible by 2 nor 3\")"
   ]
  }
 ],
 "metadata": {
  "kernelspec": {
   "display_name": "Python 3",
   "language": "python",
   "name": "python3"
  },
  "language_info": {
   "codemirror_mode": {
    "name": "ipython",
    "version": 3
   },
   "file_extension": ".py",
   "mimetype": "text/x-python",
   "name": "python",
   "nbconvert_exporter": "python",
   "pygments_lexer": "ipython3",
   "version": "3.12.10"
  }
 },
 "nbformat": 4,
 "nbformat_minor": 5
}
