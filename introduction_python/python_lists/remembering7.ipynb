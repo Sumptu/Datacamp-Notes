{
 "cells": [
  {
   "cell_type": "markdown",
   "id": "8c6572a2",
   "metadata": {},
   "source": [
    "### **Soal 1: Membuat List Kompleks dan Verifikasi Tipe**\n",
    "\n",
    "**Konteks:**\n",
    "Anda sedang membuat sebuah struktur data untuk menyimpan konfigurasi sebuah aplikasi. Konfigurasi ini terdiri dari nama aplikasi, versi, daftar pengguna aktif, dan pengaturan koordinat.\n",
    "\n",
    "**Tugas:**\n",
    "\n",
    "1.  Buat sebuah list bernama `konfigurasi_app_1`. List ini harus berisi elemen-elemen berikut dalam urutan yang ditentukan:\n",
    "    * Nama aplikasi (string): `\"AnalyticDashboard\"`\n",
    "    * Versi (float): `2.1`\n",
    "    * Daftar pengguna aktif (list of strings): `[\"admin\", \"guest\", \"editor\"]`\n",
    "    * Pengaturan koordinat (tuple of integers): `(1024, 768)`\n",
    "2.  Setelah list dibuat, akses elemen ketiga (daftar pengguna aktif) dan cetak tipe datanya.\n",
    "3.  Akses elemen pertama dari daftar pengguna aktif tersebut (`\"admin\"`) dan cetak ke layar."
   ]
  },
  {
   "cell_type": "code",
   "execution_count": 5,
   "id": "436398ea",
   "metadata": {},
   "outputs": [
    {
     "name": "stdout",
     "output_type": "stream",
     "text": [
      "['admin', 'guest', 'editor']\n",
      "<class 'list'>\n",
      "admin\n"
     ]
    }
   ],
   "source": [
    "konfigurasi_app_1 = [\n",
    "    \"analyticDashboard\",\n",
    "    2.1,\n",
    "    [\"admin\", \"guest\", \"editor\"],\n",
    "    (1024, 768),\n",
    "]\n",
    "\n",
    "print(konfigurasi_app_1[2])\n",
    "print(type(konfigurasi_app_1[2]))\n",
    "\n",
    "print(konfigurasi_app_1[2][0])"
   ]
  },
  {
   "cell_type": "markdown",
   "id": "24da0351",
   "metadata": {},
   "source": [
    "### **Soal 2: Subsetting List dengan Slicing**\n",
    "\n",
    "**Konteks:**\n",
    "Anda mengelola sebuah playlist lagu. Anda perlu mengambil beberapa lagu pertama sebagai \"lagu pembuka\" dan beberapa lagu terakhir sebagai \"lagu penutup\". Anda juga menyadari ada satu lagu di tengah yang ingin Anda ganti.\n",
    "\n",
    "**Tugas:**\n",
    "\n",
    "1.  Buat sebuah list bernama `playlist_lagu_2` yang berisi judul-judul lagu berikut:\n",
    "    ```python\n",
    "    [\"Bohemian Rhapsody\", \"Stairway to Heaven\", \"Hotel California\", \"Imagine\", \"Like a Rolling Stone\"]\n",
    "    ```\n",
    "2.  Gunakan *slicing* untuk membuat list baru bernama `lagu_pembuka_2` yang berisi **dua lagu pertama** dari playlist.\n",
    "3.  Gunakan *slicing* dengan indeks negatif untuk membuat list baru bernama `lagu_penutup_2` yang berisi **dua lagu terakhir** dari playlist.\n",
    "4.  Ganti lagu di posisi tengah (\"Hotel California\") dengan lagu baru, `\"Hey Jude\"`. Lakukan ini dengan mengakses langsung indeksnya pada list `playlist_lagu_2` dan menetapkan nilai baru.\n",
    "5.  Cetak `lagu_pembuka_2`, `lagu_penutup_2`, dan `playlist_lagu_2` yang sudah dimodifikasi untuk melihat semua perubahan."
   ]
  },
  {
   "cell_type": "code",
   "execution_count": 8,
   "id": "51b083c6",
   "metadata": {},
   "outputs": [
    {
     "name": "stdout",
     "output_type": "stream",
     "text": [
      "['Bohemian Rhapsody', 'Stairway to Heaven']\n",
      "['Imagine', 'Like a Rolling Stone']\n",
      "['Bohemian Rhapsody', 'Stairway to Heaven', 'Hey Jude', 'Imagine', 'Like a Rolling Stone']\n"
     ]
    }
   ],
   "source": [
    "playlist_lagu_2 = [\n",
    "    \"Bohemian Rhapsody\",\n",
    "    \"Stairway to Heaven\",\n",
    "    \"Hotel California\",\n",
    "    \"Imagine\",\n",
    "    \"Like a Rolling Stone\",\n",
    "]\n",
    "\n",
    "lagu_pembuka_2 = playlist_lagu_2[:2]\n",
    "lagu_penutup_2 = playlist_lagu_2[-2:]\n",
    "playlist_lagu_2[2] = \"Hey Jude\"\n",
    "\n",
    "print(lagu_pembuka_2)\n",
    "print(lagu_penutup_2)\n",
    "print(playlist_lagu_2)"
   ]
  },
  {
   "cell_type": "markdown",
   "id": "4f9418af",
   "metadata": {},
   "source": [
    "### **Soal 3: Slicing dengan Step**\n",
    "\n",
    "**Konteks:**\n",
    "Anda memiliki data pembacaan sensor yang dicatat setiap jam selama sehari (24 jam). Anda ingin mengambil sampel data setiap 6 jam untuk laporan ringkas (pukul 00:00, 06:00, 12:00, 18:00).\n",
    "\n",
    "**Tugas:**\n",
    "\n",
    "1.  Buat sebuah list bernama `pembacaan_sensor_3` yang berisi 24 angka. Anda bisa membuatnya dengan cepat menggunakan `list(range(24))`.\n",
    "2.  Gunakan *slicing* dengan format `[start:stop:step]` untuk mengambil data dari list tersebut.\n",
    "    * Anda ingin memulai dari awal, berakhir di akhir, dan mengambil setiap elemen **ke-6**.\n",
    "3.  Simpan hasil *slicing* tersebut ke dalam list baru bernama `sampel_data_3`.\n",
    "4.  Cetak `sampel_data_3` untuk memverifikasi hasilnya."
   ]
  },
  {
   "cell_type": "code",
   "execution_count": 12,
   "id": "0a673358",
   "metadata": {},
   "outputs": [
    {
     "name": "stdout",
     "output_type": "stream",
     "text": [
      "[0, 6, 12, 18]\n"
     ]
    }
   ],
   "source": [
    "pembacaan_sensor_3 = list(range(24))\n",
    "sampel_data_3 = pembacaan_sensor_3[::6]\n",
    "print(sampel_data_3)"
   ]
  },
  {
   "cell_type": "markdown",
   "id": "3d8fa897",
   "metadata": {},
   "source": [
    "### **Soal 4: Mengganti Elemen List Menggunakan Slicing**\n",
    "\n",
    "**Konteks:**\n",
    "Anda memiliki sebuah list berisi jadwal acara TV untuk malam hari. Namun, ada perubahan mendadak di mana dua acara di tengah-tengah digantikan oleh satu acara spesial yang lebih panjang.\n",
    "\n",
    "**Tugas:**\n",
    "\n",
    "1.  Buat sebuah list bernama `jadwal_acara_4`:\n",
    "    ```python\n",
    "    [\"Berita Malam\", \"Sinetron A\", \"Talkshow B\", \"Film C\", \"Musik Klasik\"]\n",
    "    ```\n",
    "2.  Anda perlu mengganti `\"Sinetron A\"` dan `\"Talkshow B\"` dengan satu acara baru, yaitu `\"Film Spesial Liburan\"`.\n",
    "3.  Gunakan *slicing* untuk memilih `\"Sinetron A\"` dan `\"Talkshow B\"` di sisi kiri dari operator penugasan (`=`).\n",
    "4.  Di sisi kanan operator penugasan, berikan sebuah list baru yang hanya berisi `[\"Film Spesial Liburan\"]`.\n",
    "5.  Cetak `jadwal_acara_4` yang telah dimodifikasi untuk melihat hasilnya. Perhatikan bagaimana panjang list berubah."
   ]
  },
  {
   "cell_type": "code",
   "execution_count": 15,
   "id": "9426a7a4",
   "metadata": {},
   "outputs": [
    {
     "name": "stdout",
     "output_type": "stream",
     "text": [
      "['Berita Malam', 'Film Spesial Liburan', 'Film C', 'Musik Klasik']\n"
     ]
    }
   ],
   "source": [
    "jadwal_acara_4 = [\n",
    "    \"Berita Malam\",\n",
    "    \"Sinetron A\",\n",
    "    \"Talkshow B\",\n",
    "    \"Film C\", \n",
    "    \"Musik Klasik\",\n",
    "]\n",
    "\n",
    "jadwal_acara_4[1:3] = [\"Film Spesial Liburan\"]\n",
    "print(jadwal_acara_4)"
   ]
  },
  {
   "cell_type": "markdown",
   "id": "37d1a8ad",
   "metadata": {},
   "source": [
    "### **Soal 5: Memahami Cara Kerja List (Referensi vs. Salinan)**\n",
    "\n",
    "**Konteks:**\n",
    "Anda membuat sebuah list `jadwal_asli` dan ingin membuat `jadwal_cadangan` dari list tersebut. Anda kemudian mengubah `jadwal_cadangan`. Anda perlu memahami apakah perubahan ini akan memengaruhi `jadwal_asli`.\n",
    "\n",
    "**Tugas:**\n",
    "\n",
    "1.  Buat sebuah list bernama `jadwal_asli_5`:\n",
    "    ```python\n",
    "    [\"Senin\", \"Selasa\", \"Rabu\"]\n",
    "    ```\n",
    "2.  Buat variabel baru `jadwal_cadangan_5` dengan cara menugaskannya langsung dari `jadwal_asli_5`:\n",
    "    `jadwal_cadangan_5 = jadwal_asli_5`\n",
    "3.  Sekarang, ubah elemen pertama dari `jadwal_cadangan_5` menjadi `\"Libur\"`.\n",
    "4.  Cetak `jadwal_cadangan_5` untuk melihat perubahannya.\n",
    "5.  **Yang terpenting**: Cetak juga `jadwal_asli_5`. Amati dan jelaskan dalam bentuk komentar di kode Anda, mengapa `jadwal_asli_5` ikut berubah?"
   ]
  },
  {
   "cell_type": "code",
   "execution_count": null,
   "id": "10dce909",
   "metadata": {},
   "outputs": [
    {
     "name": "stdout",
     "output_type": "stream",
     "text": [
      "['Libur', 'Selasa', 'Rabu']\n",
      "['Libur', 'Selasa', 'Rabu']\n"
     ]
    }
   ],
   "source": [
    "jadwal_asli_5 = [\n",
    "    \"Senin\",\n",
    "    \"Selasa\",\n",
    "    \"Rabu\",\n",
    "]\n",
    "\n",
    "jadwal_cadangan_5 = jadwal_asli_5\n",
    "jadwal_cadangan_5[0] = \"Libur\"\n",
    "print(jadwal_cadangan_5)\n",
    "print(jadwal_asli_5)\n",
    "\n",
    "# ikut berubah karena jadwal_cadangan_5 adalah referensi ke jadwal_asli_5"
   ]
  },
  {
   "cell_type": "markdown",
   "id": "821e616d",
   "metadata": {},
   "source": [
    "### **Soal 6: Membuat Salinan List yang Sebenarnya**\n",
    "\n",
    "**Konteks:**\n",
    "Melanjutkan skenario sebelumnya, kali ini Anda ingin membuat `jadwal_cadangan` yang benar-benar independen dari `jadwal_asli`, sehingga perubahan pada jadwal cadangan tidak akan memengaruhi jadwal aslinya.\n",
    "\n",
    "**Tugas:**\n",
    "\n",
    "1.  Buat kembali list `jadwal_asli_6`:\n",
    "    ```python\n",
    "    [\"Senin\", \"Selasa\", \"Rabu\"]\n",
    "    ```\n",
    "2.  Buat sebuah **salinan (copy)** yang sebenarnya dari `jadwal_asli_6` dan simpan di `jadwal_cadangan_6`. Ada dua cara umum untuk melakukan ini:\n",
    "    * Menggunakan *slicing*: `jadwal_asli_6[:]`\n",
    "    * Menggunakan method `.copy()`: `jadwal_asli_6.copy()`\n",
    "    * **Pilih salah satu** dari dua metode di atas.\n",
    "3.  Ubah elemen pertama dari `jadwal_cadangan_6` menjadi `\"Libur\"`.\n",
    "4.  Cetak `jadwal_cadangan_6` dan `jadwal_asli_6`.\n",
    "5.  Verifikasi bahwa kali ini, `jadwal_asli_6` **tidak ikut berubah**."
   ]
  },
  {
   "cell_type": "code",
   "execution_count": null,
   "id": "1480d33d",
   "metadata": {},
   "outputs": [
    {
     "name": "stdout",
     "output_type": "stream",
     "text": [
      "['Libur', 'Selasa', 'Rabu']\n",
      "['Senin', 'Selasa', 'Rabu']\n"
     ]
    }
   ],
   "source": [
    "jadwal_asli_6 = [\n",
    "    \"Senin\",\n",
    "    \"Selasa\",\n",
    "    \"Rabu\",\n",
    "]\n",
    "\n",
    "jadwal_cadangan_6 = jadwal_asli_6.copy()\n",
    "jadwal_cadangan_6[0] = \"Libur\"\n",
    "print(jadwal_cadangan_6)\n",
    "print(jadwal_asli_6)\n",
    "\n",
    "# tidak berubah karena jadwal_cadangan_6 adalah salinan dari jadwal_asli_6"
   ]
  },
  {
   "cell_type": "markdown",
   "id": "6a6cd829",
   "metadata": {},
   "source": [
    "### **Soal 7: Menambah Elemen ke List dengan `.append()`**\n",
    "\n",
    "**Konteks:**\n",
    "Anda sedang mencatat daftar belanjaan. Setelah membuat daftar awal, Anda teringat ada satu barang lagi yang harus ditambahkan di akhir daftar.\n",
    "\n",
    "**Tugas:**\n",
    "\n",
    "1.  Buat sebuah list bernama `daftar_belanja_7`:\n",
    "    ```python\n",
    "    [\"Roti\", \"Susu\", \"Keju\"]\n",
    "    ```\n",
    "2.  Gunakan method `.append()` untuk menambahkan item baru, `\"Telur\"`, ke **akhir** dari `daftar_belanja_7`.\n",
    "3.  Cetak `daftar_belanja_7` yang telah diperbarui untuk melihat hasilnya."
   ]
  },
  {
   "cell_type": "code",
   "execution_count": 21,
   "id": "79db6e2f",
   "metadata": {},
   "outputs": [
    {
     "name": "stdout",
     "output_type": "stream",
     "text": [
      "['Roti', 'Susu', 'Keju', 'Telur']\n"
     ]
    }
   ],
   "source": [
    "daftar_belanja_7 = [\n",
    "    \"Roti\",\n",
    "    \"Susu\",\n",
    "    \"Keju\",\n",
    "]\n",
    "\n",
    "daftar_belanja_7.append(\"Telur\")\n",
    "print(daftar_belanja_7)"
   ]
  },
  {
   "cell_type": "markdown",
   "id": "907f3cbd",
   "metadata": {},
   "source": [
    "### **Soal 8: Menambah Beberapa Elemen dengan `.extend()`**\n",
    "\n",
    "**Konteks:**\n",
    "Anda memiliki dua daftar belanjaan terpisah: satu untuk bahan pokok dan satu lagi untuk buah-buahan. Anda ingin menggabungkan daftar buah-buahan ke dalam daftar bahan pokok menjadi satu daftar belanjaan yang utuh.\n",
    "\n",
    "**Tugas:**\n",
    "\n",
    "1.  Buat dua list:\n",
    "    ```python\n",
    "    daftar_pokok_8 = [\"Beras\", \"Minyak\", \"Gula\"]\n",
    "    daftar_buah_8 = [\"Apel\", \"Jeruk\", \"Pisang\"]\n",
    "    ```\n",
    "2.  Gunakan method `.extend()` untuk menambahkan **semua elemen** dari `daftar_buah_8` ke akhir `daftar_pokok_8`.\n",
    "3.  Cetak `daftar_pokok_8` yang telah diperbarui.\n",
    "4.  Sebagai bahan pemikiran, tambahkan komentar di bawah kode Anda: apa yang akan terjadi jika Anda menggunakan `.append(daftar_buah_8)` alih-alih `.extend()`?"
   ]
  },
  {
   "cell_type": "code",
   "execution_count": 24,
   "id": "451ee6f1",
   "metadata": {},
   "outputs": [
    {
     "name": "stdout",
     "output_type": "stream",
     "text": [
      "['Beras', 'Minyak', 'Gula', 'Apel', 'Jeruk', 'Pisang']\n"
     ]
    }
   ],
   "source": [
    "daftar_pokok_8 = [\n",
    "    \"Beras\",\n",
    "    \"Minyak\",\n",
    "    \"Gula\",\n",
    "]\n",
    "daftar_buah_8 = [\n",
    "    \"Apel\",\n",
    "    \"Jeruk\",\n",
    "    \"Pisang\",\n",
    "]\n",
    "\n",
    "daftar_pokok_8.extend(daftar_buah_8)\n",
    "print(daftar_pokok_8)\n",
    "\n",
    "# yang akan terjadi jika menggunakan append adalah daftar_buah_8 akan menjadi elemen tunggal di dalam daftar_pokok_8 "
   ]
  },
  {
   "cell_type": "markdown",
   "id": "26e44059",
   "metadata": {},
   "source": [
    "### **Soal 9: Menghapus Elemen List (`del` dan `.remove()`)**\n",
    "\n",
    "**Konteks:**\n",
    "Anda sedang merapikan daftar email. Anda perlu menghapus email pertama karena sudah tidak valid dan mencari email tertentu untuk dihapus berdasarkan nilainya.\n",
    "\n",
    "**Tugas:**\n",
    "\n",
    "1.  Buat sebuah list bernama `daftar_email_9`:\n",
    "    ```python\n",
    "    [\"user1@email.com\", \"user2@email.com\", \"spam@email.com\", \"user3@email.com\"]\n",
    "    ```\n",
    "2.  Gunakan `del` untuk menghapus elemen **berdasarkan posisinya**. Hapus email pertama (indeks 0) dari `daftar_email_9`.\n",
    "3.  Setelah itu, gunakan method `.remove()` untuk menghapus elemen **berdasarkan nilainya**. Hapus email `\"spam@email.com\"` dari list.\n",
    "4.  Cetak `daftar_email_9` yang sudah final untuk melihat hasilnya."
   ]
  },
  {
   "cell_type": "code",
   "execution_count": 25,
   "id": "7b9c3212",
   "metadata": {},
   "outputs": [
    {
     "name": "stdout",
     "output_type": "stream",
     "text": [
      "['user2@email.com', 'user3@email.com']\n"
     ]
    }
   ],
   "source": [
    "daftar_email_9 = [\n",
    "    \"user1@email.com\",\n",
    "    \"user2@email.com\",\n",
    "    \"spam@email.com\",\n",
    "    \"user3@email.com\",\n",
    "]\n",
    "\n",
    "del daftar_email_9[0]\n",
    "daftar_email_9.remove(\"spam@email.com\")\n",
    "print(daftar_email_9)"
   ]
  },
  {
   "cell_type": "markdown",
   "id": "8202e08d",
   "metadata": {},
   "source": [
    "### **Soal 10: Operasi List Gabungan**\n",
    "\n",
    "**Konteks:**\n",
    "Anda memiliki daftar skor pemain, tetapi Anda perlu melakukan \"normalisasi\" data. Anda ingin mengganti skor pemain di posisi tengah dengan skor rata-rata dari pemain pertama dan terakhir, tanpa mengubah daftar skor asli.\n",
    "\n",
    "**Tugas:**\n",
    "\n",
    "1.  Buat sebuah list skor:\n",
    "    ```python\n",
    "    skor_asli_10 = [1200, 1500, 1450, 1600, 1800]\n",
    "    ```\n",
    "2.  Buat **salinan** yang aman dari `skor_asli_10` dan beri nama `skor_modifikasi_10`.\n",
    "3.  Hitung nilai rata-rata dari skor **pertama** dan **terakhir** di `skor_asli_10`. Simpan di `rata_rata_skor_10`.\n",
    "4.  Ganti **tiga skor di tengah** (indeks 1, 2, dan 3) dari `skor_modifikasi_10` dengan satu nilai saja, yaitu `rata_rata_skor_10`. Gunakan *slicing* di sisi kiri penugasan untuk melakukan ini.\n",
    "5.  Cetak `skor_asli_10` untuk menunjukkan bahwa ia tidak berubah.\n",
    "6.  Cetak `skor_modifikasi_10` untuk menunjukkan hasilnya."
   ]
  },
  {
   "cell_type": "code",
   "execution_count": 31,
   "id": "842ab4dc",
   "metadata": {},
   "outputs": [
    {
     "name": "stdout",
     "output_type": "stream",
     "text": [
      "[1200, 1500, 1450, 1600, 1800]\n",
      "[1200, 1500.0, 1800]\n"
     ]
    }
   ],
   "source": [
    "skor_asli_10 = [\n",
    "    1200,\n",
    "    1500,\n",
    "    1450,\n",
    "    1600,\n",
    "    1800,\n",
    "]\n",
    "\n",
    "skor_modifikasi_10 = skor_asli_10.copy()\n",
    "rata_rata_skor_10 = (skor_asli_10[0] + skor_asli_10[-1]) / 2\n",
    "skor_modifikasi_10[1:4] = [rata_rata_skor_10]\n",
    "print(skor_asli_10)\n",
    "print(skor_modifikasi_10)"
   ]
  },
  {
   "cell_type": "code",
   "execution_count": null,
   "id": "983690b5",
   "metadata": {},
   "outputs": [],
   "source": []
  }
 ],
 "metadata": {
  "kernelspec": {
   "display_name": "Python 3",
   "language": "python",
   "name": "python3"
  },
  "language_info": {
   "codemirror_mode": {
    "name": "ipython",
    "version": 3
   },
   "file_extension": ".py",
   "mimetype": "text/x-python",
   "name": "python",
   "nbconvert_exporter": "python",
   "pygments_lexer": "ipython3",
   "version": "3.12.10"
  }
 },
 "nbformat": 4,
 "nbformat_minor": 5
}
