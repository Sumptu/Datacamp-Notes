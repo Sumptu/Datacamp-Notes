{
 "cells": [
  {
   "cell_type": "code",
   "execution_count": 15,
   "id": "32a9bf25",
   "metadata": {},
   "outputs": [
    {
     "name": "stdout",
     "output_type": "stream",
     "text": [
      "['kucing', 'anjing', 'kelinci', 'hamster', 'burung']\n",
      "<class 'list'>\n"
     ]
    }
   ],
   "source": [
    "nama_hewan_h4l = [\"kucing\", \"anjing\", \"kelinci\", \"hamster\", \"burung\"]\n",
    "\n",
    "print(nama_hewan_h4l)\n",
    "print(type(nama_hewan_h4l))"
   ]
  },
  {
   "cell_type": "code",
   "execution_count": 14,
   "id": "2c4853fe",
   "metadata": {},
   "outputs": [
    {
     "name": "stdout",
     "output_type": "stream",
     "text": [
      "['Narendra', 20, True, 1.91]\n",
      "<class 'str'>\n",
      "<class 'bool'>\n"
     ]
    }
   ],
   "source": [
    "data_campuran_h4l = [\n",
    "    \"Narendra\",\n",
    "    20,\n",
    "    True,\n",
    "    1.91,\n",
    "]\n",
    "\n",
    "print(data_campuran_h4l)\n",
    "print(type(data_campuran_h4l[0]))\n",
    "print(type(data_campuran_h4l[2]))"
   ]
  },
  {
   "cell_type": "code",
   "execution_count": 5,
   "id": "0bfb245f",
   "metadata": {},
   "outputs": [
    {
     "name": "stdout",
     "output_type": "stream",
     "text": [
      "kucing\n",
      "burung\n"
     ]
    }
   ],
   "source": [
    "# menggunakan list nama_hewan_h4l sebelumnya\n",
    "hewan_pilihan_pertama_h4l = nama_hewan_h4l[0]\n",
    "hewan_pilihan_terakhir_h4l = nama_hewan_h4l[-1]\n",
    "\n",
    "print(hewan_pilihan_pertama_h4l)\n",
    "print(hewan_pilihan_terakhir_h4l)"
   ]
  },
  {
   "cell_type": "code",
   "execution_count": 6,
   "id": "2c8b6096",
   "metadata": {},
   "outputs": [
    {
     "name": "stdout",
     "output_type": "stream",
     "text": [
      "['anjing', 'kelinci', 'hamster']\n",
      "['kucing', 'anjing']\n",
      "['hamster', 'burung']\n"
     ]
    }
   ],
   "source": [
    "# menggunakan list nama_hewan_h4l sebelumnya\n",
    "hewan_tengah_h4l = nama_hewan_h4l[1:4]\n",
    "hewan_awal_dua_h4l = nama_hewan_h4l[:2]\n",
    "hewan_akhir_dua_h4l = nama_hewan_h4l[-2:]\n",
    "\n",
    "print(hewan_tengah_h4l)\n",
    "print(hewan_awal_dua_h4l)\n",
    "print(hewan_akhir_dua_h4l)"
   ]
  },
  {
   "cell_type": "code",
   "execution_count": 7,
   "id": "1fe12ed7",
   "metadata": {},
   "outputs": [
    {
     "name": "stdout",
     "output_type": "stream",
     "text": [
      "[['Apel', 15.5, 30000], ['Jeruk', 20.0, 22000], ['Mangga', 10.75, 25000]]\n",
      "Jeruk\n",
      "25000\n"
     ]
    }
   ],
   "source": [
    "inventaris_toko_buah_h4l = [\n",
    "    [\"Apel\", 15.5, 30000],\n",
    "    [\"Jeruk\", 20.0, 22000],\n",
    "    [\"Mangga\", 10.75, 25000],\n",
    "]\n",
    "\n",
    "print(inventaris_toko_buah_h4l)\n",
    "\n",
    "nama_buah_kedua_h4l = inventaris_toko_buah_h4l[1][0]\n",
    "harga_mangga_h4l = inventaris_toko_buah_h4l[2][2]\n",
    "\n",
    "print(nama_buah_kedua_h4l)\n",
    "print(harga_mangga_h4l)"
   ]
  },
  {
   "cell_type": "code",
   "execution_count": 10,
   "id": "dcfea9da",
   "metadata": {},
   "outputs": [
    {
     "name": "stdout",
     "output_type": "stream",
     "text": [
      "['Apel', 15.5]\n",
      "[20.0, 22000]\n"
     ]
    }
   ],
   "source": [
    "# Menggunakan list inventaris_toko_buah_h4l sebelumnya\n",
    "info_buah_pertama_h4l = inventaris_toko_buah_h4l[0][0:2]\n",
    "detail_harga_buah_kedua_h4l = inventaris_toko_buah_h4l[1][1:3]\n",
    "\n",
    "print(info_buah_pertama_h4l)\n",
    "print(detail_harga_buah_kedua_h4l)"
   ]
  },
  {
   "cell_type": "code",
   "execution_count": 16,
   "id": "dc6aef57",
   "metadata": {},
   "outputs": [
    {
     "name": "stdout",
     "output_type": "stream",
     "text": [
      "['kucing', 'anjing', 'marmut', 'hamster', 'burung']\n",
      "['kucing', 'anjing', 'marmut', 'merpati', 'kakaktua']\n"
     ]
    }
   ],
   "source": [
    "# Menggunakan list sebelumnya nama_hewan_h4l untuk dimodifikasi\n",
    "nama_hewan_h4l[2] = \"marmut\"\n",
    "\n",
    "print(nama_hewan_h4l)\n",
    "\n",
    "nama_hewan_h4l[3:5] = [\"merpati\", \"kakaktua\"]\n",
    "\n",
    "print(nama_hewan_h4l)"
   ]
  },
  {
   "cell_type": "code",
   "execution_count": 17,
   "id": "5846709d",
   "metadata": {},
   "outputs": [
    {
     "name": "stdout",
     "output_type": "stream",
     "text": [
      "[10, 20, 30, 40, 50]\n",
      "[10, 20, 30]\n",
      "[10, 20, 30, 40, 50]\n"
     ]
    }
   ],
   "source": [
    "angka_awal_h4l = [10, 20, 30]\n",
    "angka_tambahan_h4l = [40, 50]\n",
    "\n",
    "angka_gabungan_h4l = angka_awal_h4l + angka_tambahan_h4l\n",
    "print(angka_gabungan_h4l)\n",
    "print(angka_awal_h4l)\n",
    "\n",
    "angka_awal_h4l.extend(angka_tambahan_h4l)\n",
    "print(angka_awal_h4l)"
   ]
  },
  {
   "cell_type": "code",
   "execution_count": 18,
   "id": "d1909543",
   "metadata": {},
   "outputs": [
    {
     "name": "stdout",
     "output_type": "stream",
     "text": [
      "['Sapu lantai', 'Belanja mingguan', 'Buang sampah', 'Siram tanaman']\n",
      "['Sapu lantai', 'Belanja mingguan']\n"
     ]
    }
   ],
   "source": [
    "jadwal_tugas_h4l = [\n",
    "    \"Cuci piring\",\n",
    "    \"Sapu lantai\",\n",
    "    \"Belanja mingguan\",\n",
    "    \"Buang sampah\",\n",
    "    \"Siram tanaman\",\n",
    "]\n",
    "\n",
    "del jadwal_tugas_h4l[0]\n",
    "print(jadwal_tugas_h4l)\n",
    "del jadwal_tugas_h4l[2:4]\n",
    "print(jadwal_tugas_h4l)"
   ]
  },
  {
   "cell_type": "code",
   "execution_count": null,
   "id": "c67a0aa8",
   "metadata": {},
   "outputs": [
    {
     "name": "stdout",
     "output_type": "stream",
     "text": [
      "[100, 2, 3, 4, 5]\n",
      "[100, 2, 3, 4, 5]\n",
      "[1, 200, 3, 4, 5]\n"
     ]
    }
   ],
   "source": [
    "list_asli_h4l = [1, 2, 3, 4, 5]\n",
    "list_referensi_h4l = list_asli_h4l  \n",
    "list_salinan_h4l = list(list_asli_h4l)\n",
    "\n",
    "list_referensi_h4l[0] = 100\n",
    "list_salinan_h4l[1] = 200\n",
    "\n",
    "print(list_asli_h4l)\n",
    "print(list_referensi_h4l)\n",
    "print(list_salinan_h4l)\n",
    "\n",
    "# untuk list_referensi_h4l ketika diubah nilainya, maka list_asli_h4l juga ikut berubah kaarena mereka menggunakan referensi yang sama(bukan list baru) sedangkan untuk list_salinan_h4l ketika diubah nilainya, maka list_asli_h4l tidak ikut berubah karena mereka menggunakan referensi yang berbeda(list baru)\n"
   ]
  }
 ],
 "metadata": {
  "kernelspec": {
   "display_name": "tutorial_notebook",
   "language": "python",
   "name": "python3"
  },
  "language_info": {
   "codemirror_mode": {
    "name": "ipython",
    "version": 3
   },
   "file_extension": ".py",
   "mimetype": "text/x-python",
   "name": "python",
   "nbconvert_exporter": "python",
   "pygments_lexer": "ipython3",
   "version": "3.13.2"
  }
 },
 "nbformat": 4,
 "nbformat_minor": 5
}
