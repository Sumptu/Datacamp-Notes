{
 "cells": [
  {
   "cell_type": "code",
   "execution_count": 19,
   "id": "1f3e8abb",
   "metadata": {},
   "outputs": [],
   "source": [
    "def add_package(k):\n",
    "    from math import sqrt\n",
    "    return sqrt(k)\n",
    "\n",
    "def len_string(a):\n",
    "    return len(a)\n",
    "\n",
    "def join(a, b):\n",
    "    return a + \" \" + b\n",
    "\n",
    "def calculate(\n",
    "    num1,\n",
    "    num2,\n",
    "    operation\n",
    "):\n",
    "    if operation == \"add\":\n",
    "        return num1 + num2\n",
    "    elif operation == \"subtract\":\n",
    "        return num1 - num2\n",
    "    elif operation == \"multiply\":\n",
    "        return num1 * num2\n",
    "    elif operation == \"divide\":\n",
    "        return num1 / num2\n",
    "    else:\n",
    "        return \"Invalid operation\"\n",
    "\n",
    "def know_length(c, d):\n",
    "    if len(c) > len(d):\n",
    "        return c\n",
    "    elif len(d) > len(c):\n",
    "        return d\n",
    "    else:\n",
    "        return \"Strings are equal in length\"\n",
    "\n",
    "def know_list(e):\n",
    "    return sum(e)\n",
    "\n",
    "def vokal(f):\n",
    "    f = f.lower()\n",
    "    jumlah = 0\n",
    "    vokal = [\"a\", \"i\", \"u\", \"e\", \"o\"]\n",
    "    for _ in f:\n",
    "        if _ in vokal:\n",
    "            jumlah += 1\n",
    "    \n",
    "    return jumlah\n",
    "\n",
    "def borrow_list(g):\n",
    "    average_list = sum(g) / len(g)\n",
    "    new_list = [element for element in g if element > average_list]\n",
    "    return new_list\n",
    "\n",
    "def irisan(h, i):\n",
    "    return list(set(h) & set(i))\n",
    "\n",
    "def reserved_string(j):\n",
    "    return j[::-1]"
   ]
  },
  {
   "cell_type": "code",
   "execution_count": 20,
   "id": "1ecfed79",
   "metadata": {},
   "outputs": [
    {
     "name": "stdout",
     "output_type": "stream",
     "text": [
      "4.47213595499958\n"
     ]
    }
   ],
   "source": [
    "print(add_package(20))"
   ]
  },
  {
   "cell_type": "code",
   "execution_count": null,
   "id": "27fe4959",
   "metadata": {},
   "outputs": [],
   "source": []
  }
 ],
 "metadata": {
  "kernelspec": {
   "display_name": "tutorial_notebook",
   "language": "python",
   "name": "python3"
  },
  "language_info": {
   "codemirror_mode": {
    "name": "ipython",
    "version": 3
   },
   "file_extension": ".py",
   "mimetype": "text/x-python",
   "name": "python",
   "nbconvert_exporter": "python",
   "pygments_lexer": "ipython3",
   "version": "3.13.2"
  }
 },
 "nbformat": 4,
 "nbformat_minor": 5
}
