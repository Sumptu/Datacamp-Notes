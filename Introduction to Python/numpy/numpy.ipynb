{
 "cells": [
  {
   "cell_type": "markdown",
   "id": "a002025b",
   "metadata": {},
   "source": [
    "## Lists Recap\n",
    "- Powerful\n",
    "- Collection of values\n",
    "- Hold different types\n",
    "- Change, add, remove\n",
    "\n",
    "Minus points as need for Data Science:\n",
    "- Mathematical operations over collections\n",
    "- Speed\n"
   ]
  },
  {
   "cell_type": "markdown",
   "id": "152f8e86",
   "metadata": {},
   "source": [
    "## Illustration Problem"
   ]
  },
  {
   "cell_type": "code",
   "execution_count": 5,
   "id": "3ceaa790",
   "metadata": {},
   "outputs": [
    {
     "name": "stdout",
     "output_type": "stream",
     "text": [
      "[1.73, 1.68, 1.71, 1.89, 1.79]\n",
      "[65.4, 59.2, 63.6, 88.4, 68.7]\n"
     ]
    }
   ],
   "source": [
    "height = [1.73, 1.68, 1.71, 1.89, 1.79]\n",
    "weight = [65.4, 59.2, 63.6, 88.4, 68.7]\n",
    "\n",
    "print(height)\n",
    "print(weight)"
   ]
  },
  {
   "cell_type": "code",
   "execution_count": 6,
   "id": "967ab12e",
   "metadata": {},
   "outputs": [
    {
     "ename": "TypeError",
     "evalue": "unsupported operand type(s) for ** or pow(): 'list' and 'int'",
     "output_type": "error",
     "traceback": [
      "\u001b[1;31m---------------------------------------------------------------------------\u001b[0m",
      "\u001b[1;31mTypeError\u001b[0m                                 Traceback (most recent call last)",
      "Cell \u001b[1;32mIn[6], line 2\u001b[0m\n\u001b[0;32m      1\u001b[0m \u001b[38;5;66;03m# calculating BMI, there an error\u001b[39;00m\n\u001b[1;32m----> 2\u001b[0m weight \u001b[38;5;241m/\u001b[39m height \u001b[38;5;241m*\u001b[39m\u001b[38;5;241m*\u001b[39m \u001b[38;5;241m2\u001b[39m\n",
      "\u001b[1;31mTypeError\u001b[0m: unsupported operand type(s) for ** or pow(): 'list' and 'int'"
     ]
    }
   ],
   "source": [
    "# calculating BMI, there an error\n",
    "weight / height ** 2"
   ]
  },
  {
   "cell_type": "markdown",
   "id": "beacbcf5",
   "metadata": {},
   "source": [
    "## Solution: NumPy\n",
    "- Numeric Python\n",
    "- Alternative to Python lists: NumPy array\n",
    "- Calculations over entire arrays\n",
    "- Easy and Fast"
   ]
  },
  {
   "cell_type": "markdown",
   "id": "9f6ca772",
   "metadata": {},
   "source": [
    "## NumPy"
   ]
  },
  {
   "cell_type": "code",
   "execution_count": 7,
   "id": "edce4d95",
   "metadata": {},
   "outputs": [],
   "source": [
    "import numpy as np"
   ]
  },
  {
   "cell_type": "code",
   "execution_count": 9,
   "id": "62fee48c",
   "metadata": {},
   "outputs": [
    {
     "name": "stdout",
     "output_type": "stream",
     "text": [
      "[1.73 1.68 1.71 1.89 1.79]\n",
      "[65.4 59.2 63.6 88.4 68.7]\n"
     ]
    }
   ],
   "source": [
    "np_height = np.array(height)\n",
    "np_weight = np.array(weight)\n",
    "\n",
    "print(np_height)\n",
    "print(np_weight)"
   ]
  },
  {
   "cell_type": "code",
   "execution_count": 5,
   "id": "07707095",
   "metadata": {},
   "outputs": [
    {
     "name": "stdout",
     "output_type": "stream",
     "text": [
      "[21.85171573 20.97505669 21.75028214 24.7473475  21.44127836]\n"
     ]
    }
   ],
   "source": [
    "# Calculate BMI\n",
    "bmi = np_weight / np_height ** 2\n",
    "print(bmi)"
   ]
  },
  {
   "cell_type": "markdown",
   "id": "41a1b1b6",
   "metadata": {},
   "source": [
    "## NumPy: Remarks\n",
    "- NumPy arrays: contain only one type\n",
    "- Different types: different behavior"
   ]
  },
  {
   "cell_type": "code",
   "execution_count": null,
   "id": "8ac151d7",
   "metadata": {},
   "outputs": [
    {
     "name": "stdout",
     "output_type": "stream",
     "text": [
      "['1.0' 'is' 'True']\n"
     ]
    }
   ],
   "source": [
    "# Contain only one type\n",
    "print(np.array([1.0, \"is\", True])) # all change to string"
   ]
  },
  {
   "cell_type": "code",
   "execution_count": null,
   "id": "48fa1167",
   "metadata": {},
   "outputs": [],
   "source": [
    "python_list = [1, 2, 3]\n",
    "numpy_array = np.array([1, 2, 3])\n"
   ]
  },
  {
   "cell_type": "code",
   "execution_count": null,
   "id": "512513b8",
   "metadata": {},
   "outputs": [
    {
     "data": {
      "text/plain": [
       "[1, 2, 3, 1, 2, 3]"
      ]
     },
     "execution_count": 8,
     "metadata": {},
     "output_type": "execute_result"
    }
   ],
   "source": [
    "python_list + python_list\n",
    "# Menambahkan list Python dengan dirinya sendiri, menghasilkan pengulangan elemen-elemen list.\n"
   ]
  },
  {
   "cell_type": "code",
   "execution_count": null,
   "id": "502ef0b7",
   "metadata": {},
   "outputs": [
    {
     "data": {
      "text/plain": [
       "array([2, 4, 6])"
      ]
     },
     "execution_count": 9,
     "metadata": {},
     "output_type": "execute_result"
    }
   ],
   "source": [
    "numpy_array + numpy_array\n",
    "# Menambahkan array NumPy dengan dirinya sendiri, yang menghasilkan penjumlahan elemen-elemen array secara elemen per elemen.\n"
   ]
  },
  {
   "cell_type": "markdown",
   "id": "293cc29b",
   "metadata": {},
   "source": [
    "## NumPy Subsetting"
   ]
  },
  {
   "cell_type": "code",
   "execution_count": 10,
   "id": "17b95e5b",
   "metadata": {},
   "outputs": [
    {
     "name": "stdout",
     "output_type": "stream",
     "text": [
      "[21.85171573 20.97505669 21.75028214 24.7473475  21.44127836]\n"
     ]
    }
   ],
   "source": [
    "print(bmi)"
   ]
  },
  {
   "cell_type": "code",
   "execution_count": 11,
   "id": "dbbd574d",
   "metadata": {},
   "outputs": [
    {
     "name": "stdout",
     "output_type": "stream",
     "text": [
      "20.97505668934241\n"
     ]
    }
   ],
   "source": [
    "print(bmi[1])"
   ]
  },
  {
   "cell_type": "code",
   "execution_count": 12,
   "id": "2f13b5f3",
   "metadata": {},
   "outputs": [
    {
     "name": "stdout",
     "output_type": "stream",
     "text": [
      "[False False False  True False]\n"
     ]
    }
   ],
   "source": [
    "print(bmi > 23)"
   ]
  },
  {
   "cell_type": "code",
   "execution_count": 13,
   "id": "99a14cff",
   "metadata": {},
   "outputs": [
    {
     "name": "stdout",
     "output_type": "stream",
     "text": [
      "[24.7473475]\n"
     ]
    }
   ],
   "source": [
    "print(bmi[bmi > 23])"
   ]
  }
 ],
 "metadata": {
  "kernelspec": {
   "display_name": "tutorial_notebook",
   "language": "python",
   "name": "python3"
  },
  "language_info": {
   "codemirror_mode": {
    "name": "ipython",
    "version": 3
   },
   "file_extension": ".py",
   "mimetype": "text/x-python",
   "name": "python",
   "nbconvert_exporter": "python",
   "pygments_lexer": "ipython3",
   "version": "3.13.2"
  }
 },
 "nbformat": 4,
 "nbformat_minor": 5
}
