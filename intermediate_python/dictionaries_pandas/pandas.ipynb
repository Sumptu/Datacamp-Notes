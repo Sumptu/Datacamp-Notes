{
 "cells": [
  {
   "cell_type": "markdown",
   "id": "2853172b",
   "metadata": {},
   "source": [
    "# Tabular Dataset Example\n",
    "![image.png](image_2.png)"
   ]
  },
  {
   "cell_type": "markdown",
   "id": "0cc21187",
   "metadata": {
    "vscode": {
     "languageId": "plaintext"
    }
   },
   "source": [
    "# Datasets in Python\n",
    "- 2D Numpy Arrays?\n",
    "    - its not the right choice because arrays only allow 1 data type, whereas what is needed requires various data types.\n",
    "\n",
    "- Pandas\n",
    "    - pandas is a high level manipulation tool, it created by Wes McKinney in 2008. It is built on top of numpy. compare to numpy, pandas is more user friendly.\n",
    "    - in pandas we store the tabular data in a dataframe."
   ]
  },
  {
   "cell_type": "code",
   "execution_count": 2,
   "id": "a587e39f",
   "metadata": {},
   "outputs": [
    {
     "name": "stdout",
     "output_type": "stream",
     "text": [
      "         country    capital    area  population\n",
      "BR        Brazil   Brasilia   8.516      200.40\n",
      "RU        Russia     Moscow  17.100      143.50\n",
      "IN         India  New Delhi   3.286     1252.00\n",
      "CH         China    Beijing   9.597     1357.00\n",
      "SA  South Africa   Pretoria   1.221       52.98\n"
     ]
    }
   ],
   "source": [
    "import pandas as pd\n",
    "\n",
    "brics = pd.read_csv('https://assets.datacamp.com/production/repositories/287/datasets/b60fb5bdbeb4e4ab0545c485d351e6ff5428a155/brics.csv', index_col=0)\n",
    "print(brics)"
   ]
  },
  {
   "cell_type": "markdown",
   "id": "72878636",
   "metadata": {},
   "source": [
    "# Dataframe from a dictionary"
   ]
  },
  {
   "cell_type": "code",
   "execution_count": 3,
   "id": "d6bb8426",
   "metadata": {},
   "outputs": [],
   "source": [
    "dict = {\n",
    "    \"country\": [\"Brazil\", \"Russia\", \"India\", \"China\", \"South Africa\"],\n",
    "    \"capital\": [\"Brasilia\", \"Moscow\", \"New Dehli\", \"Beijing\", \"Pretoria\"],\n",
    "    \"area\": [8.516, 17.10, 3.286, 9.597, 1.221],    \n",
    "    \"population\": [200.4, 143.50, 1252.00, 1357.00, 52.98],\n",
    "}\n"
   ]
  },
  {
   "cell_type": "markdown",
   "id": "0b45e62a",
   "metadata": {},
   "source": [
    "- keys (column labels)\n",
    "- values (data, column by column)"
   ]
  },
  {
   "cell_type": "code",
   "execution_count": 4,
   "id": "6076bdd4",
   "metadata": {},
   "outputs": [
    {
     "name": "stdout",
     "output_type": "stream",
     "text": [
      "        country    capital    area  population\n",
      "0        Brazil   Brasilia   8.516      200.40\n",
      "1        Russia     Moscow  17.100      143.50\n",
      "2         India  New Dehli   3.286     1252.00\n",
      "3         China    Beijing   9.597     1357.00\n",
      "4  South Africa   Pretoria   1.221       52.98\n"
     ]
    }
   ],
   "source": [
    "import pandas as pd\n",
    "brics_dict = pd.DataFrame(dict)\n",
    "\n",
    "print(brics_dict)"
   ]
  },
  {
   "cell_type": "code",
   "execution_count": 5,
   "id": "f5bb5b2f",
   "metadata": {},
   "outputs": [
    {
     "name": "stdout",
     "output_type": "stream",
     "text": [
      "         country    capital    area  population\n",
      "BR        Brazil   Brasilia   8.516      200.40\n",
      "RU        Russia     Moscow  17.100      143.50\n",
      "IN         India  New Dehli   3.286     1252.00\n",
      "CH         China    Beijing   9.597     1357.00\n",
      "SA  South Africa   Pretoria   1.221       52.98\n"
     ]
    }
   ],
   "source": [
    "# can set index atribute with the correct labels\n",
    "brics_dict.index = ['BR', 'RU', 'IN', 'CH', 'SA']\n",
    "print(brics_dict)"
   ]
  },
  {
   "cell_type": "markdown",
   "id": "62577d2b",
   "metadata": {},
   "source": [
    "# DataFrame from CSV File"
   ]
  },
  {
   "cell_type": "code",
   "execution_count": 6,
   "id": "55ff341c",
   "metadata": {},
   "outputs": [
    {
     "name": "stdout",
     "output_type": "stream",
     "text": [
      "         country    capital    area  population\n",
      "BR        Brazil   Brasilia   8.516      200.40\n",
      "RU        Russia     Moscow  17.100      143.50\n",
      "IN         India  New Delhi   3.286     1252.00\n",
      "CH         China    Beijing   9.597     1357.00\n",
      "SA  South Africa   Pretoria   1.221       52.98\n"
     ]
    }
   ],
   "source": [
    "import pandas as pd\n",
    "\n",
    "brics = pd.read_csv('https://assets.datacamp.com/production/repositories/287/datasets/b60fb5bdbeb4e4ab0545c485d351e6ff5428a155/brics.csv', index_col=0)\n",
    "print(brics)"
   ]
  },
  {
   "cell_type": "markdown",
   "id": "fd99ac38",
   "metadata": {},
   "source": [
    "# Index and selecting data\n",
    "- Square brackets []\n",
    "- Advanced method\n",
    "    - .loc[]\n",
    "    - .iloc[]"
   ]
  },
  {
   "cell_type": "markdown",
   "id": "2cbd1cfd",
   "metadata": {},
   "source": [
    "# Column Access []"
   ]
  },
  {
   "cell_type": "code",
   "execution_count": 7,
   "id": "30eb5359",
   "metadata": {},
   "outputs": [
    {
     "name": "stdout",
     "output_type": "stream",
     "text": [
      "BR          Brazil\n",
      "RU          Russia\n",
      "IN           India\n",
      "CH           China\n",
      "SA    South Africa\n",
      "Name: country, dtype: object\n"
     ]
    }
   ],
   "source": [
    "print(brics[\"country\"])"
   ]
  },
  {
   "cell_type": "code",
   "execution_count": null,
   "id": "752d6720",
   "metadata": {},
   "outputs": [
    {
     "name": "stdout",
     "output_type": "stream",
     "text": [
      "<class 'pandas.core.series.Series'>\n"
     ]
    }
   ],
   "source": [
    "print(type(brics[\"country\"])) # 1D labelled array"
   ]
  },
  {
   "cell_type": "code",
   "execution_count": 10,
   "id": "4798c49b",
   "metadata": {},
   "outputs": [
    {
     "name": "stdout",
     "output_type": "stream",
     "text": [
      "         country\n",
      "BR        Brazil\n",
      "RU        Russia\n",
      "IN         India\n",
      "CH         China\n",
      "SA  South Africa\n"
     ]
    }
   ],
   "source": [
    "print(brics[[\"country\"]])"
   ]
  },
  {
   "cell_type": "code",
   "execution_count": 11,
   "id": "ac09963e",
   "metadata": {},
   "outputs": [
    {
     "name": "stdout",
     "output_type": "stream",
     "text": [
      "<class 'pandas.core.frame.DataFrame'>\n"
     ]
    }
   ],
   "source": [
    "print(type(brics[[\"country\"]]))"
   ]
  },
  {
   "cell_type": "code",
   "execution_count": 12,
   "id": "211edfe5",
   "metadata": {},
   "outputs": [
    {
     "name": "stdout",
     "output_type": "stream",
     "text": [
      "         country    capital\n",
      "BR        Brazil   Brasilia\n",
      "RU        Russia     Moscow\n",
      "IN         India  New Delhi\n",
      "CH         China    Beijing\n",
      "SA  South Africa   Pretoria\n"
     ]
    }
   ],
   "source": [
    "print(brics[[\"country\", \"capital\"]])"
   ]
  },
  {
   "cell_type": "markdown",
   "id": "7c786f63",
   "metadata": {},
   "source": [
    "# Row Accesss []"
   ]
  },
  {
   "cell_type": "code",
   "execution_count": 13,
   "id": "69b9fa0b",
   "metadata": {},
   "outputs": [
    {
     "name": "stdout",
     "output_type": "stream",
     "text": [
      "   country    capital    area  population\n",
      "RU  Russia     Moscow  17.100       143.5\n",
      "IN   India  New Delhi   3.286      1252.0\n",
      "CH   China    Beijing   9.597      1357.0\n"
     ]
    }
   ],
   "source": [
    "print(brics[1:4])"
   ]
  },
  {
   "cell_type": "markdown",
   "id": "fd272a46",
   "metadata": {},
   "source": [
    "# Discussion []\n",
    "- Square brackets: limited functionality\n",
    "- Ideally\n",
    "    - 2D NumPy arrays\n",
    "    - my_array[row, column]\n",
    "- pandas\n",
    "    - loc (label-based)\n",
    "    - iloc (integer position-based)\n",
    "    "
   ]
  },
  {
   "cell_type": "markdown",
   "id": "51a10203",
   "metadata": {},
   "source": [
    "# Row Access loc"
   ]
  },
  {
   "cell_type": "code",
   "execution_count": null,
   "id": "29434c19",
   "metadata": {},
   "outputs": [
    {
     "name": "stdout",
     "output_type": "stream",
     "text": [
      "country       Russia\n",
      "capital       Moscow\n",
      "area            17.1\n",
      "population     143.5\n",
      "Name: RU, dtype: object\n"
     ]
    }
   ],
   "source": [
    "print(brics.loc[\"RU\"]) # Row as pandas Series"
   ]
  },
  {
   "cell_type": "code",
   "execution_count": 15,
   "id": "4fa7e961",
   "metadata": {},
   "outputs": [
    {
     "name": "stdout",
     "output_type": "stream",
     "text": [
      "   country capital  area  population\n",
      "RU  Russia  Moscow  17.1       143.5\n"
     ]
    }
   ],
   "source": [
    "print(brics.loc[[\"RU\"]]) # Dataframe"
   ]
  },
  {
   "cell_type": "code",
   "execution_count": 16,
   "id": "a97be9fd",
   "metadata": {},
   "outputs": [
    {
     "name": "stdout",
     "output_type": "stream",
     "text": [
      "   country    capital    area  population\n",
      "RU  Russia     Moscow  17.100       143.5\n",
      "IN   India  New Delhi   3.286      1252.0\n",
      "CH   China    Beijing   9.597      1357.0\n"
     ]
    }
   ],
   "source": [
    "print(brics.loc[['RU','IN','CH']])"
   ]
  },
  {
   "cell_type": "markdown",
   "id": "657e1fdc",
   "metadata": {},
   "source": [
    "# Row & Column loc"
   ]
  },
  {
   "cell_type": "code",
   "execution_count": 17,
   "id": "cc567fa8",
   "metadata": {},
   "outputs": [
    {
     "name": "stdout",
     "output_type": "stream",
     "text": [
      "   country    capital\n",
      "BR  Brazil   Brasilia\n",
      "RU  Russia     Moscow\n",
      "IN   India  New Delhi\n"
     ]
    }
   ],
   "source": [
    "print(brics.loc[[\"BR\", \"RU\", \"IN\"], [\"country\", \"capital\"]])"
   ]
  },
  {
   "cell_type": "code",
   "execution_count": 18,
   "id": "8594218f",
   "metadata": {},
   "outputs": [
    {
     "name": "stdout",
     "output_type": "stream",
     "text": [
      "         country    capital\n",
      "BR        Brazil   Brasilia\n",
      "RU        Russia     Moscow\n",
      "IN         India  New Delhi\n",
      "CH         China    Beijing\n",
      "SA  South Africa   Pretoria\n"
     ]
    }
   ],
   "source": [
    "print(brics.loc[:, ['country', 'capital']])"
   ]
  },
  {
   "cell_type": "markdown",
   "id": "6e390135",
   "metadata": {},
   "source": [
    "# Recap\n",
    "- Square brackets\n",
    "    - Column access: brics[[\"country\", \"\"capital\"]]\n",
    "    - Row access: only through slicing, brics[0:2]\n",
    "- loc (label-based)\n",
    "    - Row access: brics.loc[[\"RU\", \"IN\", \"CH\"]]\n",
    "    - Column access: brics.loc[:, [\"country\", \"capital\"]]\n",
    "    - Row and column access: brics.loc[[\"RU\", \"IN\", \"CH\"], [\"country\", \"capital\"]]"
   ]
  },
  {
   "cell_type": "markdown",
   "id": "ada37c8e",
   "metadata": {},
   "source": [
    "# Row Access iloc\n"
   ]
  },
  {
   "cell_type": "code",
   "execution_count": 19,
   "id": "98f215a6",
   "metadata": {},
   "outputs": [
    {
     "name": "stdout",
     "output_type": "stream",
     "text": [
      "   country capital  area  population\n",
      "RU  Russia  Moscow  17.1       143.5\n"
     ]
    }
   ],
   "source": [
    "print(brics.iloc[[1]])"
   ]
  },
  {
   "cell_type": "code",
   "execution_count": 20,
   "id": "36489ccc",
   "metadata": {},
   "outputs": [
    {
     "name": "stdout",
     "output_type": "stream",
     "text": [
      "   country    capital    area  population\n",
      "RU  Russia     Moscow  17.100       143.5\n",
      "IN   India  New Delhi   3.286      1252.0\n",
      "CH   China    Beijing   9.597      1357.0\n"
     ]
    }
   ],
   "source": [
    "print(brics.iloc[[1, 2, 3]])"
   ]
  },
  {
   "cell_type": "code",
   "execution_count": 21,
   "id": "4b14bee0",
   "metadata": {},
   "outputs": [
    {
     "name": "stdout",
     "output_type": "stream",
     "text": [
      "   country    capital\n",
      "RU  Russia     Moscow\n",
      "IN   India  New Delhi\n",
      "CH   China    Beijing\n"
     ]
    }
   ],
   "source": [
    "print(brics.iloc[[1, 2, 3], [0, 1]])"
   ]
  },
  {
   "cell_type": "code",
   "execution_count": null,
   "id": "ec3909fe",
   "metadata": {},
   "outputs": [
    {
     "name": "stdout",
     "output_type": "stream",
     "text": [
      "         country    capital\n",
      "BR        Brazil   Brasilia\n",
      "RU        Russia     Moscow\n",
      "IN         India  New Delhi\n",
      "CH         China    Beijing\n",
      "SA  South Africa   Pretoria\n"
     ]
    },
    {
     "ename": "",
     "evalue": "",
     "output_type": "error",
     "traceback": [
      "\u001b[1;31mThe Kernel crashed while executing code in the current cell or a previous cell. \n",
      "\u001b[1;31mPlease review the code in the cell(s) to identify a possible cause of the failure. \n",
      "\u001b[1;31mClick <a href='https://aka.ms/vscodeJupyterKernelCrash'>here</a> for more info. \n",
      "\u001b[1;31mView Jupyter <a href='command:jupyter.viewOutput'>log</a> for further details."
     ]
    }
   ],
   "source": [
    "print(brics.iloc[:, [0, 1]])"
   ]
  },
  {
   "cell_type": "code",
   "execution_count": null,
   "id": "e56170ee",
   "metadata": {},
   "outputs": [],
   "source": []
  }
 ],
 "metadata": {
  "kernelspec": {
   "display_name": "Python 3",
   "language": "python",
   "name": "python3"
  },
  "language_info": {
   "codemirror_mode": {
    "name": "ipython",
    "version": 3
   },
   "file_extension": ".py",
   "mimetype": "text/x-python",
   "name": "python",
   "nbconvert_exporter": "python",
   "pygments_lexer": "ipython3",
   "version": "3.12.10"
  }
 },
 "nbformat": 4,
 "nbformat_minor": 5
}
