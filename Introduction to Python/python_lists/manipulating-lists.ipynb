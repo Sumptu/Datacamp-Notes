{
 "cells": [
  {
   "cell_type": "markdown",
   "id": "98c6a89e",
   "metadata": {},
   "source": [
    "# List Manipulation\n",
    "- Change list elements\n",
    "- Add list elements\n",
    "- Remove list elements"
   ]
  },
  {
   "cell_type": "markdown",
   "id": "be7466de",
   "metadata": {},
   "source": [
    "# Changing list elements"
   ]
  },
  {
   "cell_type": "code",
   "execution_count": 1,
   "id": "a32553a8",
   "metadata": {},
   "outputs": [
    {
     "name": "stdout",
     "output_type": "stream",
     "text": [
      "['liz', 1.73, 'emma', 1.68, 'mom', 1.71, 'dad', 1.89]\n"
     ]
    }
   ],
   "source": [
    "fam = [\"liz\", 1.73, \"emma\", 1.68, \"mom\", 1.71, \"dad\", 1.89]\n",
    "print(fam)"
   ]
  },
  {
   "cell_type": "code",
   "execution_count": 2,
   "id": "f7af173c",
   "metadata": {},
   "outputs": [
    {
     "name": "stdout",
     "output_type": "stream",
     "text": [
      "['liz', 1.73, 'emma', 1.68, 'mom', 1.71, 'dad', 1.86]\n"
     ]
    }
   ],
   "source": [
    "fam[7] = 1.86\n",
    "print(fam)"
   ]
  },
  {
   "cell_type": "code",
   "execution_count": 4,
   "id": "1589f79f",
   "metadata": {},
   "outputs": [
    {
     "name": "stdout",
     "output_type": "stream",
     "text": [
      "['liz', 1.74, 'emma', 1.68, 'mom', 1.71, 'dad', 1.86]\n"
     ]
    }
   ],
   "source": [
    "fam[0:2] = [\"liz\", 1.74]\n",
    "print(fam)"
   ]
  },
  {
   "cell_type": "markdown",
   "id": "988e43aa",
   "metadata": {},
   "source": [
    "# Adding and removing elements"
   ]
  },
  {
   "cell_type": "code",
   "execution_count": 11,
   "id": "004127c7",
   "metadata": {},
   "outputs": [
    {
     "data": {
      "text/plain": [
       "['liz', 1.74, 1.71, 'dad', 1.86, 'me', 1.79, 'me', 1.79, 'me', 1.79]"
      ]
     },
     "execution_count": 11,
     "metadata": {},
     "output_type": "execute_result"
    }
   ],
   "source": [
    "fam + [\"me\", 1.79]"
   ]
  },
  {
   "cell_type": "code",
   "execution_count": 10,
   "id": "c941da01",
   "metadata": {},
   "outputs": [
    {
     "name": "stdout",
     "output_type": "stream",
     "text": [
      "['liz', 1.74, 1.71, 'dad', 1.86, 'me', 1.79, 'me', 1.79]\n"
     ]
    }
   ],
   "source": [
    "fam_ext = fam + [\"me\", 1.79]\n",
    "del fam[2]\n",
    "print(fam)"
   ]
  },
  {
   "cell_type": "markdown",
   "id": "50c57d0e",
   "metadata": {},
   "source": [
    "# Behind the scenes (1)"
   ]
  },
  {
   "cell_type": "code",
   "execution_count": 12,
   "id": "26e43cfd",
   "metadata": {},
   "outputs": [
    {
     "name": "stdout",
     "output_type": "stream",
     "text": [
      "['a', 'z', 'c', 'd']\n"
     ]
    }
   ],
   "source": [
    "x = [\"a\", \"b\", \"c\", \"d\"]\n",
    "y = x # ini hanya menunjuk ke x's memory address (artinya x akan berubah jika y berubah)\n",
    "y[1] = \"z\"\n",
    "print(y)"
   ]
  },
  {
   "cell_type": "code",
   "execution_count": 13,
   "id": "b3a41bc6",
   "metadata": {},
   "outputs": [
    {
     "name": "stdout",
     "output_type": "stream",
     "text": [
      "['a', 'z', 'c', 'd']\n"
     ]
    }
   ],
   "source": [
    "print(x)"
   ]
  },
  {
   "cell_type": "markdown",
   "id": "5d6063ee",
   "metadata": {},
   "source": [
    "# Behind the scenes (2)"
   ]
  },
  {
   "cell_type": "code",
   "execution_count": 14,
   "id": "4e59495e",
   "metadata": {},
   "outputs": [
    {
     "name": "stdout",
     "output_type": "stream",
     "text": [
      "[1, 2, 3, 4, 5]\n"
     ]
    }
   ],
   "source": [
    "x = [1, 2, 3, 4, 5]\n",
    "y = list(x) # ini merupakan cara untuk membuat list baru dari list yang sudah ada\n",
    "y = x[:] # atau bisa juga menggunakan cara ini\n",
    "y[1] = 19\n",
    "print(x)"
   ]
  },
  {
   "cell_type": "markdown",
   "id": "1a501f61",
   "metadata": {},
   "source": [
    "# UNTUK NESTED LIST\n",
    "- Penggunaan metode copy list seperti sebelumnya tidak akan bekerja dengan benar jika kita memiliki list bersarang.\n",
    "\n",
    "solusinya adalah menggunakan fungsi copy.deepcopy() dari modul copy."
   ]
  },
  {
   "cell_type": "code",
   "execution_count": 15,
   "id": "8ef877f4",
   "metadata": {},
   "outputs": [
    {
     "name": "stdout",
     "output_type": "stream",
     "text": [
      "[[1, 2], [3, 4]]\n"
     ]
    }
   ],
   "source": [
    "import copy\n",
    "x = [[1, 2], [3, 4]]\n",
    "y = copy.deepcopy(x)\n",
    "y[0][0] = 5\n",
    "print(x)"
   ]
  },
  {
   "cell_type": "code",
   "execution_count": 16,
   "id": "ae68bf9b",
   "metadata": {},
   "outputs": [
    {
     "name": "stdout",
     "output_type": "stream",
     "text": [
      "[[5, 2], [3, 4]]\n"
     ]
    }
   ],
   "source": [
    "print(y)"
   ]
  }
 ],
 "metadata": {
  "kernelspec": {
   "display_name": "tutorial_notebook",
   "language": "python",
   "name": "python3"
  },
  "language_info": {
   "codemirror_mode": {
    "name": "ipython",
    "version": 3
   },
   "file_extension": ".py",
   "mimetype": "text/x-python",
   "name": "python",
   "nbconvert_exporter": "python",
   "pygments_lexer": "ipython3",
   "version": "3.13.2"
  }
 },
 "nbformat": 4,
 "nbformat_minor": 5
}
