{
 "cells": [
  {
   "cell_type": "markdown",
   "id": "6818bd36",
   "metadata": {},
   "source": [
    "# Subsetting lists\n"
   ]
  },
  {
   "cell_type": "code",
   "execution_count": 1,
   "id": "52e69ca0",
   "metadata": {},
   "outputs": [
    {
     "name": "stdout",
     "output_type": "stream",
     "text": [
      "['liz', 1.73, 'emma', 1.68, 'mom', 1.71, 'dad', 1.89]\n"
     ]
    }
   ],
   "source": [
    "fam = ['liz', 1.73, 'emma', 1.68, 'mom', 1.71, 'dad', 1.89]\n",
    "print(fam)"
   ]
  },
  {
   "cell_type": "code",
   "execution_count": null,
   "id": "080b7761",
   "metadata": {},
   "outputs": [
    {
     "data": {
      "text/plain": [
       "1.68"
      ]
     },
     "execution_count": 2,
     "metadata": {},
     "output_type": "execute_result"
    }
   ],
   "source": [
    "print(fam[3])"
   ]
  },
  {
   "cell_type": "code",
   "execution_count": null,
   "id": "783f40f9",
   "metadata": {},
   "outputs": [
    {
     "data": {
      "text/plain": [
       "1.89"
      ]
     },
     "execution_count": 3,
     "metadata": {},
     "output_type": "execute_result"
    }
   ],
   "source": [
    "print(fam[-1])"
   ]
  },
  {
   "cell_type": "code",
   "execution_count": 4,
   "id": "386dbd5c",
   "metadata": {},
   "outputs": [
    {
     "name": "stdout",
     "output_type": "stream",
     "text": [
      "1.89\n"
     ]
    }
   ],
   "source": [
    "print(fam[7])"
   ]
  },
  {
   "cell_type": "markdown",
   "id": "33709f1c",
   "metadata": {},
   "source": [
    "# List Slicing "
   ]
  },
  {
   "cell_type": "code",
   "execution_count": 5,
   "id": "78c2a4b6",
   "metadata": {},
   "outputs": [
    {
     "name": "stdout",
     "output_type": "stream",
     "text": [
      "['liz', 1.73, 'emma', 1.68, 'mom', 1.71, 'dad', 1.89]\n"
     ]
    }
   ],
   "source": [
    "print(fam)"
   ]
  },
  {
   "cell_type": "code",
   "execution_count": 6,
   "id": "84037f8b",
   "metadata": {},
   "outputs": [
    {
     "name": "stdout",
     "output_type": "stream",
     "text": [
      "[1.68, 'mom']\n"
     ]
    }
   ],
   "source": [
    "print(fam[3:5])"
   ]
  },
  {
   "cell_type": "code",
   "execution_count": 7,
   "id": "33be3dc9",
   "metadata": {},
   "outputs": [
    {
     "name": "stdout",
     "output_type": "stream",
     "text": [
      "[1.73, 'emma', 1.68]\n"
     ]
    }
   ],
   "source": [
    "print(fam[1:4])"
   ]
  },
  {
   "cell_type": "code",
   "execution_count": 8,
   "id": "96c90689",
   "metadata": {},
   "outputs": [
    {
     "name": "stdout",
     "output_type": "stream",
     "text": [
      "['liz', 1.73, 'emma', 1.68]\n"
     ]
    }
   ],
   "source": [
    "print(fam[:4])"
   ]
  },
  {
   "cell_type": "code",
   "execution_count": 9,
   "id": "6df06890",
   "metadata": {},
   "outputs": [
    {
     "name": "stdout",
     "output_type": "stream",
     "text": [
      "[1.71, 'dad', 1.89]\n"
     ]
    }
   ],
   "source": [
    "print(fam[5:])"
   ]
  }
 ],
 "metadata": {
  "kernelspec": {
   "display_name": "tutorial_notebook",
   "language": "python",
   "name": "python3"
  },
  "language_info": {
   "codemirror_mode": {
    "name": "ipython",
    "version": 3
   },
   "file_extension": ".py",
   "mimetype": "text/x-python",
   "name": "python",
   "nbconvert_exporter": "python",
   "pygments_lexer": "ipython3",
   "version": "3.13.2"
  }
 },
 "nbformat": 4,
 "nbformat_minor": 5
}
