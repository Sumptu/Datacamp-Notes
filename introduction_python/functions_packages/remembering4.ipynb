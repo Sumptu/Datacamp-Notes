{
 "cells": [
  {
   "cell_type": "code",
   "execution_count": 2,
   "id": "08655119",
   "metadata": {},
   "outputs": [
    {
     "name": "stdout",
     "output_type": "stream",
     "text": [
      "Halo! Selamat datang di program Python.\n"
     ]
    }
   ],
   "source": [
    "def sapa_pengguna_h4fp():\n",
    "    print(\"Halo! Selamat datang di program Python.\") \n",
    "\n",
    "sapa_pengguna_h4fp()"
   ]
  },
  {
   "cell_type": "code",
   "execution_count": 3,
   "id": "9e9b41df",
   "metadata": {},
   "outputs": [
    {
     "name": "stdout",
     "output_type": "stream",
     "text": [
      "Halo, Narendra! Senang bertemu dengan Anda.\n",
      "Halo, Wicaksana! Senang bertemu dengan Anda.\n"
     ]
    }
   ],
   "source": [
    "def sapa_dengan_nama_h4fp(nama):\n",
    "    print(f\"Halo, {nama}! Senang bertemu dengan Anda.\")\n",
    "\n",
    "sapa_dengan_nama_h4fp(\"Narendra\")\n",
    "sapa_dengan_nama_h4fp(\"Wicaksana\")"
   ]
  },
  {
   "cell_type": "code",
   "execution_count": 4,
   "id": "7240b009",
   "metadata": {},
   "outputs": [
    {
     "name": "stdout",
     "output_type": "stream",
     "text": [
      "Luas persegi panjang 1: 50\n",
      "Luas persegi panjang 2: 21\n"
     ]
    }
   ],
   "source": [
    "def hitung_luas_persegi_panjang_h4fp(panjang, lebar):\n",
    "    luas = panjang * lebar\n",
    "    return luas\n",
    "\n",
    "persegi_panjang1 = hitung_luas_persegi_panjang_h4fp(10, 5)\n",
    "persegi_panjang2 = hitung_luas_persegi_panjang_h4fp(7, 3)\n",
    "\n",
    "print(f\"Luas persegi panjang 1: {persegi_panjang1}\")\n",
    "print(f\"Luas persegi panjang 2: {persegi_panjang2}\")"
   ]
  },
  {
   "cell_type": "code",
   "execution_count": 6,
   "id": "0b1717a6",
   "metadata": {},
   "outputs": [
    {
     "name": "stdout",
     "output_type": "stream",
     "text": [
      "SELAMAT PAGI, DUNIA PYTHON!\n",
      "14\n"
     ]
    }
   ],
   "source": [
    "kalimat_sapaan_h4fp = \"selamat pagi, dunia python!\"\n",
    "sapaan_kapital_h4fp = kalimat_sapaan_h4fp.upper()\n",
    "\n",
    "posisi_dunia_h4fp = kalimat_sapaan_h4fp.index(\"dunia\")\n",
    "print(sapaan_kapital_h4fp)\n",
    "print(posisi_dunia_h4fp)"
   ]
  },
  {
   "cell_type": "code",
   "execution_count": null,
   "id": "11681e53",
   "metadata": {},
   "outputs": [
    {
     "name": "stdout",
     "output_type": "stream",
     "text": [
      "[17, 8, 42, 11, 23, 5, 50]\n",
      "[5, 8, 11, 17, 23, 42, 50]\n",
      "50\n",
      "[5, 8, 11, 17, 23, 42]\n"
     ]
    }
   ],
   "source": [
    "angka_acak_h4fp = [17, 8, 42, 11, 23, 5]\n",
    "\n",
    "angka_acak_h4fp.extend([50])\n",
    "print(angka_acak_h4fp)\n",
    "angka_acak_h4fp.sort()\n",
    "print(angka_acak_h4fp)\n",
    "\n",
    "elemen_terhapus_h4fp = angka_acak_h4fp.pop()\n",
    "print(elemen_terhapus_h4fp)\n",
    "print(angka_acak_h4fp)"
   ]
  },
  {
   "cell_type": "code",
   "execution_count": null,
   "id": "f29f6f6f",
   "metadata": {},
   "outputs": [
    {
     "name": "stdout",
     "output_type": "stream",
     "text": [
      "['APEL', 'JERUK', 'MANGGA', 'PISANG']\n",
      "['apel', 'jeruk', 'mangga', 'pisang']\n"
     ]
    }
   ],
   "source": [
    "def proses_list_kata_h4fp(list_input_kata):\n",
    "    salinan_list = list(list_input_kata)\n",
    "    list_hasil_proses = [str(elemen).upper() for elemen in salinan_list]\n",
    "    list_hasil_proses.sort()\n",
    "    return list_hasil_proses\n",
    "\n",
    "daftar_kata_asli_h4fp = [\n",
    "    \"apel\",\n",
    "    \"jeruk\",\n",
    "    \"mangga\",\n",
    "    \"pisang\",\n",
    "]\n",
    "\n",
    "hasil_proses_kata_h4fp = proses_list_kata_h4fp(daftar_kata_asli_h4fp)\n",
    "print(hasil_proses_kata_h4fp)\n",
    "print(daftar_kata_asli_h4fp)"
   ]
  },
  {
   "cell_type": "code",
   "execution_count": 13,
   "id": "2d988588",
   "metadata": {},
   "outputs": [
    {
     "name": "stdout",
     "output_type": "stream",
     "text": [
      "8.0\n",
      "81.0\n"
     ]
    }
   ],
   "source": [
    "import math\n",
    "angka_untuk_akar_h4fp = 64\n",
    "hasil_akar_h4fp = math.sqrt(angka_untuk_akar_h4fp)\n",
    "\n",
    "angka_pangkat_basis_h4fp = 3\n",
    "angka_pangkat_eksponen_h4fp = 4\n",
    "\n",
    "hasil_pangkat_h4fp = math.pow(angka_pangkat_basis_h4fp, angka_pangkat_eksponen_h4fp)\n",
    "\n",
    "print(hasil_akar_h4fp)\n",
    "print(hasil_pangkat_h4fp)"
   ]
  },
  {
   "cell_type": "code",
   "execution_count": 14,
   "id": "2f15e7cd",
   "metadata": {},
   "outputs": [
    {
     "name": "stdout",
     "output_type": "stream",
     "text": [
      "3.141592653589793\n",
      "90.0\n"
     ]
    }
   ],
   "source": [
    "from math import pi, degrees\n",
    "\n",
    "sudut_radian_h4fp = pi/2\n",
    "sudut_derajat_h4fp = degrees(sudut_radian_h4fp)\n",
    "print(pi)\n",
    "print(sudut_derajat_h4fp)"
   ]
  },
  {
   "cell_type": "code",
   "execution_count": 15,
   "id": "a8a20236",
   "metadata": {},
   "outputs": [
    {
     "name": "stdout",
     "output_type": "stream",
     "text": [
      "3.0\n",
      "120\n"
     ]
    }
   ],
   "source": [
    "from math import (\n",
    "    log10 as log_basis_10,\n",
    "    factorial as faktorial_bilangan\n",
    ")\n",
    "\n",
    "angka_log_h4fp = 1000\n",
    "angka_faktorial_h4fp = 5\n",
    "\n",
    "hasil_log_h4fp = log_basis_10(angka_log_h4fp)\n",
    "hasil_faktorial_h4fp = faktorial_bilangan(angka_faktorial_h4fp)\n",
    "\n",
    "print(hasil_log_h4fp)\n",
    "print(hasil_faktorial_h4fp)"
   ]
  },
  {
   "cell_type": "code",
   "execution_count": null,
   "id": "450e43c7",
   "metadata": {},
   "outputs": [
    {
     "name": "stdout",
     "output_type": "stream",
     "text": [
      "2\n",
      "biru\n",
      "107\n",
      "biru\n"
     ]
    }
   ],
   "source": [
    "import random\n",
    "from random import randint, choice\n",
    "\n",
    "angka_acak1_h4fp = random.randint(1, 10)\n",
    "\n",
    "pilihan_warna_h4fp = [\n",
    "    \"merah\",\n",
    "    \"hijau\",\n",
    "    \"biru\",\n",
    "    \"kuning\",\n",
    "]\n",
    "warna_terpilih1_h4fp = random.choice(pilihan_warna_h4fp)\n",
    "print(angka_acak1_h4fp)\n",
    "print(warna_terpilih1_h4fp)\n",
    "\n",
    "angka_acak2_h4fp = randint(100, 110)\n",
    "warna_terpilih2_h4fp = choice(pilihan_warna_h4fp)\n",
    "print(angka_acak2_h4fp)\n",
    "print(warna_terpilih2_h4fp)\n",
    "\n",
    "# cara pertama import seluruh fungsi yang ada di modul random yang artinya semua fungsi yang ada di modul random bisa digunakan dalam penyebutannya harus ditambahkan nama modulnya\n",
    "# cara kedua import fungsi tertentu yang ada di modul random yang artinya hanya fungsi yang dipilih saja yang bisa digunakan dalam penyebutannya tidak perlu ditambahkan nama modulnya\n",
    "\n"
   ]
  },
  {
   "cell_type": "code",
   "execution_count": null,
   "id": "36bea678",
   "metadata": {},
   "outputs": [],
   "source": []
  }
 ],
 "metadata": {
  "kernelspec": {
   "display_name": "tutorial_notebook",
   "language": "python",
   "name": "python3"
  },
  "language_info": {
   "codemirror_mode": {
    "name": "ipython",
    "version": 3
   },
   "file_extension": ".py",
   "mimetype": "text/x-python",
   "name": "python",
   "nbconvert_exporter": "python",
   "pygments_lexer": "ipython3",
   "version": "3.13.2"
  }
 },
 "nbformat": 4,
 "nbformat_minor": 5
}
