{
 "cells": [
  {
   "cell_type": "code",
   "execution_count": 18,
   "id": "ae9b5903",
   "metadata": {},
   "outputs": [],
   "source": [
    "a = 100\n",
    "b = 50.5\n",
    "c = \"Python\"\n",
    "\n",
    "d = 10\n",
    "e = 3\n",
    "f = 5\n",
    "\n",
    "g = \"123\"\n",
    "h = 456\n",
    "\n",
    "i = 10\n",
    "j = 2.5\n",
    "\n",
    "x = 15\n",
    "y = 7\n",
    "\n",
    "text = \"Python Programming\"\n",
    "\n",
    "numbers = [3, 5, 7, 9, 11]\n",
    "\n",
    "time_1 = 120\n",
    "time_2 = 300\n",
    "\n",
    "student = {\"name\" : \"Alice\", \"age\": 20, \"grade\": \"A\"}"
   ]
  },
  {
   "cell_type": "code",
   "execution_count": 1,
   "id": "10a9344f",
   "metadata": {},
   "outputs": [
    {
     "name": "stdout",
     "output_type": "stream",
     "text": [
      "425\n",
      "327\n",
      "420\n",
      "8.0\n"
     ]
    }
   ],
   "source": [
    "print(150 + 275)\n",
    "print(450 - 123)\n",
    "print(35 * 12)\n",
    "print(72 / 9)"
   ]
  },
  {
   "cell_type": "code",
   "execution_count": 3,
   "id": "d863349f",
   "metadata": {},
   "outputs": [
    {
     "name": "stdout",
     "output_type": "stream",
     "text": [
      "<class 'int'>\n",
      "<class 'float'>\n",
      "<class 'str'>\n"
     ]
    }
   ],
   "source": [
    "print(type(a))\n",
    "print(type(b))\n",
    "print(type(c))"
   ]
  },
  {
   "cell_type": "code",
   "execution_count": 5,
   "id": "e1ae4792",
   "metadata": {},
   "outputs": [
    {
     "name": "stdout",
     "output_type": "stream",
     "text": [
      "22\n",
      "8\n",
      "105\n",
      "2.142857142857143\n"
     ]
    }
   ],
   "source": [
    "sum_result = x + y\n",
    "difference_result = x - y\n",
    "product_result = x * y\n",
    "division_result = x / y\n",
    "\n",
    "print(sum_result)\n",
    "print(difference_result)\n",
    "print(product_result)\n",
    "print(division_result)"
   ]
  },
  {
   "cell_type": "code",
   "execution_count": 7,
   "id": "e2a9fdb5",
   "metadata": {},
   "outputs": [
    {
     "name": "stdout",
     "output_type": "stream",
     "text": [
      "35\n",
      "11.666666666666666\n",
      "1.666666666666666\n"
     ]
    }
   ],
   "source": [
    "result1 = d * e + f\n",
    "result2 = result1 / e\n",
    "reminder_result = result2 % f\n",
    "\n",
    "print(result1)\n",
    "print(result2)\n",
    "print(reminder_result)"
   ]
  },
  {
   "cell_type": "code",
   "execution_count": 9,
   "id": "3e12271b",
   "metadata": {},
   "outputs": [
    {
     "name": "stdout",
     "output_type": "stream",
     "text": [
      "123456\n",
      "123456\n",
      "123912\n"
     ]
    }
   ],
   "source": [
    "concat_result = g + str(h)\n",
    "concat_int_result = int(concat_result)\n",
    "final_result = concat_int_result + h\n",
    "print(concat_result)\n",
    "print(concat_int_result)\n",
    "print(final_result)"
   ]
  },
  {
   "cell_type": "code",
   "execution_count": 11,
   "id": "ec2e5480",
   "metadata": {},
   "outputs": [
    {
     "name": "stdout",
     "output_type": "stream",
     "text": [
      "4\n"
     ]
    }
   ],
   "source": [
    "mul_result = i * j\n",
    "str_result = str(mul_result)\n",
    "length_result = len(str_result)\n",
    "print(length_result)"
   ]
  },
  {
   "cell_type": "code",
   "execution_count": 13,
   "id": "e414a4b2",
   "metadata": {},
   "outputs": [
    {
     "name": "stdout",
     "output_type": "stream",
     "text": [
      "P\n",
      "g\n",
      "Programming\n"
     ]
    }
   ],
   "source": [
    "first_char = text[0]\n",
    "last_char = text[-1]\n",
    "sub_text = text[7:18]\n",
    "print(first_char)\n",
    "print(last_char)\n",
    "print(sub_text)"
   ]
  },
  {
   "cell_type": "code",
   "execution_count": 15,
   "id": "ed0cd722",
   "metadata": {},
   "outputs": [
    {
     "name": "stdout",
     "output_type": "stream",
     "text": [
      "3\n",
      "7\n",
      "6\n"
     ]
    }
   ],
   "source": [
    "numbers.append(13)\n",
    "first_element = numbers[0]\n",
    "third_element = numbers[2]\n",
    "print(first_element)\n",
    "print(third_element)\n",
    "print(len(numbers))"
   ]
  },
  {
   "cell_type": "code",
   "execution_count": 17,
   "id": "c7f5e29d",
   "metadata": {},
   "outputs": [
    {
     "name": "stdout",
     "output_type": "stream",
     "text": [
      "Alice\n",
      "A\n"
     ]
    }
   ],
   "source": [
    "student[\"country\"] = \"USA\"\n",
    "student[\"age\"] = 21\n",
    "student_name = student[\"name\"]\n",
    "student_grade = student[\"grade\"]\n",
    "\n",
    "print(student_name)\n",
    "print(student_grade)"
   ]
  },
  {
   "cell_type": "code",
   "execution_count": 28,
   "id": "b878a9e1",
   "metadata": {},
   "outputs": [
    {
     "name": "stdout",
     "output_type": "stream",
     "text": [
      "0:7\n"
     ]
    }
   ],
   "source": [
    "total_detik = time_1 + time_2\n",
    "time_menit = int(total_detik / 60)\n",
    "time_jam = int(total_detik / 3600)\n",
    "sisa_menit = time_menit % 60\n",
    "print(str(time_jam) + \":\" + str(sisa_menit))"
   ]
  },
  {
   "cell_type": "code",
   "execution_count": null,
   "id": "3000145c",
   "metadata": {},
   "outputs": [],
   "source": []
  }
 ],
 "metadata": {
  "kernelspec": {
   "display_name": "tutorial_notebook",
   "language": "python",
   "name": "python3"
  },
  "language_info": {
   "codemirror_mode": {
    "name": "ipython",
    "version": 3
   },
   "file_extension": ".py",
   "mimetype": "text/x-python",
   "name": "python",
   "nbconvert_exporter": "python",
   "pygments_lexer": "ipython3",
   "version": "3.13.2"
  }
 },
 "nbformat": 4,
 "nbformat_minor": 5
}
