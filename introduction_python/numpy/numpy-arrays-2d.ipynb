{
 "cells": [
  {
   "cell_type": "markdown",
   "id": "8ec56a5d",
   "metadata": {},
   "source": [
    "## Type of NumPy Arrays"
   ]
  },
  {
   "cell_type": "code",
   "execution_count": 1,
   "id": "43db6bad",
   "metadata": {},
   "outputs": [],
   "source": [
    "import numpy as np\n",
    "np_height = np.array([1.73, 1.68, 1.71, 1.89, 1.79])\n",
    "np_weight = np.array([65.4, 59.2, 63.6, 88.4, 68.7])"
   ]
  },
  {
   "cell_type": "code",
   "execution_count": 2,
   "id": "0d3a4f0e",
   "metadata": {},
   "outputs": [
    {
     "name": "stdout",
     "output_type": "stream",
     "text": [
      "<class 'numpy.ndarray'>\n"
     ]
    }
   ],
   "source": [
    "print(type(np_height))"
   ]
  },
  {
   "cell_type": "code",
   "execution_count": 3,
   "id": "35a3aadb",
   "metadata": {},
   "outputs": [
    {
     "name": "stdout",
     "output_type": "stream",
     "text": [
      "<class 'numpy.ndarray'>\n"
     ]
    }
   ],
   "source": [
    "print(type(np_weight))"
   ]
  },
  {
   "cell_type": "markdown",
   "id": "c3a671fe",
   "metadata": {},
   "source": [
    "# 2D NumPy Arrays"
   ]
  },
  {
   "cell_type": "code",
   "execution_count": 9,
   "id": "91615a61",
   "metadata": {},
   "outputs": [
    {
     "name": "stdout",
     "output_type": "stream",
     "text": [
      "[[ 1.73  1.68  1.71  1.89  1.79]\n",
      " [65.4  59.2  63.6  88.4  68.7 ]]\n"
     ]
    }
   ],
   "source": [
    "np_2d = np.array([[1.73, 1.68, 1.71, 1.89, 1.79],\n",
    "                  [65.4, 59.2, 63.6, 88.4, 68.7]])\n",
    "print(np_2d)"
   ]
  },
  {
   "cell_type": "code",
   "execution_count": null,
   "id": "9ed563ab",
   "metadata": {},
   "outputs": [
    {
     "name": "stdout",
     "output_type": "stream",
     "text": [
      "(2, 5)\n"
     ]
    }
   ],
   "source": [
    "print(np_2d.shape) # 2 rows 5 columns"
   ]
  },
  {
   "cell_type": "code",
   "execution_count": null,
   "id": "926c2626",
   "metadata": {},
   "outputs": [
    {
     "name": "stdout",
     "output_type": "stream",
     "text": [
      "[['1.73' '1.68' '1.71' '1.89' '1.79']\n",
      " ['65.4' '59.2' '63.6' '88.4' '68.7']]\n"
     ]
    }
   ],
   "source": [
    "# np_2d = np.array([[1.73, 1.68, 1.71, 1.89, 1.79],\n",
    "                  #[65.4, 59.2, 63.6, 88.4, \"68.7\"]])\n",
    "# What if we change last element with str\n",
    "# print(np_2d)"
   ]
  },
  {
   "cell_type": "code",
   "execution_count": 10,
   "id": "13756ec8",
   "metadata": {},
   "outputs": [
    {
     "name": "stdout",
     "output_type": "stream",
     "text": [
      "[[ 1.73  1.68  1.71  1.89  1.79]\n",
      " [65.4  59.2  63.6  88.4  68.7 ]]\n"
     ]
    }
   ],
   "source": [
    "print(np_2d)"
   ]
  },
  {
   "cell_type": "markdown",
   "id": "1c46c2d4",
   "metadata": {},
   "source": [
    "## Subsetting"
   ]
  },
  {
   "cell_type": "code",
   "execution_count": 11,
   "id": "0f8c0cc6",
   "metadata": {},
   "outputs": [
    {
     "name": "stdout",
     "output_type": "stream",
     "text": [
      "1.71\n"
     ]
    }
   ],
   "source": [
    "print(np_2d[0][2])"
   ]
  },
  {
   "cell_type": "code",
   "execution_count": 12,
   "id": "06219824",
   "metadata": {},
   "outputs": [
    {
     "name": "stdout",
     "output_type": "stream",
     "text": [
      "1.71\n"
     ]
    }
   ],
   "source": [
    "# alternatif way using comma\n",
    "print(np_2d[0, 2])"
   ]
  },
  {
   "cell_type": "code",
   "execution_count": 13,
   "id": "894bf45e",
   "metadata": {},
   "outputs": [
    {
     "name": "stdout",
     "output_type": "stream",
     "text": [
      "[[ 1.68  1.71]\n",
      " [59.2  63.6 ]]\n"
     ]
    }
   ],
   "source": [
    "print(np_2d[:, 1:3])"
   ]
  },
  {
   "cell_type": "code",
   "execution_count": 14,
   "id": "0f4e609a",
   "metadata": {},
   "outputs": [
    {
     "name": "stdout",
     "output_type": "stream",
     "text": [
      "[65.4 59.2 63.6 88.4 68.7]\n"
     ]
    }
   ],
   "source": [
    "print(np_2d[1, :])"
   ]
  }
 ],
 "metadata": {
  "kernelspec": {
   "display_name": "tutorial_notebook",
   "language": "python",
   "name": "python3"
  },
  "language_info": {
   "codemirror_mode": {
    "name": "ipython",
    "version": 3
   },
   "file_extension": ".py",
   "mimetype": "text/x-python",
   "name": "python",
   "nbconvert_exporter": "python",
   "pygments_lexer": "ipython3",
   "version": "3.13.2"
  }
 },
 "nbformat": 4,
 "nbformat_minor": 5
}
