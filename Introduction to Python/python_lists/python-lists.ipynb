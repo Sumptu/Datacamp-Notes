{
 "cells": [
  {
   "cell_type": "markdown",
   "id": "f39d36e6",
   "metadata": {},
   "source": [
    "# Python Data Types\n",
    "\n",
    "- float : real numbers\n",
    "- int : integer numbers\n",
    "- str : string, text\n",
    "- bool : True or False\n",
    "\n",
    "height = 1.73\n",
    "tall = True\n",
    "\n",
    "- Each variable represents single value\n"
   ]
  },
  {
   "cell_type": "markdown",
   "id": "333de41c",
   "metadata": {},
   "source": [
    "# Problem\n",
    "- Data Science: many data points\n",
    "- Height of entire family\n",
    "    - height1 = 1.73\n",
    "    - height2 = 1.68\n",
    "    - height3 = 1.71\n",
    "    - height4 = 1.89\n",
    "- Inconvenient"
   ]
  },
  {
   "cell_type": "markdown",
   "id": "cc93407a",
   "metadata": {},
   "source": [
    "# Python List \n",
    "- [a, b, c]\n",
    "- Name a collection of values\n",
    "- contain any type\n",
    "- contain different types"
   ]
  },
  {
   "cell_type": "code",
   "execution_count": 1,
   "id": "bdde366b",
   "metadata": {},
   "outputs": [
    {
     "data": {
      "text/plain": [
       "[1.73, 1.68, 1.71, 1.89]"
      ]
     },
     "execution_count": 1,
     "metadata": {},
     "output_type": "execute_result"
    }
   ],
   "source": [
    "[1.73, 1.68, 1.71, 1.89]"
   ]
  },
  {
   "cell_type": "code",
   "execution_count": 2,
   "id": "6b8d16f1",
   "metadata": {},
   "outputs": [
    {
     "name": "stdout",
     "output_type": "stream",
     "text": [
      "[1.73, 1.68, 1.71, 1.89]\n"
     ]
    }
   ],
   "source": [
    "fam = [1.73, 1.68, 1.71, 1.89]\n",
    "print(fam)"
   ]
  },
  {
   "cell_type": "code",
   "execution_count": 3,
   "id": "c93e50e6",
   "metadata": {},
   "outputs": [
    {
     "name": "stdout",
     "output_type": "stream",
     "text": [
      "['liz', 1.73, 'emma', 1.68, 'mom', 1.71, 'dad', 1.89]\n"
     ]
    }
   ],
   "source": [
    "fam = [\"liz\", 1.73, \"emma\", 1.68, \"mom\", 1.71, \"dad\", 1.89]\n",
    "print(fam)"
   ]
  },
  {
   "cell_type": "code",
   "execution_count": 4,
   "id": "9969d55f",
   "metadata": {},
   "outputs": [
    {
     "name": "stdout",
     "output_type": "stream",
     "text": [
      "[['liz', 1.73], ['emma', 1.68], ['mom', 1.71], ['dad', 1.89]]\n"
     ]
    }
   ],
   "source": [
    "fam2 = [[\n",
    "    'liz', 1.73\n",
    "], [\n",
    "    'emma', 1.68\n",
    "], [\n",
    "    'mom', 1.71\n",
    "], [\n",
    "    'dad', 1.89\n",
    "]]\n",
    "\n",
    "print(fam2)"
   ]
  },
  {
   "cell_type": "markdown",
   "id": "89e0124e",
   "metadata": {},
   "source": [
    "# List type\n",
    "- Specific functionality\n",
    "- Specific behavior"
   ]
  },
  {
   "cell_type": "code",
   "execution_count": 5,
   "id": "566bab32",
   "metadata": {},
   "outputs": [
    {
     "name": "stdout",
     "output_type": "stream",
     "text": [
      "<class 'list'>\n"
     ]
    }
   ],
   "source": [
    "print(type(fam))"
   ]
  },
  {
   "cell_type": "code",
   "execution_count": 6,
   "id": "29d49e6a",
   "metadata": {},
   "outputs": [
    {
     "name": "stdout",
     "output_type": "stream",
     "text": [
      "<class 'list'>\n"
     ]
    }
   ],
   "source": [
    "print(type(fam2))"
   ]
  }
 ],
 "metadata": {
  "kernelspec": {
   "display_name": "tutorial_notebook",
   "language": "python",
   "name": "python3"
  },
  "language_info": {
   "codemirror_mode": {
    "name": "ipython",
    "version": 3
   },
   "file_extension": ".py",
   "mimetype": "text/x-python",
   "name": "python",
   "nbconvert_exporter": "python",
   "pygments_lexer": "ipython3",
   "version": "3.13.2"
  }
 },
 "nbformat": 4,
 "nbformat_minor": 5
}
