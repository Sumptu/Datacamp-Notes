{
 "cells": [
  {
   "cell_type": "markdown",
   "id": "56547a6f",
   "metadata": {},
   "source": [
    "## Packages\n",
    "- Directory of Python Scripts\n",
    "- Each script = module\n",
    "- Specify functions, methods, types\n",
    "- Thousands of packages available\n",
    "    - Numpy\n",
    "    - Matplotlib\n",
    "    - Pandas\n",
    "    - Scikit-learn"
   ]
  },
  {
   "cell_type": "markdown",
   "id": "f70c5088",
   "metadata": {},
   "source": [
    "## Install package\n",
    "- https://pip.pypa.io/en/stable/installation/\n",
    "- Download **get-pip.py**\n",
    "- Terminal:\n",
    "    - python3 get-pip.py\n",
    "    - pip3 install numpy"
   ]
  },
  {
   "cell_type": "markdown",
   "id": "c92d9f94",
   "metadata": {},
   "source": [
    "## Import package"
   ]
  },
  {
   "cell_type": "code",
   "execution_count": null,
   "id": "9a8ba06d",
   "metadata": {},
   "outputs": [],
   "source": [
    "import numpy as np # cara pertama\n",
    "# cara kedua\n",
    "from numpy import array\n"
   ]
  },
  {
   "cell_type": "code",
   "execution_count": 4,
   "id": "edf6c95b",
   "metadata": {},
   "outputs": [
    {
     "name": "stdout",
     "output_type": "stream",
     "text": [
      "[1 2 3]\n",
      "[1 2 3]\n"
     ]
    }
   ],
   "source": [
    "print(np.array([1,2,3]))\n",
    "# atau jika menggunakan cara kedua\n",
    "print(array([1,2,3]))"
   ]
  },
  {
   "cell_type": "markdown",
   "id": "073f393f",
   "metadata": {},
   "source": [
    "## from numpy import array"
   ]
  },
  {
   "cell_type": "code",
   "execution_count": null,
   "id": "a50d1296",
   "metadata": {},
   "outputs": [
    {
     "name": "stdout",
     "output_type": "stream",
     "text": [
      "10 elements in fam_ext\n"
     ]
    },
    {
     "data": {
      "text/plain": [
       "'\\nAkan terjadi error karena np tidak didefinisikan.\\nPython tidak mengenal np karena kita hanya mengimpor \\nfungsi array dari numpy, bukan seluruh modul numpy dengan \\nalias np.\\n'"
      ]
     },
     "execution_count": 8,
     "metadata": {},
     "output_type": "execute_result"
    }
   ],
   "source": [
    "# menggunakan from numpy import array\n",
    "fam = [\"liz\", 1.73, \"emma\", 1.68, \"mom\", 1.71, \"dad\", 1.89]\n",
    "\n",
    "fam_ext = fam + [\"me\", 1.79]\n",
    "\n",
    "print(str(len(fam_ext)) + \" elements in fam_ext\")\n",
    "\n",
    "# misalnya kejadian tidak mengimport menggunakan alias np\n",
    "# np_fam = np.array(fam_ext)\n",
    "\n",
    "\n",
    "# Akan terjadi error karena np tidak didefinisikan.\n",
    "# Python tidak mengenal np karena kita hanya mengimpor \n",
    "# fungsi array dari numpy, bukan seluruh modul numpy dengan \n",
    "# alias np.\n",
    "\n"
   ]
  },
  {
   "cell_type": "markdown",
   "id": "dd34a4ea",
   "metadata": {},
   "source": [
    "## Import numpy\n"
   ]
  },
  {
   "cell_type": "code",
   "execution_count": 11,
   "id": "7692c832",
   "metadata": {},
   "outputs": [
    {
     "name": "stdout",
     "output_type": "stream",
     "text": [
      "<class 'numpy.ndarray'>\n"
     ]
    }
   ],
   "source": [
    "# Menggunakan import numpy as np\n",
    "# kode sebelumnya ada di bagian atas ini, hanya tinggal\n",
    "# mendefinisikan list sebagai array\n",
    "\n",
    "np_fam = np.array(fam_ext)\n",
    "print(type(np_fam))"
   ]
  }
 ],
 "metadata": {
  "kernelspec": {
   "display_name": "tutorial_notebook",
   "language": "python",
   "name": "python3"
  },
  "language_info": {
   "codemirror_mode": {
    "name": "ipython",
    "version": 3
   },
   "file_extension": ".py",
   "mimetype": "text/x-python",
   "name": "python",
   "nbconvert_exporter": "python",
   "pygments_lexer": "ipython3",
   "version": "3.13.2"
  }
 },
 "nbformat": 4,
 "nbformat_minor": 5
}
