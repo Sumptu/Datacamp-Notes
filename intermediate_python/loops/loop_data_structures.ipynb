{
 "cells": [
  {
   "cell_type": "markdown",
   "id": "4b0fba29",
   "metadata": {},
   "source": [
    "# Dictionary\n",
    "```python\n",
    "for var in seq:\n",
    "    expression"
   ]
  },
  {
   "cell_type": "code",
   "execution_count": 1,
   "id": "2377db2d",
   "metadata": {},
   "outputs": [
    {
     "name": "stdout",
     "output_type": "stream",
     "text": [
      "afghanistan -- 30.55\n",
      "albania -- 2.77\n",
      "algeria -- 39.21\n"
     ]
    }
   ],
   "source": [
    "world = {\n",
    "    'afghanistan':30.55,\n",
    "    'albania':2.77,\n",
    "    'algeria':39.21,\n",
    "}\n",
    "\n",
    "for key, value in world.items():\n",
    "    print(f\"{key} -- {value}\")"
   ]
  },
  {
   "cell_type": "markdown",
   "id": "4e58a489",
   "metadata": {},
   "source": [
    "# NumPy Arrays\n",
    "```python\n",
    "for var in seq:\n",
    "    expression"
   ]
  },
  {
   "cell_type": "code",
   "execution_count": 2,
   "id": "4d300ab8",
   "metadata": {},
   "outputs": [
    {
     "name": "stdout",
     "output_type": "stream",
     "text": [
      "21.85\n",
      "20.98\n",
      "21.75\n",
      "24.75\n",
      "21.44\n"
     ]
    }
   ],
   "source": [
    "import numpy as np\n",
    "\n",
    "np_height = np.array([1.73, 1.68, 1.71, 1.89, 1.79])\n",
    "np_weight = np.array([65.4, 59.2, 63.6, 88.4, 68.7])\n",
    "bmi = np_weight / np_height ** 2\n",
    "for val in bmi:\n",
    "    print(val.round(2))"
   ]
  },
  {
   "cell_type": "markdown",
   "id": "59745a27",
   "metadata": {},
   "source": [
    "# 2D NumPy Arrays"
   ]
  },
  {
   "cell_type": "code",
   "execution_count": 3,
   "id": "7abb003d",
   "metadata": {},
   "outputs": [
    {
     "name": "stdout",
     "output_type": "stream",
     "text": [
      "1.73\n",
      "1.68\n",
      "1.71\n",
      "1.89\n",
      "1.79\n",
      "65.4\n",
      "59.2\n",
      "63.6\n",
      "88.4\n",
      "68.7\n"
     ]
    }
   ],
   "source": [
    "np_height = np.array([1.73, 1.68, 1.71, 1.89, 1.79])\n",
    "np_weight = np.array([65.4, 59.2, 63.6, 88.4, 68.7])\n",
    "meas = np.array([np_height, np_weight])\n",
    "for v in np.nditer(meas):\n",
    "    print(v)"
   ]
  },
  {
   "cell_type": "markdown",
   "id": "78614db3",
   "metadata": {},
   "source": [
    "# Recap\n",
    "- Dictionary\n",
    "    - for key, value in dictionary.items(): # this is a method\n",
    "- NumPy array\n",
    "    - for value in np.nditter(array): # this is a function"
   ]
  },
  {
   "cell_type": "markdown",
   "id": "b9fdf558",
   "metadata": {},
   "source": [
    "# BRICS Datasets"
   ]
  },
  {
   "cell_type": "code",
   "execution_count": 4,
   "id": "b4c75b12",
   "metadata": {},
   "outputs": [
    {
     "name": "stdout",
     "output_type": "stream",
     "text": [
      "         country    capital    area  population\n",
      "BR        Brazil   Brasilia   8.516      200.40\n",
      "RU        Russia     Moscow  17.100      143.50\n",
      "IN         India  New Delhi   3.286     1252.00\n",
      "CH         China    Beijing   9.597     1357.00\n",
      "SA  South Africa   Pretoria   1.221       52.98\n"
     ]
    }
   ],
   "source": [
    "import pandas as pd\n",
    "\n",
    "brics = pd.read_csv('https://assets.datacamp.com/production/repositories/287/datasets/b60fb5bdbeb4e4ab0545c485d351e6ff5428a155/brics.csv', index_col=0)\n",
    "print(brics)"
   ]
  },
  {
   "cell_type": "markdown",
   "id": "38ca75e8",
   "metadata": {},
   "source": [
    "# iterrows"
   ]
  },
  {
   "cell_type": "code",
   "execution_count": 5,
   "id": "511a5de1",
   "metadata": {},
   "outputs": [
    {
     "name": "stdout",
     "output_type": "stream",
     "text": [
      "BR\n",
      "country         Brazil\n",
      "capital       Brasilia\n",
      "area             8.516\n",
      "population       200.4\n",
      "Name: BR, dtype: object\n",
      "RU\n",
      "country       Russia\n",
      "capital       Moscow\n",
      "area            17.1\n",
      "population     143.5\n",
      "Name: RU, dtype: object\n",
      "IN\n",
      "country           India\n",
      "capital       New Delhi\n",
      "area              3.286\n",
      "population       1252.0\n",
      "Name: IN, dtype: object\n",
      "CH\n",
      "country         China\n",
      "capital       Beijing\n",
      "area            9.597\n",
      "population     1357.0\n",
      "Name: CH, dtype: object\n",
      "SA\n",
      "country       South Africa\n",
      "capital           Pretoria\n",
      "area                 1.221\n",
      "population           52.98\n",
      "Name: SA, dtype: object\n"
     ]
    }
   ],
   "source": [
    "for lab, row in brics.iterrows():\n",
    "    print(lab)\n",
    "    print(row)"
   ]
  },
  {
   "cell_type": "markdown",
   "id": "83b836f9",
   "metadata": {},
   "source": [
    "# Selective Import"
   ]
  },
  {
   "cell_type": "code",
   "execution_count": null,
   "id": "bfaad571",
   "metadata": {},
   "outputs": [
    {
     "name": "stdout",
     "output_type": "stream",
     "text": [
      "<class 'str'>\n",
      "<class 'str'>\n",
      "<class 'str'>\n",
      "<class 'str'>\n",
      "<class 'str'>\n"
     ]
    }
   ],
   "source": [
    "for lab, row in brics.iterrows():\n",
    "    print(f\"{lab} : {row[\"population\"]}\")"
   ]
  },
  {
   "cell_type": "markdown",
   "id": "c943f087",
   "metadata": {},
   "source": [
    "# Add Column"
   ]
  },
  {
   "cell_type": "code",
   "execution_count": null,
   "id": "1d683c31",
   "metadata": {},
   "outputs": [
    {
     "name": "stdout",
     "output_type": "stream",
     "text": [
      "         country    capital    area  population  name_length\n",
      "BR        Brazil   Brasilia   8.516      200.40          8.0\n",
      "RU        Russia     Moscow  17.100      143.50          6.0\n",
      "IN         India  New Delhi   3.286     1252.00          9.0\n",
      "CH         China    Beijing   9.597     1357.00          7.0\n",
      "SA  South Africa   Pretoria   1.221       52.98          8.0\n",
      "<class 'pandas.core.frame.DataFrame'>\n"
     ]
    }
   ],
   "source": [
    "for lab, row in brics.iterrows():\n",
    "    brics.loc[lab, \"name_length\"] = len(row[\"capital\"])\n",
    "print(brics)"
   ]
  },
  {
   "cell_type": "markdown",
   "id": "88165c8a",
   "metadata": {},
   "source": [
    "# apply"
   ]
  },
  {
   "cell_type": "code",
   "execution_count": 16,
   "id": "0aca974f",
   "metadata": {},
   "outputs": [
    {
     "name": "stdout",
     "output_type": "stream",
     "text": [
      "         country    capital    area  population  name_length  panjang_nama\n",
      "BR        Brazil   Brasilia   8.516      200.40          8.0             6\n",
      "RU        Russia     Moscow  17.100      143.50          6.0             6\n",
      "IN         India  New Delhi   3.286     1252.00          9.0             5\n",
      "CH         China    Beijing   9.597     1357.00          7.0             5\n",
      "SA  South Africa   Pretoria   1.221       52.98          8.0            12\n"
     ]
    }
   ],
   "source": [
    "brics[\"panjang_nama\"] = brics[\"country\"].apply(len) \n",
    "print(brics)"
   ]
  },
  {
   "cell_type": "code",
   "execution_count": null,
   "id": "c25c52fb",
   "metadata": {},
   "outputs": [],
   "source": []
  }
 ],
 "metadata": {
  "kernelspec": {
   "display_name": "Python 3",
   "language": "python",
   "name": "python3"
  },
  "language_info": {
   "codemirror_mode": {
    "name": "ipython",
    "version": 3
   },
   "file_extension": ".py",
   "mimetype": "text/x-python",
   "name": "python",
   "nbconvert_exporter": "python",
   "pygments_lexer": "ipython3",
   "version": "3.12.10"
  }
 },
 "nbformat": 4,
 "nbformat_minor": 5
}
