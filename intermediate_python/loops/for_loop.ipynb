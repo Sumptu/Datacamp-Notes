{
 "cells": [
  {
   "cell_type": "markdown",
   "id": "8dbe832a",
   "metadata": {},
   "source": [
    "# for loop\n",
    "```python\n",
    "for var in seq:\n",
    "    expression\n",
    "```\n",
    "- \"for each var in seq, execute expresion\""
   ]
  },
  {
   "cell_type": "code",
   "execution_count": 1,
   "id": "4e06d551",
   "metadata": {},
   "outputs": [
    {
     "name": "stdout",
     "output_type": "stream",
     "text": [
      "1.73\n",
      "1.68\n",
      "1.71\n",
      "1.89\n"
     ]
    }
   ],
   "source": [
    "fam = [1.73, 1.68, 1.71, 1.89]\n",
    "for height in fam:\n",
    "    print(height)"
   ]
  },
  {
   "cell_type": "markdown",
   "id": "00d9d8b1",
   "metadata": {},
   "source": [
    "- No access to indexes"
   ]
  },
  {
   "cell_type": "code",
   "execution_count": 2,
   "id": "3f35cc02",
   "metadata": {},
   "outputs": [
    {
     "name": "stdout",
     "output_type": "stream",
     "text": [
      "index 0: 1.73\n",
      "index 1: 1.68\n",
      "index 2: 1.71\n",
      "index 3: 1.89\n"
     ]
    }
   ],
   "source": [
    "fam = [1.73, 1.68, 1.71, 1.89]\n",
    "for index, height in enumerate(fam):\n",
    "    print(f\"index {index}: {height}\")"
   ]
  },
  {
   "cell_type": "markdown",
   "id": "aa806c4f",
   "metadata": {},
   "source": [
    "# Loop over string"
   ]
  },
  {
   "cell_type": "code",
   "execution_count": null,
   "id": "ffb5a136",
   "metadata": {},
   "outputs": [
    {
     "name": "stdout",
     "output_type": "stream",
     "text": [
      "F\n",
      "A\n",
      "M\n",
      "I\n",
      "L\n",
      "Y\n"
     ]
    },
    {
     "ename": "",
     "evalue": "",
     "output_type": "error",
     "traceback": [
      "\u001b[1;31mThe Kernel crashed while executing code in the current cell or a previous cell. \n",
      "\u001b[1;31mPlease review the code in the cell(s) to identify a possible cause of the failure. \n",
      "\u001b[1;31mClick <a href='https://aka.ms/vscodeJupyterKernelCrash'>here</a> for more info. \n",
      "\u001b[1;31mView Jupyter <a href='command:jupyter.viewOutput'>log</a> for further details."
     ]
    }
   ],
   "source": [
    "for c in \"family\":\n",
    "    print(c.capitalize())"
   ]
  }
 ],
 "metadata": {
  "kernelspec": {
   "display_name": "Python 3",
   "language": "python",
   "name": "python3"
  },
  "language_info": {
   "codemirror_mode": {
    "name": "ipython",
    "version": 3
   },
   "file_extension": ".py",
   "mimetype": "text/x-python",
   "name": "python",
   "nbconvert_exporter": "python",
   "pygments_lexer": "ipython3",
   "version": "3.12.10"
  }
 },
 "nbformat": 4,
 "nbformat_minor": 5
}
