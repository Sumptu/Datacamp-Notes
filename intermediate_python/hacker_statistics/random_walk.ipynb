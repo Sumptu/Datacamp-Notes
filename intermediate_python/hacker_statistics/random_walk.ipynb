{
 "cells": [
  {
   "cell_type": "markdown",
   "id": "8f1c373b",
   "metadata": {},
   "source": [
    "# Heads or Tails"
   ]
  },
  {
   "cell_type": "code",
   "execution_count": 38,
   "id": "3de805c0",
   "metadata": {},
   "outputs": [],
   "source": [
    "import numpy as np\n",
    "import matplotlib.pyplot as plt"
   ]
  },
  {
   "cell_type": "code",
   "execution_count": 23,
   "id": "1e08990d",
   "metadata": {},
   "outputs": [
    {
     "name": "stdout",
     "output_type": "stream",
     "text": [
      "['Heads', 'Tails', 'Tails', 'Heads', 'Heads', 'Tails', 'Heads', 'Tails', 'Heads', 'Heads']\n"
     ]
    }
   ],
   "source": [
    "outcomes = []\n",
    "rng = np.random.default_rng(42)\n",
    "\n",
    "for x in range(10):\n",
    "    coin = rng.integers(0, 2)\n",
    "    if coin == 0:\n",
    "        outcomes.append(\"Heads\")\n",
    "    else:\n",
    "        outcomes.append(\"Tails\")\n",
    "\n",
    "print(outcomes)"
   ]
  },
  {
   "cell_type": "markdown",
   "id": "9e70918b",
   "metadata": {},
   "source": [
    "# Heads or Tails : Random Walk"
   ]
  },
  {
   "cell_type": "code",
   "execution_count": 27,
   "id": "c0be7a5d",
   "metadata": {},
   "outputs": [
    {
     "name": "stdout",
     "output_type": "stream",
     "text": [
      "[0, 0, 1, 2, 2, 2, 3, 3, 4, 4, 4]\n"
     ]
    }
   ],
   "source": [
    "tails = [0]\n",
    "rng = np.random.default_rng(42)\n",
    "\n",
    "for x in range(10):\n",
    "    coint = rng.integers(0, 2)\n",
    "    tails.append(int(tails[x]) + int(coint))\n",
    "\n",
    "print(tails)"
   ]
  },
  {
   "cell_type": "markdown",
   "id": "8cbdc22b",
   "metadata": {},
   "source": [
    "# Rool Dice"
   ]
  },
  {
   "cell_type": "code",
   "execution_count": null,
   "id": "dfb7cf93",
   "metadata": {},
   "outputs": [
    {
     "name": "stdout",
     "output_type": "stream",
     "text": [
      "[0, 0, 1, 2, 3, 4, 5, 6, 5, 4, 5, 10, 11, 12, 13, 14, 13, 16, 17, 18, 17, 22, 23, 24, 25, 26, 27, 28, 27, 26, 27, 28, 33, 32, 33, 32, 33, 34, 35, 34, 37, 42, 43, 44, 43, 44, 45, 46, 45, 46, 45, 46, 47, 52, 53, 56, 55, 58, 57, 58, 59, 58, 59, 58, 59, 60, 59, 58, 59, 60, 63, 62, 63, 64, 65, 64, 63, 64, 65, 66, 67, 70, 72, 71, 72, 73, 72, 73, 72, 73, 72, 73, 74, 75, 76, 77, 78, 77, 78, 79, 80]\n"
     ]
    }
   ],
   "source": [
    "rng = np.random.default_rng(42)\n",
    "\n",
    "random_walk = [0]\n",
    "\n",
    "for x in range(100):\n",
    "    dice = rng.integers(1, 7)\n",
    "    step = random_walk[-1]\n",
    "    if dice <= 2:\n",
    "        step = max(0, step - 1)\n",
    "    elif dice <= 5:\n",
    "        step += 1\n",
    "    else:\n",
    "        step += rng.integers(1, 7)\n",
    "    random_walk.append(int(step))\n",
    "\n",
    "print(random_walk)"
   ]
  },
  {
   "cell_type": "markdown",
   "id": "ac9ee1b2",
   "metadata": {},
   "source": [
    "# Visualize The walk"
   ]
  },
  {
   "cell_type": "code",
   "execution_count": null,
   "id": "214179f6",
   "metadata": {},
   "outputs": [
    {
     "data": {
      "image/png": "[encoded data removed]",
      "text/plain": [
       "<Figure size 640x480 with 1 Axes>"
      ]
     },
     "metadata": {},
     "output_type": "display_data"
    }
   ],
   "source": [
    "rng = np.random.default_rng(42)\n",
    "\n",
    "random_walk = [0]\n",
    "\n",
    "for x in range(100):\n",
    "    dice = rng.integers(1, 7)\n",
    "    step = random_walk[-1]\n",
    "    if dice <= 2:\n",
    "        step = max(0, step - 1)\n",
    "    elif dice <= 5:\n",
    "        step += 1\n",
    "    else:\n",
    "        step += rng.integers(1, 7)\n",
    "    random_walk.append(int(step))\n",
    "\n",
    "plt.plot(random_walk)\n",
    "plt.show()"
   ]
  },
  {
   "cell_type": "code",
   "execution_count": null,
   "id": "8da88564",
   "metadata": {},
   "outputs": [],
   "source": []
  }
 ],
 "metadata": {
  "kernelspec": {
   "display_name": "Python 3",
   "language": "python",
   "name": "python3"
  },
  "language_info": {
   "codemirror_mode": {
    "name": "ipython",
    "version": 3
   },
   "file_extension": ".py",
   "mimetype": "text/x-python",
   "name": "python",
   "nbconvert_exporter": "python",
   "pygments_lexer": "ipython3",
   "version": "3.12.10"
  }
 },
 "nbformat": 4,
 "nbformat_minor": 5
}
