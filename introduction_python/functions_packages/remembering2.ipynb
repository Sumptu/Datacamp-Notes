{
 "cells": [
  {
   "cell_type": "code",
   "execution_count": 46,
   "id": "d18aaec2",
   "metadata": {},
   "outputs": [],
   "source": [
    "from math import sqrt\n",
    "import math\n",
    "from random import randint\n",
    "import random\n",
    "\n",
    "def add_numbers(a, b):\n",
    "    return a + b\n",
    "\n",
    "def sum_all(*args):\n",
    "    return sum(args)\n",
    "\n",
    "def to_upper(c):\n",
    "    return c.upper()\n",
    "\n",
    "def sort_list(d):\n",
    "    return sorted(d)\n",
    "\n",
    "def find_in_list(e, f):\n",
    "    return e in f\n",
    "\n",
    "def join_strings(g):\n",
    "    return ' '.join(g)\n",
    "\n",
    "def divide_numbers(h, i):\n",
    "    if i == 0:\n",
    "        return \"Error: Division by zero is not allowed\"\n",
    "    else:\n",
    "        return h / i"
   ]
  },
  {
   "cell_type": "code",
   "execution_count": null,
   "id": "faa66529",
   "metadata": {},
   "outputs": [
    {
     "name": "stdout",
     "output_type": "stream",
     "text": [
      "30\n"
     ]
    }
   ],
   "source": [
    "print(add_numbers(10, 20))"
   ]
  },
  {
   "cell_type": "code",
   "execution_count": 6,
   "id": "9c3bedf7",
   "metadata": {},
   "outputs": [
    {
     "name": "stdout",
     "output_type": "stream",
     "text": [
      "15\n"
     ]
    }
   ],
   "source": [
    "print(sum_all(1, 2, 3, 4, 5))"
   ]
  },
  {
   "cell_type": "code",
   "execution_count": 8,
   "id": "d99002cb",
   "metadata": {},
   "outputs": [
    {
     "name": "stdout",
     "output_type": "stream",
     "text": [
      "HELLO WORLD\n"
     ]
    }
   ],
   "source": [
    "print(to_upper(\"hello world\"))"
   ]
  },
  {
   "cell_type": "code",
   "execution_count": 10,
   "id": "3711ff52",
   "metadata": {},
   "outputs": [
    {
     "name": "stdout",
     "output_type": "stream",
     "text": [
      "[1, 3, 5, 8]\n"
     ]
    }
   ],
   "source": [
    "print(sort_list([5, 3, 8, 1]))"
   ]
  },
  {
   "cell_type": "code",
   "execution_count": null,
   "id": "f093b2a5",
   "metadata": {},
   "outputs": [
    {
     "name": "stdout",
     "output_type": "stream",
     "text": [
      "5.0\n"
     ]
    }
   ],
   "source": [
    "print(math.sqrt(25))"
   ]
  },
  {
   "cell_type": "code",
   "execution_count": 15,
   "id": "b965c9a7",
   "metadata": {},
   "outputs": [
    {
     "name": "stdout",
     "output_type": "stream",
     "text": [
      "7.0\n"
     ]
    }
   ],
   "source": [
    "print(sqrt(49))"
   ]
  },
  {
   "cell_type": "code",
   "execution_count": 18,
   "id": "f7de5b99",
   "metadata": {},
   "outputs": [
    {
     "name": "stdout",
     "output_type": "stream",
     "text": [
      "3\n",
      "4\n"
     ]
    }
   ],
   "source": [
    "print(random.randint(1, 10))\n",
    "print(randint(1, 10))"
   ]
  },
  {
   "cell_type": "code",
   "execution_count": null,
   "id": "cb289810",
   "metadata": {},
   "outputs": [
    {
     "name": "stdout",
     "output_type": "stream",
     "text": [
      "True\n"
     ]
    }
   ],
   "source": [
    "print(find_in_list(\"apple\", [\"banana\", \"apple\", \"cherry\"]))\n"
   ]
  },
  {
   "cell_type": "code",
   "execution_count": 42,
   "id": "740ca474",
   "metadata": {},
   "outputs": [
    {
     "name": "stdout",
     "output_type": "stream",
     "text": [
      "Python is fun\n"
     ]
    }
   ],
   "source": [
    "print(join_strings([\"Python\", \"is\", \"fun\"]))"
   ]
  },
  {
   "cell_type": "code",
   "execution_count": null,
   "id": "b6f5acff",
   "metadata": {},
   "outputs": [
    {
     "name": "stdout",
     "output_type": "stream",
     "text": [
      "0.0\n"
     ]
    }
   ],
   "source": [
    "print(divide_numbers(10, 0))"
   ]
  }
 ],
 "metadata": {
  "kernelspec": {
   "display_name": "tutorial_notebook",
   "language": "python",
   "name": "python3"
  },
  "language_info": {
   "codemirror_mode": {
    "name": "ipython",
    "version": 3
   },
   "file_extension": ".py",
   "mimetype": "text/x-python",
   "name": "python",
   "nbconvert_exporter": "python",
   "pygments_lexer": "ipython3",
   "version": "3.13.2"
  }
 },
 "nbformat": 4,
 "nbformat_minor": 5
}
