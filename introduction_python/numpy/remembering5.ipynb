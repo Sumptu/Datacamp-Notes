{
 "cells": [
  {
   "cell_type": "markdown",
   "id": "bc21b2a7",
   "metadata": {},
   "source": [
    "### Soal 1: Membuat NumPy Array dari List\n",
    "\n",
    "1.  Impor *package* NumPy dan berikan ia alias **`np`**.\n",
    "2.  Buatlah sebuah Python list biasa bernama **`curah_hujan_pl_h5`** yang berisi data curah hujan (dalam mm) selama seminggu: `[20.5, 15.0, 5.2, 0.0, 30.7, 45.1, 10.0]`.\n",
    "3.  Konversikan `curah_hujan_pl_h5` tersebut menjadi sebuah NumPy array bernama **`hujan_array_np_h5`**.\n",
    "4.  Tampilkan `hujan_array_np_h5`.\n",
    "5.  Tampilkan juga atribut **`.shape`** dan **`.dtype`** dari `hujan_array_np_h5`."
   ]
  },
  {
   "cell_type": "code",
   "execution_count": 1,
   "id": "8b554b5c",
   "metadata": {},
   "outputs": [
    {
     "name": "stdout",
     "output_type": "stream",
     "text": [
      "[20.5 15.   5.2  0.  30.7 45.1 10. ]\n",
      "(7,)\n",
      "float64\n"
     ]
    }
   ],
   "source": [
    "import numpy as np\n",
    "\n",
    "curah_hujan_pl_h5 = [\n",
    "    20.5,\n",
    "    15.0,\n",
    "    5.2,\n",
    "    0.0,\n",
    "    30.7,\n",
    "    45.1,\n",
    "    10.0,\n",
    "]\n",
    "hujan_array_np_h5 = np.array(curah_hujan_pl_h5)\n",
    "print(hujan_array_np_h5)\n",
    "print(hujan_array_np_h5.shape)\n",
    "print(hujan_array_np_h5.dtype)"
   ]
  },
  {
   "cell_type": "markdown",
   "id": "1229b139",
   "metadata": {},
   "source": [
    "### Soal 2: Membuat Array dengan Tipe Data Eksplisit\n",
    "\n",
    "1.  Impor NumPy sebagai `np`.\n",
    "2.  Buatlah sebuah Python list bernama **`jumlah_pengunjung_np_h5`** yang berisi data pengunjung (integer): `[120, 155, 200, 95, 130]`.\n",
    "3.  Buatlah sebuah NumPy array bernama **`pengunjung_float_np_h5`** dari list tersebut, tetapi secara eksplisit tentukan tipe datanya (`dtype`) menjadi **`np.float64`** saat pembuatan array.\n",
    "4.  Tampilkan `pengunjung_float_np_h5`.\n",
    "5.  Tampilkan juga atribut `.dtype` dari `pengunjung_float_np_h5` untuk memverifikasi bahwa tipe datanya memang float, meskipun data aslinya adalah integer."
   ]
  },
  {
   "cell_type": "code",
   "execution_count": 5,
   "id": "be6d936d",
   "metadata": {},
   "outputs": [
    {
     "name": "stdout",
     "output_type": "stream",
     "text": [
      "[120. 155. 200.  95. 130.]\n",
      "float64\n"
     ]
    }
   ],
   "source": [
    "import numpy as np\n",
    "\n",
    "jumlah_pengunjung_np_h5 = [120, 155, 200, 95, 130]\n",
    "pengunjung_float_np_h5 = np.array(jumlah_pengunjung_np_h5, dtype=np.float64)\n",
    "print(pengunjung_float_np_h5)\n",
    "print(pengunjung_float_np_h5.dtype)"
   ]
  },
  {
   "cell_type": "markdown",
   "id": "22af7040",
   "metadata": {},
   "source": [
    "### Soal 3: Operasi Vektorisasi dan \"Side Effect\"\n",
    "\n",
    "1.  Impor NumPy sebagai `np`.\n",
    "2.  Buatlah sebuah NumPy array bernama **`suhu_ruangan_np_h5`** dengan nilai `[28, 31, 33, 30, 29, 27]`.\n",
    "3.  Lakukan operasi perbandingan pada `suhu_ruangan_np_h5` untuk memeriksa suhu mana saja yang berada di atas 30 derajat. Hasil dari operasi ini (misalnya, `suhu_ruangan_np_h5 > 30`) adalah sebuah array boolean.\n",
    "4.  Simpan array boolean hasil perbandingan tersebut ke dalam variabel **baru** bernama **`suhu_panas_np_h5`**.\n",
    "5.  Tampilkan `suhu_ruangan_np_h5` (array asli) dan `suhu_panas_np_h5` (array boolean hasil operasi).\n",
    "6.  Amati dan jelaskan dalam komentar singkat di kode Anda mengapa `suhu_ruangan_np_h5` tidak berubah, dan apa isi dari `suhu_panas_np_h5`."
   ]
  },
  {
   "cell_type": "code",
   "execution_count": null,
   "id": "4e60e28b",
   "metadata": {},
   "outputs": [
    {
     "name": "stdout",
     "output_type": "stream",
     "text": [
      "[28 31 33 30 29 27]\n",
      "[False  True  True False False False]\n"
     ]
    }
   ],
   "source": [
    "import numpy as np\n",
    "\n",
    "suhu_ruangan_np_h5 = np.array([28, 31, 33, 30, 29, 27])\n",
    "suhu_panas_np_h5 = suhu_ruangan_np_h5 > 30\n",
    "\n",
    "print(suhu_ruangan_np_h5)\n",
    "print(suhu_panas_np_h5)\n",
    "\n",
    "# nilai pada array suhu ruangan tidak berubah karena hasil dari operasi logika diatas adalah array baru"
   ]
  },
  {
   "cell_type": "markdown",
   "id": "b00d1290",
   "metadata": {},
   "source": [
    "### Soal 4: Subsetting dengan Array Boolean\n",
    "\n",
    "1.  Gunakan dua array dari Soal 3:\n",
    "    * `suhu_ruangan_np_h5` (berisi `[28, 31, 33, 30, 29, 27]`)\n",
    "    * `suhu_panas_np_h5` (berisi `[False, True, True, False, False, False]`)\n",
    "2.  Gunakan `suhu_panas_np_h5` sebagai \"filter\" atau indeks untuk mengambil hanya elemen-elemen dari `suhu_ruangan_np_h5` yang suhunya di atas 30.\n",
    "3.  Simpan hasil subsetting ini ke dalam variabel baru bernama **`daftar_suhu_panas_np_h5`**.\n",
    "4.  Tampilkan `daftar_suhu_panas_np_h5`."
   ]
  },
  {
   "cell_type": "code",
   "execution_count": 13,
   "id": "a972c700",
   "metadata": {},
   "outputs": [
    {
     "name": "stdout",
     "output_type": "stream",
     "text": [
      "[31 33]\n"
     ]
    }
   ],
   "source": [
    "daftar_suhu_panas_np_h5 = suhu_ruangan_np_h5[suhu_ruangan_np_h5 > 30]\n",
    "print(daftar_suhu_panas_np_h5)"
   ]
  },
  {
   "cell_type": "markdown",
   "id": "fbd72981",
   "metadata": {},
   "source": [
    "### Soal 5: Membuat dan Memeriksa Array 2D\n",
    "\n",
    "1.  Impor NumPy sebagai `np`.\n",
    "2.  Buatlah sebuah Python list berisi list-of-lists bernama **`penjualan_harian_np_h5`**. Data ini merepresentasikan penjualan 3 produk selama 4 hari.\n",
    "    ```python\n",
    "    [\n",
    "        [10, 15, 12, 18],  # Produk A\n",
    "        [20, 22, 25, 21],  # Produk B\n",
    "        [14, 16, 13, 15]   # Produk C\n",
    "    ]\n",
    "    ```\n",
    "3.  Konversikan `penjualan_harian_np_h5` menjadi sebuah NumPy array 2D bernama **`matriks_penjualan_np_h5`**.\n",
    "4.  Tampilkan `matriks_penjualan_np_h5`.\n",
    "5.  Tampilkan atribut **`.shape`** dan **`.ndim`** dari `matriks_penjualan_np_h5` untuk memverifikasi bentuk dan jumlah dimensinya."
   ]
  },
  {
   "cell_type": "code",
   "execution_count": 1,
   "id": "fd6be1b4",
   "metadata": {},
   "outputs": [
    {
     "name": "stdout",
     "output_type": "stream",
     "text": [
      "[[10 15 12 18]\n",
      " [20 22 25 21]\n",
      " [14 16 13 15]]\n",
      "(3, 4)\n",
      "2\n"
     ]
    }
   ],
   "source": [
    "import numpy as np\n",
    "\n",
    "penjualan_harian_np_h5 = [\n",
    "    [10, 15, 12, 18],\n",
    "    [20, 22, 25, 21],\n",
    "    [14, 16, 13, 15]\n",
    "]\n",
    "\n",
    "matriks_penjualan_np_h5 = np.array(penjualan_harian_np_h5)\n",
    "print(matriks_penjualan_np_h5)\n",
    "print(matriks_penjualan_np_h5.shape)\n",
    "print(matriks_penjualan_np_h5.ndim)"
   ]
  },
  {
   "cell_type": "markdown",
   "id": "fc57a83f",
   "metadata": {},
   "source": [
    "### Soal 6: Subsetting Array 2D\n",
    "\n",
    "Gunakan array 2D `matriks_penjualan_np_h5` dari Soal 5.\n",
    "(Arraynya: `[[10, 15, 12, 18], [20, 22, 25, 21], [14, 16, 13, 15]]`)\n",
    "\n",
    "1.  Akses dan tampilkan data penjualan **Produk B** (baris kedua) pada **hari ketiga**. (Ingat, indeks dimulai dari 0). Simpan hasilnya dalam variabel **`penjualan_b_hari3_np_h5`**.\n",
    "2.  Akses dan tampilkan seluruh data penjualan pada **hari keempat** (kolom terakhir). Simpan hasilnya dalam variabel **`penjualan_hari4_np_h5`**.\n",
    "3.  Akses dan tampilkan seluruh data penjualan untuk **Produk A** (baris pertama). Simpan hasilnya dalam variabel **`penjualan_produk_a_np_h5`**.\n",
    "4.  Tampilkan semua variabel hasil (`penjualan_b_hari3_np_h5`, `penjualan_hari4_np_h5`, dan `penjualan_produk_a_np_h5`)."
   ]
  },
  {
   "cell_type": "code",
   "execution_count": 4,
   "id": "766704e3",
   "metadata": {},
   "outputs": [
    {
     "name": "stdout",
     "output_type": "stream",
     "text": [
      "25\n",
      "[18 21 15]\n",
      "[10 15 12 18]\n"
     ]
    }
   ],
   "source": [
    "penjualan_b_hari3_np_h5 = matriks_penjualan_np_h5[1, 2]\n",
    "penjualan_hari4_np_h5 = matriks_penjualan_np_h5[:, -1]\n",
    "penjualan_produk_a_np_h5 = matriks_penjualan_np_h5[0]\n",
    "\n",
    "print(penjualan_b_hari3_np_h5)\n",
    "print(penjualan_hari4_np_h5)\n",
    "print(penjualan_produk_a_np_h5)"
   ]
  },
  {
   "cell_type": "markdown",
   "id": "08dd2e5e",
   "metadata": {},
   "source": [
    "### Soal 7: Aritmatika pada Array 2D (Revisi)\n",
    "\n",
    "Variabel `matriks_penjualan_np_h5` sudah ada dari soal sebelumnya.\n",
    "\n",
    "1.  Buatlah array 1D **`harga_produk_np_h5`** yang berisi harga satuan untuk setiap produk: `[5000, 8000, 12000]`. (Harga ini sesuai dengan urutan produk pada `matriks_penjualan_np_h5`).\n",
    "2.  Bentuk (shape) dari `matriks_penjualan_np_h5` (`(3, 4)`) dan `harga_produk_np_h5` (`(3,)`) tidak cocok untuk perkalian elemen-demi-elemen secara langsung. Ubah bentuk `harga_produk_np_h5` agar bisa di-*broadcast* dengan benar saat dikalikan. Anda perlu mengubahnya menjadi array kolom dengan shape `(3, 1)`. Gunakan metode `.reshape()`. Simpan hasilnya ke **`harga_produk_kolom_np_h5`**.\n",
    "3.  Lakukan perkalian antara `matriks_penjualan_np_h5` dan `harga_produk_kolom_np_h5`. NumPy akan secara otomatis melakukan *broadcasting*. Simpan hasilnya, yang merupakan total pendapatan per item per hari, ke dalam variabel **`matriks_pendapatan_np_h5`**.\n",
    "4.  Tampilkan `matriks_pendapatan_np_h5`."
   ]
  },
  {
   "cell_type": "code",
   "execution_count": null,
   "id": "d50a9f8b",
   "metadata": {},
   "outputs": [
    {
     "name": "stdout",
     "output_type": "stream",
     "text": [
      "[[ 50000  75000  60000  90000]\n",
      " [160000 176000 200000 168000]\n",
      " [168000 192000 156000 180000]]\n"
     ]
    }
   ],
   "source": [
    "harga_produk_np_h5 = np.array([5000, 8000, 12000])\n",
    "harga_produk_kolom_np_h5 = harga_produk_np_h5.reshape(3, 1)\n",
    "matriks_pendapatan_np_h5 = matriks_penjualan_np_h5 * harga_produk_kolom_np_h5\n",
    "print(matriks_pendapatan_np_h5)"
   ]
  },
  {
   "cell_type": "markdown",
   "id": "6acef7b0",
   "metadata": {},
   "source": [
    "### Soal 8: Statistik dengan Sumbu (Axis)\n",
    "\n",
    "**Asumsi:** Variabel `matriks_pendapatan_np_h5` sudah ada dari soal sebelumnya.\n",
    "\n",
    "1.  Hitung **total pendapatan per hari** dengan menjumlahkan semua pendapatan di setiap kolom pada `matriks_pendapatan_np_h5`. Gunakan fungsi `np.sum()` dengan argumen `axis` yang tepat. Simpan hasilnya ke dalam variabel **`pendapatan_per_hari_np_h5`**.\n",
    "2.  Hitung **total pendapatan per produk** dengan menjumlahkan semua pendapatan di setiap baris pada `matriks_pendapatan_np_h5`. Gunakan fungsi `np.sum()` dengan argumen `axis` yang tepat. Simpan hasilnya ke dalam variabel **`pendapatan_per_produk_np_h5`**.\n",
    "3.  Hitung **total pendapatan keseluruhan** dari semua penjualan. Simpan hasilnya ke dalam variabel **`total_pendapatan_semua_np_h5`**.\n",
    "4.  Tampilkan ketiga variabel hasil tersebut dengan pesan yang jelas."
   ]
  },
  {
   "cell_type": "code",
   "execution_count": 16,
   "id": "ea15a69d",
   "metadata": {},
   "outputs": [
    {
     "name": "stdout",
     "output_type": "stream",
     "text": [
      "Pendapatan per hari: [378000 443000 416000 438000]\n",
      "Pendapatan per produk: [275000 704000 696000]\n",
      "Total pendapatan keseluruhan: 1675000\n"
     ]
    }
   ],
   "source": [
    "pendapatan_per_hari_np_h5 = np.sum(matriks_pendapatan_np_h5, axis=0)\n",
    "pendapatan_per_produk_np_h5 = np.sum(matriks_pendapatan_np_h5, axis=1)\n",
    "total_pendapatan_keseluruhan_np_h5 = np.sum(pendapatan_per_produk_np_h5)\n",
    "print(f\"Pendapatan per hari: {pendapatan_per_hari_np_h5}\")\n",
    "print(f\"Pendapatan per produk: {pendapatan_per_produk_np_h5}\")\n",
    "print(f\"Total pendapatan keseluruhan: {total_pendapatan_keseluruhan_np_h5}\")\n"
   ]
  },
  {
   "cell_type": "markdown",
   "id": "3262bfab",
   "metadata": {},
   "source": [
    "### Soal 9: Statistik Dasar Lainnya\n",
    "\n",
    "1.  Buatlah sebuah NumPy array 1D bernama **`data_tinggi_badan_np_h5`** yang berisi data tinggi badan (dalam cm) dari sekelompok sampel: `[165, 170, 155, 180, 168, 175, 165, 172]`.\n",
    "2.  Hitung dan tampilkan nilai **median** (nilai tengah) dari `data_tinggi_badan_np_h5`. Simpan hasilnya dalam variabel **`median_tinggi_np_h5`**.\n",
    "3.  Hitung dan tampilkan nilai **standar deviasi (standard deviation)** dari `data_tinggi_badan_np_h5` untuk melihat sebaran datanya. Simpan hasilnya dalam variabel **`std_dev_tinggi_np_h5`**.\n",
    "4.  Tampilkan kedua variabel hasil tersebut dengan pesan yang jelas dan format nilai standar deviasi dengan **dua** angka di belakang koma."
   ]
  },
  {
   "cell_type": "code",
   "execution_count": 18,
   "id": "460e04b6",
   "metadata": {},
   "outputs": [
    {
     "name": "stdout",
     "output_type": "stream",
     "text": [
      "Median tinggi badan: 169.00 cm\n",
      "Standar deviasi tinggi badan: 7.03 cm\n"
     ]
    }
   ],
   "source": [
    "data_tinggi_badan_np_h5 = np.array(\n",
    "    [165, 170, 155, 180, 168, 175, 165, 172]\n",
    ")\n",
    "\n",
    "median_tinggi_np_h5 = np.median(data_tinggi_badan_np_h5)\n",
    "std_dev_tinggi_np_h5 = np.std(data_tinggi_badan_np_h5)\n",
    "print(\n",
    "    f\"Median tinggi badan: {median_tinggi_np_h5:.2f} cm\\n\"\n",
    "    f\"Standar deviasi tinggi badan: {std_dev_tinggi_np_h5:.2f} cm\"\n",
    ")"
   ]
  },
  {
   "cell_type": "markdown",
   "id": "ad7230ca",
   "metadata": {},
   "source": [
    "### Soal 10: Rata-rata vs. Median dengan Data Pencilan\n",
    "\n",
    "1.  Buatlah sebuah NumPy array bernama **`harga_properti_np_h5`** yang berisi data harga properti di suatu area (dalam Miliar Rupiah): `[1.2, 1.5, 1.1, 1.3, 1.6, 1.4, 15.0]`. Perhatikan ada satu nilai yang sangat tinggi (`15.0`) yang merupakan pencilan (outlier).\n",
    "2.  Hitung nilai **rata-rata (mean)** dari `harga_properti_np_h5`. Simpan dalam variabel **`rata_rata_harga_np_h5`**.\n",
    "3.  Hitung nilai **median** dari `harga_properti_np_h5`. Simpan dalam variabel **`median_harga_np_h5`**.\n",
    "4.  Tampilkan `rata_rata_harga_np_h5` dan `median_harga_np_h5` dengan format dua angka desimal dan label yang jelas.\n",
    "5.  Di bawah output angka, berikan komentar singkat (`#`) yang menjelaskan ukuran mana (rata-rata atau median) yang lebih baik dalam menggambarkan \"harga properti yang tipikal\" di area tersebut, dan jelaskan mengapa."
   ]
  },
  {
   "cell_type": "code",
   "execution_count": null,
   "id": "a1313433",
   "metadata": {},
   "outputs": [
    {
     "name": "stdout",
     "output_type": "stream",
     "text": [
      "Rata-rata harga properti: 3.30 \n",
      "Median harga properti: 1.40\n"
     ]
    }
   ],
   "source": [
    "harga_properti_np_h5 = np.array(\n",
    "    [1.2, 1.5, 1.1, 1.3, 1.6, 1.4, 15.0]\n",
    ")\n",
    "\n",
    "rata_rata_harga_np_h5 = np.mean(harga_properti_np_h5)\n",
    "median_harga_np_h5 = np.median(harga_properti_np_h5)\n",
    "print(\n",
    "    f\"Rata-rata harga properti: {rata_rata_harga_np_h5:.2f} \\n\"\n",
    "    f\"Median harga properti: {median_harga_np_h5:.2f}\"\n",
    ")\n",
    "\n",
    "# yang lebih baik dengan menggunakan median, karena median tidak terpengaruh oleh nilai ekstrem karna memang dalam prosesnya angka diurutkan berbeda dengan rata rata"
   ]
  },
  {
   "cell_type": "code",
   "execution_count": 20,
   "id": "db322794",
   "metadata": {},
   "outputs": [
    {
     "name": "stdout",
     "output_type": "stream",
     "text": [
      "3.141592653589793\n"
     ]
    }
   ],
   "source": [
    "import math as m\n",
    "\n",
    "import math\n",
    "\n",
    "print(m.pi)"
   ]
  },
  {
   "cell_type": "code",
   "execution_count": null,
   "id": "0e1df84d",
   "metadata": {},
   "outputs": [],
   "source": []
  }
 ],
 "metadata": {
  "kernelspec": {
   "display_name": "Python 3",
   "language": "python",
   "name": "python3"
  },
  "language_info": {
   "codemirror_mode": {
    "name": "ipython",
    "version": 3
   },
   "file_extension": ".py",
   "mimetype": "text/x-python",
   "name": "python",
   "nbconvert_exporter": "python",
   "pygments_lexer": "ipython3",
   "version": "3.12.10"
  }
 },
 "nbformat": 4,
 "nbformat_minor": 5
}
