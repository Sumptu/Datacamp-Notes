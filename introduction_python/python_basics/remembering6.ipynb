{
 "cells": [
  {
   "cell_type": "markdown",
   "id": "2a6ff922",
   "metadata": {},
   "source": [
    "### Soal 1: Operasi Aritmatika Kompleks\n",
    "\n",
    "Gunakan Python sebagai kalkulator untuk menghitung hasil dari operasi berikut:\n",
    "$((500 \\div 4) - (150 \\times 0.5)) \\div (10^2 \\div (25 - 5))$\n",
    "\n",
    "Tampilkan hasilnya.\n"
   ]
  },
  {
   "cell_type": "code",
   "execution_count": 1,
   "id": "329de22e",
   "metadata": {},
   "outputs": [
    {
     "name": "stdout",
     "output_type": "stream",
     "text": [
      "10.0\n"
     ]
    }
   ],
   "source": [
    "print(((500 / 4) - (150 * 0.5)) / (10 ** 2 / (25 - 5)))"
   ]
  },
  {
   "cell_type": "markdown",
   "id": "b0948013",
   "metadata": {},
   "source": [
    "### Soal 2: Variabel, Tipe, dan Format Output\n",
    "\n",
    "1.  Buatlah tiga variabel berikut:\n",
    "    * `nama_pelanggan_pb_h6` (string) = `\"Alex\"`\n",
    "    * `total_belanja_pb_h6` (float) = `450325.75`\n",
    "    * `poin_member_pb_h6` (integer) = `1250`\n",
    "2.  Buat sebuah string tunggal yang terformat menggunakan f-string untuk menampilkan ringkasan data tersebut. Simpan hasilnya dalam variabel **`ringkasan_pelanggan_pb_h6`**.\n",
    "3.  Format outputnya harus sebagai berikut:\n",
    "    * Nama pelanggan harus ditampilkan dengan rata kanan dalam total 10 karakter, diisi dengan karakter spasi.\n",
    "    * Total belanja harus ditampilkan dengan pemisah ribuan dan **dua** angka di belakang koma.\n",
    "    * Poin member harus ditampilkan sebagai angka biasa.\n",
    "    * Contoh output yang diharapkan: `\"Pelanggan:       Alex | Total Belanja: 450,325.75 | Poin: 1250\"`\n",
    "4.  Tampilkan nilai dari `ringkasan_pelanggan_pb_h6`."
   ]
  },
  {
   "cell_type": "code",
   "execution_count": null,
   "id": "80810fff",
   "metadata": {},
   "outputs": [
    {
     "name": "stdout",
     "output_type": "stream",
     "text": [
      "Pelanggan:       Alex | Total Belanja: 450,325.75 | Poin: 1250\n"
     ]
    }
   ],
   "source": [
    "nama_pelanggan_pb_h5 = \"Alex\"\n",
    "total_belanja_pb_h5 = 450325.75\n",
    "poin_member_pb_h5 = 1250\n",
    "\n",
    "ringkasan_pelanggan_pb_h5 = f\"Pelanggan: {nama_pelanggan_pb_h5:>10} | Total Belanja: {total_belanja_pb_h5:,.2f} | Poin: {poin_member_pb_h5}\"\n",
    "print(ringkasan_pelanggan_pb_h5)\n"
   ]
  },
  {
   "cell_type": "markdown",
   "id": "4c1d21cb",
   "metadata": {},
   "source": [
    "### Soal 3: Kalkulasi Usia dan Status\n",
    "\n",
    "1.  Buatlah dua variabel berikut:\n",
    "    * `tahun_sekarang_pb_h6` (integer) = `2025`\n",
    "    * `tahun_lahir_pb_h6` (integer) = `1998`\n",
    "2.  Hitung usia pengguna dengan mengurangi `tahun_sekarang_pb_h6` dengan `tahun_lahir_pb_h6`. Simpan hasilnya ke dalam variabel **`usia_pb_h6`**.\n",
    "3.  Buat sebuah variabel boolean **`sudah_dewasa_pb_h6`** yang nilainya `True` jika `usia_pb_h6` lebih besar atau sama dengan 17, dan `False` jika tidak.\n",
    "4.  Buat sebuah string ringkasan yang menggabungkan semua informasi di atas. Simpan hasilnya dalam variabel **`status_pengguna_pb_h6`**. Formatnya:\n",
    "    `\"Usia pengguna saat ini: [Nilai Usia] tahun. Status Dewasa: [Status Boolean]\"`\n",
    "5.  Tampilkan nilai dari `status_pengguna_pb_h6`."
   ]
  },
  {
   "cell_type": "code",
   "execution_count": 7,
   "id": "e4eecb61",
   "metadata": {},
   "outputs": [
    {
     "name": "stdout",
     "output_type": "stream",
     "text": [
      "Usia pengguna saat ini: 27 tahun. Status Dewasa: True\n"
     ]
    }
   ],
   "source": [
    "tahun_sekarang_pb_h6 = 2025\n",
    "tahun_lahir_pb_h6 = 1998\n",
    "\n",
    "usia_pb_h6 = tahun_sekarang_pb_h6 - tahun_lahir_pb_h6\n",
    "sudah_dewasa_pb_h6 = usia_pb_h6 >= 17\n",
    "\n",
    "status_pengguna_pb_h6 = f\"Usia pengguna saat ini: {usia_pb_h6} tahun. Status Dewasa: {sudah_dewasa_pb_h6}\"\n",
    "print(status_pengguna_pb_h6)"
   ]
  },
  {
   "cell_type": "markdown",
   "id": "b79cb387",
   "metadata": {},
   "source": [
    "### Soal 4: Kalkulasi dengan Sisa Bagi (Modulo)\n",
    "\n",
    "Anda adalah seorang panitia acara yang harus membagikan 250 buah suvenir ke dalam beberapa tas.\n",
    "\n",
    "1.  Buatlah variabel **`total_suvenir_pb_h6`** dengan nilai `250`.\n",
    "2.  Buat variabel **`kapasitas_tas_pb_h6`** dengan nilai `12` (setiap tas bisa menampung 12 suvenir).\n",
    "3.  Hitung berapa banyak tas yang bisa diisi penuh. Gunakan **pembagian floor (`//`)**. Simpan hasilnya ke dalam variabel **`tas_terisi_penuh_pb_h6`**.\n",
    "4.  Hitung berapa banyak suvenir yang tersisa setelah semua tas diisi penuh. Gunakan **operator sisa bagi/modulo (`%`)**. Simpan hasilnya ke dalam variabel **`sisa_suvenir_pb_h6`**.\n",
    "5.  Tampilkan `tas_terisi_penuh_pb_h6` dan `sisa_suvenir_pb_h6` dengan pesan yang jelas."
   ]
  },
  {
   "cell_type": "code",
   "execution_count": 8,
   "id": "d656b33f",
   "metadata": {},
   "outputs": [
    {
     "name": "stdout",
     "output_type": "stream",
     "text": [
      "Tas terisi penuh: 20\n",
      "Sisa suvenir: 10\n"
     ]
    }
   ],
   "source": [
    "total_suvenir_pb_h6 = 250\n",
    "kapasitas_tas_pb_h6 = 12\n",
    "\n",
    "tas_terisi_penuh_pb_h6 = total_suvenir_pb_h6 // kapasitas_tas_pb_h6\n",
    "sisa_suvenir_pb_h6 = total_suvenir_pb_h6 % kapasitas_tas_pb_h6\n",
    "print(f\"Tas terisi penuh: {tas_terisi_penuh_pb_h6}\")\n",
    "print(f\"Sisa suvenir: {sisa_suvenir_pb_h6}\")"
   ]
  },
  {
   "cell_type": "markdown",
   "id": "89803ea8",
   "metadata": {},
   "source": [
    "### Soal 5: Slicing String Tingkat Lanjut\n",
    "\n",
    "1.  Buatlah sebuah variabel string bernama **`kode_rahasia_pb_h6`** dengan nilai `\"P1Y2T3H4O5N6\"`.\n",
    "2.  Gunakan *slicing* dengan langkah (step) untuk mengambil semua **huruf** saja dari `kode_rahasia_pb_h6`. Simpan hasilnya ke dalam variabel **`pesan_huruf_pb_h6`**.\n",
    "3.  Gunakan *slicing* dengan langkah (step) untuk mengambil semua **angka** saja dari `kode_rahasia_pb_h6`. Simpan hasilnya ke dalam variabel **`pesan_angka_pb_h6`**.\n",
    "4.  Gunakan *slicing* untuk **membalik urutan** seluruh string `kode_rahasia_pb_h6`. Simpan hasilnya ke dalam variabel **`kode_terbalik_pb_h6`**.\n",
    "5.  Tampilkan ketiga variabel hasil (`pesan_huruf_pb_h6`, `pesan_angka_pb_h6`, dan `kode_terbalik_pb_h6`)."
   ]
  },
  {
   "cell_type": "code",
   "execution_count": 10,
   "id": "88f72972",
   "metadata": {},
   "outputs": [
    {
     "name": "stdout",
     "output_type": "stream",
     "text": [
      "PYTHON\n",
      "123456\n",
      "6N5O4H3T2Y1P\n"
     ]
    }
   ],
   "source": [
    "kode_rahasia_pb_h6 = \"P1Y2T3H4O5N6\"\n",
    "\n",
    "pesan_huruf_pb_h6 = kode_rahasia_pb_h6[0:13:2]\n",
    "pesan_angka_pb_h6 = kode_rahasia_pb_h6[1:13:2]\n",
    "kode_terbalik_pb_h6 = kode_rahasia_pb_h6[::-1]\n",
    "\n",
    "print(pesan_huruf_pb_h6)\n",
    "print(pesan_angka_pb_h6)\n",
    "print(kode_terbalik_pb_h6)\n"
   ]
  },
  {
   "cell_type": "markdown",
   "id": "8dd58b2d",
   "metadata": {},
   "source": [
    "### Soal 6: Ekstraksi dan Kalkulasi dari String\n",
    "\n",
    "Anda menerima data harga dalam format string yang tidak konsisten dan perlu melakukan perhitungan dengannya.\n",
    "\n",
    "1.  Buatlah sebuah variabel string bernama **`harga_kotor_pb_h6`** dengan nilai `\"Harga Total: Rp 250,000\"`.\n",
    "2.  Gunakan **serangkaian *string method*** untuk membersihkan string tersebut sehingga hanya menyisakan angka `250000`.\n",
    "    * *Hint*: Anda mungkin perlu membuang bagian teks (`\"Harga Total: Rp \"`), lalu membuang karakter koma (`,`).\n",
    "3.  Konversikan string angka yang sudah bersih tersebut menjadi tipe data **integer**. Simpan hasilnya dalam variabel **`harga_bersih_pb_h6`**.\n",
    "4.  Hitung **pajak 11%** dari `harga_bersih_pb_h6`. Simpan hasilnya dalam variabel **`pajak_pb_h6`**.\n",
    "5.  Tampilkan nilai dari `harga_bersih_pb_h6` dan `pajak_pb_h6`."
   ]
  },
  {
   "cell_type": "code",
   "execution_count": 13,
   "id": "041fc8a5",
   "metadata": {},
   "outputs": [
    {
     "name": "stdout",
     "output_type": "stream",
     "text": [
      "250000\n",
      "27500.0\n"
     ]
    }
   ],
   "source": [
    "harga_kotor_pb_h6 = \"Harga Total: Rp 250,000\"\n",
    "harga_kotor_pb_h6 = harga_kotor_pb_h6.replace(\"Harga Total: Rp \", \"\").replace(\",\" , \"\")\n",
    "harga_bersih_pb_h6 = int(harga_kotor_pb_h6)\n",
    "pajak_pb_h6 = harga_bersih_pb_h6 * 0.11\n",
    "\n",
    "print(harga_bersih_pb_h6)\n",
    "print(pajak_pb_h6)"
   ]
  },
  {
   "cell_type": "markdown",
   "id": "389361e0",
   "metadata": {},
   "source": [
    "### Soal 7: Logika Boolean Kompleks\n",
    "\n",
    "Seorang pengunjung boleh masuk ke sebuah wahana jika memenuhi semua syarat berikut:\n",
    "* Usianya di antara 12 dan 60 tahun (inklusif).\n",
    "* Dia bukan anggota dari \"daftar hitam\" (blacklist).\n",
    "\n",
    "1.  Buatlah variabel-variabel berikut:\n",
    "    * **`usia_pengunjung_pb_h6`** (integer) = `35`.\n",
    "    * **`daftar_hitam_pb_h6`** (list of strings) = `[\"Andi\", \"Deni\", \"Eka\"]`.\n",
    "    * **`nama_pengunjung_pb_h6`** (string) = `\"Budi\"`.\n",
    "2.  Buatlah sebuah variabel boolean tunggal bernama **`izin_masuk_pb_h6`** yang nilainya `True` jika semua syarat terpenuhi, dan `False` jika tidak.\n",
    "    * *Hint*: Anda perlu menggabungkan beberapa kondisi menggunakan `and`. Untuk memeriksa usia, Anda bisa menggunakan `12 <= usia <= 60`. Untuk memeriksa keanggotaan dalam list, gunakan operator `not in`.\n",
    "3.  Tampilkan nilai dari `izin_masuk_pb_h6` dengan pesan yang jelas."
   ]
  },
  {
   "cell_type": "code",
   "execution_count": 14,
   "id": "44034ccc",
   "metadata": {},
   "outputs": [
    {
     "name": "stdout",
     "output_type": "stream",
     "text": [
      "Pengunjung Budi dapat masuk? True\n"
     ]
    }
   ],
   "source": [
    "usia_pengunjung_pb_h6 = 35\n",
    "daftar_hitam_pb_h6 = [\"Andi\", \"Deni\", \"Eka\"]\n",
    "nama_pengunjung_pb_h6 = \"Budi\"\n",
    "\n",
    "izin_masuk_pb_h6 = 12 <= usia_pengunjung_pb_h6 <= 60 and nama_pengunjung_pb_h6 not in daftar_hitam_pb_h6\n",
    "print(f\"Pengunjung {nama_pengunjung_pb_h6} dapat masuk? {izin_masuk_pb_h6}\")"
   ]
  },
  {
   "cell_type": "markdown",
   "id": "a43ce4d1",
   "metadata": {},
   "source": [
    "### Soal 8: Konteks Boolean dari Tipe Data Lain\n",
    "\n",
    "Di Python, nilai selain `True` atau `False` juga bisa dievaluasi dalam konteks boolean (misalnya di dalam `if`). Nilai seperti string kosong (`\"\"`), angka nol (`0`), dan `None` dianggap `False`. Nilai lainnya (string tidak kosong, angka bukan nol) dianggap `True`.\n",
    "\n",
    "1.  Buatlah variabel **`pesan_error_pb_h6`** dengan nilai string kosong (`\"\"`).\n",
    "2.  Buatlah variabel **`jumlah_item_pb_h6`** dengan nilai integer `5`.\n",
    "3.  Gunakan operator `or` untuk membuat sebuah variabel **`status_final_pb_h6`**. Logikanya: tampilkan `pesan_error_pb_h6` jika ia berisi teks, jika tidak, tampilkan pesan default `\"Tidak ada error\"`.\n",
    "    * *Hint*: Operasi `nilai_1 or nilai_2` akan menghasilkan `nilai_1` jika `nilai_1` dianggap `True`, jika tidak, ia akan menghasilkan `nilai_2`.\n",
    "4.  Lakukan hal yang sama untuk variabel **`item_tersisa_pb_h6`** dengan logika: `jumlah_item_pb_h6` `or` `0`.\n",
    "5.  Tampilkan nilai dari `status_final_pb_h6` dan `item_tersisa_pb_h6`."
   ]
  },
  {
   "cell_type": "code",
   "execution_count": 15,
   "id": "0021cb72",
   "metadata": {},
   "outputs": [
    {
     "name": "stdout",
     "output_type": "stream",
     "text": [
      "Tidak ada error\n",
      "5\n"
     ]
    }
   ],
   "source": [
    "pesan_error_pb_h6 = \"\"\n",
    "jumlah_item_pb_h6 = 5\n",
    "\n",
    "status_final_pb_h6 = pesan_error_pb_h6 or \"Tidak ada error\"\n",
    "item_tersisa_pb_h6 = jumlah_item_pb_h6 or 0\n",
    "\n",
    "print(status_final_pb_h6)\n",
    "print(item_tersisa_pb_h6)"
   ]
  },
  {
   "cell_type": "markdown",
   "id": "cea1ce4b",
   "metadata": {},
   "source": [
    "### Soal 9: Memprediksi Error Konversi Tipe\n",
    "\n",
    "Soal ini sedikit berbeda. Anda tidak perlu menulis kode yang berjalan sempurna, tetapi memprediksi hasilnya dan menjelaskan alasannya.\n",
    "\n",
    "1.  Perhatikan dua baris kode berikut:\n",
    "    ```python\n",
    "    data_str_1_pb_h6 = \"2025\"\n",
    "    data_int_1_pb_h6 = int(data_str_1_pb_h6)\n",
    "\n",
    "    data_str_2_pb_h6 = \"17.5\"\n",
    "    data_int_2_pb_h6 = int(data_str_2_pb_h6)\n",
    "    ```\n",
    "2.  Menurut Anda, baris kode mana (`data_int_1_pb_h6 = ...` atau `data_int_2_pb_h6 = ...`) yang akan menghasilkan **error** saat dijalankan?\n",
    "3.  Dalam komentar (`#`), jelaskan secara singkat **mengapa** error tersebut terjadi."
   ]
  },
  {
   "cell_type": "code",
   "execution_count": 21,
   "id": "15bbaace",
   "metadata": {},
   "outputs": [
    {
     "name": "stdout",
     "output_type": "stream",
     "text": [
      "17\n"
     ]
    }
   ],
   "source": [
    "# Kode yang akan error adalah yang data_int_2\n",
    "# ini terjadi karena kita ingin mengubah string yang bentuknya float menjadi integer ini yang menyebabkan value error\n",
    "\n",
    "# Fungsi int() tidak bisa secara langsung mengonversi string yang berisi karakter non-digit seperti titik desimal (.). Ia mengharapkan string yang murni merepresentasikan bilangan bulat. Upaya konversi ini akan menghasilkan ValueError.\n",
    "\n",
    "# Cara yang benar untuk mengonversi string \"17.5\"\n",
    "data_int_2_pb_h6 = int(float(\"17.5\")) # Hasilnya akan menjadi 17\n",
    "print(data_int_2_pb_h6)"
   ]
  },
  {
   "cell_type": "markdown",
   "id": "d68b9aca",
   "metadata": {},
   "source": [
    "### Soal 10: Ringkasan Data Karyawan\n",
    "\n",
    "Ini adalah soal terakhir yang menggabungkan beberapa konsep. Anda ditugaskan membuat ringkasan data singkat untuk seorang karyawan.\n",
    "\n",
    "1.  Buatlah variabel-variabel berikut:\n",
    "    * `data_karyawan_pb_h6` (string) = `\"Nama: Budi Hartono, Jabatan: Staf Marketing\"`\n",
    "    * `gaji_per_jam_pb_h6` (integer) = `50000`\n",
    "    * `jam_kerja_pb_h6` (float) = `8.5`\n",
    "2.  Dari string `data_karyawan_pb_h6`, ekstrak **nama depan** saja (\"Budi\").\n",
    "    * *Hint*: Anda bisa menggunakan `.split()` beberapa kali.\n",
    "    * Simpan hasilnya ke dalam variabel **`nama_panggilan_pb_h6`**.\n",
    "3.  Hitung **total gaji** dengan mengalikan `gaji_per_jam_pb_h6` dengan `jam_kerja_pb_h6`. Simpan hasilnya ke **`total_gaji_pb_h6`**.\n",
    "4.  Buatlah sebuah string ringkasan (summary) yang lengkap menggunakan f-string. Simpan dalam variabel **`slip_gaji_sederhana_pb_h6`**. Formatnya:\n",
    "    `\"Slip Gaji untuk [Nama Panggilan]. Total Gaji: Rp [Total Gaji]\"`\n",
    "    * Tampilkan total gaji dengan pemisah ribuan dan tanpa angka desimal.\n",
    "5.  Tampilkan nilai dari `slip_gaji_sederhana_pb_h6`."
   ]
  },
  {
   "cell_type": "code",
   "execution_count": 39,
   "id": "1cf27ff8",
   "metadata": {},
   "outputs": [
    {
     "name": "stdout",
     "output_type": "stream",
     "text": [
      "Slip Gaji untuk Budi. Total Gaji: Rp 425,000\n"
     ]
    }
   ],
   "source": [
    "data_karyawan_pb_h6 = \"Nama: Budi Hartono, Jabatan: Staf Marketing\"\n",
    "gaji_per_jam_pb_h6 = 50000\n",
    "jam_kerja_pb_h6 = 8.5\n",
    "\n",
    "nama_panggilan_pb_h6 = data_karyawan_pb_h6.split(\":\")[1].split(\",\")[0].split(\" \")[1]\n",
    "total_gaji_pb_h6 = gaji_per_jam_pb_h6 * jam_kerja_pb_h6\n",
    "slip_gaji_sederhana_pb_h6 = f\"Slip Gaji untuk {nama_panggilan_pb_h6}. Total Gaji: Rp {total_gaji_pb_h6:,.0f}\"\n",
    "\n",
    "print(slip_gaji_sederhana_pb_h6)\n"
   ]
  }
 ],
 "metadata": {
  "kernelspec": {
   "display_name": "Python 3",
   "language": "python",
   "name": "python3"
  },
  "language_info": {
   "codemirror_mode": {
    "name": "ipython",
    "version": 3
   },
   "file_extension": ".py",
   "mimetype": "text/x-python",
   "name": "python",
   "nbconvert_exporter": "python",
   "pygments_lexer": "ipython3",
   "version": "3.12.10"
  }
 },
 "nbformat": 4,
 "nbformat_minor": 5
}
