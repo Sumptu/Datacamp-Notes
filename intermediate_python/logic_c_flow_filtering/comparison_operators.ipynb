{
 "cells": [
  {
   "cell_type": "markdown",
   "id": "34a9dfd6",
   "metadata": {},
   "source": [
    "# NumPy recap"
   ]
  },
  {
   "cell_type": "code",
   "execution_count": 6,
   "id": "797a0da4",
   "metadata": {},
   "outputs": [
    {
     "name": "stdout",
     "output_type": "stream",
     "text": [
      "[21.85171573 20.97505669 21.75028214 24.7473475  21.44127836]\n"
     ]
    }
   ],
   "source": [
    "import numpy as np\n",
    "\n",
    "np_height = np.array([1.73, 1.68, 1.71, 1.89, 1.79])\n",
    "np_weight = np.array([65.4, 59.2, 63.6, 88.4, 68.7])\n",
    "bmi = np_weight / np_height ** 2\n",
    "print(bmi)"
   ]
  },
  {
   "cell_type": "code",
   "execution_count": 7,
   "id": "a01ad6d8",
   "metadata": {},
   "outputs": [
    {
     "name": "stdout",
     "output_type": "stream",
     "text": [
      "[False False False  True False]\n"
     ]
    }
   ],
   "source": [
    "print(bmi > 23)"
   ]
  },
  {
   "cell_type": "code",
   "execution_count": 8,
   "id": "5a47f74c",
   "metadata": {},
   "outputs": [
    {
     "name": "stdout",
     "output_type": "stream",
     "text": [
      "[24.7473475]\n"
     ]
    }
   ],
   "source": [
    "print(bmi[bmi > 23])"
   ]
  },
  {
   "cell_type": "markdown",
   "id": "d03e5af0",
   "metadata": {},
   "source": [
    "- Comparison operators: how python values relate"
   ]
  },
  {
   "cell_type": "markdown",
   "id": "1ee85620",
   "metadata": {},
   "source": [
    "# Numeric comparisons"
   ]
  },
  {
   "cell_type": "code",
   "execution_count": 1,
   "id": "886ee4e3",
   "metadata": {},
   "outputs": [
    {
     "name": "stdout",
     "output_type": "stream",
     "text": [
      "True\n"
     ]
    }
   ],
   "source": [
    "print(2 < 3)"
   ]
  },
  {
   "cell_type": "code",
   "execution_count": 2,
   "id": "ca705fdf",
   "metadata": {},
   "outputs": [
    {
     "name": "stdout",
     "output_type": "stream",
     "text": [
      "False\n"
     ]
    }
   ],
   "source": [
    "print(2 == 3)"
   ]
  },
  {
   "cell_type": "code",
   "execution_count": 3,
   "id": "e532a9ac",
   "metadata": {},
   "outputs": [
    {
     "name": "stdout",
     "output_type": "stream",
     "text": [
      "True\n"
     ]
    }
   ],
   "source": [
    "print(2 <= 3)"
   ]
  },
  {
   "cell_type": "code",
   "execution_count": null,
   "id": "03040851",
   "metadata": {},
   "outputs": [
    {
     "name": "stdout",
     "output_type": "stream",
     "text": [
      "True\n"
     ]
    }
   ],
   "source": [
    "print(3 <= 3)"
   ]
  },
  {
   "cell_type": "code",
   "execution_count": 5,
   "id": "0d40bfce",
   "metadata": {},
   "outputs": [
    {
     "name": "stdout",
     "output_type": "stream",
     "text": [
      "True\n"
     ]
    }
   ],
   "source": [
    "x = 2\n",
    "y = 3\n",
    "print(x < y)"
   ]
  },
  {
   "cell_type": "markdown",
   "id": "23035d9f",
   "metadata": {},
   "source": [
    "# Other comparison"
   ]
  },
  {
   "cell_type": "code",
   "execution_count": 9,
   "id": "83a055ec",
   "metadata": {},
   "outputs": [
    {
     "name": "stdout",
     "output_type": "stream",
     "text": [
      "True\n"
     ]
    }
   ],
   "source": [
    "print(\"carl\" < \"chris\")"
   ]
  },
  {
   "cell_type": "code",
   "execution_count": 10,
   "id": "1a01b615",
   "metadata": {},
   "outputs": [
    {
     "ename": "TypeError",
     "evalue": "'<' not supported between instances of 'int' and 'str'",
     "output_type": "error",
     "traceback": [
      "\u001b[31m---------------------------------------------------------------------------\u001b[39m",
      "\u001b[31mTypeError\u001b[39m                                 Traceback (most recent call last)",
      "\u001b[36mCell\u001b[39m\u001b[36m \u001b[39m\u001b[32mIn[10]\u001b[39m\u001b[32m, line 1\u001b[39m\n\u001b[32m----> \u001b[39m\u001b[32m1\u001b[39m \u001b[38;5;28mprint\u001b[39m(\u001b[32;43m3\u001b[39;49m\u001b[43m \u001b[49m\u001b[43m<\u001b[49m\u001b[43m \u001b[49m\u001b[33;43m\"\u001b[39;49m\u001b[33;43mcarl\u001b[39;49m\u001b[33;43m\"\u001b[39;49m)\n",
      "\u001b[31mTypeError\u001b[39m: '<' not supported between instances of 'int' and 'str'"
     ]
    }
   ],
   "source": [
    "print(3 < \"carl\")"
   ]
  },
  {
   "cell_type": "code",
   "execution_count": 11,
   "id": "700413a1",
   "metadata": {},
   "outputs": [
    {
     "name": "stdout",
     "output_type": "stream",
     "text": [
      "True\n"
     ]
    }
   ],
   "source": [
    "print(3 < 4.1)"
   ]
  },
  {
   "cell_type": "code",
   "execution_count": 12,
   "id": "4fe7aae2",
   "metadata": {},
   "outputs": [
    {
     "name": "stdout",
     "output_type": "stream",
     "text": [
      "[21.85171573 20.97505669 21.75028214 24.7473475  21.44127836]\n"
     ]
    }
   ],
   "source": [
    "print(bmi)"
   ]
  },
  {
   "cell_type": "code",
   "execution_count": null,
   "id": "4600b129",
   "metadata": {},
   "outputs": [
    {
     "name": "stdout",
     "output_type": "stream",
     "text": [
      "[False False False  True False]\n"
     ]
    },
    {
     "ename": "",
     "evalue": "",
     "output_type": "error",
     "traceback": [
      "\u001b[1;31mThe Kernel crashed while executing code in the current cell or a previous cell. \n",
      "\u001b[1;31mPlease review the code in the cell(s) to identify a possible cause of the failure. \n",
      "\u001b[1;31mClick <a href='https://aka.ms/vscodeJupyterKernelCrash'>here</a> for more info. \n",
      "\u001b[1;31mView Jupyter <a href='command:jupyter.viewOutput'>log</a> for further details."
     ]
    }
   ],
   "source": [
    "print(bmi > 23)"
   ]
  },
  {
   "cell_type": "markdown",
   "id": "c6b147fc",
   "metadata": {},
   "source": [
    "# Comparators\n",
    "![image.png](image_3.png)\n"
   ]
  },
  {
   "cell_type": "markdown",
   "id": "7718945d",
   "metadata": {},
   "source": []
  }
 ],
 "metadata": {
  "kernelspec": {
   "display_name": "Python 3",
   "language": "python",
   "name": "python3"
  },
  "language_info": {
   "codemirror_mode": {
    "name": "ipython",
    "version": 3
   },
   "file_extension": ".py",
   "mimetype": "text/x-python",
   "name": "python",
   "nbconvert_exporter": "python",
   "pygments_lexer": "ipython3",
   "version": "3.12.10"
  }
 },
 "nbformat": 4,
 "nbformat_minor": 5
}
