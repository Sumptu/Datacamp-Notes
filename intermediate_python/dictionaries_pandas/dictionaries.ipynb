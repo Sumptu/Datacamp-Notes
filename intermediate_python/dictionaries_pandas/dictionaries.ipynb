{
 "cells": [
  {
   "cell_type": "markdown",
   "id": "6ff26278",
   "metadata": {},
   "source": [
    "# List"
   ]
  },
  {
   "cell_type": "code",
   "execution_count": 6,
   "id": "d00bda75",
   "metadata": {},
   "outputs": [
    {
     "name": "stdout",
     "output_type": "stream",
     "text": [
      "1\n"
     ]
    }
   ],
   "source": [
    "pop = [30.55, 2.77, 39.21]\n",
    "countries = [\"afghanistan\", \"albania\", \"algeria\"]\n",
    "ind_alb = countries.index(\"albania\")\n",
    "print(ind_alb)"
   ]
  },
  {
   "cell_type": "code",
   "execution_count": 7,
   "id": "ae9618fd",
   "metadata": {},
   "outputs": [
    {
     "name": "stdout",
     "output_type": "stream",
     "text": [
      "2.77\n"
     ]
    }
   ],
   "source": [
    "print(pop[ind_alb])"
   ]
  },
  {
   "cell_type": "markdown",
   "id": "720800d6",
   "metadata": {},
   "source": [
    "- Not convenient\n",
    "- Not intuitive"
   ]
  },
  {
   "cell_type": "markdown",
   "id": "16d9299e",
   "metadata": {},
   "source": [
    "# Dictionaries\n"
   ]
  },
  {
   "cell_type": "code",
   "execution_count": 8,
   "id": "037ce74f",
   "metadata": {},
   "outputs": [
    {
     "name": "stdout",
     "output_type": "stream",
     "text": [
      "dict_keys(['afghanistan', 'albania', 'algeria'])\n",
      "2.77\n"
     ]
    }
   ],
   "source": [
    "world = {\n",
    "    \"afghanistan\": 30.55,\n",
    "    \"albania\": 2.77,\n",
    "    \"algeria\": 39.21,\n",
    "}\n",
    "\n",
    "print(world.keys())\n",
    "print(world[\"albania\"])"
   ]
  },
  {
   "cell_type": "code",
   "execution_count": 9,
   "id": "8c13674b",
   "metadata": {},
   "outputs": [
    {
     "name": "stdout",
     "output_type": "stream",
     "text": [
      "{'afghanistan': 30.55, 'albania': 2.81, 'algeria': 39.21}\n"
     ]
    }
   ],
   "source": [
    "world = {\n",
    "    \"afghanistan\": 30.55,\n",
    "    \"albania\": 2.77,\n",
    "    \"algeria\": 39.21,\n",
    "    \"albania\": 2.81,\n",
    "}\n",
    "\n",
    "print(world)"
   ]
  },
  {
   "cell_type": "markdown",
   "id": "6356f7d4",
   "metadata": {},
   "source": [
    "- Keys have to be immutable objects\n"
   ]
  },
  {
   "cell_type": "code",
   "execution_count": 10,
   "id": "082ade56",
   "metadata": {},
   "outputs": [
    {
     "name": "stdout",
     "output_type": "stream",
     "text": [
      "{0: 'hello', True: 'dear', 'two': 'world'}\n"
     ]
    }
   ],
   "source": [
    "print({0: \"hello\", True: \"dear\", \"two\": \"world\"}) # integer, boolean, and string is a immutable data type"
   ]
  },
  {
   "cell_type": "markdown",
   "id": "2160675c",
   "metadata": {},
   "source": [
    "# Important\n",
    "Imuttable objects mean that they values cannot be changed.\n",
    "\n",
    "Example:\n",
    "we have variable named : nama, and the value is \"John is a boy\" (nama = \"John is a boy\")\n",
    "and then we change the value to \"John is a girl\" (nama = \"John is a girl\")\n",
    "\n",
    "\"hmmm, the value of nama is changed right?, you said that immutable objects cannot be changed!\"\n",
    "\n",
    "No, the value of nama is not changed, the value of nama is still \"John is a boy\", but the variable nama is pointing to a new object, which is \"John is a girl\"\n",
    "\n",
    "to prove it, we can use the id() function\n",
    "id() function will return the memory address of the object\n",
    "\n",
    "example:\n",
    "``` python\n",
    "\n",
    "nama = \"John is a boy\"\n",
    "print(id(nama))\n",
    "nama = \"John is a girl\"\n",
    "print(id(nama))\n",
    "```\n",
    "\n",
    "try to run the code, you will see that the memory address of nama is different its mean that nama is pointing to a new object. \n",
    "\n"
   ]
  },
  {
   "cell_type": "code",
   "execution_count": 11,
   "id": "59759c31",
   "metadata": {},
   "outputs": [
    {
     "name": "stdout",
     "output_type": "stream",
     "text": [
      "2448874311472\n",
      "2448874323056\n"
     ]
    }
   ],
   "source": [
    "nama = \"John is a boy\"\n",
    "print(id(nama))\n",
    "nama = \"John is a girl\"\n",
    "print(id(nama))"
   ]
  },
  {
   "cell_type": "code",
   "execution_count": 12,
   "id": "162e866c",
   "metadata": {},
   "outputs": [
    {
     "name": "stdout",
     "output_type": "stream",
     "text": [
      "2448874069184\n",
      "2448874069184\n"
     ]
    }
   ],
   "source": [
    "# This prove list is mutable\n",
    "old_list = [1, 2, 3]\n",
    "print(id(old_list))\n",
    "old_list.append(4)\n",
    "print(id(old_list))"
   ]
  },
  {
   "cell_type": "markdown",
   "id": "16d4fae7",
   "metadata": {},
   "source": [
    "See code in above this, the id has not changed. it means list changed the value of the object."
   ]
  },
  {
   "cell_type": "code",
   "execution_count": 13,
   "id": "6555332b",
   "metadata": {},
   "outputs": [
    {
     "ename": "TypeError",
     "evalue": "unhashable type: 'list'",
     "output_type": "error",
     "traceback": [
      "\u001b[31m---------------------------------------------------------------------------\u001b[39m",
      "\u001b[31mTypeError\u001b[39m                                 Traceback (most recent call last)",
      "\u001b[36mCell\u001b[39m\u001b[36m \u001b[39m\u001b[32mIn[13]\u001b[39m\u001b[32m, line 1\u001b[39m\n\u001b[32m----> \u001b[39m\u001b[32m1\u001b[39m \u001b[38;5;28mprint\u001b[39m({[\u001b[32m1\u001b[39m, \u001b[32m2\u001b[39m]: \u001b[33m\"\u001b[39m\u001b[33mini list\u001b[39m\u001b[33m\"\u001b[39m}) \u001b[38;5;66;03m# This will throw an error because list is immutable object\u001b[39;00m\n",
      "\u001b[31mTypeError\u001b[39m: unhashable type: 'list'"
     ]
    }
   ],
   "source": [
    "print({[1, 2]: \"ini list\"}) # This will throw an error because list is immutable object"
   ]
  },
  {
   "cell_type": "code",
   "execution_count": 14,
   "id": "37f76f60",
   "metadata": {},
   "outputs": [
    {
     "name": "stdout",
     "output_type": "stream",
     "text": [
      "{'afghanistan': 30.55, 'albania': 2.81, 'algeria': 39.21, 'sealand': 2.7e-05}\n"
     ]
    }
   ],
   "source": [
    "# adding a new keys to world dictionary\n",
    "world[\"sealand\"] = 0.000027\n",
    "print(world)"
   ]
  },
  {
   "cell_type": "code",
   "execution_count": 15,
   "id": "f2d22572",
   "metadata": {},
   "outputs": [
    {
     "name": "stdout",
     "output_type": "stream",
     "text": [
      "True\n"
     ]
    }
   ],
   "source": [
    "# check key exists in dictionary\n",
    "print(\"sealand\" in world)"
   ]
  },
  {
   "cell_type": "code",
   "execution_count": 16,
   "id": "67d32ea7",
   "metadata": {},
   "outputs": [
    {
     "name": "stdout",
     "output_type": "stream",
     "text": [
      "{'afghanistan': 30.55, 'albania': 2.81, 'algeria': 39.21, 'sealand': 2.8e-05}\n"
     ]
    }
   ],
   "source": [
    "# change the value of the key \"sealand\" to 0.000028\n",
    "world[\"sealand\"] = 0.000028\n",
    "print(world)"
   ]
  },
  {
   "cell_type": "code",
   "execution_count": 17,
   "id": "72e7f449",
   "metadata": {},
   "outputs": [
    {
     "name": "stdout",
     "output_type": "stream",
     "text": [
      "{'afghanistan': 30.55, 'albania': 2.81, 'algeria': 39.21}\n"
     ]
    }
   ],
   "source": [
    "# Deleting key and value from a dictionary\n",
    "del world[\"sealand\"]\n",
    "print(world)"
   ]
  },
  {
   "cell_type": "markdown",
   "id": "54679d7b",
   "metadata": {},
   "source": [
    "# List vs Dictionaries\n",
    "![image.png](image_1.png)"
   ]
  }
 ],
 "metadata": {
  "kernelspec": {
   "display_name": "Python 3",
   "language": "python",
   "name": "python3"
  },
  "language_info": {
   "codemirror_mode": {
    "name": "ipython",
    "version": 3
   },
   "file_extension": ".py",
   "mimetype": "text/x-python",
   "name": "python",
   "nbconvert_exporter": "python",
   "pygments_lexer": "ipython3",
   "version": "3.12.10"
  }
 },
 "nbformat": 4,
 "nbformat_minor": 5
}
