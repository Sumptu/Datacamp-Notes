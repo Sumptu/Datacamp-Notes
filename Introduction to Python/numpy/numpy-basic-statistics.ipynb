{
 "cells": [
  {
   "cell_type": "markdown",
   "id": "cca88935",
   "metadata": {},
   "source": [
    "## Data analysis\n",
    "as a data scientist, you'll often find yourself needing to analyze data.\n",
    "- Get to know your data\n",
    "- Little data -> simply look at it\n",
    "- Big data -> ?"
   ]
  },
  {
   "cell_type": "markdown",
   "id": "2b8043fc",
   "metadata": {},
   "source": [
    "## City-wide survey"
   ]
  },
  {
   "cell_type": "code",
   "execution_count": 2,
   "id": "40916344",
   "metadata": {},
   "outputs": [
    {
     "name": "stdout",
     "output_type": "stream",
     "text": [
      "[[ 1.64 71.78]\n",
      " [ 1.37 63.5 ]\n",
      " [ 1.6  55.09]\n",
      " [ 2.04 74.85]\n",
      " [ 2.04 68.72]\n",
      " [ 2.01 73.57]]\n"
     ]
    }
   ],
   "source": [
    "import numpy as np\n",
    "np_city = np.array([[1.64, 71.78],\n",
    "                   [1.37, 63.5],\n",
    "                   [1.6, 55.09],\n",
    "                   [2.04, 74.85],\n",
    "                   [2.04, 68.72],\n",
    "                   [2.01, 73.57]])\n",
    "print(np_city)\n"
   ]
  },
  {
   "cell_type": "code",
   "execution_count": 4,
   "id": "7246d0f0",
   "metadata": {},
   "outputs": [
    {
     "name": "stdout",
     "output_type": "stream",
     "text": [
      "1.7833333333333332\n"
     ]
    }
   ],
   "source": [
    "print(np.mean(np_city[:, 0]))"
   ]
  },
  {
   "cell_type": "code",
   "execution_count": 5,
   "id": "c8b72272",
   "metadata": {},
   "outputs": [
    {
     "name": "stdout",
     "output_type": "stream",
     "text": [
      "1.8249999999999997\n"
     ]
    }
   ],
   "source": [
    "print(np.median(np_city[:, 0]))"
   ]
  },
  {
   "cell_type": "code",
   "execution_count": 6,
   "id": "7a8793de",
   "metadata": {},
   "outputs": [
    {
     "name": "stdout",
     "output_type": "stream",
     "text": [
      "[[1.         0.64499768]\n",
      " [0.64499768 1.        ]]\n"
     ]
    }
   ],
   "source": [
    "print(np.corrcoef(np_city[:, 0], np_city[:, 1]))"
   ]
  },
  {
   "cell_type": "code",
   "execution_count": 7,
   "id": "96829ea3",
   "metadata": {},
   "outputs": [
    {
     "name": "stdout",
     "output_type": "stream",
     "text": [
      "0.2608107018935807\n"
     ]
    }
   ],
   "source": [
    "print(np.std(np_city[:, 0]))"
   ]
  },
  {
   "cell_type": "markdown",
   "id": "a2a923e8",
   "metadata": {},
   "source": [
    "## Generate data\n",
    "- Arguments for **np.random.normal()**\n",
    "    - mean\n",
    "    - standard deviation\n",
    "    - number of samples\n"
   ]
  },
  {
   "cell_type": "code",
   "execution_count": null,
   "id": "3a9fde83",
   "metadata": {},
   "outputs": [],
   "source": [
    "height = np.round(np.random.normal(1.75, 0.20, 5000), 2)\n",
    "weight = np.round(np.random.normal(60.32, 15, 5000), 2)\n",
    "np_city = np.column_stack((height, weight))"
   ]
  }
 ],
 "metadata": {
  "kernelspec": {
   "display_name": "tutorial_notebook",
   "language": "python",
   "name": "python3"
  },
  "language_info": {
   "codemirror_mode": {
    "name": "ipython",
    "version": 3
   },
   "file_extension": ".py",
   "mimetype": "text/x-python",
   "name": "python",
   "nbconvert_exporter": "python",
   "pygments_lexer": "ipython3",
   "version": "3.13.2"
  }
 },
 "nbformat": 4,
 "nbformat_minor": 5
}
