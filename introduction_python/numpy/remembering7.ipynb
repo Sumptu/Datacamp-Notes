{
 "cells": [
  {
   "cell_type": "markdown",
   "id": "1337d361",
   "metadata": {},
   "source": [
    "### **Soal 1: Membuat dan Melakukan Operasi Aritmetika pada NumPy Array**\n",
    "\n",
    "**Konteks:**\n",
    "Anda adalah seorang ilmuwan data yang sedang menganalisis data konversi suhu. Anda memiliki daftar suhu dalam Celsius dan perlu mengubahnya menjadi Fahrenheit.\n",
    "\n",
    "**Tugas:**\n",
    "\n",
    "1.  Impor library NumPy dengan alias `np`.\n",
    "2.  Buat sebuah list Python bernama `suhu_celsius_1` yang berisi data berikut: `[0, 15, 25, 30, 100]`.\n",
    "3.  Konversikan list tersebut menjadi sebuah NumPy array bernama `np_suhu_celsius_1`.\n",
    "4.  Buat array baru bernama `np_suhu_fahrenheit_1` dengan mengaplikasikan rumus konversi `(Celsius * 9/5) + 32` pada setiap elemen di `np_suhu_celsius_1`.\n",
    "5.  Cetak `np_suhu_fahrenheit_1` untuk melihat hasilnya."
   ]
  },
  {
   "cell_type": "code",
   "execution_count": 2,
   "id": "7f38bd2e",
   "metadata": {},
   "outputs": [
    {
     "name": "stdout",
     "output_type": "stream",
     "text": [
      "[ 32.  59.  77.  86. 212.]\n"
     ]
    }
   ],
   "source": [
    "import numpy as np\n",
    "\n",
    "suhu_celsius_1 = [\n",
    "    0,\n",
    "    15,\n",
    "    25,\n",
    "    30,\n",
    "    100,\n",
    "]\n",
    "\n",
    "np_suhu_celsius_1 = np.array(suhu_celsius_1)\n",
    "np_suhu_fahrenheit_1 = np.array(np_suhu_celsius_1 * 9/5) + 32\n",
    "print(np_suhu_fahrenheit_1)"
   ]
  },
  {
   "cell_type": "markdown",
   "id": "4c56b517",
   "metadata": {},
   "source": [
    "### **Soal 2: Subsetting NumPy Array dengan Kondisi**\n",
    "\n",
    "**Konteks:**\n",
    "Dari data suhu Fahrenheit yang Anda miliki, Anda ingin menyaring dan menampilkan hanya suhu yang dianggap \"panas\" (di atas 80°F).\n",
    "\n",
    "**Tugas:**\n",
    "\n",
    "1.  Gunakan kembali NumPy array `np_suhu_fahrenheit_1` dari soal sebelumnya.\n",
    "2.  Buat sebuah *boolean array* (sering disebut *mask*) yang akan bernilai `True` untuk setiap elemen di `np_suhu_fahrenheit_1` yang nilainya lebih besar dari `80`.\n",
    "3.  Gunakan *mask* tersebut untuk memilih elemen-elemen dari `np_suhu_fahrenheit_1` yang memenuhi kondisi.\n",
    "4.  Simpan hasilnya dalam array baru bernama `suhu_panas_2`.\n",
    "5.  Cetak `suhu_panas_2`."
   ]
  },
  {
   "cell_type": "code",
   "execution_count": 8,
   "id": "4f709521",
   "metadata": {},
   "outputs": [
    {
     "name": "stdout",
     "output_type": "stream",
     "text": [
      "[ 86. 212.]\n"
     ]
    }
   ],
   "source": [
    "# numpy sudah diimport sebelumnya\n",
    "mask = np_suhu_fahrenheit_1 > 80\n",
    "suhu_panas_2 = np_suhu_fahrenheit_1[mask]\n",
    "\n",
    "print(suhu_panas_2)"
   ]
  },
  {
   "cell_type": "markdown",
   "id": "67d7438f",
   "metadata": {},
   "source": [
    "### **Soal 3: Membuat dan Mengakses Array 2D**\n",
    "\n",
    "**Konteks:**\n",
    "Anda sedang menganalisis data penjualan produk selama tiga hari. Data ini paling baik direpresentasikan dalam bentuk tabel atau array 2D, di mana baris mewakili hari dan kolom mewakili produk.\n",
    "\n",
    "**Tugas:**\n",
    "\n",
    "1.  Buat sebuah *list of lists* bernama `data_penjualan_3`:\n",
    "    ```python\n",
    "    data_penjualan_3 = [\n",
    "        [10, 15, 12],  # Hari 1\n",
    "        [11, 18, 14],  # Hari 2\n",
    "        [14, 20, 17]   # Hari 3\n",
    "    ]\n",
    "    ```\n",
    "2.  Konversikan `data_penjualan_3` menjadi sebuah NumPy array 2D bernama `np_penjualan_3`.\n",
    "3.  Akses dan cetak data penjualan **produk ketiga** (indeks kolom 2) pada **hari kedua** (indeks baris 1).\n",
    "4.  Akses dan cetak seluruh data penjualan untuk **hari ketiga** (seluruh baris di indeks 2).\n",
    "5.  Akses dan cetak seluruh data penjualan untuk **produk pertama** (seluruh kolom di indeks 0)."
   ]
  },
  {
   "cell_type": "code",
   "execution_count": 14,
   "id": "92d61ec4",
   "metadata": {},
   "outputs": [
    {
     "name": "stdout",
     "output_type": "stream",
     "text": [
      "14\n",
      "[14 20 17]\n",
      "[10 11 14]\n"
     ]
    }
   ],
   "source": [
    "# numpy sudah diimport sebelumnya\n",
    "\n",
    "data_penjualan_3 = [\n",
    "    [10, 15, 12],\n",
    "    [11, 18, 14],\n",
    "    [14, 20, 17],\n",
    "]\n",
    "\n",
    "np_penjualan_3 = np.array(data_penjualan_3)\n",
    "print(np_penjualan_3[1, 2])\n",
    "print(np_penjualan_3[2])\n",
    "print(np_penjualan_3[:, 0])"
   ]
  },
  {
   "cell_type": "markdown",
   "id": "3f7b1485",
   "metadata": {},
   "source": [
    "### **Soal 4: Aritmetika pada Array 2D dan Statistik Dasar**\n",
    "\n",
    "**Konteks:**\n",
    "Anda memiliki data penjualan dari soal sebelumnya. Sekarang, Anda ingin menambahkan 5 unit ke setiap data penjualan sebagai bonus dan kemudian menghitung total penjualan per hari.\n",
    "\n",
    "**Tugas:**\n",
    "\n",
    "1.  Gunakan kembali array `np_penjualan_3`.\n",
    "2.  Buat array baru bernama `np_penjualan_bonus_4` dengan menambahkan `5` ke setiap elemen di `np_penjualan_3`.\n",
    "3.  Hitung **total penjualan** untuk **setiap hari** (setiap baris) dari array `np_penjualan_bonus_4`. Simpan hasilnya dalam variabel `total_harian_4`.\n",
    "4.  Hitung **rata-rata penjualan** untuk **setiap produk** (setiap kolom) dari array `np_penjualan_bonus_4`. Simpan hasilnya dalam variabel `rata_rata_produk_4`.\n",
    "5.  Cetak `np_penjualan_bonus_4`, `total_harian_4`, dan `rata_rata_produk_4`."
   ]
  },
  {
   "cell_type": "code",
   "execution_count": 21,
   "id": "bf8cef0a",
   "metadata": {},
   "outputs": [
    {
     "name": "stdout",
     "output_type": "stream",
     "text": [
      "[[15 20 17]\n",
      " [16 23 19]\n",
      " [19 25 22]]\n",
      "[52 58 66]\n",
      "[16.66666667 22.66666667 19.33333333]\n"
     ]
    }
   ],
   "source": [
    "# numpy sudah diimport sebelumnya\n",
    "np_penjualan_bonus_4 = np_penjualan_3 + 5\n",
    "total_harian_4 = np.sum(np_penjualan_bonus_4, axis=1)\n",
    "rata_rata_produk_4 = np.mean(np_penjualan_bonus_4, axis=0)\n",
    "\n",
    "print(np_penjualan_bonus_4)\n",
    "print(total_harian_4)\n",
    "print(rata_rata_produk_4)"
   ]
  },
  {
   "cell_type": "markdown",
   "id": "e570fb99",
   "metadata": {},
   "source": [
    "### **Soal 5: Statistik Lanjutan dan NumPy Side Effect**\n",
    "\n",
    "**Konteks:**\n",
    "Anda ingin membandingkan nilai penjualan rata-rata (*mean*) dengan nilai tengah (*median*) untuk setiap produk, karena median lebih tahan terhadap nilai pencilan (outlier). Anda juga akan menguji apa yang terjadi jika Anda mengubah sebagian data dari array asli.\n",
    "\n",
    "**Tugas:**\n",
    "\n",
    "1.  Gunakan kembali array `np_penjualan_3` yang asli.\n",
    "2.  Buat sebuah *view* atau irisan dari `np_penjualan_3` yang hanya berisi data untuk **hari pertama** (baris 0). Simpan ini dalam variabel `penjualan_hari_pertama_5`.\n",
    "3.  Ubah nilai **pertama** dalam `penjualan_hari_pertama_5` menjadi `100` untuk menyimulasikan outlier.\n",
    "4.  Hitung **rata-rata** penjualan untuk setiap produk (per kolom) dari `np_penjualan_3` yang sudah termodifikasi. Simpan di `rata_rata_baru_5`.\n",
    "5.  Hitung **median** penjualan untuk setiap produk (per kolom) dari `np_penjualan_3` yang sudah termodifikasi. Simpan di `median_baru_5`.\n",
    "6.  Cetak `np_penjualan_3` yang baru, lalu cetak `rata_rata_baru_5` dan `median_baru_5`. Amati perbedaannya."
   ]
  },
  {
   "cell_type": "code",
   "execution_count": null,
   "id": "525e8ea6",
   "metadata": {},
   "outputs": [
    {
     "name": "stdout",
     "output_type": "stream",
     "text": [
      "[[100  15  12]\n",
      " [ 11  18  14]\n",
      " [ 14  20  17]]\n",
      "[41.66666667 17.66666667 14.33333333]\n",
      "[14. 18. 14.]\n"
     ]
    }
   ],
   "source": [
    "# numpy sudah diimport sebelumnya\n",
    "\n",
    "penjualan_hari_pertama_5 = np_penjualan_3[0]\n",
    "penjualan_hari_pertama_5[0] = 100\n",
    "\n",
    "rata_rata_baru_5 = np.mean(np_penjualan_3, axis=0)\n",
    "median_baru_5 = np.median(np_penjualan_3, axis=0)\n",
    "\n",
    "print(np_penjualan_3)\n",
    "print(rata_rata_baru_5)\n",
    "print(median_baru_5)\n"
   ]
  },
  {
   "cell_type": "markdown",
   "id": "bd296dae",
   "metadata": {},
   "source": [
    "### **Soal 6: Mengubah Bentuk Array (`.reshape()`)**\n",
    "\n",
    "**Konteks:**\n",
    "Anda menerima data sensor sebagai satu baris panjang (array 1D), tetapi Anda tahu bahwa data tersebut sebenarnya mewakili pengukuran dari 3 sensor yang berbeda selama 4 hari. Anda perlu mengubah bentuk array tersebut menjadi 2D (4 baris, 3 kolom) untuk analisis lebih lanjut.\n",
    "\n",
    "**Tugas:**\n",
    "\n",
    "1.  Buat sebuah NumPy array 1D bernama `data_sensor_flat_6` yang berisi 12 elemen:\n",
    "    ```python\n",
    "    data_sensor_flat_6 = np.array([10, 12, 11, 20, 22, 21, 30, 29, 31, 41, 40, 42])\n",
    "    ```\n",
    "2.  Gunakan method `.reshape()` pada array tersebut untuk mengubah bentuknya menjadi 4 baris dan 3 kolom.\n",
    "3.  Simpan array 2D yang baru ke dalam variabel `data_sensor_reshaped_6`.\n",
    "4.  Cetak `data_sensor_reshaped_6` dan `data_sensor_reshaped_6.shape` untuk memverifikasi hasilnya."
   ]
  },
  {
   "cell_type": "code",
   "execution_count": null,
   "id": "da934339",
   "metadata": {},
   "outputs": [
    {
     "name": "stdout",
     "output_type": "stream",
     "text": [
      "[[10 12 11]\n",
      " [20 22 21]\n",
      " [30 29 31]\n",
      " [41 40 42]]\n",
      "(4, 3)\n"
     ]
    }
   ],
   "source": [
    "# numpy sudah diimport sebelumnya\n",
    "data_sensor_flat_6 = np.array([\n",
    "    10, 12, 11, 20, 22, 21,\n",
    "    30, 29, 31, 41, 40, 42,\n",
    "])\n",
    "\n",
    "data_sensor_reshaped_6 = data_sensor_flat_6.reshape(4, 3)\n",
    "print(data_sensor_reshaped_6)\n",
    "print(data_sensor_reshaped_6.shape)"
   ]
  },
  {
   "cell_type": "markdown",
   "id": "b3bdb421",
   "metadata": {},
   "source": [
    "### **Soal 7: Menggabungkan Array (`np.vstack` dan `np.hstack`)**\n",
    "\n",
    "**Konteks:**\n",
    "Anda memiliki data penjualan dari dua minggu yang berbeda, masing-masing disimpan dalam array terpisah. Anda perlu menggabungkannya menjadi satu dataset yang utuh. Anda akan mencoba dua cara: menggabungkan secara vertikal (menumpuk baris) dan secara horizontal (menjajarkan kolom).\n",
    "\n",
    "**Tugas:**\n",
    "\n",
    "1.  Buat dua NumPy array 2D:\n",
    "    ```python\n",
    "    minggu1_7 = np.array([[10, 12], [15, 18]]) # Penjualan 2 produk selama 2 hari\n",
    "    minggu2_7 = np.array([[11, 14], [16, 17]]) # Penjualan 2 produk selama 2 hari berikutnya\n",
    "    ```\n",
    "2.  Gunakan `np.vstack()` (vertical stack) untuk menumpuk `minggu2_7` di bawah `minggu1_7`. Simpan hasilnya di `penjualan_vertikal_7`. Hasilnya akan menjadi array 4x2.\n",
    "3.  Gunakan `np.hstack()` (horizontal stack) untuk menjajarkan `minggu2_7` di samping `minggu1_7`. Simpan hasilnya di `penjualan_horizontal_7`. Hasilnya akan menjadi array 2x4.\n",
    "4.  Cetak kedua hasil penggabungan tersebut."
   ]
  },
  {
   "cell_type": "code",
   "execution_count": null,
   "id": "b706bca0",
   "metadata": {},
   "outputs": [
    {
     "name": "stdout",
     "output_type": "stream",
     "text": [
      "[[10 12]\n",
      " [15 18]\n",
      " [11 14]\n",
      " [16 17]]\n",
      "[[10 12 11 14]\n",
      " [15 18 16 17]]\n"
     ]
    }
   ],
   "source": [
    "# numpy sudah diimport sebelumnya\n",
    "minggu1_7 = np.array([\n",
    "    [10, 12],\n",
    "    [15, 18],\n",
    "])\n",
    "minggu2_7 = np.array([\n",
    "    [11, 14],\n",
    "    [16, 17],\n",
    "])\n",
    "\n",
    "penjualan_vertikal_7 = np.vstack((minggu1_7, minggu2_7))\n",
    "penjualan_horizontal_7 = np.hstack((minggu1_7, minggu2_7))\n",
    "\n",
    "print(penjualan_vertikal_7)\n",
    "print(penjualan_horizontal_7)"
   ]
  },
  {
   "cell_type": "markdown",
   "id": "3ddd043e",
   "metadata": {},
   "source": [
    "### **Soal 8: Mengurutkan NumPy Array**\n",
    "\n",
    "**Konteks:**\n",
    "Anda memiliki data skor acak dari beberapa pemain. Anda perlu mengurutkannya dari yang terendah ke tertinggi. Selain itu, Anda memiliki data skor 2D (beberapa game) dan ingin mengurutkan skor di setiap game secara independen.\n",
    "\n",
    "**Tugas:**\n",
    "\n",
    "1.  Buat sebuah array 1D berisi skor acak:\n",
    "    ```python\n",
    "    skor_acak_8 = np.array([150, 125, 180, 140, 165])\n",
    "    ```\n",
    "2.  Gunakan fungsi `np.sort()` untuk mengurutkan `skor_acak_8`. Simpan hasilnya di `skor_terurut_8` dan cetak.\n",
    "3.  Sekarang, buat array 2D:\n",
    "    ```python\n",
    "    skor_game_8 = np.array([\n",
    "        [150, 130, 180], # Game 1\n",
    "        [145, 190, 160]  # Game 2\n",
    "    ])\n",
    "    ```\n",
    "4.  Urutkan data **di dalam setiap baris** (urutkan skor per game). Simpan hasilnya di `skor_terurut_per_game_8` dan cetak."
   ]
  },
  {
   "cell_type": "code",
   "execution_count": 30,
   "id": "58c6bc99",
   "metadata": {},
   "outputs": [
    {
     "name": "stdout",
     "output_type": "stream",
     "text": [
      "[125 140 150 165 180]\n",
      "[[130 150 180]\n",
      " [145 160 190]]\n"
     ]
    }
   ],
   "source": [
    "# numpy sudah diimport sebelumnya\n",
    "skor_acak_8 = np.array([\n",
    "    150,\n",
    "    125,\n",
    "    180,\n",
    "    140,\n",
    "    165,\n",
    "])\n",
    "\n",
    "skor_terurut_8 = np.sort(skor_acak_8)\n",
    "print(skor_terurut_8)\n",
    "skor_game_8 = np.array([\n",
    "    [150, 130, 180],\n",
    "    [145, 190, 160],\n",
    "])\n",
    "\n",
    "skor_terurut_per_game_8 = np.sort(skor_game_8, axis=1)\n",
    "print(skor_terurut_per_game_8)\n",
    "\n"
   ]
  },
  {
   "cell_type": "markdown",
   "id": "60fc2d1c",
   "metadata": {},
   "source": [
    "### **Soal 9: Pemilihan Kondisional dengan `np.where()`**\n",
    "\n",
    "**Konteks:**\n",
    "Anda memiliki data skor ujian siswa. Anda ingin mengganti semua skor di bawah 70 dengan nilai 0 (gagal), dan membiarkan sisanya tetap utuh. Fungsi `np.where()` sangat ideal untuk tugas \"jika-maka-lain\" seperti ini.\n",
    "\n",
    "**Tugas:**\n",
    "\n",
    "1.  Buat sebuah NumPy array bernama `skor_ujian_9`:\n",
    "    ```python\n",
    "    skor_ujian_9 = np.array([88, 65, 92, 71, 59, 81, 75, 68])\n",
    "    ```\n",
    "2.  Gunakan `np.where()` untuk membuat array baru bernama `skor_final_9`.\n",
    "3.  Logikanya adalah: **jika** nilai dalam `skor_ujian_9` kurang dari 70, **maka** gunakan nilai `0`, **jika tidak** gunakan nilai asli dari `skor_ujian_9`.\n",
    "4.  Cetak `skor_final_9` untuk melihat hasilnya."
   ]
  },
  {
   "cell_type": "code",
   "execution_count": 31,
   "id": "9e42a3f0",
   "metadata": {},
   "outputs": [
    {
     "name": "stdout",
     "output_type": "stream",
     "text": [
      "[88  0 92 71  0 91 75  0]\n"
     ]
    }
   ],
   "source": [
    "# numpy sudah diimport sebelumnya\n",
    "skor_ujian_9 = np.array([\n",
    "    88, 65, 92, 71,\n",
    "    59, 91, 75, 68,\n",
    "])\n",
    "\n",
    "skor_final_9 = np.where(skor_ujian_9 < 70, 0, skor_ujian_9)\n",
    "print(skor_final_9)"
   ]
  },
  {
   "cell_type": "markdown",
   "id": "d17b7c98",
   "metadata": {},
   "source": [
    "### **Soal 10: Analisis Data Gabungan**\n",
    "\n",
    "**Konteks:**\n",
    "Anda menerima data penjualan mingguan untuk 2 produk selama 3 minggu sebagai satu array 1D. Anda perlu mengubahnya menjadi array 2D, menghitung penjualan rata-rata per minggu, dan kemudian menghitung selisih penjualan setiap hari terhadap rata-rata mingguannya.\n",
    "\n",
    "**Tugas:**\n",
    "\n",
    "1.  Buat sebuah NumPy array 1D bernama `penjualan_flat_10` yang berisi data penjualan:\n",
    "    ```python\n",
    "    # Minggu 1 (Produk A, B), Minggu 2 (A, B), Minggu 3 (A, B)\n",
    "    np.array([100, 110, 120, 130, 105, 115])\n",
    "    ```\n",
    "2.  Ubah bentuk `penjualan_flat_10` menjadi array 2D dengan 3 baris (minggu) dan 2 kolom (produk). Simpan di `penjualan_mingguan_10`.\n",
    "3.  Hitung **penjualan rata-rata** untuk **setiap minggu** (per baris). Hasilnya akan menjadi array 1D dengan 3 elemen.\n",
    "4.  Ubah bentuk array rata-rata tersebut agar menjadi array 2D berukuran 3x1 agar bisa dilakukan *broadcasting*.\n",
    "5.  Hitung `selisih_dari_rata_rata_10` dengan mengurangkan `penjualan_mingguan_10` dengan array rata-rata yang sudah diubah bentuknya.\n",
    "6.  Cetak `penjualan_mingguan_10`, rata-rata penjualan per minggu, dan `selisih_dari_rata_rata_10`."
   ]
  },
  {
   "cell_type": "code",
   "execution_count": 38,
   "id": "c11753f8",
   "metadata": {},
   "outputs": [
    {
     "name": "stdout",
     "output_type": "stream",
     "text": [
      "[[100 110]\n",
      " [120 130]\n",
      " [105 115]]\n",
      "[[105.]\n",
      " [125.]\n",
      " [110.]]\n",
      "[[-5.  5.]\n",
      " [-5.  5.]\n",
      " [-5.  5.]]\n"
     ]
    }
   ],
   "source": [
    "penjualan_flat_10 = np.array([\n",
    "    100, 110, 120,\n",
    "    130, 105, 115,\n",
    "])\n",
    "\n",
    "penjualan_mingguan_10 = penjualan_flat_10.reshape(3, 2)\n",
    "rata_rata = np.mean(penjualan_mingguan_10, axis=1)\n",
    "ubah_bentuk = rata_rata.reshape(3, 1)\n",
    "\n",
    "selisih_dari_rata_rata_10 = penjualan_mingguan_10 - ubah_bentuk\n",
    "print(penjualan_mingguan_10)\n",
    "print(ubah_bentuk)\n",
    "print(selisih_dari_rata_rata_10)"
   ]
  },
  {
   "cell_type": "code",
   "execution_count": null,
   "id": "a8310868",
   "metadata": {},
   "outputs": [],
   "source": []
  }
 ],
 "metadata": {
  "kernelspec": {
   "display_name": "Python 3",
   "language": "python",
   "name": "python3"
  },
  "language_info": {
   "codemirror_mode": {
    "name": "ipython",
    "version": 3
   },
   "file_extension": ".py",
   "mimetype": "text/x-python",
   "name": "python",
   "nbconvert_exporter": "python",
   "pygments_lexer": "ipython3",
   "version": "3.12.10"
  }
 },
 "nbformat": 4,
 "nbformat_minor": 5
}
