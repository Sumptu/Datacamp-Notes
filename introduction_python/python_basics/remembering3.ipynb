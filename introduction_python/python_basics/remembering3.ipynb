{
 "cells": [
  {
   "cell_type": "code",
   "execution_count": 21,
   "id": "7e913f56",
   "metadata": {},
   "outputs": [],
   "source": [
    "a = 10\n",
    "b = 3.14\n",
    "c = \"Hello, Python!\"\n",
    "\n",
    "x = 50\n",
    "y = 4\n",
    "\n",
    "num1 = 100\n",
    "num2 = 25\n",
    "\n",
    "is_valid = True\n",
    "message = [10, 20, 30]\n",
    "info = {\"name\": \"John\", \"age\": 25}\n",
    "\n",
    "num3 = 7\n",
    "text = \"Python\"\n",
    "\n",
    "num4 = 10\n",
    "num5 = 3.\n",
    "\n",
    "num6 = 8\n",
    "num7 = 4\n",
    "\n",
    "num8 = 15.5\n",
    "num9 = 5\n",
    "\n",
    "numbers = [2, 4, 6, 8, 10]"
   ]
  },
  {
   "cell_type": "code",
   "execution_count": 2,
   "id": "a7c1d625",
   "metadata": {},
   "outputs": [
    {
     "name": "stdout",
     "output_type": "stream",
     "text": [
      "35\n",
      "20\n",
      "24\n",
      "5.0\n"
     ]
    }
   ],
   "source": [
    "print(15 + 20)\n",
    "print(25 - 5)\n",
    "print(8 * 3)\n",
    "print(30 / 6)"
   ]
  },
  {
   "cell_type": "code",
   "execution_count": 4,
   "id": "84d67165",
   "metadata": {},
   "outputs": [
    {
     "name": "stdout",
     "output_type": "stream",
     "text": [
      "10\n",
      "3.14\n",
      "Hello, Python!\n"
     ]
    }
   ],
   "source": [
    "print(a)\n",
    "print(b)\n",
    "print(c)\n"
   ]
  },
  {
   "cell_type": "code",
   "execution_count": 6,
   "id": "939ed130",
   "metadata": {},
   "outputs": [
    {
     "name": "stdout",
     "output_type": "stream",
     "text": [
      "54\n"
     ]
    }
   ],
   "source": [
    "z = x + y\n",
    "print(z)"
   ]
  },
  {
   "cell_type": "code",
   "execution_count": 8,
   "id": "9a287e21",
   "metadata": {},
   "outputs": [
    {
     "name": "stdout",
     "output_type": "stream",
     "text": [
      "4.0\n",
      "0\n",
      "100000000000000000000000000000000000000000000000000\n"
     ]
    }
   ],
   "source": [
    "division_result = num1 / num2\n",
    "remainder_result = num1 % num2\n",
    "power_result = num1 ** num2\n",
    "\n",
    "print(division_result)\n",
    "print(remainder_result)\n",
    "print(power_result)"
   ]
  },
  {
   "cell_type": "code",
   "execution_count": 10,
   "id": "6f83b553",
   "metadata": {},
   "outputs": [
    {
     "name": "stdout",
     "output_type": "stream",
     "text": [
      "True\n",
      "[10, 20, 30]\n",
      "{'name': 'John', 'age': 25}\n"
     ]
    }
   ],
   "source": [
    "print(is_valid)\n",
    "print(message)\n",
    "print(info)"
   ]
  },
  {
   "cell_type": "code",
   "execution_count": 12,
   "id": "f176e487",
   "metadata": {},
   "outputs": [
    {
     "name": "stdout",
     "output_type": "stream",
     "text": [
      "7Python\n",
      "13\n"
     ]
    }
   ],
   "source": [
    "print(str(num3) + text)\n",
    "print(num3 + len(text))"
   ]
  },
  {
   "cell_type": "code",
   "execution_count": 14,
   "id": "dda90948",
   "metadata": {},
   "outputs": [
    {
     "name": "stdout",
     "output_type": "stream",
     "text": [
      "13.5\n",
      "35.0\n"
     ]
    }
   ],
   "source": [
    "sum_result = num4 + num5\n",
    "product_result = num4 * num5\n",
    "print(sum_result)\n",
    "print(product_result)"
   ]
  },
  {
   "cell_type": "code",
   "execution_count": 16,
   "id": "2f8db1e0",
   "metadata": {},
   "outputs": [
    {
     "name": "stdout",
     "output_type": "stream",
     "text": [
      "48\n"
     ]
    }
   ],
   "source": [
    "nested_result = (num6 + num7) * (num6 - num7)\n",
    "print(nested_result)"
   ]
  },
  {
   "cell_type": "code",
   "execution_count": 19,
   "id": "a62af52a",
   "metadata": {},
   "outputs": [
    {
     "name": "stdout",
     "output_type": "stream",
     "text": [
      "20\n"
     ]
    }
   ],
   "source": [
    "int_num8 = int(num8)\n",
    "conversion_sum = int_num8 + num9\n",
    "print(conversion_sum)\n"
   ]
  },
  {
   "cell_type": "code",
   "execution_count": null,
   "id": "3010bae5",
   "metadata": {},
   "outputs": [
    {
     "name": "stdout",
     "output_type": "stream",
     "text": [
      "30\n"
     ]
    }
   ],
   "source": [
    "total_sum = 0\n",
    "for _ in numbers:\n",
    "    total_sum += _\n",
    "\n",
    "print(total_sum)"
   ]
  }
 ],
 "metadata": {
  "kernelspec": {
   "display_name": "tutorial_notebook",
   "language": "python",
   "name": "python3"
  },
  "language_info": {
   "codemirror_mode": {
    "name": "ipython",
    "version": 3
   },
   "file_extension": ".py",
   "mimetype": "text/x-python",
   "name": "python",
   "nbconvert_exporter": "python",
   "pygments_lexer": "ipython3",
   "version": "3.13.2"
  }
 },
 "nbformat": 4,
 "nbformat_minor": 5
}
