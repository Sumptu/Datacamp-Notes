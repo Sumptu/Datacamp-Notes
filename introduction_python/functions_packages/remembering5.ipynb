{
 "cells": [
  {
   "cell_type": "markdown",
   "id": "84b97b0d",
   "metadata": {},
   "source": [
    "### Soal 1: Mendefinisikan Fungsi Sederhana\n",
    "\n",
    "1.  Definisikan sebuah fungsi bernama **`get_motto_fp_h5`** yang tidak memerlukan parameter.\n",
    "2.  Fungsi ini harus *mengembalikan (return)* sebuah nilai string, yaitu motto favorit Anda (contoh: `\"Terus Belajar dan Berkembang\"`).\n",
    "3.  Panggil fungsi `get_motto_fp_h5` tersebut dan simpan hasilnya ke dalam variabel **`motto_hari_ini_fp_h5`**.\n",
    "4.  Tampilkan nilai dari `motto_hari_ini_fp_h5`."
   ]
  },
  {
   "cell_type": "code",
   "execution_count": 1,
   "id": "d4aa4da3",
   "metadata": {},
   "outputs": [
    {
     "name": "stdout",
     "output_type": "stream",
     "text": [
      "Terus Belajar dan Berkembang\n"
     ]
    }
   ],
   "source": [
    "def get_motto_fp_h5():\n",
    "    return \"Terus Belajar dan Berkembang\"\n",
    "\n",
    "motto_hari_ini_fp_h5 = get_motto_fp_h5()\n",
    "print(motto_hari_ini_fp_h5)"
   ]
  },
  {
   "cell_type": "markdown",
   "id": "64310f57",
   "metadata": {},
   "source": [
    "### Soal 2: Fungsi dengan Satu Parameter\n",
    "\n",
    "1.  Definisikan sebuah fungsi bernama **`hitung_keliling_lingkaran_fp_h5`** yang menerima satu parameter: **`radius`**.\n",
    "2.  Di dalam fungsi, hitung keliling lingkaran. Gunakan nilai pi `3.14` dan rumus keliling: $2 \\times \\pi \\times \\text{radius}$.\n",
    "3.  Fungsi ini harus *mengembalikan (return)* hasil perhitungan keliling tersebut.\n",
    "4.  Panggil fungsi `hitung_keliling_lingkaran_fp_h5` dengan nilai radius `10`. Simpan hasilnya dalam variabel **`keliling_lingkaran_1_fp_h5`**.\n",
    "5.  Panggil lagi fungsi yang sama dengan nilai radius `7.5`. Simpan hasilnya dalam variabel **`keliling_lingkaran_2_fp_h5`**.\n",
    "6.  Tampilkan nilai dari `keliling_lingkaran_1_fp_h5` dan `keliling_lingkaran_2_fp_h5` dengan pesan yang jelas."
   ]
  },
  {
   "cell_type": "code",
   "execution_count": 2,
   "id": "b016fe37",
   "metadata": {},
   "outputs": [
    {
     "name": "stdout",
     "output_type": "stream",
     "text": [
      "Keliling lingkaran 1: 62.800000000000004\n",
      "Keliling lingkaran 2: 47.1\n"
     ]
    }
   ],
   "source": [
    "def hitung_keliling_lingkaran_fp_h5(radius):\\\n",
    "    return 2 * 3.14 * radius\n",
    "\n",
    "keliling_lingkaran_1_fp_h5 =  hitung_keliling_lingkaran_fp_h5(10)\n",
    "keliling_lingkaran_2_fp_h5 =  hitung_keliling_lingkaran_fp_h5(7.5)\n",
    "\n",
    "print(f\"Keliling lingkaran 1: {keliling_lingkaran_1_fp_h5}\")\n",
    "print(f\"Keliling lingkaran 2: {keliling_lingkaran_2_fp_h5}\")"
   ]
  },
  {
   "cell_type": "markdown",
   "id": "b9662774",
   "metadata": {},
   "source": [
    "### Soal 3: Fungsi dengan Beberapa Parameter\n",
    "\n",
    "1.  Definisikan sebuah fungsi bernama **`format_data_barang_fp_h5`** yang menerima tiga parameter: **`nama_barang`** (string), **`kode_sku`** (string), dan **`harga`** (integer atau float).\n",
    "2.  Fungsi ini harus membuat dan *mengembalikan (return)* sebuah string yang terformat rapi yang menggabungkan semua informasi tersebut. Formatnya: `\"Nama: [Nama Barang], SKU: [Kode SKU], Harga: Rp [Harga]\"`.\n",
    "3.  Panggil fungsi `format_data_barang_fp_h5` dengan argumen berikut:\n",
    "    * `nama_barang`: `\"Buku Tulis\"`\n",
    "    * `kode_sku`: `\"B-001\"`\n",
    "    * `harga`: `5000`\n",
    "4.  Simpan hasilnya dalam variabel **`detail_barang_1_fp_h5`** dan tampilkan.\n",
    "5.  Panggil lagi fungsi yang sama dengan argumen: `\"Penghapus\"`, `\"P-002\"`, dan `2500`. Simpan hasilnya dalam variabel **`detail_barang_2_fp_h5`** dan tampilkan."
   ]
  },
  {
   "cell_type": "code",
   "execution_count": 3,
   "id": "9f10aae7",
   "metadata": {},
   "outputs": [
    {
     "name": "stdout",
     "output_type": "stream",
     "text": [
      "Nama: Buku Tulis, SKU: B-001, Harga: Rp 5000\n",
      "Nama: Penghapus, SKU: P-002, Harga: Rp 2500\n"
     ]
    }
   ],
   "source": [
    "def format_data_barang_fp_h5(nama_barang, kode_sku, harga):\n",
    "    return f\"Nama: {nama_barang}, SKU: {kode_sku}, Harga: Rp {harga}\"\n",
    "\n",
    "detail_barang_1_fp_h5 = format_data_barang_fp_h5(\"Buku Tulis\", \"B-001\", 5000)\n",
    "detail_barang_2_fp_h5 = format_data_barang_fp_h5(\"Penghapus\", \"P-002\", 2500)\n",
    "\n",
    "print(detail_barang_1_fp_h5)\n",
    "print(detail_barang_2_fp_h5)"
   ]
  },
  {
   "cell_type": "markdown",
   "id": "d1dd9410",
   "metadata": {},
   "source": [
    "### Soal 4: Menggunakan String Methods\n",
    "\n",
    "1.  Buatlah sebuah variabel string bernama **`data_mentah_fp_h5`** dengan nilai `\"  Narendra Wicaksana, narendra@email.com  \"` (perhatikan ada spasi ekstra di awal dan akhir).\n",
    "2.  Gunakan *string method* untuk membersihkan spasi ekstra di awal dan akhir dari `data_mentah_fp_h5`. Simpan hasilnya ke variabel **`data_bersih_fp_h5`**.\n",
    "3.  Gunakan *string method* pada `data_bersih_fp_h5` untuk memisahkan string tersebut menjadi dua bagian (nama dan email) berdasarkan karakter koma (`,`). Ini akan menghasilkan sebuah list. Simpan list hasil pemisahan ini ke dalam variabel **`data_terpisah_fp_h5`**.\n",
    "4.  Tampilkan nilai dari `data_bersih_fp_h5` dan `data_terpisah_fp_h5`."
   ]
  },
  {
   "cell_type": "code",
   "execution_count": null,
   "id": "782ee129",
   "metadata": {},
   "outputs": [
    {
     "name": "stdout",
     "output_type": "stream",
     "text": [
      "Narendra Wicaksana, narendra@email.com\n",
      "['Narendra Wicaksana', 'narendra@email.com']\n"
     ]
    }
   ],
   "source": [
    "data_mentah_fp_h5 = \" Narendra Wicaksana, narendra@email.com \"\n",
    "data_bersih_fp_h5 = data_mentah_fp_h5.strip()\n",
    "data_terpisah_fp_h5 = data_bersih_fp_h5.split(\", \")\n",
    "data_bersih_final_fp_h5 = [item.strip() for item in data_terpisah_fp_h5]\n",
    "\n",
    "print(data_bersih_fp_h5)\n",
    "print(data_terpisah_fp_h5)"
   ]
  },
  {
   "cell_type": "markdown",
   "id": "d3ab9fd0",
   "metadata": {},
   "source": [
    "### Soal 5: Menggunakan List Methods\n",
    "\n",
    "1.  Buatlah sebuah list bernama **`antrian_kasir_fp_h5`** yang berisi nama-nama: `[\"Andi\", \"Budi\", \"Deni\"]`.\n",
    "2.  Gunakan *list method* untuk menambahkan nama `\"Sari\"` di **akhir** antrian.\n",
    "3.  Ternyata ada \"Cici\" yang merupakan pelanggan prioritas dan harus masuk di urutan **kedua** (indeks 1). Gunakan *list method* untuk **menyisipkan** nama `\"Cici\"` pada posisi tersebut.\n",
    "4.  Tampilkan list `antrian_kasir_fp_h5` setelah kedua perubahan tersebut.\n",
    "5.  Setelah itu, \"Andi\" (yang sekarang berada di urutan pertama) selesai dilayani. Gunakan *list method* untuk **menghapus** `\"Andi\"` dari antrian.\n",
    "6.  Tampilkan list `antrian_kasir_fp_h5` yang terakhir."
   ]
  },
  {
   "cell_type": "code",
   "execution_count": 15,
   "id": "1fff3803",
   "metadata": {},
   "outputs": [
    {
     "name": "stdout",
     "output_type": "stream",
     "text": [
      "['Andi', 'Cici', 'Budi', 'Deni', 'Sari']\n",
      "['Cici', 'Budi', 'Deni', 'Sari']\n"
     ]
    }
   ],
   "source": [
    "antrian_kasir_fp_h5 = [\"Andi\", \"Budi\", \"Deni\"]\n",
    "antrian_kasir_fp_h5.append(\"Sari\")\n",
    "antrian_kasir_fp_h5.insert(1, \"Cici\")\n",
    "\n",
    "print(antrian_kasir_fp_h5)\n",
    "\n",
    "antrian_kasir_fp_h5.pop(0)\n",
    "print(antrian_kasir_fp_h5)"
   ]
  },
  {
   "cell_type": "markdown",
   "id": "109067da",
   "metadata": {},
   "source": [
    "### Soal 6: Menggabungkan Fungsi dan Methods\n",
    "\n",
    "1.  Definisikan sebuah fungsi bernama **`bersihkan_dan_kapitalkan_fp_h5`** yang menerima satu parameter: **`list_nama_kotor`** (sebuah list berisi nama-nama yang mungkin memiliki spasi ekstra).\n",
    "2.  Di dalam fungsi, lakukan langkah-langkah berikut **pada salinan (copy)** dari `list_nama_kotor` agar list asli tidak berubah:\n",
    "    * Untuk setiap nama dalam salinan list, bersihkan spasi ekstra di awal dan akhir.\n",
    "    * Ubah setiap nama yang sudah bersih tersebut menjadi format *Title Case* (setiap kata diawali huruf kapital).\n",
    "3.  Fungsi ini harus *mengembalikan (return)* salinan list yang sudah bersih dan terformat tersebut.\n",
    "4.  Buat sebuah list contoh: `nama_asli_fp_h5 = [\"  andi wijaya\", \"budi santoso  \", \"  cici lestari \"]`.\n",
    "5.  Panggil fungsi `bersihkan_dan_kapitalkan_fp_h5` dengan `nama_asli_fp_h5` sebagai argumen. Simpan hasilnya dalam variabel **`nama_bersih_fp_h5`**.\n",
    "6.  Tampilkan `nama_bersih_fp_h5` dan `nama_asli_fp_h5` untuk membuktikan list asli tidak berubah."
   ]
  },
  {
   "cell_type": "code",
   "execution_count": 61,
   "id": "fca6bee4",
   "metadata": {},
   "outputs": [
    {
     "name": "stdout",
     "output_type": "stream",
     "text": [
      "['Andi Wijaya', 'Budi Santoso', 'Cici Lestari']\n",
      "[' andi wijaya', 'budi santoso ', ' cici lestari ']\n"
     ]
    }
   ],
   "source": [
    "def bersihkan_dan_kapitalkan_fp_h5(list_nama_kotor):\n",
    "    list_final = list_nama_kotor.copy()\n",
    "    for i in range(len(list_final)):\n",
    "        list_final[i] = list_final[i].strip().title()\n",
    "    return list_final\n",
    "\n",
    "nama_asli_fp_h5 = [\" andi wijaya\", \"budi santoso \", \" cici lestari \"]\n",
    "nama_bersih_fp_h5 = bersihkan_dan_kapitalkan_fp_h5(nama_asli_fp_h5)\n",
    "\n",
    "print(nama_bersih_fp_h5)\n",
    "print(nama_asli_fp_h5)\n",
    "\n"
   ]
  },
  {
   "cell_type": "markdown",
   "id": "635cd4da",
   "metadata": {},
   "source": [
    "### Soal 7: Mengimpor dan Menggunakan Package\n",
    "\n",
    "1.  Impor *package* (modul) **`datetime`** secara keseluruhan.\n",
    "2.  Gunakan salah satu fungsi dari package `datetime` untuk mendapatkan **tanggal dan waktu saat ini**. Simpan objek datetime ini ke dalam variabel **`waktu_sekarang_fp_h5`**.\n",
    "3.  Dari objek `waktu_sekarang_fp_h5`, akses dan simpan nilai **tahun** ke dalam variabel **`tahun_ini_fp_h5`** (gunakan atribut yang tersedia pada objek datetime).\n",
    "4.  Tampilkan `waktu_sekarang_fp_h5` dan `tahun_ini_fp_h5` dengan pesan yang jelas."
   ]
  },
  {
   "cell_type": "code",
   "execution_count": 62,
   "id": "749845f9",
   "metadata": {},
   "outputs": [
    {
     "name": "stdout",
     "output_type": "stream",
     "text": [
      "Tahun ini adalah tahun 2025, dan waktu sekarang adalah 2025-06-20 10:22:28.019813\n"
     ]
    }
   ],
   "source": [
    "import datetime\n",
    "\n",
    "waktu_sekarang_fp_h5 = datetime.datetime.now()\n",
    "tahun_ini_fp_h5 = waktu_sekarang_fp_h5.year\n",
    "print(f\"Tahun ini adalah tahun {tahun_ini_fp_h5}, dan waktu sekarang adalah {waktu_sekarang_fp_h5}\")"
   ]
  },
  {
   "cell_type": "markdown",
   "id": "35c1690e",
   "metadata": {},
   "source": [
    "### Soal 8: Impor Selektif\n",
    "\n",
    "Kali ini kita hanya akan mengimpor bagian yang kita perlukan dari `datetime`.\n",
    "1.  Dari *package* `datetime`, impor hanya *class* **`date`**.\n",
    "2.  Gunakan `date` yang sudah diimpor tersebut untuk membuat objek tanggal spesifik, yaitu **Hari Kemerdekaan Indonesia** (17 Agustus). Gunakan `date(tahun, bulan, hari)`. Untuk tahun, gunakan tahun saat ini. Simpan hasilnya ke dalam variabel **`hari_kemerdekaan_fp_h5`**.\n",
    "3.  Dari objek `hari_kemerdekaan_fp_h5` tersebut, akses dan tampilkan nama harinya dalam bahasa Inggris (misalnya, `Sunday`). Gunakan salah satu *method* yang tersedia pada objek `date` untuk ini.\n",
    "    * *Hint*: Method-nya memiliki format `strftime` dengan argumen string format tertentu untuk mendapatkan nama hari lengkap. Argumen untuk nama hari lengkap adalah `\"%A\"`.\n",
    "4.  Tampilkan `hari_kemerdekaan_fp_h5` dan nama harinya."
   ]
  },
  {
   "cell_type": "code",
   "execution_count": 67,
   "id": "5578c23b",
   "metadata": {},
   "outputs": [
    {
     "name": "stdout",
     "output_type": "stream",
     "text": [
      "Hari kemerdekaan Republik Indonesia jatuh pada hari Sunday, tepatnya pada 2025-08-17\n"
     ]
    }
   ],
   "source": [
    "from datetime import date\n",
    "\n",
    "tahun_ini = date.today().year\n",
    "hari_kemerdekaan_fp_h5 = date(tahun_ini, 8, 17)\n",
    "day = hari_kemerdekaan_fp_h5.strftime(\"%A\")\n",
    "\n",
    "print(f\"Hari kemerdekaan Republik Indonesia jatuh pada hari {day}, tepatnya pada {hari_kemerdekaan_fp_h5}\")"
   ]
  },
  {
   "cell_type": "markdown",
   "id": "f4b45876",
   "metadata": {},
   "source": [
    "### Soal 9: Impor dengan Alias\n",
    "\n",
    "1.  Dari *package* **`statistics`**, impor fungsi **`mean`** tetapi berikan ia nama alias **`hitung_rata_rata`**.\n",
    "2.  Impor juga fungsi **`median`** dan berikan nama alias **`cari_nilai_tengah`**.\n",
    "3.  Buatlah sebuah list bernama **`data_nilai_ujian_fp_h5`** dengan nilai: `[70, 85, 90, 70, 100, 65, 80]`.\n",
    "4.  Gunakan fungsi `hitung_rata_rata` (alias yang Anda buat) untuk menghitung rata-rata dari `data_nilai_ujian_fp_h5`. Simpan hasilnya dalam variabel **`rata_rata_fp_h5`**.\n",
    "5.  Gunakan fungsi `cari_nilai_tengah` (alias yang Anda buat) untuk mencari median dari `data_nilai_ujian_fp_h5`. Simpan hasilnya dalam variabel **`median_fp_h5`**.\n",
    "6.  Tampilkan nilai dari `rata_rata_fp_h5` dan `median_fp_h5` dengan pesan yang jelas."
   ]
  },
  {
   "cell_type": "code",
   "execution_count": 68,
   "id": "7e5c6120",
   "metadata": {},
   "outputs": [
    {
     "name": "stdout",
     "output_type": "stream",
     "text": [
      "Rata-rata nilai ujian FP H5: 80, Median nilai ujian FP H5: 80\n"
     ]
    }
   ],
   "source": [
    "from statistics import (\n",
    "    mean as hitung_rata_rata,\n",
    "    median as cari_nilai_tengah,\n",
    ")\n",
    "\n",
    "data_nilai_ujian_fp_h5 = [70, 85, 90, 70, 100, 65, 80]\n",
    "\n",
    "rata_rata_fp_h5 = hitung_rata_rata(data_nilai_ujian_fp_h5)\n",
    "median_fp_h5 = cari_nilai_tengah(data_nilai_ujian_fp_h5)\n",
    "\n",
    "print(f\"Rata-rata nilai ujian FP H5: {rata_rata_fp_h5}, Median nilai ujian FP H5: {median_fp_h5}\")"
   ]
  },
  {
   "cell_type": "markdown",
   "id": "3823edd7",
   "metadata": {},
   "source": [
    "### Soal 10: Memahami Namespace dan Impor\n",
    "\n",
    "Soal ini akan menunjukkan potensi konflik nama (namespace collision) dan mengapa cara impor tertentu lebih aman.\n",
    "\n",
    "1.  Definisikan fungsi custom Anda sendiri bernama **`sqrt(angka)`** yang mengembalikan string `f\"Ini adalah fungsi sqrt custom untuk angka {angka}\"`.\n",
    "2.  **Langkah A (Cara Aman):**\n",
    "    * Impor seluruh modul **`math`**.\n",
    "    * Panggil fungsi `sqrt` dari modul `math` untuk menghitung akar dari 16. Simpan di variabel **`hasil_math_sqrt_fp_h5`**.\n",
    "    * Panggil fungsi `sqrt` *custom* yang Anda buat di langkah 1 dengan angka 16. Simpan di variabel **`hasil_custom_sqrt_fp_h5`**.\n",
    "    * Tampilkan kedua hasil tersebut.\n",
    "3.  **Langkah B (Potensi Konflik):**\n",
    "    * Gunakan impor `from math import *` untuk mengimpor semua fungsi dari modul `math`.\n",
    "    * *Setelah* impor tersebut, coba panggil lagi fungsi `sqrt` dengan angka 16 dan tampilkan hasilnya.\n",
    "4.  Di bawah kode Anda, berikan komentar yang menjelaskan mengapa hasil pemanggilan `sqrt(16)` pada Langkah B berbeda dengan hasil pemanggilan fungsi custom Anda pada Langkah A."
   ]
  },
  {
   "cell_type": "code",
   "execution_count": null,
   "id": "660b9bd0",
   "metadata": {},
   "outputs": [
    {
     "name": "stdout",
     "output_type": "stream",
     "text": [
      "4.0\n",
      "Ini adalah fungsi sqrt custom untuk angka 16\n",
      "4.0\n"
     ]
    }
   ],
   "source": [
    "def sqrt(angka):\n",
    "    return f\"Ini adalah fungsi sqrt custom untuk angka {angka}\"\n",
    "\n",
    "# Cara A\n",
    "import math\n",
    "\n",
    "hasil_math_sqrt_fp_h5 = math.sqrt(16)\n",
    "hasil_custom_sqrt_fp_h5 = sqrt(16)\n",
    "print(hasil_math_sqrt_fp_h5)\n",
    "print(hasil_custom_sqrt_fp_h5)\n",
    "\n",
    "# Cara B\n",
    "from math import *\n",
    "print(sqrt(16))\n",
    "\n",
    "# Karena pada cara B, terjadi name collision antara fungsi sqrt dari math dan fungsi sqrt dari fungsi custom kita, jadi Jadi, setelah from math import *, ketika Anda memanggil sqrt(16), Anda tidak lagi memanggil fungsi custom Anda, melainkan fungsi sqrt dari modul math.\n"
   ]
  }
 ],
 "metadata": {
  "kernelspec": {
   "display_name": "Python 3",
   "language": "python",
   "name": "python3"
  },
  "language_info": {
   "codemirror_mode": {
    "name": "ipython",
    "version": 3
   },
   "file_extension": ".py",
   "mimetype": "text/x-python",
   "name": "python",
   "nbconvert_exporter": "python",
   "pygments_lexer": "ipython3",
   "version": "3.12.10"
  }
 },
 "nbformat": 4,
 "nbformat_minor": 5
}
