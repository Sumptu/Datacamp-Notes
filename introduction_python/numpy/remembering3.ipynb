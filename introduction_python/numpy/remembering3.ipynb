{
 "cells": [
  {
   "cell_type": "code",
   "execution_count": 31,
   "id": "f3a24959",
   "metadata": {},
   "outputs": [],
   "source": [
    "import numpy as np\n",
    "\n",
    "rng = np.random.default_rng(123)\n",
    "\n",
    "\n",
    "q = np.array([[rng.random() for _ in range(4)] for _ in range(4)])\n",
    "r = np.array([[rng.random() * 10 for _ in range(3)] for _ in range(3)])\n",
    "t = np.array([[rng.random() for _ in range(3)] for _ in range(3)])\n",
    "v = np.array([[rng.random() for _ in range(4)] for _ in range(4)])\n",
    "w = np.array([[i * 3 + j + 1 for j in range(3)] for i in range(3)])\n",
    "x = np.array([rng.normal() for _ in range(5)])\n",
    "y = np.array([_ for _ in range(21) if _ % 2 == 0])\n",
    "z = np.array([_ for _ in range(10)])\n",
    "\n",
    "def rata_rata(u):\n",
    "    return np.mean(u)\n",
    "\n",
    "def maks_1d(s):\n",
    "    return np.max(s, axis=0)\n"
   ]
  },
  {
   "cell_type": "code",
   "execution_count": 32,
   "id": "890f865c",
   "metadata": {},
   "outputs": [
    {
     "name": "stdout",
     "output_type": "stream",
     "text": [
      "[0.68235186 0.923345   0.88989269 0.8242416 ]\n"
     ]
    }
   ],
   "source": [
    "print(np.max(q, axis=1))"
   ]
  },
  {
   "cell_type": "code",
   "execution_count": null,
   "id": "dcfc867e",
   "metadata": {},
   "outputs": [],
   "source": []
  }
 ],
 "metadata": {
  "kernelspec": {
   "display_name": "tutorial_notebook",
   "language": "python",
   "name": "python3"
  },
  "language_info": {
   "codemirror_mode": {
    "name": "ipython",
    "version": 3
   },
   "file_extension": ".py",
   "mimetype": "text/x-python",
   "name": "python",
   "nbconvert_exporter": "python",
   "pygments_lexer": "ipython3",
   "version": "3.13.2"
  }
 },
 "nbformat": 4,
 "nbformat_minor": 5
}
