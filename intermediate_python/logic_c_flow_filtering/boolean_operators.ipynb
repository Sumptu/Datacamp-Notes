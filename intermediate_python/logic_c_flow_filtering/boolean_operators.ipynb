{
 "cells": [
  {
   "cell_type": "markdown",
   "id": "02c1f51b",
   "metadata": {},
   "source": [
    "# Boolean Operators\n",
    "- and\n",
    "- or\n",
    "- not"
   ]
  },
  {
   "cell_type": "markdown",
   "id": "d361646f",
   "metadata": {},
   "source": [
    "# and\n"
   ]
  },
  {
   "cell_type": "code",
   "execution_count": null,
   "id": "7522a837",
   "metadata": {},
   "outputs": [
    {
     "name": "stdout",
     "output_type": "stream",
     "text": [
      "True\n",
      "False\n",
      "False\n",
      "False\n"
     ]
    }
   ],
   "source": [
    "print(True and True) # True\n",
    "print(True and False) # False\n",
    "print(False and True) # False\n",
    "print(False and False) # False"
   ]
  },
  {
   "cell_type": "code",
   "execution_count": null,
   "id": "d65e2d5d",
   "metadata": {},
   "outputs": [
    {
     "name": "stdout",
     "output_type": "stream",
     "text": [
      "True\n"
     ]
    }
   ],
   "source": [
    "x = 12\n",
    "print(x > 5 and x < 15) # True and True "
   ]
  },
  {
   "cell_type": "markdown",
   "id": "7dab16d0",
   "metadata": {},
   "source": [
    "# or"
   ]
  },
  {
   "cell_type": "code",
   "execution_count": 4,
   "id": "8afa09a9",
   "metadata": {},
   "outputs": [
    {
     "name": "stdout",
     "output_type": "stream",
     "text": [
      "True\n",
      "True\n",
      "True\n",
      "False\n"
     ]
    }
   ],
   "source": [
    "print(True or True) # True\n",
    "print(True or False) # True\n",
    "print(False or True) # True\n",
    "print(False or False) # False"
   ]
  },
  {
   "cell_type": "code",
   "execution_count": null,
   "id": "b62c6fc6",
   "metadata": {},
   "outputs": [
    {
     "name": "stdout",
     "output_type": "stream",
     "text": [
      "True\n"
     ]
    }
   ],
   "source": [
    "y = 5\n",
    "print(y < 7 or y > 10) # True or False"
   ]
  },
  {
   "cell_type": "markdown",
   "id": "8c44ba04",
   "metadata": {},
   "source": [
    "# not"
   ]
  },
  {
   "cell_type": "code",
   "execution_count": 6,
   "id": "00086d79",
   "metadata": {},
   "outputs": [
    {
     "name": "stdout",
     "output_type": "stream",
     "text": [
      "False\n",
      "True\n"
     ]
    }
   ],
   "source": [
    "print(not True) # False\n",
    "print(not False) # True"
   ]
  },
  {
   "cell_type": "markdown",
   "id": "daeb749a",
   "metadata": {},
   "source": [
    "# NumPy"
   ]
  },
  {
   "cell_type": "code",
   "execution_count": 7,
   "id": "1e3a3bbd",
   "metadata": {},
   "outputs": [
    {
     "name": "stdout",
     "output_type": "stream",
     "text": [
      "[21.85171573 20.97505669 21.75028214 24.7473475  21.44127836]\n"
     ]
    }
   ],
   "source": [
    "import numpy as np\n",
    "\n",
    "np_height = np.array([1.73, 1.68, 1.71, 1.89, 1.79])\n",
    "np_weight = np.array([65.4, 59.2, 63.6, 88.4, 68.7])\n",
    "bmi = np_weight / np_height ** 2\n",
    "print(bmi)"
   ]
  },
  {
   "cell_type": "code",
   "execution_count": 8,
   "id": "717d0939",
   "metadata": {},
   "outputs": [
    {
     "name": "stdout",
     "output_type": "stream",
     "text": [
      "[ True False  True  True  True]\n",
      "[ True  True  True False  True]\n"
     ]
    }
   ],
   "source": [
    "print(bmi > 21)\n",
    "print(bmi < 22)\n"
   ]
  },
  {
   "cell_type": "code",
   "execution_count": 9,
   "id": "17bfff58",
   "metadata": {},
   "outputs": [
    {
     "ename": "ValueError",
     "evalue": "The truth value of an array with more than one element is ambiguous. Use a.any() or a.all()",
     "output_type": "error",
     "traceback": [
      "\u001b[31m---------------------------------------------------------------------------\u001b[39m",
      "\u001b[31mValueError\u001b[39m                                Traceback (most recent call last)",
      "\u001b[36mCell\u001b[39m\u001b[36m \u001b[39m\u001b[32mIn[9]\u001b[39m\u001b[32m, line 1\u001b[39m\n\u001b[32m----> \u001b[39m\u001b[32m1\u001b[39m \u001b[38;5;28mprint\u001b[39m(\u001b[43mbmi\u001b[49m\u001b[43m \u001b[49m\u001b[43m>\u001b[49m\u001b[43m \u001b[49m\u001b[32;43m21\u001b[39;49m\u001b[43m \u001b[49m\u001b[38;5;129;43;01mand\u001b[39;49;00m\u001b[43m \u001b[49m\u001b[43mbmi\u001b[49m\u001b[43m \u001b[49m\u001b[43m<\u001b[49m\u001b[43m \u001b[49m\u001b[32;43m22\u001b[39;49m)\n",
      "\u001b[31mValueError\u001b[39m: The truth value of an array with more than one element is ambiguous. Use a.any() or a.all()"
     ]
    }
   ],
   "source": [
    "print(bmi > 21 and bmi < 22)"
   ]
  },
  {
   "cell_type": "markdown",
   "id": "08388f7b",
   "metadata": {},
   "source": [
    "- logical_and\n",
    "- logical_or\n",
    "- logical_not"
   ]
  },
  {
   "cell_type": "code",
   "execution_count": 10,
   "id": "3354bcde",
   "metadata": {},
   "outputs": [
    {
     "name": "stdout",
     "output_type": "stream",
     "text": [
      "[ True False  True False  True]\n"
     ]
    }
   ],
   "source": [
    "print(np.logical_and(bmi > 21, bmi < 22))"
   ]
  },
  {
   "cell_type": "code",
   "execution_count": 11,
   "id": "3bae95e6",
   "metadata": {},
   "outputs": [
    {
     "name": "stdout",
     "output_type": "stream",
     "text": [
      "[21.85171573 21.75028214 21.44127836]\n"
     ]
    }
   ],
   "source": [
    "print(bmi[np.logical_and(bmi > 21, bmi < 22)])"
   ]
  },
  {
   "cell_type": "code",
   "execution_count": null,
   "id": "725a2d13",
   "metadata": {},
   "outputs": [],
   "source": []
  }
 ],
 "metadata": {
  "kernelspec": {
   "display_name": "Python 3",
   "language": "python",
   "name": "python3"
  },
  "language_info": {
   "codemirror_mode": {
    "name": "ipython",
    "version": 3
   },
   "file_extension": ".py",
   "mimetype": "text/x-python",
   "name": "python",
   "nbconvert_exporter": "python",
   "pygments_lexer": "ipython3",
   "version": "3.12.10"
  }
 },
 "nbformat": 4,
 "nbformat_minor": 5
}
