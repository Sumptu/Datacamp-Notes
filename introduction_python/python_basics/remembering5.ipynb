{
 "cells": [
  {
   "cell_type": "markdown",
   "id": "c9f6e9c3",
   "metadata": {},
   "source": [
    "Soal 1:\n",
    "\n",
    "Gunakan Python sebagai kalkulator untuk menghitung hasil dari operasi berikut: (((125÷5)+(3×7))−(2 \n",
    "3\n",
    " ))×1.5.\n",
    "Tampilkan hasilnya."
   ]
  },
  {
   "cell_type": "code",
   "execution_count": 1,
   "id": "95f8140d",
   "metadata": {},
   "outputs": [
    {
     "name": "stdout",
     "output_type": "stream",
     "text": [
      "57.0\n"
     ]
    }
   ],
   "source": [
    "print(((125 / 5) + (3 * 7) - (2 ** 3)) * 1.5)"
   ]
  },
  {
   "cell_type": "code",
   "execution_count": 2,
   "id": "a536d433",
   "metadata": {},
   "outputs": [
    {
     "name": "stdout",
     "output_type": "stream",
     "text": [
      "Nama Produk: Kopi Arabika, Tipe: <class 'str'>\n",
      "Berat Bersih: 250.5, Tipe: <class 'float'>\n",
      "Stok Tersedia: True, Tipe: <class 'bool'>\n"
     ]
    }
   ],
   "source": [
    "nama_produk_pb_h5 = \"Kopi Arabika\"\n",
    "berat_bersih_gram_pb_h5 = 250.5\n",
    "stok_tersedia_pb_h5 = True\n",
    "\n",
    "print(f\"Nama Produk: {nama_produk_pb_h5}, Tipe: {type(nama_produk_pb_h5)}\")\n",
    "print(f\"Berat Bersih: {berat_bersih_gram_pb_h5}, Tipe: {type(berat_bersih_gram_pb_h5)}\")\n",
    "print(f\"Stok Tersedia: {stok_tersedia_pb_h5}, Tipe: {type(stok_tersedia_pb_h5)}\")"
   ]
  },
  {
   "cell_type": "code",
   "execution_count": 3,
   "id": "5d00005f",
   "metadata": {},
   "outputs": [
    {
     "name": "stdout",
     "output_type": "stream",
     "text": [
      "Jumlah diskon yang didapat adalah: Rp18000.00\n"
     ]
    }
   ],
   "source": [
    "harga_satuan_pb_h5 = 120000\n",
    "diskon_persen_pb_h5 = 15.0\n",
    "\n",
    "jumlah_diskon_rupiah_pb_h5 = harga_satuan_pb_h5 * (diskon_persen_pb_h5 / 100)\n",
    "\n",
    "print(f\"Jumlah diskon yang didapat adalah: Rp{jumlah_diskon_rupiah_pb_h5:.2f}\")"
   ]
  },
  {
   "cell_type": "code",
   "execution_count": 1,
   "id": "28c01364",
   "metadata": {},
   "outputs": [
    {
     "name": "stdout",
     "output_type": "stream",
     "text": [
      "Jumlah saldo setelah penarikan: 350000\n"
     ]
    }
   ],
   "source": [
    "saldo_awal_pb_h5 = 500000\n",
    "jumlah_penarikan_pb_h5 = 150000\n",
    "\n",
    "saldo_awal_pb_h5 -= jumlah_penarikan_pb_h5\n",
    "\n",
    "print(f\"Jumlah saldo setelah penarikan: {saldo_awal_pb_h5}\")"
   ]
  },
  {
   "cell_type": "code",
   "execution_count": 3,
   "id": "9095ea41",
   "metadata": {},
   "outputs": [
    {
     "name": "stdout",
     "output_type": "stream",
     "text": [
      "Panjang kutipan favorit PB H5: 23\n"
     ]
    }
   ],
   "source": [
    "kutipan_favorit_pb_h5 = \"belajar python itu seru\"\n",
    "\n",
    "panjang_kutipan_pb_h5 = len(kutipan_favorit_pb_h5)\n",
    "\n",
    "print(f\"Panjang kutipan favorit PB H5: {panjang_kutipan_pb_h5}\")"
   ]
  },
  {
   "cell_type": "code",
   "execution_count": 5,
   "id": "91bcb6db",
   "metadata": {},
   "outputs": [
    {
     "name": "stdout",
     "output_type": "stream",
     "text": [
      "Produk: Baterai - Jumlah: 4 buah\n"
     ]
    }
   ],
   "source": [
    "item_pb_h5 = \"Baterai\"\n",
    "jumlah_item_pb_h5 = 4\n",
    "\n",
    "info_produk_pb_h5 = f\"Produk: {item_pb_h5} - Jumlah: {jumlah_item_pb_h5} buah\"\n",
    "print(info_produk_pb_h5)"
   ]
  },
  {
   "cell_type": "code",
   "execution_count": 6,
   "id": "ecc4c61d",
   "metadata": {},
   "outputs": [
    {
     "name": "stdout",
     "output_type": "stream",
     "text": [
      "apakah_a_lebih_besar_pb_h5 = True\n",
      "apakah_b_sama_dengan_100_pb_h5 = True\n"
     ]
    }
   ],
   "source": [
    "nilai_a_pb_h5 = 150\n",
    "nilai_b_pb_h5 = 100\n",
    "\n",
    "apakah_a_lebih_besar_pb_h5 = nilai_a_pb_h5 > nilai_b_pb_h5\n",
    "apakah_b_sama_dengan_100_pb_h5 = nilai_b_pb_h5 == 100\n",
    "\n",
    "print(f\"apakah_a_lebih_besar_pb_h5 = {apakah_a_lebih_besar_pb_h5}\")\n",
    "print(f\"apakah_b_sama_dengan_100_pb_h5 = {apakah_b_sama_dengan_100_pb_h5}\")"
   ]
  },
  {
   "cell_type": "markdown",
   "id": "61429325",
   "metadata": {},
   "source": [
    "### Soal 8: Operasi Logika\n",
    "\n",
    "Gunakan variabel dari soal sebelumnya:\n",
    "* `apakah_a_lebih_besar_pb_h5` (bernilai `True`)\n",
    "* `apakah_b_sama_dengan_100_pb_h5` (bernilai `True`)\n",
    "\n",
    "**Tugas Anda:**\n",
    "1.  Buat variabel baru **`hasil_logika_and_pb_h5`**. Isi nilainya dengan hasil operasi logika `and` antara kedua variabel di atas.\n",
    "2.  Buat variabel baru **`hasil_logika_or_pb_h5`**. Isi nilainya dengan hasil operasi logika `or` antara `apakah_a_lebih_besar_pb_h5` dan negasi (`not`) dari `apakah_b_sama_dengan_100_pb_h5`.\n",
    "3.  Tampilkan nilai dari `hasil_logika_and_pb_h5` dan `hasil_logika_or_pb_h5` dengan pesan yang deskriptif."
   ]
  },
  {
   "cell_type": "code",
   "execution_count": 8,
   "id": "12c4c6b5",
   "metadata": {},
   "outputs": [
    {
     "name": "stdout",
     "output_type": "stream",
     "text": [
      "hasil logika and: True\n",
      "hasil logika or: True\n"
     ]
    }
   ],
   "source": [
    "hasil_logika_and_pb_h5 = apakah_a_lebih_besar_pb_h5 and apakah_b_sama_dengan_100_pb_h5\n",
    "hasil_logika_or_pb_h5 = apakah_a_lebih_besar_pb_h5 or not(apakah_b_sama_dengan_100_pb_h5)\n",
    "\n",
    "print(f\"hasil logika and: {hasil_logika_and_pb_h5}\")\n",
    "print(f\"hasil logika or: {hasil_logika_or_pb_h5}\")\n"
   ]
  },
  {
   "cell_type": "markdown",
   "id": "b46c98ec",
   "metadata": {},
   "source": [
    "### Soal 9: Konversi Tipe Data\n",
    "\n",
    "1.  Buatlah sebuah variabel bernama **`nomor_rumah_str_pb_h5`** dengan nilai string `\"123\"`.\n",
    "2.  Buat variabel bernama **`tagihan_listrik_float_pb_h5`** dengan nilai float `550750.75`.\n",
    "3.  Konversikan `nomor_rumah_str_pb_h5` menjadi tipe data **integer** dan simpan hasilnya ke dalam variabel **`nomor_rumah_int_pb_h5`**.\n",
    "4.  Konversikan `tagihan_listrik_float_pb_h5` menjadi tipe data **integer** (dengan memotong bagian desimalnya) dan simpan hasilnya ke dalam variabel **`tagihan_listrik_int_pb_h5`**.\n",
    "5.  Konversikan `nomor_rumah_int_pb_h5` (hasil dari langkah 3) kembali menjadi **string** dan gabungkan dengan string `\" Gang Mawar\"` untuk membuat alamat lengkap. Simpan hasilnya dalam variabel **`alamat_lengkap_pb_h5`**.\n",
    "6.  Tampilkan nilai dan tipe data dari `nomor_rumah_int_pb_h5`, `tagihan_listrik_int_pb_h5`, dan `alamat_lengkap_pb_h5`."
   ]
  },
  {
   "cell_type": "code",
   "execution_count": 9,
   "id": "4c098dfb",
   "metadata": {},
   "outputs": [
    {
     "name": "stdout",
     "output_type": "stream",
     "text": [
      "Nilai : 123, Tipe: <class 'int'>\n",
      "Nilai : 550750, Tipe: <class 'int'>\n",
      "Nilai : 123 Gang Mawar, Tipe: <class 'str'>\n"
     ]
    }
   ],
   "source": [
    "nomor_rumah_str_pb_h5 = \"123\"\n",
    "tagihan_listrik_float_pb_h5 = 550750.75\n",
    "\n",
    "nomor_rumah_int_pb_h5 = int(nomor_rumah_str_pb_h5)\n",
    "tagihan_listrik_int_pb_h5 = int(tagihan_listrik_float_pb_h5)\n",
    "\n",
    "alamat_lengkap_pb_h5 = f\"{nomor_rumah_int_pb_h5} Gang Mawar\"\n",
    "print(f\"Nilai : {nomor_rumah_int_pb_h5}, Tipe: {type(nomor_rumah_int_pb_h5)}\")\n",
    "print(f\"Nilai : {tagihan_listrik_int_pb_h5}, Tipe: {type(tagihan_listrik_int_pb_h5)}\")\n",
    "print(f\"Nilai : {alamat_lengkap_pb_h5}, Tipe: {type(alamat_lengkap_pb_h5)}\")"
   ]
  },
  {
   "cell_type": "markdown",
   "id": "86d580ee",
   "metadata": {},
   "source": [
    "### Soal 10: Ringkasan Status Pengiriman\n",
    "\n",
    "Anda ditugaskan untuk membuat ringkasan status pengiriman barang.\n",
    "\n",
    "1.  Buatlah variabel-variabel berikut:\n",
    "    * `nama_kurir_pb_h5` (string) = `\"Budi\"`.\n",
    "    * `jarak_tempuh_km_pb_h5` (float) = `22.5`.\n",
    "    * `waktu_tempuh_menit_pb_h5` (integer) = `45`.\n",
    "2.  Hitung **kecepatan rata-rata** kurir dalam km/jam.\n",
    "    * *Hint*: Ubah dulu `waktu_tempuh_menit_pb_h5` menjadi jam (`waktu_tempuh_menit_pb_h5 / 60`). Rumus kecepatan adalah `jarak / waktu`.\n",
    "    * Simpan hasilnya dalam variabel **`kecepatan_kmh_pb_h5`**.\n",
    "3.  Buat sebuah variabel boolean **`pengiriman_lancar_pb_h5`** yang bernilai `True` jika kecepatan rata-rata lebih dari `25` km/jam, dan `False` jika tidak.\n",
    "4.  Buat sebuah string ringkasan (summary) yang lengkap menggunakan f-string. Simpan dalam variabel **`ringkasan_final_pb_h5`**. Formatnya harus seperti ini:\n",
    "    `\"--- Ringkasan Pengiriman ---\\nKurir: [Nama Kurir]\\nKecepatan: [Nilai Kecepatan] km/jam\\nStatus Lancar: [Status Pengiriman]\"`\n",
    "    * Tampilkan nilai kecepatan dengan **satu** angka di belakang koma.\n",
    "5.  Tampilkan nilai dari `ringkasan_final_pb_h5`."
   ]
  },
  {
   "cell_type": "code",
   "execution_count": 15,
   "id": "a6edf48d",
   "metadata": {},
   "outputs": [
    {
     "name": "stdout",
     "output_type": "stream",
     "text": [
      "--- Ringkasan Pengiriman --- \n",
      "Kurir : Budi \n",
      "Kecepatan : 30.0 km/jam \n",
      "Status Lancar : True \n",
      "\n"
     ]
    }
   ],
   "source": [
    "nama_kurir_pb_h5 = \"Budi\"\n",
    "jarak_tempuh_km_pb_h5 = 22.5\n",
    "waktu_tempuh_menit_pb_h5 = 45\n",
    "\n",
    "waktu_tempuh_jam_pb_h5 = waktu_tempuh_menit_pb_h5 / 60\n",
    "\n",
    "kecepatan_kmh_pb_h5 = jarak_tempuh_km_pb_h5 / waktu_tempuh_jam_pb_h5\n",
    "pengiriman_lancar_pb_h5 = kecepatan_kmh_pb_h5 > 25\n",
    "\n",
    "ringkasan_final_pb_h5 = (\n",
    "    f\"--- Ringkasan Pengiriman --- \\n\"\n",
    "    f\"Kurir : {nama_kurir_pb_h5} \\n\"\n",
    "    f\"Kecepatan : {kecepatan_kmh_pb_h5:.1f} km/jam \\n\"\n",
    "    f\"Status Lancar : {pengiriman_lancar_pb_h5} \\n\"\n",
    ")\n",
    "\n",
    "print(ringkasan_final_pb_h5)"
   ]
  },
  {
   "cell_type": "code",
   "execution_count": null,
   "id": "a1e2040e",
   "metadata": {},
   "outputs": [],
   "source": []
  }
 ],
 "metadata": {
  "kernelspec": {
   "display_name": "Python 3",
   "language": "python",
   "name": "python3"
  },
  "language_info": {
   "codemirror_mode": {
    "name": "ipython",
    "version": 3
   },
   "file_extension": ".py",
   "mimetype": "text/x-python",
   "name": "python",
   "nbconvert_exporter": "python",
   "pygments_lexer": "ipython3",
   "version": "3.12.10"
  }
 },
 "nbformat": 4,
 "nbformat_minor": 5
}
