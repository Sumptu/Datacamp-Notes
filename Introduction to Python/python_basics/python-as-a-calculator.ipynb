{
 "cells": [
  {
   "cell_type": "code",
   "execution_count": 1,
   "id": "9df0ed37",
   "metadata": {},
   "outputs": [
    {
     "name": "stdout",
     "output_type": "stream",
     "text": [
      "9\n",
      "5.0\n",
      "0\n",
      "15\n"
     ]
    }
   ],
   "source": [
    "# addition\n",
    "print(4 + 5)\n",
    "\n",
    "# division\n",
    "print(10 / 2)\n",
    "\n",
    "# subtraction\n",
    "print(5 - 5)\n",
    "\n",
    "# multiplication\n",
    "print(3 * 5)"
   ]
  }
 ],
 "metadata": {
  "kernelspec": {
   "display_name": "tutorial_notebook",
   "language": "python",
   "name": "python3"
  },
  "language_info": {
   "codemirror_mode": {
    "name": "ipython",
    "version": 3
   },
   "file_extension": ".py",
   "mimetype": "text/x-python",
   "name": "python",
   "nbconvert_exporter": "python",
   "pygments_lexer": "ipython3",
   "version": "3.13.2"
  }
 },
 "nbformat": 4,
 "nbformat_minor": 5
}
