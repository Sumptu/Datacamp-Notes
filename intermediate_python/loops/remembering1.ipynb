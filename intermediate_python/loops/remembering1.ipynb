{
 "cells": [
  {
   "cell_type": "markdown",
   "id": "063c95c6",
   "metadata": {},
   "source": [
    "### **Soal 1: `while` Loop Sederhana**\n",
    "\n",
    "**Konteks:**\n",
    "Anda sedang menyimulasikan sebuah proses hitung mundur sederhana untuk peluncuran roket. Anda perlu mencetak hitungan mundur dari 5 hingga 1.\n",
    "\n",
    "**Tugas:**\n",
    "\n",
    "1.  Buat sebuah variabel integer bernama `hitung_mundur_1` dan inisialisasi nilainya menjadi `5`.\n",
    "2.  Gunakan `while` loop untuk terus berjalan selama `hitung_mundur_1` lebih besar dari `0`.\n",
    "3.  Di dalam loop, cetak (*print*) nilai dari `hitung_mundur_1`.\n",
    "4.  Jangan lupa untuk mengurangi nilai `hitung_mundur_1` sebesar 1 di setiap akhir iterasi agar loop tidak berjalan selamanya."
   ]
  },
  {
   "cell_type": "code",
   "execution_count": 1,
   "id": "6ab213e2",
   "metadata": {},
   "outputs": [
    {
     "name": "stdout",
     "output_type": "stream",
     "text": [
      "5\n",
      "4\n",
      "3\n",
      "2\n",
      "1\n"
     ]
    }
   ],
   "source": [
    "hitung_mundur_1 = 5\n",
    "while hitung_mundur_1 > 0:\n",
    "    print(hitung_mundur_1)\n",
    "    hitung_mundur_1 -= 1"
   ]
  },
  {
   "cell_type": "markdown",
   "id": "9227e190",
   "metadata": {},
   "source": [
    "### **Soal 2: `while` Loop dengan Kondisional `if`**\n",
    "\n",
    "**Konteks:**\n",
    "Anda ingin menyaring dan mencetak angka ganjil saja dari sebuah rentang angka, misalnya dari 1 hingga 10.\n",
    "\n",
    "**Tugas:**\n",
    "\n",
    "1.  Buat sebuah variabel integer bernama `angka_2` dengan nilai awal `1`.\n",
    "2.  Gunakan `while` loop untuk terus berjalan selama `angka_2` **kurang dari atau sama dengan 10**.\n",
    "3.  Di dalam loop, gunakan pernyataan `if` untuk memeriksa apakah `angka_2` adalah angka ganjil.\n",
    "    * *Hint: Angka ganjil adalah angka yang jika dibagi 2 memiliki sisa 1. Gunakan operator modulo `%` untuk mengecek sisa pembagian.*\n",
    "4.  Jika angka tersebut ganjil, cetak (*print*) nilainya.\n",
    "5.  Naikkan nilai `angka_2` sebesar 1 di setiap akhir iterasi."
   ]
  },
  {
   "cell_type": "code",
   "execution_count": 3,
   "id": "7aa4b85c",
   "metadata": {},
   "outputs": [
    {
     "name": "stdout",
     "output_type": "stream",
     "text": [
      "1\n",
      "3\n",
      "5\n",
      "7\n",
      "9\n"
     ]
    }
   ],
   "source": [
    "angka_2 = 1\n",
    "while angka_2 <= 10:\n",
    "    if angka_2 % 2 == 1:\n",
    "        print(angka_2)\n",
    "    angka_2 += 1\n"
   ]
  },
  {
   "cell_type": "markdown",
   "id": "69a0f6c4",
   "metadata": {},
   "source": [
    "### **Soal 3: `for` Loop Dasar (Iterasi pada List)**\n",
    "\n",
    "**Konteks:**\n",
    "Anda memiliki daftar nama-nama planet dan ingin mencetak setiap nama planet tersebut satu per satu ke layar. `for` loop sangat ideal untuk tugas seperti ini.\n",
    "\n",
    "**Tugas:**\n",
    "\n",
    "1.  Buat sebuah **list** Python bernama `daftar_planet_3` yang berisi string berikut:\n",
    "    ```python\n",
    "    [\"Merkurius\", \"Venus\", \"Bumi\", \"Mars\", \"Jupiter\"]\n",
    "    ```\n",
    "2.  Gunakan `for` loop untuk melakukan iterasi pada setiap item di dalam `daftar_planet_3`.\n",
    "3.  Di dalam loop, cetak (*print*) setiap nama planet."
   ]
  },
  {
   "cell_type": "code",
   "execution_count": 4,
   "id": "aa5a0a7a",
   "metadata": {},
   "outputs": [
    {
     "name": "stdout",
     "output_type": "stream",
     "text": [
      "Merkurius\n",
      "Venus\n",
      "Bumi\n",
      "Mars\n",
      "Jupiter\n"
     ]
    }
   ],
   "source": [
    "daftar_planet_3 = [\"Merkurius\", \"Venus\", \"Bumi\", \"Mars\", \"Jupiter\"]\n",
    "for planet in daftar_planet_3:\n",
    "    print(planet)"
   ]
  },
  {
   "cell_type": "markdown",
   "id": "7e95ae69",
   "metadata": {},
   "source": [
    "### **Soal 4: `for` Loop dengan `enumerate()` (Mengakses Indeks dan Nilai)**\n",
    "\n",
    "**Konteks:**\n",
    "Anda tidak hanya ingin mencetak nama planet, tetapi juga nomor urutannya dalam daftar. Fungsi `enumerate()` adalah cara Pythonic untuk melakukan ini.\n",
    "\n",
    "**Tugas:**\n",
    "\n",
    "1.  Gunakan kembali list `daftar_planet_3`.\n",
    "2.  Gunakan `for` loop dengan `enumerate()` untuk melakukan iterasi pada `daftar_planet_3`. `enumerate()` akan memberikan Anda dua variabel di setiap iterasi: indeks dan nilai.\n",
    "3.  Di dalam loop, cetak hasilnya dalam format berikut (contoh untuk item pertama): `\"Planet ke-1: Merkurius\"`.\n",
    "    * *Hint: Ingat bahwa indeks dari `enumerate()` dimulai dari 0, jadi Anda mungkin perlu menambahkan 1 agar nomor urutannya dimulai dari 1.*"
   ]
  },
  {
   "cell_type": "code",
   "execution_count": 5,
   "id": "b66f23c3",
   "metadata": {},
   "outputs": [
    {
     "name": "stdout",
     "output_type": "stream",
     "text": [
      "Planet ke-1 adalah Merkurius\n",
      "Planet ke-2 adalah Venus\n",
      "Planet ke-3 adalah Bumi\n",
      "Planet ke-4 adalah Mars\n",
      "Planet ke-5 adalah Jupiter\n"
     ]
    }
   ],
   "source": [
    "for x, y in enumerate(daftar_planet_3):\n",
    "    print(f\"Planet ke-{x + 1} adalah {y}\")"
   ]
  },
  {
   "cell_type": "markdown",
   "id": "dcfb92eb",
   "metadata": {},
   "source": [
    "### **Soal 5: Iterasi pada List Bersarang (*List of Lists*)**\n",
    "\n",
    "**Konteks:**\n",
    "Anda memiliki data siswa yang disimpan dalam sebuah list, di mana setiap elemen di dalamnya adalah list lain yang berisi nama siswa dan nilainya. Anda ingin mencetak nama dan status kelulusan untuk setiap siswa.\n",
    "\n",
    "**Tugas:**\n",
    "\n",
    "1.  Buat sebuah *list of lists* bernama `data_siswa_5`:\n",
    "    ```python\n",
    "    data_siswa_5 = [\n",
    "        [\"Andi\", 85],\n",
    "        [\"Budi\", 65],\n",
    "        [\"Citra\", 92],\n",
    "        [\"Dewi\", 58]\n",
    "    ]\n",
    "    ```\n",
    "2.  Gunakan `for` loop untuk melakukan iterasi pada `data_siswa_5`. Di setiap iterasi, Anda akan mendapatkan sebuah list kecil (misalnya, `[\"Andi\", 85]`).\n",
    "3.  Di dalam loop, akses nama (indeks 0) dan nilai (indeks 1) dari list kecil tersebut.\n",
    "4.  Gunakan `if-else` untuk menentukan status kelulusan:\n",
    "    * Jika nilai **lebih dari atau sama dengan 70**, statusnya adalah \"Lulus\".\n",
    "    * Jika tidak, statusnya adalah \"Tidak Lulus\".\n",
    "5.  Cetak hasilnya dalam format: `\"Nama: [NamaSiswa], Status: [StatusKelulusan]\"`."
   ]
  },
  {
   "cell_type": "code",
   "execution_count": 6,
   "id": "6a1704a4",
   "metadata": {},
   "outputs": [
    {
     "name": "stdout",
     "output_type": "stream",
     "text": [
      "Nama: Andi, Status: Lulus\n",
      "Nama: Budi, Status: Tidak Lulus\n",
      "Nama: Citra, Status: Lulus\n",
      "Nama: Dewi, Status: Tidak Lulus\n"
     ]
    }
   ],
   "source": [
    "data_siswa_5 = [\n",
    "    [\"Andi\", 85],\n",
    "    [\"Budi\", 65],\n",
    "    [\"Citra\", 92],\n",
    "    [\"Dewi\", 58],\n",
    "]\n",
    "\n",
    "for nama, nilai in data_siswa_5:\n",
    "    if nilai >= 70:\n",
    "        status = \"Lulus\"\n",
    "    else:\n",
    "        status = \"Tidak Lulus\"\n",
    "    print(f\"Nama: {nama}, Status: {status}\")"
   ]
  },
  {
   "cell_type": "markdown",
   "id": "cc7077d9",
   "metadata": {},
   "source": [
    "### **Soal 6: Iterasi pada Dictionary (`.items()`)**\n",
    "\n",
    "**Konteks:**\n",
    "Anda memiliki sebuah dictionary yang menyimpan inventaris buah dan jumlah stoknya. Anda perlu mencetak setiap nama buah beserta jumlah stoknya.\n",
    "\n",
    "**Tugas:**\n",
    "\n",
    "1.  Buat sebuah **dictionary** bernama `inventaris_buah_6`:\n",
    "    ```python\n",
    "    inventaris_buah_6 = {\n",
    "        \"apel\": 150,\n",
    "        \"pisang\": 200,\n",
    "        \"jeruk\": 120,\n",
    "        \"mangga\": 75\n",
    "    }\n",
    "    ```\n",
    "2.  Gunakan `for` loop dengan method `.items()` untuk melakukan iterasi pada `inventaris_buah_6`. Method ini akan memberikan Anda *key* (nama buah) dan *value* (jumlah stok) di setiap iterasi.\n",
    "3.  Di dalam loop, cetak hasilnya dalam format: `\"Stok [NamaBuah]: [JumlahStok] kg\"`."
   ]
  },
  {
   "cell_type": "code",
   "execution_count": 7,
   "id": "eeeb4fba",
   "metadata": {},
   "outputs": [
    {
     "name": "stdout",
     "output_type": "stream",
     "text": [
      "Stok apel: 150 kg\n",
      "Stok pisang: 200 kg\n",
      "Stok jeruk: 120 kg\n",
      "Stok mangga: 75 kg\n"
     ]
    }
   ],
   "source": [
    "inventaris_buah_6 = {\n",
    "    \"apel\": 150,\n",
    "    \"pisang\": 200,\n",
    "    \"jeruk\": 120,\n",
    "    \"mangga\": 75,\n",
    "}\n",
    "\n",
    "for k, v in inventaris_buah_6.items():\n",
    "    print(f\"Stok {k}: {v} kg\")"
   ]
  },
  {
   "cell_type": "markdown",
   "id": "91926ee4",
   "metadata": {},
   "source": [
    "### **Soal 7: Iterasi pada NumPy Array**\n",
    "\n",
    "**Konteks:**\n",
    "Anda memiliki sebuah NumPy array yang berisi data jarak tempuh dalam satuan mil. Anda perlu mengonversi setiap nilai jarak tersebut ke dalam kilometer dan mencetaknya.\n",
    "\n",
    "**Tugas:**\n",
    "\n",
    "1.  Impor library **numpy** dengan alias `np`.\n",
    "2.  Buat sebuah NumPy array bernama `jarak_mil_7` dari list berikut:\n",
    "    ```python\n",
    "    [1.5, 2.3, 0.8, 3.1, 1.9]\n",
    "    ```\n",
    "3.  Gunakan `for` loop untuk melakukan iterasi pada setiap elemen di `jarak_mil_7`.\n",
    "4.  Di dalam loop:\n",
    "    * Lakukan konversi dari mil ke kilometer dengan mengalikan setiap nilai dengan `1.609`.\n",
    "    * Simpan hasilnya dalam variabel `jarak_km`.\n",
    "    * Cetak hasilnya dalam format: `\"[JarakMil] mil = [JarakKm] km\"`. Format angka kilometer agar hanya menampilkan 2 angka di belakang koma.\n",
    "    * *Hint: Gunakan f-string formatting, contoh: `{variabel:.2f}`.*"
   ]
  },
  {
   "cell_type": "code",
   "execution_count": 9,
   "id": "139792de",
   "metadata": {},
   "outputs": [
    {
     "name": "stdout",
     "output_type": "stream",
     "text": [
      "1.5 mil = 2.41 km\n",
      "2.3 mil = 3.70 km\n",
      "0.8 mil = 1.29 km\n",
      "3.1 mil = 4.99 km\n",
      "1.9 mil = 3.06 km\n"
     ]
    }
   ],
   "source": [
    "import numpy as np\n",
    "\n",
    "jarak_mil_7 = np.array([1.5, 2.3, 0.8, 3.1, 1.9])\n",
    "\n",
    "for jarak in jarak_mil_7:\n",
    "    jarak_km = jarak * 1.609\n",
    "    print(f\"{jarak} mil = {jarak_km:.2f} km\") "
   ]
  },
  {
   "cell_type": "markdown",
   "id": "7a28d52a",
   "metadata": {},
   "source": [
    "### **Soal 8: Iterasi pada Pandas DataFrame dengan `.iterrows()`**\n",
    "\n",
    "**Konteks:**\n",
    "Anda memiliki DataFrame berisi data film, termasuk judul dan ratingnya. Anda ingin mencetak ulasan singkat untuk setiap film berdasarkan ratingnya. Method `.iterrows()` adalah cara umum untuk melakukan iterasi baris per baris pada DataFrame.\n",
    "\n",
    "**Tugas:**\n",
    "\n",
    "1.  Jalankan kode setup di bawah ini untuk membuat DataFrame:\n",
    "    ```python\n",
    "    import pandas as pd\n",
    "\n",
    "    data_film_8 = {\n",
    "        'Judul': ['The Dark Knight', 'Pulp Fiction', 'Forrest Gump', 'Inception'],\n",
    "        'Rating': [9.0, 8.9, 8.8, 8.8]\n",
    "    }\n",
    "    df_film_8 = pd.DataFrame(data_film_8)\n",
    "    ```\n",
    "2.  Gunakan `for` loop dengan `df_film_8.iterrows()` untuk melakukan iterasi pada setiap baris DataFrame.\n",
    "    * `.iterrows()` akan memberikan dua hal di setiap iterasi: **indeks baris** dan **data baris** (sebagai sebuah Series). Anda bisa menangkapnya dengan `for index, row in ...`.\n",
    "3.  Di dalam loop, akses judul film dengan `row['Judul']` dan ratingnya dengan `row['Rating']`.\n",
    "4.  Gunakan `if-else` sederhana:\n",
    "    * Jika `row['Rating']` **lebih besar atau sama dengan 9.0**, cetak `\"[Judul Film]\" adalah film yang luar biasa.\"`.\n",
    "    * Jika tidak, cetak `\"[Judul Film]\" adalah film yang bagus.\"`."
   ]
  },
  {
   "cell_type": "code",
   "execution_count": 15,
   "id": "7403624c",
   "metadata": {},
   "outputs": [
    {
     "name": "stdout",
     "output_type": "stream",
     "text": [
      "The Dark Knight adalah film yang sangat bagus.\n",
      "Pulp Fiction adalah film yang bagus.\n",
      "Forrest Gump adalah film yang bagus.\n",
      "Inception adalah film yang bagus.\n"
     ]
    }
   ],
   "source": [
    "import pandas as pd\n",
    "\n",
    "data_film_8 = {\n",
    "    \"Judul\": [\"The Dark Knight\", \"Pulp Fiction\", \"Forrest Gump\", \"Inception\"],\n",
    "    \"Rating\": [9.0, 8.9, 8.8, 8.8],\n",
    "}\n",
    "\n",
    "df_film_8 = pd.DataFrame(data_film_8)\n",
    "for index, row in df_film_8.iterrows():\n",
    "    if row[\"Rating\"] >= 9.0:\n",
    "        print(f\"{row[\"Judul\"]} adalah film yang sangat bagus.\")\n",
    "    else:\n",
    "        print(f\"{row[\"Judul\"]} adalah film yang bagus.\")"
   ]
  },
  {
   "cell_type": "markdown",
   "id": "18769d4f",
   "metadata": {},
   "source": [
    "### **Soal 9: Membuat Kolom Baru dari Hasil Loop**\n",
    "\n",
    "**Konteks:**\n",
    "Anda memiliki DataFrame berisi data produk dan harganya. Anda ingin membuat kolom baru yang berisi harga setelah PPN (Pajak Pertambahan Nilai) sebesar 11%.\n",
    "\n",
    "**Tugas:**\n",
    "\n",
    "1.  Jalankan kode setup di bawah ini untuk membuat DataFrame:\n",
    "    ```python\n",
    "    import pandas as pd\n",
    "\n",
    "    data_produk_9 = {\n",
    "        'Produk': ['Laptop', 'Mouse', 'Keyboard'],\n",
    "        'Harga': [12000000, 150000, 300000]\n",
    "    }\n",
    "    df_produk_9 = pd.DataFrame(data_produk_9)\n",
    "    ```\n",
    "2.  Buat sebuah **list kosong** bernama `list_harga_ppn_9`.\n",
    "3.  Gunakan `for` loop untuk melakukan iterasi **langsung pada kolom `'Harga'`** (`df_produk_9['Harga']`). Ini akan memberi Anda setiap nilai harga satu per satu.\n",
    "4.  Di dalam loop, hitung harga setelah PPN dengan mengalikan harga dengan `1.11` (100% + 11%).\n",
    "5.  Tambahkan (`append`) setiap hasil harga baru ke dalam `list_harga_ppn_9`.\n",
    "6.  Setelah loop selesai, tambahkan list `list_harga_ppn_9` sebagai **kolom baru** bernama `'Harga_PPN'` ke `df_produk_9`.\n",
    "7.  Cetak keseluruhan DataFrame `df_produk_9` yang sudah dimodifikasi."
   ]
  },
  {
   "cell_type": "code",
   "execution_count": 16,
   "id": "bf9b0cdb",
   "metadata": {},
   "outputs": [
    {
     "name": "stdout",
     "output_type": "stream",
     "text": [
      "     Produk     Harga   Harga_PPN\n",
      "0    Laptop  12000000  13320000.0\n",
      "1     Mouse    150000    166500.0\n",
      "2  Keyboard    300000    333000.0\n"
     ]
    }
   ],
   "source": [
    "# sudah import pandas sebelumnya\n",
    "\n",
    "data_produk_9 = {\n",
    "    \"Produk\": [\"Laptop\", \"Mouse\", \"Keyboard\"],\n",
    "    \"Harga\": [12000000, 150000, 300000],\n",
    "}\n",
    "df_produk_9 = pd.DataFrame(data_produk_9)\n",
    "list_harga_ppn_9 = []\n",
    "\n",
    "for harga in df_produk_9[\"Harga\"]:\n",
    "    harga *= 1.11\n",
    "    list_harga_ppn_9.append(harga)\n",
    "\n",
    "df_produk_9[\"Harga_PPN\"] = list_harga_ppn_9\n",
    "print(df_produk_9)"
   ]
  },
  {
   "cell_type": "markdown",
   "id": "94d3581e",
   "metadata": {},
   "source": [
    "### **Soal 10: Membuat Kolom Kategori dengan Loop dan Kondisi Kompleks**\n",
    "\n",
    "**Konteks:**\n",
    "Anda adalah seorang analis logistik dan perlu mengkategorikan produk berdasarkan beratnya untuk menentukan biaya pengiriman. Aturannya adalah:\n",
    "* Berat di atas 10 kg: \"Kargo Berat\"\n",
    "* Berat antara 1 kg dan 10 kg (inklusif): \"Paket Standar\"\n",
    "* Berat di bawah 1 kg: \"Dokumen/Surat\"\n",
    "\n",
    "**Tugas:**\n",
    "\n",
    "1.  Jalankan kode setup di bawah ini untuk membuat DataFrame:\n",
    "    ```python\n",
    "    import pandas as pd\n",
    "\n",
    "    data_kiriman_10 = {\n",
    "        'ID_Kiriman': ['K01', 'K02', 'K03', 'K04', 'K05'],\n",
    "        'Berat_kg': [15.2, 0.5, 8.1, 22.0, 0.9]\n",
    "    }\n",
    "    df_kiriman_10 = pd.DataFrame(data_kiriman_10)\n",
    "    ```\n",
    "2.  Buat sebuah **list kosong** bernama `list_kategori_kiriman_10`.\n",
    "3.  Gunakan `for` loop untuk melakukan iterasi **langsung pada kolom `'Berat_kg'`**.\n",
    "4.  Di dalam loop, gunakan `if-elif-else` untuk menentukan kategori berdasarkan berat:\n",
    "    * Jika berat > 10, tambahkan (`append`) string `\"Kargo Berat\"` ke list.\n",
    "    * Jika berat >= 1, tambahkan string `\"Paket Standar\"` ke list.\n",
    "    * Jika tidak, tambahkan string `\"Dokumen/Surat\"` ke list.\n",
    "5.  Setelah loop selesai, tambahkan `list_kategori_kiriman_10` sebagai **kolom baru** bernama `'Kategori'` ke `df_kiriman_10`.\n",
    "6.  Cetak keseluruhan DataFrame `df_kiriman_10`."
   ]
  },
  {
   "cell_type": "code",
   "execution_count": 17,
   "id": "c47707d2",
   "metadata": {},
   "outputs": [
    {
     "name": "stdout",
     "output_type": "stream",
     "text": [
      "  ID_Kiriman  Berat_kg       Kategori\n",
      "0        K01      15.2    Kargo Berat\n",
      "1        K02       0.5  Dokumen/Surat\n",
      "2        K03       8.1  Paket Standar\n",
      "3        K04      22.0    Kargo Berat\n",
      "4        K05       0.9  Dokumen/Surat\n"
     ]
    }
   ],
   "source": [
    "# Pandas sudah diimpor sebelumnya\n",
    "\n",
    "data_kiriman_10 = {\n",
    "    \"ID_Kiriman\": [\"K01\", \"K02\", \"K03\", \"K04\", \"K05\"],\n",
    "    \"Berat_kg\": [15.2, 0.5, 8.1, 22.0, 0.9],\n",
    "}\n",
    "df_kiriman_10 = pd.DataFrame(data_kiriman_10)\n",
    "list_kategori_kiriman_10 = []\n",
    "\n",
    "for berat in df_kiriman_10[\"Berat_kg\"]:\n",
    "    if berat > 10:\n",
    "        list_kategori_kiriman_10.append(\"Kargo Berat\")\n",
    "    elif berat >= 1:\n",
    "        list_kategori_kiriman_10.append(\"Paket Standar\")\n",
    "    else:\n",
    "        list_kategori_kiriman_10.append(\"Dokumen/Surat\")\n",
    "\n",
    "df_kiriman_10[\"Kategori\"] = list_kategori_kiriman_10\n",
    "print(df_kiriman_10)"
   ]
  },
  {
   "cell_type": "code",
   "execution_count": null,
   "id": "64beb06b",
   "metadata": {},
   "outputs": [],
   "source": []
  }
 ],
 "metadata": {
  "kernelspec": {
   "display_name": "Python 3",
   "language": "python",
   "name": "python3"
  },
  "language_info": {
   "codemirror_mode": {
    "name": "ipython",
    "version": 3
   },
   "file_extension": ".py",
   "mimetype": "text/x-python",
   "name": "python",
   "nbconvert_exporter": "python",
   "pygments_lexer": "ipython3",
   "version": "3.12.10"
  }
 },
 "nbformat": 4,
 "nbformat_minor": 5
}
