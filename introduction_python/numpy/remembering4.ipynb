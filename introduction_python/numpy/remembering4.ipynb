{
 "cells": [
  {
   "cell_type": "code",
   "execution_count": 2,
   "id": "d55908ee",
   "metadata": {},
   "outputs": [
    {
     "name": "stdout",
     "output_type": "stream",
     "text": [
      "[10 20 30 40 50]\n",
      "int64\n"
     ]
    }
   ],
   "source": [
    "import numpy as np\n",
    "\n",
    "list_angka_h4np = [\n",
    "    10,\n",
    "    20,\n",
    "    30,\n",
    "    40,\n",
    "    50,\n",
    "]\n",
    "\n",
    "array_numpy_pertama_h4np = np.array(list_angka_h4np)\n",
    "print(array_numpy_pertama_h4np)\n",
    "print(array_numpy_pertama_h4np.dtype)"
   ]
  },
  {
   "cell_type": "code",
   "execution_count": 3,
   "id": "36371b73",
   "metadata": {},
   "outputs": [
    {
     "name": "stdout",
     "output_type": "stream",
     "text": [
      "float64\n",
      "[1 2 3 4 5]\n",
      "int32\n"
     ]
    }
   ],
   "source": [
    "list_desimal_h4np = [\n",
    "    1.0,\n",
    "    2.5,\n",
    "    3.0,\n",
    "    4.75,\n",
    "    5.25,\n",
    "]\n",
    "\n",
    "array_float_h4np = np.array(list_desimal_h4np)\n",
    "print(array_float_h4np.dtype)\n",
    "\n",
    "array_integer_eksplisit_h4np = np.array(list_desimal_h4np, dtype=np.int32)\n",
    "print(array_integer_eksplisit_h4np)\n",
    "print(array_integer_eksplisit_h4np.dtype)"
   ]
  },
  {
   "cell_type": "code",
   "execution_count": null,
   "id": "e486ccfd",
   "metadata": {},
   "outputs": [
    {
     "name": "stdout",
     "output_type": "stream",
     "text": [
      "[ 5 10 15 20]\n",
      "[ 7 12 17 22]\n"
     ]
    }
   ],
   "source": [
    "array_awal_h4np = np.array([\n",
    "    5,\n",
    "    10,\n",
    "    15,\n",
    "    20,\n",
    "])\n",
    "\n",
    "array_hasil_penambahan_h4np = array_awal_h4np + 2\n",
    "print(array_awal_h4np)\n",
    "print(array_hasil_penambahan_h4np)\n",
    "\n",
    "# array_awal_h4np tidak berubah karena operasi penambahan skalar (array_awal_h4np + 2) menghasilkan array baru, dan tidak memodifikasi array asli secara langsung."
   ]
  },
  {
   "cell_type": "code",
   "execution_count": 8,
   "id": "63774b2c",
   "metadata": {},
   "outputs": [
    {
     "name": "stdout",
     "output_type": "stream",
     "text": [
      "70\n",
      "88\n",
      "[70 85 92]\n",
      "[92 65 78]\n"
     ]
    }
   ],
   "source": [
    "nilai_ujian_h4np = np.array([\n",
    "    70,\n",
    "    85,\n",
    "    92,\n",
    "    65,\n",
    "    78,\n",
    "    90,\n",
    "    88,\n",
    "])\n",
    "\n",
    "nilai_pertama_h4np = nilai_ujian_h4np[0]\n",
    "nilai_terakhir_h4np = nilai_ujian_h4np[-1]\n",
    "tiga_nilai_pertama_h4np = nilai_ujian_h4np[:3]\n",
    "nilai_tengah_h4np = nilai_ujian_h4np[2:5]\n",
    "\n",
    "print(nilai_pertama_h4np)\n",
    "print(nilai_terakhir_h4np)\n",
    "print(tiga_nilai_pertama_h4np)\n",
    "print(nilai_tengah_h4np)"
   ]
  },
  {
   "cell_type": "code",
   "execution_count": 9,
   "id": "c2ed3bbf",
   "metadata": {},
   "outputs": [
    {
     "name": "stdout",
     "output_type": "stream",
     "text": [
      "[[1 2 3]\n",
      " [4 5 6]\n",
      " [7 8 9]]\n",
      "(3, 3)\n",
      "2\n",
      "9\n"
     ]
    }
   ],
   "source": [
    "data_matriks_h4np = [\n",
    "    [1, 2, 3],\n",
    "    [4, 5, 6],\n",
    "    [7, 8, 9],\n",
    "]\n",
    "\n",
    "array_2d_h4np = np.array(data_matriks_h4np)\n",
    "print(array_2d_h4np)\n",
    "print(array_2d_h4np.shape)\n",
    "print(array_2d_h4np.ndim)\n",
    "print(array_2d_h4np.size)\n"
   ]
  },
  {
   "cell_type": "code",
   "execution_count": null,
   "id": "102ad431",
   "metadata": {},
   "outputs": [
    {
     "name": "stdout",
     "output_type": "stream",
     "text": [
      "2\n",
      "[4 5 6]\n",
      "[3 6 9]\n",
      "[[1 2]\n",
      " [4 5]]\n"
     ]
    }
   ],
   "source": [
    "elemen_1_2_h4np = array_2d_h4np[0, 1]\n",
    "baris_kedua_h4np = array_2d_h4np[1]\n",
    "kolom_ketiga_h4np = array_2d_h4np[:, 2]\n",
    "\n",
    "sub_matriks_2x2_h4np = array_2d_h4np[0:2, 0:2]\n",
    "\n",
    "print(elemen_1_2_h4np)\n",
    "print(baris_kedua_h4np)\n",
    "print(kolom_ketiga_h4np)\n",
    "print(sub_matriks_2x2_h4np)"
   ]
  },
  {
   "cell_type": "code",
   "execution_count": 12,
   "id": "10ef2d53",
   "metadata": {},
   "outputs": [
    {
     "name": "stdout",
     "output_type": "stream",
     "text": [
      "[[12 23]\n",
      " [34 45]]\n",
      "[[ 20  60]\n",
      " [120 200]]\n",
      "[[ 30  60]\n",
      " [ 90 120]]\n"
     ]
    }
   ],
   "source": [
    "matriks_a_h4np = np.array([\n",
    "    [10, 20],\n",
    "    [30, 40],\n",
    "])\n",
    "\n",
    "matriks_b_h4np = np.array([\n",
    "    [2, 3],\n",
    "    [4, 5],\n",
    "])\n",
    "\n",
    "hasil_tambah_matriks_h4np = matriks_a_h4np + matriks_b_h4np\n",
    "hasil_kali_matriks_h4np = matriks_a_h4np * matriks_b_h4np\n",
    "matriks_a_dikali_3_h4np = matriks_a_h4np * 3\n",
    "\n",
    "print(hasil_tambah_matriks_h4np)\n",
    "print(hasil_kali_matriks_h4np)\n",
    "print(matriks_a_dikali_3_h4np)"
   ]
  },
  {
   "cell_type": "code",
   "execution_count": 13,
   "id": "9c4b89ac",
   "metadata": {},
   "outputs": [
    {
     "name": "stdout",
     "output_type": "stream",
     "text": [
      "Rata-rata pengukuran: 11.875\n",
      "Total pengukuran: 95.0\n",
      "Nilai minimum: 10.0\n",
      "Nilai maksimum: 14.5\n"
     ]
    }
   ],
   "source": [
    "data_pengukuran_h4np = np.array([\n",
    "    10.5,\n",
    "    12.0,\n",
    "    11.5,\n",
    "    13.0,\n",
    "    10.0,\n",
    "    14.5,\n",
    "    12.5,\n",
    "    11.0,\n",
    "])\n",
    "\n",
    "rata_rata_pengukuran_h4np = np.mean(data_pengukuran_h4np)\n",
    "total_pengukuran_h4np = np.sum(data_pengukuran_h4np)\n",
    "min_pengukuran_h4np = np.min(data_pengukuran_h4np)\n",
    "max_pengukuran_h4np = np.max(data_pengukuran_h4np)\n",
    "\n",
    "print(f\"Rata-rata pengukuran: {rata_rata_pengukuran_h4np}\")\n",
    "print(f\"Total pengukuran: {total_pengukuran_h4np}\")\n",
    "print(f\"Nilai minimum: {min_pengukuran_h4np}\")\n",
    "print(f\"Nilai maksimum: {max_pengukuran_h4np}\")"
   ]
  },
  {
   "cell_type": "code",
   "execution_count": 14,
   "id": "d9b25ae2",
   "metadata": {},
   "outputs": [
    {
     "name": "stdout",
     "output_type": "stream",
     "text": [
      "Median: 11.75\n",
      "Standar Deviasi: 1.3635890143294642\n"
     ]
    }
   ],
   "source": [
    "median_pengukuran_h4np = np.median(data_pengukuran_h4np)\n",
    "std_dev_pengukuran_h4np = np.std(data_pengukuran_h4np)\n",
    "\n",
    "print(f\"Median: {median_pengukuran_h4np}\")\n",
    "print(f\"Standar Deviasi: {std_dev_pengukuran_h4np}\")"
   ]
  },
  {
   "cell_type": "code",
   "execution_count": null,
   "id": "5c51eed4",
   "metadata": {},
   "outputs": [
    {
     "name": "stdout",
     "output_type": "stream",
     "text": [
      "Rata-rata gaji: 42.0\n",
      "Median gaji: 25.0\n"
     ]
    }
   ],
   "source": [
    "gaji_karyawan_h4np = np.array([\n",
    "    20,\n",
    "    22,\n",
    "    25,\n",
    "    23,\n",
    "    28,\n",
    "    26,\n",
    "    150,\n",
    "])\n",
    "\n",
    "rata_rata_gaji_h4np = np.mean(gaji_karyawan_h4np)\n",
    "median_gaji_h4np = np.median(gaji_karyawan_h4np)\n",
    "print(f\"Rata-rata gaji: {rata_rata_gaji_h4np}\")\n",
    "print(f\"Median gaji: {median_gaji_h4np}\")\n",
    "\n",
    "# karena ada nilai ekstrim(outliers)\n",
    "# lebih baik gunakan nilai median, karena median tidak terpengaruh oleh nilai ekstrim(outliers)\n"
   ]
  },
  {
   "cell_type": "code",
   "execution_count": null,
   "id": "4c8e8016",
   "metadata": {},
   "outputs": [],
   "source": []
  }
 ],
 "metadata": {
  "kernelspec": {
   "display_name": "tutorial_notebook",
   "language": "python",
   "name": "python3"
  },
  "language_info": {
   "codemirror_mode": {
    "name": "ipython",
    "version": 3
   },
   "file_extension": ".py",
   "mimetype": "text/x-python",
   "name": "python",
   "nbconvert_exporter": "python",
   "pygments_lexer": "ipython3",
   "version": "3.13.2"
  }
 },
 "nbformat": 4,
 "nbformat_minor": 5
}
