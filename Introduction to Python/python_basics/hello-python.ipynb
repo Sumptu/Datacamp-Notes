{
 "cells": [
  {
   "cell_type": "markdown",
   "id": "9f3e7e5c",
   "metadata": {},
   "source": [
    "Python\n",
    "\n",
    "- General Purpose: build Anything\n",
    "- Open source! Free!\n",
    "- Python packages, also for data science"
   ]
  },
  {
   "cell_type": "markdown",
   "id": "4930fbb4",
   "metadata": {},
   "source": [
    "Python Script\n",
    "\n",
    "- Text files - .py\n",
    "- List of Python commands\n",
    "- Similar to typing in IPython Shell\n",
    "- Use print() to generate output from script"
   ]
  }
 ],
 "metadata": {
  "language_info": {
   "name": "python"
  }
 },
 "nbformat": 4,
 "nbformat_minor": 5
}
