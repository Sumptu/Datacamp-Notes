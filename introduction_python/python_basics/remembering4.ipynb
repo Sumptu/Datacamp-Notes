{
 "cells": [
  {
   "cell_type": "code",
   "execution_count": 7,
   "id": "5f67ff8f",
   "metadata": {},
   "outputs": [
    {
     "name": "stdout",
     "output_type": "stream",
     "text": [
      "35.0\n"
     ]
    }
   ],
   "source": [
    "print((15 + 5) * 2 - (10 / 2))"
   ]
  },
  {
   "cell_type": "code",
   "execution_count": 8,
   "id": "944d387a",
   "metadata": {},
   "outputs": [
    {
     "name": "stdout",
     "output_type": "stream",
     "text": [
      "<class 'int'>\n"
     ]
    }
   ],
   "source": [
    "jumlah_apel_hari_ini = 25\n",
    "print(type(jumlah_apel_hari_ini))"
   ]
  },
  {
   "cell_type": "code",
   "execution_count": 12,
   "id": "8dc15a57",
   "metadata": {},
   "outputs": [
    {
     "name": "stdout",
     "output_type": "stream",
     "text": [
      "125\n"
     ]
    }
   ],
   "source": [
    "apel_awal_minggu = 50\n",
    "jeruk_awal_minggu = 75\n",
    "total_buah_awal_minggu = apel_awal_minggu + jeruk_awal_minggu\n",
    "\n",
    "print(total_buah_awal_minggu)"
   ]
  },
  {
   "cell_type": "code",
   "execution_count": 13,
   "id": "9ebef6d2",
   "metadata": {},
   "outputs": [
    {
     "name": "stdout",
     "output_type": "stream",
     "text": [
      "Total buah pertengahan minggu: 120\n",
      "Jumlah Terbaru Apel awal minggu: 30\n",
      "Jumlah Terbaru Jeruk awal minggu: 90\n"
     ]
    }
   ],
   "source": [
    "apel_awal_minggu -= 20\n",
    "jeruk_awal_minggu += 15\n",
    "total_buah_pertengahan_minggu = apel_awal_minggu + jeruk_awal_minggu\n",
    "\n",
    "print(f\"Total buah pertengahan minggu: {total_buah_pertengahan_minggu}\")\n",
    "print(f\"Jumlah Terbaru Apel awal minggu: {apel_awal_minggu}\")\n",
    "print(f\"Jumlah Terbaru Jeruk awal minggu: {jeruk_awal_minggu}\")"
   ]
  },
  {
   "cell_type": "code",
   "execution_count": 14,
   "id": "595e83cd",
   "metadata": {},
   "outputs": [
    {
     "name": "stdout",
     "output_type": "stream",
     "text": [
      "Selamat datang di Aplikasi Gudang Buah, Narendra\n",
      "<class 'str'>\n",
      "<class 'str'>\n"
     ]
    }
   ],
   "source": [
    "nama_pengguna_app = \"Narendra\"\n",
    "pesan_selamat_datang_app = \"Selamat datang di Aplikasi Gudang Buah, \"\n",
    "\n",
    "sapaan_lengkap_pengguna = pesan_selamat_datang_app + nama_pengguna_app\n",
    "print(sapaan_lengkap_pengguna)\n",
    "print(type(nama_pengguna_app))\n",
    "print(type(sapaan_lengkap_pengguna))"
   ]
  },
  {
   "cell_type": "code",
   "execution_count": 3,
   "id": "234f1023",
   "metadata": {},
   "outputs": [
    {
     "name": "stdout",
     "output_type": "stream",
     "text": [
      "Stok Apel saat ini : 30 buah\n",
      "<class 'int'>\n",
      "<class 'str'>\n"
     ]
    }
   ],
   "source": [
    "nama_buah_info = \"Apel\"\n",
    "jumlah_stok_info = 30\n",
    "\n",
    "info_stok_display = f\"Stok {nama_buah_info} saat ini : {jumlah_stok_info} buah\"\n",
    "print(info_stok_display)\n",
    "print(type(jumlah_stok_info))\n",
    "print(type(info_stok_display))"
   ]
  },
  {
   "cell_type": "code",
   "execution_count": 4,
   "id": "7668f3e1",
   "metadata": {},
   "outputs": [
    {
     "name": "stdout",
     "output_type": "stream",
     "text": [
      "True\n",
      "<class 'bool'>\n"
     ]
    }
   ],
   "source": [
    "# Jumlah stok info diamsumsikan bernilai 30 dari sebelumnya\n",
    "jumlah_pesanan_pelanggan = 20\n",
    "\n",
    "apakah_stok_cukup_hari_ini = (jumlah_stok_info >= jumlah_pesanan_pelanggan)\n",
    "\n",
    "print(apakah_stok_cukup_hari_ini)\n",
    "print(type(apakah_stok_cukup_hari_ini))"
   ]
  },
  {
   "cell_type": "code",
   "execution_count": null,
   "id": "86fdd2cb",
   "metadata": {},
   "outputs": [
    {
     "name": "stdout",
     "output_type": "stream",
     "text": [
      "status stok Mangga: Cukup untuk pesanan.\n"
     ]
    }
   ],
   "source": [
    "# Apakah Stok cukup hari ini diasumsikan sebelumnyua bernilai True dari hasil sebelumnya\n",
    "nama_produk_cek = \"Mangga\"\n",
    "\n",
    "if apakah_stok_cukup_hari_ini:\n",
    "    pesan_status_produk_terkini = f\"Status stok {nama_produk_cek} Cukup untuk pesanan.\"\n",
    "else:\n",
    "    pesan_status_produk_terkini = f\"Status stok {nama_produk_cek} Perlu restock segera!\"\n",
    "\n",
    "\n",
    "print(pesan_status_produk_terkini)"
   ]
  },
  {
   "cell_type": "code",
   "execution_count": 11,
   "id": "62c88730",
   "metadata": {},
   "outputs": [
    {
     "name": "stdout",
     "output_type": "stream",
     "text": [
      "Pembelian 3 unit Semangka @ Rp25,000.00. Total: Rp75,000.00. Diskon (7.5%): Rp5,625.00. Harga Akhir: Rp69,375.00\n",
      "<class 'float'>\n",
      "<class 'float'>\n"
     ]
    }
   ],
   "source": [
    "harga_satuan_semangka_rp = 25000\n",
    "jumlah_pembelian_semangka_unit = 3\n",
    "persentase_diskon_semangka = 7.5\n",
    "\n",
    "total_harga_semangka_rp = harga_satuan_semangka_rp * jumlah_pembelian_semangka_unit\n",
    "jumlah_diskon_semangka_rp = total_harga_semangka_rp * (persentase_diskon_semangka / 100)\n",
    "harga_akhir_semangka_rp = total_harga_semangka_rp - jumlah_diskon_semangka_rp\n",
    "\n",
    "rincian_transaksi_semangka = (\n",
    "    f\"Pembelian {jumlah_pembelian_semangka_unit} unit Semangka @ Rp{harga_satuan_semangka_rp:,.2f}.\"\n",
    "    f\" Total: Rp{total_harga_semangka_rp:,.2f}.\"\n",
    "    f\" Diskon ({persentase_diskon_semangka}%): Rp{jumlah_diskon_semangka_rp:,.2f}.\"\n",
    "    f\" Harga Akhir: Rp{harga_akhir_semangka_rp:,.2f}\"\n",
    ")\n",
    "\n",
    "print(rincian_transaksi_semangka)\n",
    "print(type(persentase_diskon_semangka))\n",
    "print(type(harga_akhir_semangka_rp))\n"
   ]
  },
  {
   "cell_type": "code",
   "execution_count": null,
   "id": "f1be8f96",
   "metadata": {},
   "outputs": [
    {
     "name": "stdout",
     "output_type": "stream",
     "text": [
      "Buah: Apel \n",
      " Kuantitas: 2.5/kg \n",
      " Total harga: Rp75,000.00 \n",
      "Buah: Jeruk \n",
      " Kuantitas: 1.5/kg \n",
      " Total harga: Rp30,000.00 \n",
      "Total belanja: Rp105,000.00 \n",
      "Uang pembayaran: Rp200,000.00 \n",
      "Kembalian: Rp95,000.00\n"
     ]
    }
   ],
   "source": [
    "buah1_nama_item_harian = \"Apel\"\n",
    "buah1_kuantitas_kg_harian = 2.5\n",
    "buah1_harga_per_kg_rp_harian = 30000\n",
    "\n",
    "buah2_nama_item_harian = \"Jeruk\"\n",
    "buah2_kuantitas_kg_harian = 1.5\n",
    "buah2_harga_per_kg_rp_harian = 20000\n",
    "\n",
    "total_harga_buah1_rp_harian = buah1_kuantitas_kg_harian * buah1_harga_per_kg_rp_harian  \n",
    "total_harga_buah2_rp_harian = buah2_kuantitas_kg_harian * buah2_harga_per_kg_rp_harian\n",
    "\n",
    "total_belanja_pelanggan_rp_harian = total_harga_buah1_rp_harian + total_harga_buah2_rp_harian\n",
    "uang_pembayaran_pelanggan_rp_harian = 200000\n",
    "\n",
    "kembalian_pelanggan_rp_harian = uang_pembayaran_pelanggan_rp_harian - total_belanja_pelanggan_rp_harian\n",
    "\n",
    "struk_belanja_detail_harian = (\n",
    "    f\"Buah: {buah1_nama_item_harian} \\n Kuantitas: {buah1_kuantitas_kg_harian}/kg \\n Harga/kg: Rp{buah1_harga_per_kg_rp_harian:,.2f} \\n Total harga: Rp{total_harga_buah1_rp_harian:,.2f} \\n\"\n",
    "    f\"Buah: {buah2_nama_item_harian} \\n Kuantitas: {buah2_kuantitas_kg_harian}/kg \\n Harga/kg: Rp{buah2_harga_per_kg_rp_harian:,.2f} \\n Total harga: Rp{total_harga_buah2_rp_harian:,.2f} \\n\"\n",
    "    f\"Total belanja: Rp{total_belanja_pelanggan_rp_harian:,.2f} \\n\"\n",
    "    f\"Uang pembayaran: Rp{uang_pembayaran_pelanggan_rp_harian:,.2f} \\n\"\n",
    "    f\"Kembalian: Rp{kembalian_pelanggan_rp_harian:,.2f}\"\n",
    ")\n",
    "\n",
    "print(struk_belanja_detail_harian)"
   ]
  },
  {
   "cell_type": "code",
   "execution_count": null,
   "id": "3b1a3e1a",
   "metadata": {},
   "outputs": [],
   "source": []
  }
 ],
 "metadata": {
  "kernelspec": {
   "display_name": "tutorial_notebook",
   "language": "python",
   "name": "python3"
  },
  "language_info": {
   "codemirror_mode": {
    "name": "ipython",
    "version": 3
   },
   "file_extension": ".py",
   "mimetype": "text/x-python",
   "name": "python",
   "nbconvert_exporter": "python",
   "pygments_lexer": "ipython3",
   "version": "3.13.2"
  }
 },
 "nbformat": 4,
 "nbformat_minor": 5
}
