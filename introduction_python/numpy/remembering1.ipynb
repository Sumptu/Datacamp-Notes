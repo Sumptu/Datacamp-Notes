{
 "cells": [
  {
   "cell_type": "code",
   "execution_count": 36,
   "id": "b66e3391",
   "metadata": {},
   "outputs": [],
   "source": [
    "import numpy as np\n",
    "import random\n",
    "\n",
    "v = np.empty(100)\n",
    "w = np.array([1, 2, 3, 4, 5, 6, 7, 8, 9, 10])\n",
    "data1 = np.array([1, 2, 3, 4, 100])\n",
    "data2 = np.array([1, 2, 3, 4, 5])\n",
    "x = np.array([10, 20, 30, 40, 50])\n",
    "array1 = np.array([[1, 2, 3],\n",
    "                [4, 5, 6]])\n",
    "array2 = np.array([[7, 8, 9],\n",
    "                [10, 11, 12]])\n",
    "y = np.array([[1, 2, 3],\n",
    "              [4, 5, 6]])\n",
    "z = np.array([1, 2, 3, 4, 5])"
   ]
  },
  {
   "cell_type": "code",
   "execution_count": 2,
   "id": "3e4658ce",
   "metadata": {},
   "outputs": [
    {
     "name": "stdout",
     "output_type": "stream",
     "text": [
      "[10 20 30]\n"
     ]
    }
   ],
   "source": [
    "print(np.array([10, 20, 30]))"
   ]
  },
  {
   "cell_type": "code",
   "execution_count": 6,
   "id": "b6a7dcbc",
   "metadata": {},
   "outputs": [
    {
     "name": "stdout",
     "output_type": "stream",
     "text": [
      "[2 4]\n"
     ]
    }
   ],
   "source": [
    "print(z[1:4:2])"
   ]
  },
  {
   "cell_type": "code",
   "execution_count": 8,
   "id": "291453c5",
   "metadata": {},
   "outputs": [
    {
     "name": "stdout",
     "output_type": "stream",
     "text": [
      "[[1 2 3]\n",
      " [4 5 6]]\n"
     ]
    }
   ],
   "source": [
    "print(y)"
   ]
  },
  {
   "cell_type": "code",
   "execution_count": 9,
   "id": "a3ffe135",
   "metadata": {},
   "outputs": [
    {
     "name": "stdout",
     "output_type": "stream",
     "text": [
      "2\n"
     ]
    }
   ],
   "source": [
    "print(y[0][1])"
   ]
  },
  {
   "cell_type": "code",
   "execution_count": 15,
   "id": "6cad5375",
   "metadata": {},
   "outputs": [
    {
     "name": "stdout",
     "output_type": "stream",
     "text": [
      "[[ 8 10 12]\n",
      " [14 16 18]]\n"
     ]
    }
   ],
   "source": [
    "print(array1 + array2)"
   ]
  },
  {
   "cell_type": "code",
   "execution_count": 18,
   "id": "0fa0dde7",
   "metadata": {},
   "outputs": [
    {
     "name": "stdout",
     "output_type": "stream",
     "text": [
      "30.0\n"
     ]
    }
   ],
   "source": [
    "print(np.mean(x))"
   ]
  },
  {
   "cell_type": "code",
   "execution_count": 19,
   "id": "4faed7b0",
   "metadata": {},
   "outputs": [
    {
     "name": "stdout",
     "output_type": "stream",
     "text": [
      "30.0\n"
     ]
    }
   ],
   "source": [
    "print(np.median(x))"
   ]
  },
  {
   "cell_type": "code",
   "execution_count": 23,
   "id": "f0a4d9a8",
   "metadata": {},
   "outputs": [
    {
     "name": "stdout",
     "output_type": "stream",
     "text": [
      "22.0 3.0\n",
      "3.0 3.0\n"
     ]
    }
   ],
   "source": [
    "print(np.mean(data1), np.median(data1))\n",
    "print(np.mean(data2), np.median(data2))"
   ]
  },
  {
   "cell_type": "code",
   "execution_count": 29,
   "id": "df98f7ac",
   "metadata": {},
   "outputs": [
    {
     "name": "stdout",
     "output_type": "stream",
     "text": [
      "[ 6  7  8  9 10]\n"
     ]
    }
   ],
   "source": [
    "print(w[w > 5])\n",
    "        "
   ]
  },
  {
   "cell_type": "code",
   "execution_count": 41,
   "id": "4653c84a",
   "metadata": {},
   "outputs": [
    {
     "name": "stdout",
     "output_type": "stream",
     "text": [
      "46.84 46.5 27.174149480710522\n"
     ]
    }
   ],
   "source": [
    "v = np.random.randint(1, 101, 100)\n",
    "print(np.mean(v), np.median(v), np.std(v))\n"
   ]
  }
 ],
 "metadata": {
  "kernelspec": {
   "display_name": "tutorial_notebook",
   "language": "python",
   "name": "python3"
  },
  "language_info": {
   "codemirror_mode": {
    "name": "ipython",
    "version": 3
   },
   "file_extension": ".py",
   "mimetype": "text/x-python",
   "name": "python",
   "nbconvert_exporter": "python",
   "pygments_lexer": "ipython3",
   "version": "3.13.2"
  }
 },
 "nbformat": 4,
 "nbformat_minor": 5
}
