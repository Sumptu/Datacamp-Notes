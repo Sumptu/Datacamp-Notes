{
 "cells": [
  {
   "cell_type": "markdown",
   "id": "0565141d",
   "metadata": {},
   "source": [
    "# Random walk 100 runs Coins"
   ]
  },
  {
   "cell_type": "code",
   "execution_count": 1,
   "id": "95a7e88c",
   "metadata": {},
   "outputs": [],
   "source": [
    "import numpy as np\n",
    "import matplotlib.pyplot as plt"
   ]
  },
  {
   "cell_type": "code",
   "execution_count": 4,
   "id": "9af3829e",
   "metadata": {},
   "outputs": [
    {
     "name": "stdout",
     "output_type": "stream",
     "text": [
      "[4, 8, 6, 5, 6, 4, 4, 4, 6, 5, 7, 4, 7, 5, 4, 6, 3, 6, 2, 5, 5, 4, 5, 5, 5, 3, 6, 2, 4, 5, 4, 7, 4, 5, 6, 5, 5, 4, 4, 4, 5, 3, 7, 4, 5, 6, 5, 6, 5, 5, 4, 7, 4, 3, 5, 8, 4, 4, 5, 8, 8, 4, 2, 4, 7, 6, 6, 8, 6, 6, 4, 8, 5, 7, 5, 5, 5, 6, 5, 3, 6, 6, 6, 4, 4, 6, 7, 6, 3, 7, 2, 6, 5, 5, 4, 5, 5, 2, 8, 6]\n"
     ]
    }
   ],
   "source": [
    "rng = np.random.default_rng(42)\n",
    "\n",
    "final_tails = []\n",
    "\n",
    "for x in range(100):\n",
    "    tails = [0]\n",
    "    for y in range(10):\n",
    "        coin = rng.integers(0, 2)\n",
    "        tails.append(int(tails[y]) + int(coin))\n",
    "    final_tails.append(tails[-1])\n",
    "print(final_tails)"
   ]
  },
  {
   "cell_type": "markdown",
   "id": "d2f4e5fd",
   "metadata": {},
   "source": [
    "# Histogram 100 runs\n"
   ]
  },
  {
   "cell_type": "code",
   "execution_count": 16,
   "id": "d31af8dd",
   "metadata": {},
   "outputs": [
    {
     "data": {
      "image/png": "[encoded data removed]",
      "text/plain": [
       "<Figure size 640x480 with 1 Axes>"
      ]
     },
     "metadata": {},
     "output_type": "display_data"
    }
   ],
   "source": [
    "rng = np.random.default_rng(42)\n",
    "\n",
    "final_tails = []\n",
    "\n",
    "for x in range(4000):\n",
    "    tails = [0]\n",
    "    for y in range(10):\n",
    "        coin = rng.integers(0, 2)\n",
    "        tails.append(int(tails[y]) + int(coin))\n",
    "    final_tails.append(tails[-1])\n",
    "\n",
    "plt.hist(final_tails, bins=10)\n",
    "plt.show()"
   ]
  },
  {
   "cell_type": "code",
   "execution_count": null,
   "id": "e7fb9474",
   "metadata": {},
   "outputs": [],
   "source": []
  }
 ],
 "metadata": {
  "kernelspec": {
   "display_name": "Python 3",
   "language": "python",
   "name": "python3"
  },
  "language_info": {
   "codemirror_mode": {
    "name": "ipython",
    "version": 3
   },
   "file_extension": ".py",
   "mimetype": "text/x-python",
   "name": "python",
   "nbconvert_exporter": "python",
   "pygments_lexer": "ipython3",
   "version": "3.12.10"
  }
 },
 "nbformat": 4,
 "nbformat_minor": 5
}
