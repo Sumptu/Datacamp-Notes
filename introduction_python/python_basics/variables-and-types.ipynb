{
 "cells": [
  {
   "cell_type": "markdown",
   "id": "ff95e662",
   "metadata": {},
   "source": [
    "# Variable\n",
    "\n",
    "- Specific, case-sensitive name\n",
    "- Call up value through variable name\n",
    "- 1.79 m - 68.7 kg"
   ]
  },
  {
   "cell_type": "code",
   "execution_count": 1,
   "id": "e6249ad4",
   "metadata": {},
   "outputs": [
    {
     "name": "stdout",
     "output_type": "stream",
     "text": [
      "1.79\n"
     ]
    }
   ],
   "source": [
    "height = 1.79\n",
    "weight = 68.7\n",
    "print(height)"
   ]
  },
  {
   "cell_type": "markdown",
   "id": "698fda9b",
   "metadata": {},
   "source": [
    "# Calculate BMI"
   ]
  },
  {
   "cell_type": "code",
   "execution_count": null,
   "id": "090fe1dc",
   "metadata": {},
   "outputs": [
    {
     "data": {
      "text/plain": [
       "1.79"
      ]
     },
     "execution_count": 2,
     "metadata": {},
     "output_type": "execute_result"
    }
   ],
   "source": [
    "height = 1.79\n",
    "weight = 68.7\n",
    "\n",
    "print(height)"
   ]
  },
  {
   "cell_type": "code",
   "execution_count": null,
   "id": "ef79aa16",
   "metadata": {},
   "outputs": [
    {
     "data": {
      "text/plain": [
       "21.44127836209856"
      ]
     },
     "execution_count": 3,
     "metadata": {},
     "output_type": "execute_result"
    }
   ],
   "source": [
    "# cara 1\n",
    "68.7 / 1.79 ** 2"
   ]
  },
  {
   "cell_type": "code",
   "execution_count": null,
   "id": "3664cffb",
   "metadata": {},
   "outputs": [
    {
     "data": {
      "text/plain": [
       "21.44127836209856"
      ]
     },
     "execution_count": 4,
     "metadata": {},
     "output_type": "execute_result"
    }
   ],
   "source": [
    "# cara 2\n",
    "weight / height ** 2"
   ]
  },
  {
   "cell_type": "code",
   "execution_count": null,
   "id": "6e9fa9c0",
   "metadata": {},
   "outputs": [
    {
     "name": "stdout",
     "output_type": "stream",
     "text": [
      "21.44127836209856\n"
     ]
    }
   ],
   "source": [
    "# cara 3\n",
    "bmi = weight / height ** 2\n",
    "print(bmi)"
   ]
  },
  {
   "cell_type": "markdown",
   "id": "096cbf2d",
   "metadata": {},
   "source": [
    "# Reproducibility"
   ]
  },
  {
   "cell_type": "code",
   "execution_count": null,
   "id": "16c74082",
   "metadata": {},
   "outputs": [],
   "source": [
    "# assign value baru ke variabel weight\n",
    "height = 1.79\n",
    "weight = 74.2\n"
   ]
  },
  {
   "cell_type": "code",
   "execution_count": 7,
   "id": "4cd917c2",
   "metadata": {},
   "outputs": [
    {
     "name": "stdout",
     "output_type": "stream",
     "text": [
      "23.157829031553323\n"
     ]
    }
   ],
   "source": [
    "# kalkulasi perhitungan bmi\n",
    "bmi = weight / height ** 2\n",
    "print(bmi)"
   ]
  },
  {
   "cell_type": "markdown",
   "id": "8a403688",
   "metadata": {},
   "source": [
    "# Python Types\n"
   ]
  },
  {
   "cell_type": "code",
   "execution_count": 11,
   "id": "acde9ab7",
   "metadata": {},
   "outputs": [
    {
     "name": "stdout",
     "output_type": "stream",
     "text": [
      "<class 'float'>\n"
     ]
    }
   ],
   "source": [
    "print(type(bmi))"
   ]
  },
  {
   "cell_type": "code",
   "execution_count": 10,
   "id": "cd6b5731",
   "metadata": {},
   "outputs": [
    {
     "name": "stdout",
     "output_type": "stream",
     "text": [
      "<class 'int'>\n"
     ]
    }
   ],
   "source": [
    "day_of_week = 5\n",
    "print(type(day_of_week))"
   ]
  },
  {
   "cell_type": "markdown",
   "id": "159fe2c8",
   "metadata": {},
   "source": [
    "# Python Types (2)"
   ]
  },
  {
   "cell_type": "code",
   "execution_count": 12,
   "id": "208e4cbe",
   "metadata": {},
   "outputs": [
    {
     "name": "stdout",
     "output_type": "stream",
     "text": [
      "body mass index\n"
     ]
    }
   ],
   "source": [
    "# string bisa menggunakan double quote atau single quote\n",
    "x = \"body mass index\"\n",
    "y = 'this works too'\n",
    "\n",
    "print(x)"
   ]
  },
  {
   "cell_type": "code",
   "execution_count": 13,
   "id": "23b692ca",
   "metadata": {},
   "outputs": [
    {
     "name": "stdout",
     "output_type": "stream",
     "text": [
      "True\n"
     ]
    }
   ],
   "source": [
    "# boolean harus diawali dengan kata True atau False\n",
    "z = True\n",
    "\n",
    "print(z)"
   ]
  },
  {
   "cell_type": "markdown",
   "id": "a84b4d49",
   "metadata": {},
   "source": [
    "# Python Types (3)\n",
    "\n",
    "- Different type = different behavior"
   ]
  },
  {
   "cell_type": "code",
   "execution_count": 14,
   "id": "9d2a357f",
   "metadata": {},
   "outputs": [
    {
     "data": {
      "text/plain": [
       "5"
      ]
     },
     "execution_count": 14,
     "metadata": {},
     "output_type": "execute_result"
    }
   ],
   "source": [
    "2 + 3"
   ]
  },
  {
   "cell_type": "code",
   "execution_count": 15,
   "id": "cbc5f421",
   "metadata": {},
   "outputs": [
    {
     "data": {
      "text/plain": [
       "'abcd'"
      ]
     },
     "execution_count": 15,
     "metadata": {},
     "output_type": "execute_result"
    }
   ],
   "source": [
    "\"ab\" + \"cd\""
   ]
  },
  {
   "cell_type": "markdown",
   "id": "4ed11dd9",
   "metadata": {},
   "source": [
    "artinya bahwa penggunaan operator \"+\" akan menghasilkan nilai yang berbeda ketika digunakan pada tipe data string dan integer."
   ]
  }
 ],
 "metadata": {
  "kernelspec": {
   "display_name": "tutorial_notebook",
   "language": "python",
   "name": "python3"
  },
  "language_info": {
   "codemirror_mode": {
    "name": "ipython",
    "version": 3
   },
   "file_extension": ".py",
   "mimetype": "text/x-python",
   "name": "python",
   "nbconvert_exporter": "python",
   "pygments_lexer": "ipython3",
   "version": "3.13.2"
  }
 },
 "nbformat": 4,
 "nbformat_minor": 5
}
