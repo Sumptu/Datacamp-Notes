{
 "cells": [
  {
   "cell_type": "code",
   "execution_count": 18,
   "id": "81bafd1f",
   "metadata": {},
   "outputs": [],
   "source": [
    "a = [\n",
    "    10, \n",
    "    20, \n",
    "    30, \n",
    "    40, \n",
    "    50, \n",
    "    60, \n",
    "    70\n",
    "]\n",
    "\n",
    "numbers = [\n",
    "    1, \n",
    "    2, \n",
    "    3, \n",
    "    4, \n",
    "    5, \n",
    "    6, \n",
    "    7, \n",
    "    8, \n",
    "    9\n",
    "]\n",
    "\n",
    "data = [\n",
    "    100, \n",
    "    200, \n",
    "    300, \n",
    "    400, \n",
    "    500, \n",
    "    600, \n",
    "    700, \n",
    "    800, \n",
    "    900\n",
    "]\n",
    "\n",
    "lists = [\n",
    "    [1, 2, 3],\n",
    "    [4, 5, 6],\n",
    "    [7, 8, 9]\n",
    "]\n",
    "\n",
    "values = [10, 20, 30, 40, 50]\n",
    "\n",
    "colors = [\n",
    "    \"red\",\n",
    "    \"blue\",\n",
    "    \"green\",\n",
    "]\n",
    "\n",
    "fruits = [\n",
    "    \"apple\",\n",
    "    \"banana\",\n",
    "    \"cherry\",\n",
    "    \"date\",\n",
    "    \"elderberry\"\n",
    "]\n"
   ]
  },
  {
   "cell_type": "code",
   "execution_count": 1,
   "id": "f5efed57",
   "metadata": {},
   "outputs": [
    {
     "name": "stdout",
     "output_type": "stream",
     "text": [
      "[10, 20, 30, 40, 50]\n"
     ]
    }
   ],
   "source": [
    "print([10, 20, 30, 40, 50])"
   ]
  },
  {
   "cell_type": "code",
   "execution_count": 2,
   "id": "97205122",
   "metadata": {},
   "outputs": [
    {
     "name": "stdout",
     "output_type": "stream",
     "text": [
      "[5, 'Hello', 3.14, True]\n"
     ]
    }
   ],
   "source": [
    "print([5, \"Hello\", 3.14, True])"
   ]
  },
  {
   "cell_type": "code",
   "execution_count": 3,
   "id": "0bb44e27",
   "metadata": {},
   "outputs": [
    {
     "name": "stdout",
     "output_type": "stream",
     "text": [
      "[[1, 2, 3], [4, 5, 6]]\n"
     ]
    }
   ],
   "source": [
    "print([[1, 2, 3], [4, 5, 6]])"
   ]
  },
  {
   "cell_type": "code",
   "execution_count": 5,
   "id": "384709f0",
   "metadata": {},
   "outputs": [
    {
     "name": "stdout",
     "output_type": "stream",
     "text": [
      "30\n",
      "50\n"
     ]
    }
   ],
   "source": [
    "print(a[2])\n",
    "print(a[4])"
   ]
  },
  {
   "cell_type": "code",
   "execution_count": 7,
   "id": "915bd9d2",
   "metadata": {},
   "outputs": [
    {
     "name": "stdout",
     "output_type": "stream",
     "text": [
      "3\n",
      "4\n",
      "5\n",
      "6\n",
      "7\n"
     ]
    }
   ],
   "source": [
    "print(numbers[2])\n",
    "print(numbers[3])\n",
    "print(numbers[4])\n",
    "print(numbers[5])\n",
    "print(numbers[6])"
   ]
  },
  {
   "cell_type": "code",
   "execution_count": 9,
   "id": "6d14603d",
   "metadata": {},
   "outputs": [
    {
     "name": "stdout",
     "output_type": "stream",
     "text": [
      "[200, 300, 400, 500, 600]\n",
      "[400, 500, 600, 700, 800, 900]\n"
     ]
    }
   ],
   "source": [
    "print(data[1:6])\n",
    "print(data[3:9])"
   ]
  },
  {
   "cell_type": "code",
   "execution_count": 11,
   "id": "6a651a47",
   "metadata": {},
   "outputs": [
    {
     "name": "stdout",
     "output_type": "stream",
     "text": [
      "1\n",
      "8\n"
     ]
    }
   ],
   "source": [
    "print(lists[0][0])\n",
    "print(lists[2][1])"
   ]
  },
  {
   "cell_type": "code",
   "execution_count": 13,
   "id": "668d9de8",
   "metadata": {},
   "outputs": [
    {
     "name": "stdout",
     "output_type": "stream",
     "text": [
      "[10, 99, 30, 40, 88]\n"
     ]
    }
   ],
   "source": [
    "values[1] = 99\n",
    "values[4] = 88\n",
    "print(values)"
   ]
  },
  {
   "cell_type": "code",
   "execution_count": 17,
   "id": "9527f0f6",
   "metadata": {},
   "outputs": [
    {
     "name": "stdout",
     "output_type": "stream",
     "text": [
      "['red', 'blue', 'green', 'yellow', 'purple', 'orange']\n"
     ]
    }
   ],
   "source": [
    "colors.extend([\"yellow\", \"purple\", \"orange\"])\n",
    "print(colors)"
   ]
  },
  {
   "cell_type": "code",
   "execution_count": 19,
   "id": "650f7e56",
   "metadata": {},
   "outputs": [
    {
     "name": "stdout",
     "output_type": "stream",
     "text": [
      "['apple', 'cherry', 'date']\n"
     ]
    }
   ],
   "source": [
    "del fruits[1]\n",
    "del fruits[3]\n",
    "print(fruits)"
   ]
  },
  {
   "cell_type": "code",
   "execution_count": null,
   "id": "46c3dd33",
   "metadata": {},
   "outputs": [],
   "source": []
  }
 ],
 "metadata": {
  "kernelspec": {
   "display_name": "tutorial_notebook",
   "language": "python",
   "name": "python3"
  },
  "language_info": {
   "codemirror_mode": {
    "name": "ipython",
    "version": 3
   },
   "file_extension": ".py",
   "mimetype": "text/x-python",
   "name": "python",
   "nbconvert_exporter": "python",
   "pygments_lexer": "ipython3",
   "version": "3.13.2"
  }
 },
 "nbformat": 4,
 "nbformat_minor": 5
}
