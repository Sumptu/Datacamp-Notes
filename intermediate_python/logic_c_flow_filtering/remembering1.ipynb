{
 "cells": [
  {
   "cell_type": "markdown",
   "id": "bb056c65",
   "metadata": {},
   "source": [
    "### **Soal 1: Menggunakan Operator Perbandingan Dasar**\n",
    "\n",
    "**Konteks:**\n",
    "Anda adalah seorang guru yang sedang memeriksa nilai dua siswa untuk menentukan apakah nilai mereka sama atau berbeda, dan siapa yang memiliki nilai lebih tinggi.\n",
    "\n",
    "**Tugas:**\n",
    "\n",
    "1.  Buat dua variabel integer:\n",
    "    * `nilai_siswa_A_1` dengan nilai `85`.\n",
    "    * `nilai_siswa_B_1` dengan nilai `90`.\n",
    "2.  Gunakan operator kesamaan (`==`) untuk memeriksa apakah kedua nilai tersebut sama. Simpan hasilnya (yang akan berupa `True` atau `False`) dalam variabel `apakah_sama_1`.\n",
    "3.  Gunakan operator \"lebih besar dari\" (`>`) untuk memeriksa apakah `nilai_siswa_B_1` lebih besar dari `nilai_siswa_A_1`. Simpan hasilnya dalam variabel `apakah_B_lebih_tinggi_1`.\n",
    "4.  Cetak (*print*) kedua variabel hasil (`apakah_sama_1` dan `apakah_B_lebih_tinggi_1`) dengan pesan yang jelas."
   ]
  },
  {
   "cell_type": "code",
   "execution_count": 4,
   "id": "095ac271",
   "metadata": {},
   "outputs": [
    {
     "name": "stdout",
     "output_type": "stream",
     "text": [
      "Apakah nilai mereka berdua sama? : False\n",
      "Apakah nilai siswa B lebih tinggi daripada A? : True\n"
     ]
    }
   ],
   "source": [
    "nilai_siswa_A_1 = 85\n",
    "nilai_siswa_B_1 = 90\n",
    "\n",
    "apakah_sama_1 = nilai_siswa_A_1 == nilai_siswa_B_1\n",
    "apakah_B_lebih_tinggi_1 = nilai_siswa_B_1 > nilai_siswa_A_1\n",
    "\n",
    "print(f\"Apakah nilai mereka berdua sama? : {apakah_sama_1}\")\n",
    "print(f\"Apakah nilai siswa B lebih tinggi daripada A? : {apakah_B_lebih_tinggi_1}\")"
   ]
  },
  {
   "cell_type": "markdown",
   "id": "b30e667d",
   "metadata": {},
   "source": [
    "### **Soal 2: Menggunakan Operator Boolean (`and`, `or`)**\n",
    "\n",
    "**Konteks:**\n",
    "Sebuah wahana di taman hiburan memiliki dua syarat untuk pengunjung: tinggi badan harus di atas 150 cm **dan** usia harus di atas 12 tahun. Anda perlu memeriksa apakah seorang pengunjung memenuhi kedua syarat tersebut.\n",
    "\n",
    "**Tugas:**\n",
    "\n",
    "1.  Buat dua variabel untuk seorang pengunjung:\n",
    "    * `tinggi_pengunjung_cm_2` dengan nilai `160`.\n",
    "    * `usia_pengunjung_thn_2` dengan nilai `14`.\n",
    "2.  Buat variabel boolean `syarat_tinggi_terpenuhi_2` yang bernilai `True` jika `tinggi_pengunjung_cm_2` lebih dari `150`.\n",
    "3.  Buat variabel boolean `syarat_usia_terpenuhi_2` yang bernilai `True` jika `usia_pengunjung_thn_2` lebih dari `12`.\n",
    "4.  Gunakan operator `and` untuk menggabungkan kedua variabel boolean tersebut. Simpan hasilnya dalam variabel `boleh_masuk_and_2`.\n",
    "5.  Sebagai latihan tambahan, gunakan operator `or` untuk memeriksa apakah pengunjung memenuhi **salah satu** syarat (tinggi **atau** usia). Simpan hasilnya dalam variabel `memenuhi_salah_satu_or_2`.\n",
    "6.  Cetak `boleh_masuk_and_2` dan `memenuhi_salah_satu_or_2` dengan pesan yang jelas."
   ]
  },
  {
   "cell_type": "code",
   "execution_count": 2,
   "id": "0c3241df",
   "metadata": {},
   "outputs": [
    {
     "name": "stdout",
     "output_type": "stream",
     "text": [
      "Apakah pengunjung boleh masuk (AND)? : True\n",
      "Apakah pengunjung memenuhi salah satu syarat (OR)? : True\n"
     ]
    }
   ],
   "source": [
    "tinggi_pengunjung_cm_2 = 160\n",
    "usia_pengunjung_thn_2 = 14\n",
    "\n",
    "syarat_tinggi_terpenuhi_2 = tinggi_pengunjung_cm_2 > 150\n",
    "syarat_usia_terpenuhi_2 = usia_pengunjung_thn_2 > 12\n",
    "\n",
    "boleh_masuk_and_2 = syarat_tinggi_terpenuhi_2 and syarat_usia_terpenuhi_2\n",
    "memenuhi_salah_satu_or_2 = syarat_tinggi_terpenuhi_2 or syarat_usia_terpenuhi_2\n",
    "\n",
    "print(f\"Apakah pengunjung boleh masuk (AND)? : {boleh_masuk_and_2}\")\n",
    "print(f\"Apakah pengunjung memenuhi salah satu syarat (OR)? : {memenuhi_salah_satu_or_2}\")\n"
   ]
  },
  {
   "cell_type": "markdown",
   "id": "c26cea76",
   "metadata": {},
   "source": [
    "### **Soal 3: Operator Boolean dengan NumPy**\n",
    "\n",
    "**Konteks:**\n",
    "Anda memiliki data tinggi badan dari sekelompok calon pemain basket. Tim pelatih ingin dengan cepat mengetahui pemain mana saja yang memenuhi syarat tinggi tertentu (di atas 180 cm) dan mana yang masuk dalam rentang tinggi ideal (antara 185 cm dan 195 cm).\n",
    "\n",
    "**Tugas:**\n",
    "\n",
    "1.  Impor library **numpy** dengan alias `np`.\n",
    "2.  Buat sebuah NumPy array bernama `tinggi_pemain_cm_3` dari list berikut:\n",
    "    ```python\n",
    "    [175, 182, 190, 188, 179, 195, 185, 178]\n",
    "    ```\n",
    "3.  Gunakan perbandingan array untuk membuat *boolean array* bernama `diatas_180_cm_3` yang berisi `True` untuk setiap pemain dengan tinggi di atas 180 cm.\n",
    "4.  Buat *boolean array* kedua bernama `dalam_rentang_ideal_3` yang bernilai `True` hanya untuk pemain dengan tinggi **lebih dari atau sama dengan 185 cm DAN kurang dari atau sama dengan 195 cm**.\n",
    "    * *Hint: Anda perlu membuat dua kondisi terpisah dan menggabungkannya dengan operator bitwise `&`.*\n",
    "5.  Cetak kedua *boolean array* hasil tersebut."
   ]
  },
  {
   "cell_type": "code",
   "execution_count": 4,
   "id": "30abbd96",
   "metadata": {},
   "outputs": [
    {
     "name": "stdout",
     "output_type": "stream",
     "text": [
      "Siapa saja pemain yang tingginya di atas 180 cm? : [False  True  True  True False  True  True False]\n",
      "Siapa saja pemain yang tingginya dalam rentang ideal (185-195 cm)? : [False False  True  True False  True  True False]\n"
     ]
    }
   ],
   "source": [
    "import numpy as np\n",
    "\n",
    "tinggi_pemain_cm_3 = np.array([\n",
    "    175, 182, 190, 188,\n",
    "    179, 195, 185, 178,\n",
    "])\n",
    "\n",
    "diatas_180_cm_3 = tinggi_pemain_cm_3 > 180\n",
    "dalam_rentang_ideal_3 = (tinggi_pemain_cm_3 >= 185) & (tinggi_pemain_cm_3 <= 195)\n",
    "\n",
    "print(f\"Siapa saja pemain yang tingginya di atas 180 cm? : {diatas_180_cm_3}\")\n",
    "print(f\"Siapa saja pemain yang tingginya dalam rentang ideal (185-195 cm)? : {dalam_rentang_ideal_3}\")"
   ]
  },
  {
   "cell_type": "markdown",
   "id": "4f8cf2a7",
   "metadata": {},
   "source": [
    "### **So-al 4: Struktur Kondisional Dasar (`if`, `else`)**\n",
    "\n",
    "**Konteks:**\n",
    "Anda sedang membuat program sederhana untuk sistem tiket bioskop. Program ini perlu menentukan kategori tiket berdasarkan usia penonton: \"Anak-anak\" jika usia 12 tahun ke bawah, dan \"Dewasa\" jika di atas 12 tahun.\n",
    "\n",
    "**Tugas:**\n",
    "\n",
    "1.  Buat sebuah variabel bernama `usia_penonton_4` dan berikan nilai `10`.\n",
    "2.  Gunakan struktur `if-else` untuk memeriksa nilai `usia_penonton_4`.\n",
    "3.  Jika usia penonton **kurang dari atau sama dengan 12**, cetak string: `\"Kategori tiket: Anak-anak\"`.\n",
    "4.  Jika tidak (kondisi lain), cetak string: `\"Kategori tiket: Dewasa\"`.\n",
    "5.  Coba ubah nilai `usia_penonton_4` menjadi `18` dan jalankan kembali kode Anda untuk memastikan kedua kondisi berfungsi."
   ]
  },
  {
   "cell_type": "code",
   "execution_count": 7,
   "id": "e8cb8d64",
   "metadata": {},
   "outputs": [
    {
     "name": "stdout",
     "output_type": "stream",
     "text": [
      "Kategori tiket: Anak-anak\n",
      "Kategori tiket: Dewasa\n"
     ]
    }
   ],
   "source": [
    "usia_penonton_4 = 10\n",
    "\n",
    "if usia_penonton_4 <= 12:\n",
    "    print(\"Kategori tiket: Anak-anak\")\n",
    "else:\n",
    "    print(\"Kategori tiket: Dewasa\")\n",
    "\n",
    "usia_penonton_4 = 18\n",
    "\n",
    "if usia_penonton_4 <= 12:\n",
    "    print(\"Kategori tiket: Anak-anak\")\n",
    "else:\n",
    "    print(\"Kategori tiket: Dewasa\")"
   ]
  },
  {
   "cell_type": "markdown",
   "id": "a11257c6",
   "metadata": {},
   "source": [
    "### **Soal 5: Kondisi Bertingkat (`if`, `elif`, `else`)**\n",
    "\n",
    "**Konteks:**\n",
    "Sistem rating film memiliki beberapa kategori, bukan hanya dua. Anda perlu mengklasifikasikan sebuah film ke dalam kategori \"Remaja\", \"Dewasa\", atau \"Semua Umur\" berdasarkan batasan usia.\n",
    "\n",
    "**Tugas:**\n",
    "\n",
    "1.  Buat sebuah variabel bernama `rating_usia_film_5` dan berikan nilai `17`.\n",
    "2.  Gunakan struktur `if-elif-else` untuk logika berikut:\n",
    "    * **Jika** `rating_usia_film_5` **lebih dari atau sama dengan 17**, cetak `\"Film ini untuk penonton Dewasa\"`.\n",
    "    * **Jika tidak, tetapi jika** `rating_usia_film_5` **lebih dari atau sama dengan 13**, cetak `\"Film ini untuk penonton Remaja\"`.\n",
    "    * **Untuk kondisi lainnya**, cetak `\"Film ini untuk Semua Umur\"`.\n",
    "3.  Uji kode Anda dengan mengubah nilai `rating_usia_film_5` menjadi `15` dan `10` untuk memastikan setiap cabang logika berfungsi."
   ]
  },
  {
   "cell_type": "code",
   "execution_count": 16,
   "id": "0e6d17f0",
   "metadata": {},
   "outputs": [
    {
     "name": "stdout",
     "output_type": "stream",
     "text": [
      "Film ini untuk penonton dewasa\n",
      "Film ini untuk Semua Umur\n",
      "Film ini untuk penonton remaja\n"
     ]
    }
   ],
   "source": [
    "rating_usia_film_5 = 17\n",
    "\n",
    "if rating_usia_film_5 >= 17:\n",
    "    print(\"Film ini untuk penonton dewasa\")\n",
    "elif rating_usia_film_5 >= 13:\n",
    "    print(\"Film ini untuk penonton remaja\")\n",
    "else:\n",
    "    print(\"Film ini untuk Semua Umur\")\n",
    "\n",
    "# Menguji ulang dengan rating usia yang berbeda\n",
    "def uji_rating(rating):\n",
    "    if rating >= 17:\n",
    "        print(\"Film ini untuk penonton dewasa\")\n",
    "    elif rating >= 13:\n",
    "        print(\"Film ini untuk penonton remaja\")\n",
    "    else:\n",
    "        print(\"Film ini untuk Semua Umur\")\n",
    "\n",
    "uji_rating(10)\n",
    "uji_rating(15)\n"
   ]
  },
  {
   "cell_type": "markdown",
   "id": "0cb98949",
   "metadata": {},
   "source": [
    "### **Soal 6: Mem-filter DataFrame Pandas dengan Satu Kondisi**\n",
    "\n",
    "**Konteks:**\n",
    "Anda memiliki DataFrame berisi data produk dari sebuah toko online. Tugas pertama Anda adalah memisahkan produk-produk yang stoknya menipis (di bawah 20) agar bisa segera dipesan ulang.\n",
    "\n",
    "**Tugas:**\n",
    "\n",
    "1.  Jalankan kode setup di bawah ini untuk membuat DataFrame:\n",
    "    ```python\n",
    "    import pandas as pd\n",
    "\n",
    "    data_produk_6 = {\n",
    "        'ID_Produk': ['P001', 'P002', 'P003', 'P004', 'P005'],\n",
    "        'Nama_Produk': ['Keyboard', 'Mouse', 'Monitor', 'Webcam', 'Speaker'],\n",
    "        'Stok': [50, 35, 15, 25, 12],\n",
    "        'Harga': [300000, 150000, 1500000, 450000, 250000]\n",
    "    }\n",
    "    df_produk_6 = pd.DataFrame(data_produk_6)\n",
    "    ```\n",
    "2.  Buat sebuah *boolean mask* (kondisi) yang akan memilih baris di mana nilai pada kolom `'Stok'` **kurang dari 20**.\n",
    "3.  Gunakan *mask* tersebut untuk mem-filter `df_produk_6`.\n",
    "4.  Simpan hasil DataFrame yang sudah ter-filter ke dalam variabel baru bernama `produk_stok_menipis_6`.\n",
    "5.  Cetak `produk_stok_menipis_6`."
   ]
  },
  {
   "cell_type": "code",
   "execution_count": null,
   "id": "da979ae5",
   "metadata": {},
   "outputs": [
    {
     "name": "stdout",
     "output_type": "stream",
     "text": [
      "  ID_Produk Nama_Produk  Stok    Harga\n",
      "2      P003     Monitor    15  1500000\n",
      "4      P005     Speaker    12   250000\n"
     ]
    }
   ],
   "source": [
    "import pandas as pd\n",
    "\n",
    "data_produk_6 = {\n",
    "        'ID_Produk': ['P001', 'P002', 'P003', 'P004', 'P005'],\n",
    "        'Nama_Produk': ['Keyboard', 'Mouse', 'Monitor', 'Webcam', 'Speaker'],\n",
    "        'Stok': [50, 35, 15, 25, 12],\n",
    "        'Harga': [300000, 150000, 1500000, 450000, 250000]\n",
    "}\n",
    "\n",
    "df_produk_6 = pd.DataFrame(data_produk_6)\n",
    "filtering = df_produk_6['Stok'] < 20\n",
    "produk_stok_menipis_6 = df_produk_6[filtering]\n",
    "\n",
    "print(produk_stok_menipis_6)"
   ]
  },
  {
   "cell_type": "markdown",
   "id": "32c7f749",
   "metadata": {},
   "source": [
    "### **Soal 7: Mem-filter DataFrame dengan Beberapa Kondisi**\n",
    "\n",
    "**Konteks:**\n",
    "Anda ingin mencari produk yang bisa dianggap \"premium dan laris\". Kriterianya adalah produk dengan harga di atas 275.000 **dan** stoknya di bawah 40 (yang mengindikasikan produk tersebut laku terjual).\n",
    "\n",
    "**Tugas:**\n",
    "\n",
    "1.  Gunakan kembali DataFrame `df_produk_6`.\n",
    "2.  Buat sebuah *boolean mask* yang akan memilih baris di mana:\n",
    "    * Nilai kolom `'Harga'` **lebih besar dari 275.000**\n",
    "    * **DAN** (`&`)\n",
    "    * Nilai kolom `'Stok'` **kurang dari 40**.\n",
    "3.  Gunakan *mask* tersebut untuk mem-filter `df_produk_6`.\n",
    "4.  Simpan hasil DataFrame yang sudah ter-filter ke dalam variabel baru bernama `df_produk_premium_laris_7`.\n",
    "5.  Cetak `df_produk_premium_laris_7`.\n",
    "\n",
    "*Hint: Saat menggabungkan beberapa kondisi di Pandas, pastikan setiap kondisi individual berada di dalam tanda kurung `()`, contoh: `(df['kolom_A'] > 10) & (df['kolom_B'] < 50)`.*"
   ]
  },
  {
   "cell_type": "code",
   "execution_count": 18,
   "id": "f333e21b",
   "metadata": {},
   "outputs": [
    {
     "name": "stdout",
     "output_type": "stream",
     "text": [
      "  ID_Produk Nama_Produk  Stok    Harga\n",
      "2      P003     Monitor    15  1500000\n",
      "3      P004      Webcam    25   450000\n"
     ]
    }
   ],
   "source": [
    "filtering_7 = (df_produk_6[\"Harga\"] > 275000) & (df_produk_6[\"Stok\"] < 40)\n",
    "df_produk_premium_laris_7 = df_produk_6[filtering_7]\n",
    "print(df_produk_premium_laris_7)"
   ]
  },
  {
   "cell_type": "markdown",
   "id": "b8fca44e",
   "metadata": {},
   "source": [
    "### **Soal 8: Menggunakan Operator `|` (OR) dan `~` (NOT)**\n",
    "\n",
    "**Konteks:**\n",
    "Pihak manajemen ingin mengidentifikasi produk yang perlu mendapat perhatian khusus. Kriterianya adalah produk yang harganya **sangat mahal** (di atas 1.000.000) **ATAU** (`|`) produk yang stoknya **sangat rendah** (di bawah 15). Selain itu, Anda juga ingin mencoba mencari semua produk yang **BUKAN** (`~`) Keyboard.\n",
    "\n",
    "**Tugas:**\n",
    "\n",
    "1.  Gunakan kembali DataFrame `df_produk_6`.\n",
    "2.  **Filter OR**: Buat *boolean mask* untuk memilih produk yang harganya `> 1000000` **ATAU** stoknya `< 15`. Simpan hasilnya di `df_perhatian_khusus_8` dan cetak.\n",
    "3.  **Filter NOT**: Buat *boolean mask* untuk memilih semua produk yang nama produknya **BUKAN** `'Keyboard'`.\n",
    "    * *Hint: Buat kondisi `df_produk_6['Nama_Produk'] == 'Keyboard'`, lalu gunakan operator `~` di depannya.*\n",
    "4.  Simpan hasil filter NOT di `df_bukan_keyboard_8` dan cetak."
   ]
  },
  {
   "cell_type": "code",
   "execution_count": 22,
   "id": "2c316e12",
   "metadata": {},
   "outputs": [
    {
     "name": "stdout",
     "output_type": "stream",
     "text": [
      "  ID_Produk Nama_Produk  Stok    Harga\n",
      "2      P003     Monitor    15  1500000\n",
      "4      P005     Speaker    12   250000\n",
      "  ID_Produk Nama_Produk  Stok    Harga\n",
      "1      P002       Mouse    35   150000\n",
      "2      P003     Monitor    15  1500000\n",
      "3      P004      Webcam    25   450000\n",
      "4      P005     Speaker    12   250000\n"
     ]
    }
   ],
   "source": [
    "df_perhatian_khusus_8 = (df_produk_6[\"Harga\"] > 1000000) | (df_produk_6[\"Stok\"] < 15)\n",
    "print(df_produk_6[df_perhatian_khusus_8])\n",
    "\n",
    "df_bukan_keyboard_8 = ~(df_produk_6[\"Nama_Produk\"] == \"Keyboard\")\n",
    "print(df_produk_6[df_bukan_keyboard_8])\n"
   ]
  },
  {
   "cell_type": "markdown",
   "id": "af17885f",
   "metadata": {},
   "source": [
    "### **Soal 9: Menggabungkan Filtering dengan `.loc`**\n",
    "\n",
    "**Konteks:**\n",
    "Anda ingin melihat **nama dan harga** saja untuk produk-produk yang stoknya di bawah 30. Menggunakan filter biasa akan menampilkan semua kolom, tetapi Anda hanya tertarik pada kolom nama dan harga. `.loc` adalah alat yang tepat untuk ini.\n",
    "\n",
    "**Tugas:**\n",
    "\n",
    "1.  Gunakan kembali DataFrame `df_produk_6`.\n",
    "2.  Buat sebuah *boolean mask* untuk memilih baris di mana `'Stok'` kurang dari `30`.\n",
    "3.  Gunakan `.loc` dengan format `df.loc[mask, [daftar_kolom]]`.\n",
    "    * Masukkan *mask* Anda untuk memilih baris.\n",
    "    * Masukkan list nama kolom `['Nama_Produk', 'Harga']` untuk memilih kolom yang spesifik.\n",
    "4.  Simpan hasilnya di variabel `df_nama_harga_stok_rendah_9`.\n",
    "5.  Cetak `df_nama_harga_stok_rendah_9`."
   ]
  },
  {
   "cell_type": "code",
   "execution_count": 25,
   "id": "a477e40b",
   "metadata": {},
   "outputs": [
    {
     "name": "stdout",
     "output_type": "stream",
     "text": [
      "  Nama_Produk    Harga\n",
      "2     Monitor  1500000\n",
      "3      Webcam   450000\n",
      "4     Speaker   250000\n"
     ]
    }
   ],
   "source": [
    "filter_stok_9 = df_produk_6[\"Stok\"] < 30\n",
    "df_nama_harga_stok_rendah_9 = df_produk_6.loc[filter_stok_9, [\"Nama_Produk\" ,\"Harga\"]]\n",
    "print(df_nama_harga_stok_rendah_9)\n",
    "\n"
   ]
  },
  {
   "cell_type": "markdown",
   "id": "19e2f3ed",
   "metadata": {},
   "source": [
    "### **Soal 10: Membuat Kolom Baru dengan Logika Kondisional (`.apply`)**\n",
    "\n",
    "**Konteks:**\n",
    "Anda ingin mengkategorikan setiap produk berdasarkan harganya. Aturannya adalah:\n",
    "* Harga di atas 500.000: \"Premium\"\n",
    "* Harga antara 200.000 dan 500.000 (inklusif): \"Menengah\"\n",
    "* Harga di bawah 200.000: \"Terjangkau\"\n",
    "\n",
    "Cara terbaik untuk menerapkan logika `if-elif-else` yang kompleks seperti ini pada DataFrame adalah dengan menuliskannya dalam sebuah fungsi, lalu menggunakan method `.apply()`.\n",
    "\n",
    "**Tugas:**\n",
    "\n",
    "1.  Gunakan kembali DataFrame `df_produk_6`.\n",
    "2.  Buat sebuah **fungsi Python** bernama `kategorikan_harga` yang menerima satu argumen (harga).\n",
    "3.  Di dalam fungsi tersebut, gunakan `if-elif-else` untuk mengembalikan (`return`) string kategori yang sesuai: `\"Premium\"`, `\"Menengah\"`, atau `\"Terjangkau\"`.\n",
    "4.  Gunakan method `.apply()` pada kolom `'Harga'` di `df_produk_6` untuk menjalankan fungsi `kategorikan_harga` pada setiap barisnya.\n",
    "5.  Simpan hasil dari `.apply()` (yang akan berupa Series baru) ke dalam kolom baru di DataFrame yang bernama `'Kategori_Harga'`.\n",
    "6.  Cetak keseluruhan DataFrame `df_produk_6` yang sudah memiliki kolom baru."
   ]
  },
  {
   "cell_type": "code",
   "execution_count": 26,
   "id": "82e00425",
   "metadata": {},
   "outputs": [
    {
     "name": "stdout",
     "output_type": "stream",
     "text": [
      "  ID_Produk Nama_Produk  Stok    Harga Kategori_Harga\n",
      "0      P001    Keyboard    50   300000       Menengah\n",
      "1      P002       Mouse    35   150000     Terjangkau\n",
      "2      P003     Monitor    15  1500000        Premium\n",
      "3      P004      Webcam    25   450000       Menengah\n",
      "4      P005     Speaker    12   250000       Menengah\n"
     ]
    }
   ],
   "source": [
    "def kategorikan_harga(harga):\n",
    "    if harga > 500000:\n",
    "        return \"Premium\"\n",
    "    elif harga >= 200000 and harga <= 500000:\n",
    "        return \"Menengah\"\n",
    "    else:\n",
    "        return \"Terjangkau\"\n",
    "\n",
    "df_produk_6[\"Kategori_Harga\"] = df_produk_6[\"Harga\"].apply(kategorikan_harga)\n",
    "print(df_produk_6)"
   ]
  },
  {
   "cell_type": "code",
   "execution_count": null,
   "id": "cf76269d",
   "metadata": {},
   "outputs": [],
   "source": []
  }
 ],
 "metadata": {
  "kernelspec": {
   "display_name": "Python 3",
   "language": "python",
   "name": "python3"
  },
  "language_info": {
   "codemirror_mode": {
    "name": "ipython",
    "version": 3
   },
   "file_extension": ".py",
   "mimetype": "text/x-python",
   "name": "python",
   "nbconvert_exporter": "python",
   "pygments_lexer": "ipython3",
   "version": "3.12.10"
  }
 },
 "nbformat": 4,
 "nbformat_minor": 5
}
