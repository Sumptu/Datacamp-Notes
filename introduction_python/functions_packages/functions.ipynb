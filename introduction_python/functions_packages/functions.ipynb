{
 "cells": [
  {
   "cell_type": "markdown",
   "id": "ee2ad84f",
   "metadata": {},
   "source": [
    "# Functions\n",
    "Functions is piece of reusable code that can solves particular task. example: **type()**\n",
    "\n",
    "- Standard task -> probably function exists!"
   ]
  },
  {
   "cell_type": "code",
   "execution_count": 1,
   "id": "3cf33ab7",
   "metadata": {},
   "outputs": [
    {
     "name": "stdout",
     "output_type": "stream",
     "text": [
      "1.89\n"
     ]
    }
   ],
   "source": [
    "fam = [1.73, 1.68, 1.71, 1.89]\n",
    "tallest = max(fam) # function max()\n",
    "print(tallest)"
   ]
  },
  {
   "cell_type": "code",
   "execution_count": null,
   "id": "b67abfbc",
   "metadata": {},
   "outputs": [
    {
     "name": "stdout",
     "output_type": "stream",
     "text": [
      "1.7\n"
     ]
    }
   ],
   "source": [
    "print(round(1.68, 1)) # function round() 2 arguments"
   ]
  },
  {
   "cell_type": "code",
   "execution_count": 4,
   "id": "39b92609",
   "metadata": {},
   "outputs": [
    {
     "name": "stdout",
     "output_type": "stream",
     "text": [
      "2\n"
     ]
    }
   ],
   "source": [
    "print(round(1.68)) # function round() 1 argument"
   ]
  }
 ],
 "metadata": {
  "kernelspec": {
   "display_name": "tutorial_notebook",
   "language": "python",
   "name": "python3"
  },
  "language_info": {
   "codemirror_mode": {
    "name": "ipython",
    "version": 3
   },
   "file_extension": ".py",
   "mimetype": "text/x-python",
   "name": "python",
   "nbconvert_exporter": "python",
   "pygments_lexer": "ipython3",
   "version": "3.13.2"
  }
 },
 "nbformat": 4,
 "nbformat_minor": 5
}
